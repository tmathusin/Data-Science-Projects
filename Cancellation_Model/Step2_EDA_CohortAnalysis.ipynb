{
 "cells": [
  {
   "cell_type": "code",
   "execution_count": 1,
   "metadata": {
    "scrolled": true
   },
   "outputs": [],
   "source": [
    "import pandas as pd\n",
    "import numpy as np\n",
    "from datetime import datetime\n",
    "from dgpylib import dg_athena\n",
    "from dgpylib import dg_s3 \n",
    "import os\n",
    "import re\n",
    "from dateutil.relativedelta import relativedelta\n",
    "\n",
    "import sys\n",
    "sys.path.insert(0, '../EDA')\n",
    "import basicstatsandplotter as bstatsplot\n",
    "\n",
    "import sys\n",
    "sys.path.insert(0, '../Modelling')\n",
    "import helper_function2 as hf\n",
    "\n",
    "from matplotlib import pyplot as plt\n",
    "import seaborn as sns\n",
    "from matplotlib.ticker import MaxNLocator\n",
    "\n",
    "import parameters\n",
    "\n",
    "plt.rcParams['figure.figsize'] = [10, 5]\n",
    "plt.rcParams['figure.dpi'] = 100"
   ]
  },
  {
   "cell_type": "code",
   "execution_count": 2,
   "metadata": {},
   "outputs": [],
   "source": [
    "pd.set_option('display.max_columns', None)\n",
    "pd.set_option('display.max_rows', None)"
   ]
  },
  {
   "cell_type": "code",
   "execution_count": 3,
   "metadata": {},
   "outputs": [],
   "source": [
    "# query_result = conn.read(query)\n",
    "# query_result"
   ]
  },
  {
   "cell_type": "code",
   "execution_count": 4,
   "metadata": {},
   "outputs": [
    {
     "data": {
      "text/html": [
       "<div>\n",
       "<style scoped>\n",
       "    .dataframe tbody tr th:only-of-type {\n",
       "        vertical-align: middle;\n",
       "    }\n",
       "\n",
       "    .dataframe tbody tr th {\n",
       "        vertical-align: top;\n",
       "    }\n",
       "\n",
       "    .dataframe thead th {\n",
       "        text-align: right;\n",
       "    }\n",
       "</style>\n",
       "<table border=\"1\" class=\"dataframe\">\n",
       "  <thead>\n",
       "    <tr style=\"text-align: right;\">\n",
       "      <th></th>\n",
       "      <th>offerreferencenumber</th>\n",
       "      <th>CurrentDate</th>\n",
       "      <th>sale</th>\n",
       "      <th>offertotalprice</th>\n",
       "      <th>contractstatuscode</th>\n",
       "      <th>personaddresspostcode</th>\n",
       "      <th>planaccdate</th>\n",
       "      <th>movementdate</th>\n",
       "      <th>TotalPrice</th>\n",
       "      <th>PeriodOfCover</th>\n",
       "      <th>PricingVersionDescription</th>\n",
       "      <th>PurchaseDate</th>\n",
       "      <th>PurchasePrice</th>\n",
       "      <th>Fee</th>\n",
       "      <th>PlanLiveCount</th>\n",
       "      <th>PlansActivePast1yrCount</th>\n",
       "      <th>PlansActivePast5yrCount</th>\n",
       "      <th>PlansAcceptedPast1YearCount</th>\n",
       "      <th>PlansAcceptedPast5YearCount</th>\n",
       "      <th>PlansCancelledPast1YearCount</th>\n",
       "      <th>PlansCancelledPast5YearCount</th>\n",
       "      <th>ClaimPast1YearCount</th>\n",
       "      <th>ClaimPast3YearCount</th>\n",
       "      <th>ClaimPast5YearCount</th>\n",
       "      <th>ClaimAmount1YearTotal</th>\n",
       "      <th>ClaimAmount3YearTotal</th>\n",
       "      <th>ClaimAmount5YearTotal</th>\n",
       "      <th>GoodsColour</th>\n",
       "      <th>ClientGroupDesc</th>\n",
       "      <th>SchemeTypeName</th>\n",
       "      <th>ClientAccountDesc</th>\n",
       "      <th>RouteToMarketName</th>\n",
       "      <th>ManufacturerGuaranteeLabourMonths</th>\n",
       "      <th>ManufacturerGuaranteePartsMonths</th>\n",
       "      <th>ApplianceCode</th>\n",
       "      <th>ClientGroupCode</th>\n",
       "      <th>ClientCode</th>\n",
       "      <th>ManufacturerBrandCode</th>\n",
       "      <th>Postcode_Sector</th>\n",
       "      <th>price_diff</th>\n",
       "      <th>price_band</th>\n",
       "      <th>HasPrevRTPPrice</th>\n",
       "      <th>AppAge</th>\n",
       "      <th>relFee</th>\n",
       "      <th>relFeeInc</th>\n",
       "      <th>PaymentType</th>\n",
       "      <th>startmonthyear</th>\n",
       "      <th>contractmonthyear</th>\n",
       "      <th>startmonth</th>\n",
       "      <th>contractmonth</th>\n",
       "      <th>contract_age</th>\n",
       "      <th>cancelflag</th>\n",
       "      <th>HPI_AveragePrice</th>\n",
       "      <th>HPI_SalesVolume</th>\n",
       "      <th>ONS_avg_age</th>\n",
       "      <th>ONS_avg_distance_travelled_to_work(km)</th>\n",
       "      <th>ONS_%people_working_FT</th>\n",
       "      <th>ONS_%people_working_49+</th>\n",
       "      <th>ONS_%people_working_sum</th>\n",
       "      <th>ONS_avg_household_size</th>\n",
       "      <th>ONS_n_households</th>\n",
       "      <th>ONS_avg_dependent_children_per_family</th>\n",
       "      <th>ONS_n_families</th>\n",
       "      <th>ONS_n_families/n_households</th>\n",
       "      <th>ONS_avg_bedrooms</th>\n",
       "      <th>ONS_avg_rooms</th>\n",
       "      <th>ONS_bedrooms per rooms</th>\n",
       "      <th>ONS_population</th>\n",
       "      <th>ONS_population_density</th>\n",
       "      <th>ONS_occupation_rate</th>\n",
       "      <th>ONS_n_families_per_population</th>\n",
       "    </tr>\n",
       "  </thead>\n",
       "  <tbody>\n",
       "    <tr>\n",
       "      <th>0</th>\n",
       "      <td>004-002-122-629</td>\n",
       "      <td>2022-05-11</td>\n",
       "      <td>1</td>\n",
       "      <td>23.40</td>\n",
       "      <td>N</td>\n",
       "      <td>IP257LB</td>\n",
       "      <td>2022-05-11</td>\n",
       "      <td>2022-05-11</td>\n",
       "      <td>23.40</td>\n",
       "      <td>12.0</td>\n",
       "      <td>TELREGOPTTARGET27%</td>\n",
       "      <td>2022-05-09</td>\n",
       "      <td>309.99</td>\n",
       "      <td>33.24</td>\n",
       "      <td>0</td>\n",
       "      <td>0</td>\n",
       "      <td>1</td>\n",
       "      <td>0</td>\n",
       "      <td>0</td>\n",
       "      <td>0</td>\n",
       "      <td>1</td>\n",
       "      <td>0</td>\n",
       "      <td>0</td>\n",
       "      <td>0</td>\n",
       "      <td>0.0</td>\n",
       "      <td>0.0</td>\n",
       "      <td>0.00</td>\n",
       "      <td>W</td>\n",
       "      <td>ELECTROLUXGROUP</td>\n",
       "      <td>TELEPHONEREGISTRATION</td>\n",
       "      <td>AEG</td>\n",
       "      <td>REG</td>\n",
       "      <td>24.0</td>\n",
       "      <td>24.0</td>\n",
       "      <td>CH</td>\n",
       "      <td>168.0</td>\n",
       "      <td>4.0</td>\n",
       "      <td>AEG</td>\n",
       "      <td>IP257</td>\n",
       "      <td>-0.296029</td>\n",
       "      <td>[0.699,0.8]</td>\n",
       "      <td>N</td>\n",
       "      <td>2.0</td>\n",
       "      <td>0.107229</td>\n",
       "      <td>-0.000955</td>\n",
       "      <td>DD</td>\n",
       "      <td>2022-05</td>\n",
       "      <td>2022-05</td>\n",
       "      <td>May</td>\n",
       "      <td>May</td>\n",
       "      <td>3.252634</td>\n",
       "      <td>0</td>\n",
       "      <td>NaN</td>\n",
       "      <td>NaN</td>\n",
       "      <td>NaN</td>\n",
       "      <td>NaN</td>\n",
       "      <td>NaN</td>\n",
       "      <td>NaN</td>\n",
       "      <td>NaN</td>\n",
       "      <td>NaN</td>\n",
       "      <td>NaN</td>\n",
       "      <td>NaN</td>\n",
       "      <td>NaN</td>\n",
       "      <td>NaN</td>\n",
       "      <td>NaN</td>\n",
       "      <td>NaN</td>\n",
       "      <td>NaN</td>\n",
       "      <td>NaN</td>\n",
       "      <td>NaN</td>\n",
       "      <td>NaN</td>\n",
       "      <td>NaN</td>\n",
       "    </tr>\n",
       "    <tr>\n",
       "      <th>1</th>\n",
       "      <td>170-008-962-332</td>\n",
       "      <td>2021-07-16</td>\n",
       "      <td>1</td>\n",
       "      <td>39.48</td>\n",
       "      <td>R</td>\n",
       "      <td>M156HD</td>\n",
       "      <td>2021-07-16</td>\n",
       "      <td>2022-07-11</td>\n",
       "      <td>39.48</td>\n",
       "      <td>12.0</td>\n",
       "      <td>ASISFEE</td>\n",
       "      <td>2021-07-16</td>\n",
       "      <td>499.00</td>\n",
       "      <td>39.48</td>\n",
       "      <td>1</td>\n",
       "      <td>3</td>\n",
       "      <td>4</td>\n",
       "      <td>0</td>\n",
       "      <td>3</td>\n",
       "      <td>2</td>\n",
       "      <td>3</td>\n",
       "      <td>0</td>\n",
       "      <td>0</td>\n",
       "      <td>1</td>\n",
       "      <td>0.0</td>\n",
       "      <td>0.0</td>\n",
       "      <td>354.91</td>\n",
       "      <td>W</td>\n",
       "      <td>WHIRLPOOL</td>\n",
       "      <td>TELEPHONEREGISTRATION</td>\n",
       "      <td>HOTPOINT</td>\n",
       "      <td>REG</td>\n",
       "      <td>12.0</td>\n",
       "      <td>120.0</td>\n",
       "      <td>CK</td>\n",
       "      <td>138.0</td>\n",
       "      <td>170.0</td>\n",
       "      <td>HOTP</td>\n",
       "      <td>M156</td>\n",
       "      <td>0.000000</td>\n",
       "      <td>[0.99,1.0]</td>\n",
       "      <td>Y</td>\n",
       "      <td>0.0</td>\n",
       "      <td>0.079118</td>\n",
       "      <td>0.000000</td>\n",
       "      <td>DD</td>\n",
       "      <td>2021-07</td>\n",
       "      <td>2022-07</td>\n",
       "      <td>July</td>\n",
       "      <td>July</td>\n",
       "      <td>13.076244</td>\n",
       "      <td>0</td>\n",
       "      <td>NaN</td>\n",
       "      <td>NaN</td>\n",
       "      <td>NaN</td>\n",
       "      <td>NaN</td>\n",
       "      <td>NaN</td>\n",
       "      <td>NaN</td>\n",
       "      <td>NaN</td>\n",
       "      <td>NaN</td>\n",
       "      <td>NaN</td>\n",
       "      <td>NaN</td>\n",
       "      <td>NaN</td>\n",
       "      <td>NaN</td>\n",
       "      <td>NaN</td>\n",
       "      <td>NaN</td>\n",
       "      <td>NaN</td>\n",
       "      <td>NaN</td>\n",
       "      <td>NaN</td>\n",
       "      <td>NaN</td>\n",
       "      <td>NaN</td>\n",
       "    </tr>\n",
       "    <tr>\n",
       "      <th>2</th>\n",
       "      <td>170-008-591-165</td>\n",
       "      <td>2021-06-05</td>\n",
       "      <td>1</td>\n",
       "      <td>54.24</td>\n",
       "      <td>C</td>\n",
       "      <td>NP167AT</td>\n",
       "      <td>2021-06-05</td>\n",
       "      <td>2021-08-09</td>\n",
       "      <td>54.24</td>\n",
       "      <td>12.0</td>\n",
       "      <td>ASISFEE</td>\n",
       "      <td>2020-06-05</td>\n",
       "      <td>300.00</td>\n",
       "      <td>54.24</td>\n",
       "      <td>0</td>\n",
       "      <td>0</td>\n",
       "      <td>0</td>\n",
       "      <td>0</td>\n",
       "      <td>0</td>\n",
       "      <td>0</td>\n",
       "      <td>0</td>\n",
       "      <td>0</td>\n",
       "      <td>0</td>\n",
       "      <td>0</td>\n",
       "      <td>0.0</td>\n",
       "      <td>0.0</td>\n",
       "      <td>0.00</td>\n",
       "      <td>W</td>\n",
       "      <td>INDESITCOMPANY</td>\n",
       "      <td>TELEPHONEREGISTRATION</td>\n",
       "      <td>INDESIT</td>\n",
       "      <td>REG</td>\n",
       "      <td>12.0</td>\n",
       "      <td>120.0</td>\n",
       "      <td>AW</td>\n",
       "      <td>138.0</td>\n",
       "      <td>170.0</td>\n",
       "      <td>INDE</td>\n",
       "      <td>NP167</td>\n",
       "      <td>0.000000</td>\n",
       "      <td>[0.99,1.0]</td>\n",
       "      <td>N</td>\n",
       "      <td>365.0</td>\n",
       "      <td>0.180800</td>\n",
       "      <td>0.000000</td>\n",
       "      <td>DD</td>\n",
       "      <td>2021-06</td>\n",
       "      <td>2021-08</td>\n",
       "      <td>June</td>\n",
       "      <td>August</td>\n",
       "      <td>2.135567</td>\n",
       "      <td>1</td>\n",
       "      <td>NaN</td>\n",
       "      <td>NaN</td>\n",
       "      <td>NaN</td>\n",
       "      <td>NaN</td>\n",
       "      <td>NaN</td>\n",
       "      <td>NaN</td>\n",
       "      <td>NaN</td>\n",
       "      <td>NaN</td>\n",
       "      <td>NaN</td>\n",
       "      <td>NaN</td>\n",
       "      <td>NaN</td>\n",
       "      <td>NaN</td>\n",
       "      <td>NaN</td>\n",
       "      <td>NaN</td>\n",
       "      <td>NaN</td>\n",
       "      <td>NaN</td>\n",
       "      <td>NaN</td>\n",
       "      <td>NaN</td>\n",
       "      <td>NaN</td>\n",
       "    </tr>\n",
       "    <tr>\n",
       "      <th>3</th>\n",
       "      <td>351-017-156-535</td>\n",
       "      <td>2022-07-14</td>\n",
       "      <td>1</td>\n",
       "      <td>58.44</td>\n",
       "      <td>N</td>\n",
       "      <td>W114HF</td>\n",
       "      <td>2022-07-14</td>\n",
       "      <td>2022-07-14</td>\n",
       "      <td>58.44</td>\n",
       "      <td>12.0</td>\n",
       "      <td>ASISFEE</td>\n",
       "      <td>2021-07-14</td>\n",
       "      <td>249.17</td>\n",
       "      <td>58.44</td>\n",
       "      <td>0</td>\n",
       "      <td>0</td>\n",
       "      <td>0</td>\n",
       "      <td>0</td>\n",
       "      <td>0</td>\n",
       "      <td>0</td>\n",
       "      <td>0</td>\n",
       "      <td>0</td>\n",
       "      <td>0</td>\n",
       "      <td>0</td>\n",
       "      <td>0.0</td>\n",
       "      <td>0.0</td>\n",
       "      <td>0.00</td>\n",
       "      <td>W</td>\n",
       "      <td>HOOVERCANDYGROUP</td>\n",
       "      <td>TELEPHONEREGISTRATION</td>\n",
       "      <td>HOOVER</td>\n",
       "      <td>REG</td>\n",
       "      <td>12.0</td>\n",
       "      <td>120.0</td>\n",
       "      <td>AW</td>\n",
       "      <td>296.0</td>\n",
       "      <td>351.0</td>\n",
       "      <td>HOOV</td>\n",
       "      <td>W114</td>\n",
       "      <td>0.000000</td>\n",
       "      <td>[0.99,1.0]</td>\n",
       "      <td>N</td>\n",
       "      <td>365.0</td>\n",
       "      <td>0.234539</td>\n",
       "      <td>0.000000</td>\n",
       "      <td>DD</td>\n",
       "      <td>2022-07</td>\n",
       "      <td>2022-07</td>\n",
       "      <td>July</td>\n",
       "      <td>July</td>\n",
       "      <td>1.149921</td>\n",
       "      <td>0</td>\n",
       "      <td>NaN</td>\n",
       "      <td>NaN</td>\n",
       "      <td>NaN</td>\n",
       "      <td>NaN</td>\n",
       "      <td>NaN</td>\n",
       "      <td>NaN</td>\n",
       "      <td>NaN</td>\n",
       "      <td>NaN</td>\n",
       "      <td>NaN</td>\n",
       "      <td>NaN</td>\n",
       "      <td>NaN</td>\n",
       "      <td>NaN</td>\n",
       "      <td>NaN</td>\n",
       "      <td>NaN</td>\n",
       "      <td>NaN</td>\n",
       "      <td>NaN</td>\n",
       "      <td>NaN</td>\n",
       "      <td>NaN</td>\n",
       "      <td>NaN</td>\n",
       "    </tr>\n",
       "    <tr>\n",
       "      <th>4</th>\n",
       "      <td>301-000-086-262</td>\n",
       "      <td>2021-07-05</td>\n",
       "      <td>1</td>\n",
       "      <td>36.96</td>\n",
       "      <td>R</td>\n",
       "      <td>RG49EZ</td>\n",
       "      <td>2021-07-05</td>\n",
       "      <td>2022-07-01</td>\n",
       "      <td>36.96</td>\n",
       "      <td>12.0</td>\n",
       "      <td>ASISFEE</td>\n",
       "      <td>2021-06-28</td>\n",
       "      <td>300.00</td>\n",
       "      <td>36.96</td>\n",
       "      <td>0</td>\n",
       "      <td>0</td>\n",
       "      <td>0</td>\n",
       "      <td>0</td>\n",
       "      <td>0</td>\n",
       "      <td>0</td>\n",
       "      <td>0</td>\n",
       "      <td>0</td>\n",
       "      <td>0</td>\n",
       "      <td>0</td>\n",
       "      <td>0.0</td>\n",
       "      <td>0.0</td>\n",
       "      <td>0.00</td>\n",
       "      <td>W</td>\n",
       "      <td>WHIRLPOOL</td>\n",
       "      <td>TELEPHONEREGISTRATION</td>\n",
       "      <td>HOTPOINT</td>\n",
       "      <td>REG</td>\n",
       "      <td>24.0</td>\n",
       "      <td>12.0</td>\n",
       "      <td>DW</td>\n",
       "      <td>138.0</td>\n",
       "      <td>170.0</td>\n",
       "      <td>HOTP</td>\n",
       "      <td>RG49</td>\n",
       "      <td>0.000000</td>\n",
       "      <td>[0.99,1.0]</td>\n",
       "      <td>N</td>\n",
       "      <td>7.0</td>\n",
       "      <td>0.123200</td>\n",
       "      <td>0.000000</td>\n",
       "      <td>DD</td>\n",
       "      <td>2021-07</td>\n",
       "      <td>2022-07</td>\n",
       "      <td>July</td>\n",
       "      <td>July</td>\n",
       "      <td>13.437648</td>\n",
       "      <td>0</td>\n",
       "      <td>NaN</td>\n",
       "      <td>NaN</td>\n",
       "      <td>NaN</td>\n",
       "      <td>NaN</td>\n",
       "      <td>NaN</td>\n",
       "      <td>NaN</td>\n",
       "      <td>NaN</td>\n",
       "      <td>NaN</td>\n",
       "      <td>NaN</td>\n",
       "      <td>NaN</td>\n",
       "      <td>NaN</td>\n",
       "      <td>NaN</td>\n",
       "      <td>NaN</td>\n",
       "      <td>NaN</td>\n",
       "      <td>NaN</td>\n",
       "      <td>NaN</td>\n",
       "      <td>NaN</td>\n",
       "      <td>NaN</td>\n",
       "      <td>NaN</td>\n",
       "    </tr>\n",
       "  </tbody>\n",
       "</table>\n",
       "</div>"
      ],
      "text/plain": [
       "  offerreferencenumber CurrentDate  sale  offertotalprice contractstatuscode  \\\n",
       "0      004-002-122-629  2022-05-11     1            23.40                  N   \n",
       "1      170-008-962-332  2021-07-16     1            39.48                  R   \n",
       "2      170-008-591-165  2021-06-05     1            54.24                  C   \n",
       "3      351-017-156-535  2022-07-14     1            58.44                  N   \n",
       "4      301-000-086-262  2021-07-05     1            36.96                  R   \n",
       "\n",
       "  personaddresspostcode planaccdate movementdate  TotalPrice  PeriodOfCover  \\\n",
       "0               IP257LB  2022-05-11   2022-05-11       23.40           12.0   \n",
       "1                M156HD  2021-07-16   2022-07-11       39.48           12.0   \n",
       "2               NP167AT  2021-06-05   2021-08-09       54.24           12.0   \n",
       "3                W114HF  2022-07-14   2022-07-14       58.44           12.0   \n",
       "4                RG49EZ  2021-07-05   2022-07-01       36.96           12.0   \n",
       "\n",
       "  PricingVersionDescription PurchaseDate  PurchasePrice    Fee  PlanLiveCount  \\\n",
       "0        TELREGOPTTARGET27%   2022-05-09         309.99  33.24              0   \n",
       "1                   ASISFEE   2021-07-16         499.00  39.48              1   \n",
       "2                   ASISFEE   2020-06-05         300.00  54.24              0   \n",
       "3                   ASISFEE   2021-07-14         249.17  58.44              0   \n",
       "4                   ASISFEE   2021-06-28         300.00  36.96              0   \n",
       "\n",
       "   PlansActivePast1yrCount  PlansActivePast5yrCount  \\\n",
       "0                        0                        1   \n",
       "1                        3                        4   \n",
       "2                        0                        0   \n",
       "3                        0                        0   \n",
       "4                        0                        0   \n",
       "\n",
       "   PlansAcceptedPast1YearCount  PlansAcceptedPast5YearCount  \\\n",
       "0                            0                            0   \n",
       "1                            0                            3   \n",
       "2                            0                            0   \n",
       "3                            0                            0   \n",
       "4                            0                            0   \n",
       "\n",
       "   PlansCancelledPast1YearCount  PlansCancelledPast5YearCount  \\\n",
       "0                             0                             1   \n",
       "1                             2                             3   \n",
       "2                             0                             0   \n",
       "3                             0                             0   \n",
       "4                             0                             0   \n",
       "\n",
       "   ClaimPast1YearCount  ClaimPast3YearCount  ClaimPast5YearCount  \\\n",
       "0                    0                    0                    0   \n",
       "1                    0                    0                    1   \n",
       "2                    0                    0                    0   \n",
       "3                    0                    0                    0   \n",
       "4                    0                    0                    0   \n",
       "\n",
       "   ClaimAmount1YearTotal  ClaimAmount3YearTotal  ClaimAmount5YearTotal  \\\n",
       "0                    0.0                    0.0                   0.00   \n",
       "1                    0.0                    0.0                 354.91   \n",
       "2                    0.0                    0.0                   0.00   \n",
       "3                    0.0                    0.0                   0.00   \n",
       "4                    0.0                    0.0                   0.00   \n",
       "\n",
       "  GoodsColour   ClientGroupDesc         SchemeTypeName ClientAccountDesc  \\\n",
       "0           W   ELECTROLUXGROUP  TELEPHONEREGISTRATION               AEG   \n",
       "1           W         WHIRLPOOL  TELEPHONEREGISTRATION          HOTPOINT   \n",
       "2           W    INDESITCOMPANY  TELEPHONEREGISTRATION           INDESIT   \n",
       "3           W  HOOVERCANDYGROUP  TELEPHONEREGISTRATION            HOOVER   \n",
       "4           W         WHIRLPOOL  TELEPHONEREGISTRATION          HOTPOINT   \n",
       "\n",
       "  RouteToMarketName  ManufacturerGuaranteeLabourMonths  \\\n",
       "0               REG                               24.0   \n",
       "1               REG                               12.0   \n",
       "2               REG                               12.0   \n",
       "3               REG                               12.0   \n",
       "4               REG                               24.0   \n",
       "\n",
       "   ManufacturerGuaranteePartsMonths ApplianceCode  ClientGroupCode  \\\n",
       "0                              24.0            CH            168.0   \n",
       "1                             120.0            CK            138.0   \n",
       "2                             120.0            AW            138.0   \n",
       "3                             120.0            AW            296.0   \n",
       "4                              12.0            DW            138.0   \n",
       "\n",
       "   ClientCode ManufacturerBrandCode Postcode_Sector  price_diff   price_band  \\\n",
       "0         4.0                   AEG           IP257   -0.296029  [0.699,0.8]   \n",
       "1       170.0                  HOTP            M156    0.000000   [0.99,1.0]   \n",
       "2       170.0                  INDE           NP167    0.000000   [0.99,1.0]   \n",
       "3       351.0                  HOOV            W114    0.000000   [0.99,1.0]   \n",
       "4       170.0                  HOTP            RG49    0.000000   [0.99,1.0]   \n",
       "\n",
       "  HasPrevRTPPrice  AppAge    relFee  relFeeInc PaymentType startmonthyear  \\\n",
       "0               N     2.0  0.107229  -0.000955          DD        2022-05   \n",
       "1               Y     0.0  0.079118   0.000000          DD        2021-07   \n",
       "2               N   365.0  0.180800   0.000000          DD        2021-06   \n",
       "3               N   365.0  0.234539   0.000000          DD        2022-07   \n",
       "4               N     7.0  0.123200   0.000000          DD        2021-07   \n",
       "\n",
       "  contractmonthyear startmonth contractmonth  contract_age  cancelflag  \\\n",
       "0           2022-05        May           May      3.252634           0   \n",
       "1           2022-07       July          July     13.076244           0   \n",
       "2           2021-08       June        August      2.135567           1   \n",
       "3           2022-07       July          July      1.149921           0   \n",
       "4           2022-07       July          July     13.437648           0   \n",
       "\n",
       "   HPI_AveragePrice  HPI_SalesVolume  ONS_avg_age  \\\n",
       "0               NaN              NaN          NaN   \n",
       "1               NaN              NaN          NaN   \n",
       "2               NaN              NaN          NaN   \n",
       "3               NaN              NaN          NaN   \n",
       "4               NaN              NaN          NaN   \n",
       "\n",
       "   ONS_avg_distance_travelled_to_work(km)  ONS_%people_working_FT  \\\n",
       "0                                     NaN                     NaN   \n",
       "1                                     NaN                     NaN   \n",
       "2                                     NaN                     NaN   \n",
       "3                                     NaN                     NaN   \n",
       "4                                     NaN                     NaN   \n",
       "\n",
       "   ONS_%people_working_49+  ONS_%people_working_sum  ONS_avg_household_size  \\\n",
       "0                      NaN                      NaN                     NaN   \n",
       "1                      NaN                      NaN                     NaN   \n",
       "2                      NaN                      NaN                     NaN   \n",
       "3                      NaN                      NaN                     NaN   \n",
       "4                      NaN                      NaN                     NaN   \n",
       "\n",
       "   ONS_n_households  ONS_avg_dependent_children_per_family  ONS_n_families  \\\n",
       "0               NaN                                    NaN             NaN   \n",
       "1               NaN                                    NaN             NaN   \n",
       "2               NaN                                    NaN             NaN   \n",
       "3               NaN                                    NaN             NaN   \n",
       "4               NaN                                    NaN             NaN   \n",
       "\n",
       "   ONS_n_families/n_households  ONS_avg_bedrooms  ONS_avg_rooms  \\\n",
       "0                          NaN               NaN            NaN   \n",
       "1                          NaN               NaN            NaN   \n",
       "2                          NaN               NaN            NaN   \n",
       "3                          NaN               NaN            NaN   \n",
       "4                          NaN               NaN            NaN   \n",
       "\n",
       "   ONS_bedrooms per rooms  ONS_population  ONS_population_density  \\\n",
       "0                     NaN             NaN                     NaN   \n",
       "1                     NaN             NaN                     NaN   \n",
       "2                     NaN             NaN                     NaN   \n",
       "3                     NaN             NaN                     NaN   \n",
       "4                     NaN             NaN                     NaN   \n",
       "\n",
       "   ONS_occupation_rate  ONS_n_families_per_population  \n",
       "0                  NaN                            NaN  \n",
       "1                  NaN                            NaN  \n",
       "2                  NaN                            NaN  \n",
       "3                  NaN                            NaN  \n",
       "4                  NaN                            NaN  "
      ]
     },
     "execution_count": 4,
     "metadata": {},
     "output_type": "execute_result"
    }
   ],
   "source": [
    "conn1 = dg_s3.Connect('dgdatadump/DS&CA/Pricing/02 Projects/2022/Tel_Reg_2.0/Cancellation Model')\n",
    "raw_df = conn1.read('TelReg_Canx_dedup.csv') #TelReg_Canx_dedup\n",
    "\n",
    "raw_df.head()"
   ]
  },
  {
   "cell_type": "code",
   "execution_count": 6,
   "metadata": {},
   "outputs": [
    {
     "data": {
      "text/plain": [
       "(641180, 71)"
      ]
     },
     "execution_count": 6,
     "metadata": {},
     "output_type": "execute_result"
    }
   ],
   "source": [
    "raw_df.shape"
   ]
  },
  {
   "cell_type": "code",
   "execution_count": 7,
   "metadata": {},
   "outputs": [
    {
     "data": {
      "text/plain": [
       "array(['TELREGOPTTARGET27%', 'ASISFEE', 'TELREGOPTTARGET26.0%',\n",
       "       'FEE+-30%', 'TELREGHYBRID(EUNICE)OPTTARGET23'], dtype=object)"
      ]
     },
     "execution_count": 7,
     "metadata": {},
     "output_type": "execute_result"
    }
   ],
   "source": [
    "raw_df.PricingVersionDescription.unique()"
   ]
  },
  {
   "cell_type": "code",
   "execution_count": 8,
   "metadata": {},
   "outputs": [],
   "source": [
    "# ????Filter out offers cancelled within 30 days?????\n",
    "\n",
    "# filt_df = raw_df.loc[(raw_df['daystocancel']>30)|(raw_df['daystocancel'].isna())]"
   ]
  },
  {
   "cell_type": "code",
   "execution_count": 9,
   "metadata": {},
   "outputs": [
    {
     "name": "stdout",
     "output_type": "stream",
     "text": [
      "2021-01-02 2022-08-18\n",
      "2021-01-01 2022-08-17\n"
     ]
    }
   ],
   "source": [
    "print(raw_df['movementdate'].min(), raw_df['movementdate'].max())\n",
    "print(raw_df['planaccdate'].min(), raw_df['planaccdate'].max())"
   ]
  },
  {
   "cell_type": "markdown",
   "metadata": {},
   "source": [
    "## Date Formatting"
   ]
  },
  {
   "cell_type": "code",
   "execution_count": 10,
   "metadata": {},
   "outputs": [],
   "source": [
    "date_cols = raw_df.columns[raw_df.columns.str.lower().str.contains('date')]\n",
    "date_cols\n",
    "\n",
    "# date formatting \n",
    "\n",
    "def date_fix(df, cols):\n",
    "    df[cols] = df[cols].apply(pd.to_datetime)\n",
    "\n",
    "date_fix(raw_df, date_cols)"
   ]
  },
  {
   "cell_type": "markdown",
   "metadata": {},
   "source": [
    "## Preliminary Date Filter"
   ]
  },
  {
   "cell_type": "code",
   "execution_count": 11,
   "metadata": {},
   "outputs": [],
   "source": [
    "# Cohort Filter - select only jun & jul 21 start dates\n",
    "\n",
    "filt_df12 = raw_df[(raw_df['planaccdate']>='2021-06-01')&(raw_df['planaccdate']<'2021-08-01')] # 2 + 12 = 14 (aug 22)\n",
    "filt_df9 = raw_df[(raw_df['planaccdate']>='2021-06-01')&(raw_df['planaccdate']<'2021-11-01')] # 5 + 9 = 14 (aug 22)\n",
    "filt_df6 = raw_df[(raw_df['planaccdate']>='2021-06-01')&(raw_df['planaccdate']<'2022-02-01')] # 8 + 6 = 14 (aug 22)\n",
    "filt_df3 = raw_df[(raw_df['planaccdate']>='2021-06-01')&(raw_df['planaccdate']<'2022-05-01')] # 11 + 3 = 14 (aug 22)"
   ]
  },
  {
   "cell_type": "markdown",
   "metadata": {},
   "source": [
    "## Cancellation by Months of Tenure: 12 months\n",
    "With 12-month observation period"
   ]
  },
  {
   "cell_type": "code",
   "execution_count": 12,
   "metadata": {},
   "outputs": [
    {
     "data": {
      "text/plain": [
       "Timestamp('2022-07-31 00:00:00')"
      ]
     },
     "execution_count": 12,
     "metadata": {},
     "output_type": "execute_result"
    }
   ],
   "source": [
    "final_planaccdate = pd.Timestamp('2021-07-31 00:00:00')\n",
    "final_movementdate = final_planaccdate + relativedelta(months=12)\n",
    "final_movementdate"
   ]
  },
  {
   "cell_type": "code",
   "execution_count": 13,
   "metadata": {},
   "outputs": [
    {
     "name": "stderr",
     "output_type": "stream",
     "text": [
      "/tmp/ipykernel_15925/1121359504.py:2: SettingWithCopyWarning: \n",
      "A value is trying to be set on a copy of a slice from a DataFrame.\n",
      "Try using .loc[row_indexer,col_indexer] = value instead\n",
      "\n",
      "See the caveats in the documentation: https://pandas.pydata.org/pandas-docs/stable/user_guide/indexing.html#returning-a-view-versus-a-copy\n",
      "  filt_df12['contract_age']=np.where(filt_df12['contractstatuscode']=='C',(filt_df12['movementdate']-filt_df12['planaccdate'])/np.timedelta64(1, 'M'), (final_movementdate-filt_df12['planaccdate'])/np.timedelta64(1, 'M'))\n"
     ]
    },
    {
     "data": {
      "text/plain": [
       "count    16562.000000\n",
       "mean         4.596934\n",
       "std          4.168890\n",
       "min          0.000000\n",
       "25%          0.624243\n",
       "50%          3.351198\n",
       "75%          8.016592\n",
       "max         14.357584\n",
       "Name: contract_age, dtype: float64"
      ]
     },
     "execution_count": 13,
     "metadata": {},
     "output_type": "execute_result"
    }
   ],
   "source": [
    "# re-calculate contract_age\n",
    "filt_df12['contract_age']=np.where(filt_df12['contractstatuscode']=='C',(filt_df12['movementdate']-filt_df12['planaccdate'])/np.timedelta64(1, 'M'), (final_movementdate-filt_df12['planaccdate'])/np.timedelta64(1, 'M'))\n",
    "\n",
    "filt_df12[filt_df12['contractstatuscode']=='C']['contract_age'].describe()"
   ]
  },
  {
   "cell_type": "code",
   "execution_count": 14,
   "metadata": {},
   "outputs": [
    {
     "data": {
      "text/plain": [
       "(66895, 71)"
      ]
     },
     "execution_count": 14,
     "metadata": {},
     "output_type": "execute_result"
    }
   ],
   "source": [
    "filt_df12.shape"
   ]
  },
  {
   "cell_type": "code",
   "execution_count": 15,
   "metadata": {},
   "outputs": [
    {
     "name": "stderr",
     "output_type": "stream",
     "text": [
      "/tmp/ipykernel_15925/2024753662.py:2: SettingWithCopyWarning: \n",
      "A value is trying to be set on a copy of a slice from a DataFrame.\n",
      "Try using .loc[row_indexer,col_indexer] = value instead\n",
      "\n",
      "See the caveats in the documentation: https://pandas.pydata.org/pandas-docs/stable/user_guide/indexing.html#returning-a-view-versus-a-copy\n",
      "  filt_df12['contractstatuscode'] = np.where((filt_df12['contractstatuscode']=='C')&(filt_df12['contract_age']>=12), 'N', filt_df12['contractstatuscode'])\n"
     ]
    },
    {
     "data": {
      "text/plain": [
       "11.992032690609664"
      ]
     },
     "execution_count": 15,
     "metadata": {},
     "output_type": "execute_result"
    }
   ],
   "source": [
    "# re-label plans that cancelled beyond 12 months observation period as not cancelled ('N')\n",
    "filt_df12['contractstatuscode'] = np.where((filt_df12['contractstatuscode']=='C')&(filt_df12['contract_age']>=12), 'N', filt_df12['contractstatuscode'])\n",
    "filt_df12[filt_df12['contractstatuscode']=='C']['contract_age'].max()"
   ]
  },
  {
   "cell_type": "code",
   "execution_count": 16,
   "metadata": {},
   "outputs": [
    {
     "name": "stderr",
     "output_type": "stream",
     "text": [
      "/tmp/ipykernel_15925/881599839.py:2: SettingWithCopyWarning: \n",
      "A value is trying to be set on a copy of a slice from a DataFrame.\n",
      "Try using .loc[row_indexer,col_indexer] = value instead\n",
      "\n",
      "See the caveats in the documentation: https://pandas.pydata.org/pandas-docs/stable/user_guide/indexing.html#returning-a-view-versus-a-copy\n",
      "  filt_df12['cancelflag']=np.where(filt_df12['contractstatuscode']=='C', 1, 0)\n"
     ]
    }
   ],
   "source": [
    "# re-label cancelflag\n",
    "filt_df12['cancelflag']=np.where(filt_df12['contractstatuscode']=='C', 1, 0)"
   ]
  },
  {
   "cell_type": "code",
   "execution_count": 17,
   "metadata": {},
   "outputs": [
    {
     "data": {
      "text/plain": [
       "array([[<AxesSubplot:title={'center':'contract_age'}>]], dtype=object)"
      ]
     },
     "execution_count": 17,
     "metadata": {},
     "output_type": "execute_result"
    },
    {
     "data": {
      "image/png": "[encoded data removed]",
      "text/plain": [
       "<Figure size 1000x500 with 1 Axes>"
      ]
     },
     "metadata": {
      "needs_background": "light"
     },
     "output_type": "display_data"
    }
   ],
   "source": [
    "# plot distribution of contract tenure for cancelled contracts\n",
    "df_canx_tenure = pd.DataFrame(filt_df12[filt_df12['contractstatuscode']=='C']['contract_age'])\n",
    "df_canx_tenure.hist()"
   ]
  },
  {
   "cell_type": "code",
   "execution_count": 18,
   "metadata": {},
   "outputs": [],
   "source": [
    "df_month = pd.DataFrame(filt_df12.groupby(['startmonthyear']).agg({'cancelflag': lambda x: x.sum(),'offerreferencenumber': lambda x: x.count()})).reset_index()\n",
    "\n",
    "df_month.columns = ['startmonthyear','cancel_count', 'offers']\n",
    "# df_month['cum_cancels'] = df_month['cancel_count'].cumsum()\n",
    "# df_month['cum_offers'] = df_month['offers'].cumsum()\n",
    "# df_month['cum_cancel_rate'] = df_month['cum_cancels']/df_month['cum_offers']\n",
    "df_month['cancel_rate'] = df_month['cancel_count']/(df_month['offers'])"
   ]
  },
  {
   "cell_type": "code",
   "execution_count": 19,
   "metadata": {},
   "outputs": [
    {
     "name": "stdout",
     "output_type": "stream",
     "text": [
      "  startmonthyear  cancel_count  offers  cancel_rate\n",
      "0        2021-06          7732   33198     0.232906\n",
      "1        2021-07          7874   33697     0.233671\n"
     ]
    },
    {
     "data": {
      "image/png": "[encoded data removed]",
      "text/plain": [
       "<Figure size 1000x500 with 2 Axes>"
      ]
     },
     "metadata": {
      "needs_background": "light"
     },
     "output_type": "display_data"
    }
   ],
   "source": [
    "# Plot cancellation rate\n",
    "\n",
    "y1 = df_month['cancel_rate']\n",
    "y2 = df_month['offers']\n",
    "\n",
    "x = df_month['startmonthyear']\n",
    "\n",
    "\n",
    "fig, ax1 = plt.subplots()\n",
    "\n",
    "ax2 = ax1.twinx()\n",
    "\n",
    "ax1.plot(x, y1, color = 'red', label = 'Cancellation Rate')\n",
    "y2.plot.bar(alpha=0.5)\n",
    "\n",
    "\n",
    "# ax2.yaxis.set_major_locator(MaxNLocator(integer=True))\n",
    "ax1.set_xlabel(\"Start Month-Year\")\n",
    "ax1.set_ylabel(\"Cancellation Rate\")\n",
    "ax2.set_ylabel(\"Offer Count\")\n",
    "ax1.set_xticklabels(x, rotation=45)\n",
    "\n",
    "ax1.set_xticklabels(x)\n",
    "ax1.set_ylim([0, .3])\n",
    "\n",
    "plt.legend()\n",
    "plt.title('12-Month Cancellation Rate by Plan Start Date')\n",
    "\n",
    "print(df_month)\n",
    "\n",
    "plt.show()"
   ]
  },
  {
   "cell_type": "code",
   "execution_count": 20,
   "metadata": {},
   "outputs": [
    {
     "data": {
      "text/plain": [
       "['movementdate',\n",
       " 'contractmonthyear',\n",
       " 'offereventmonth',\n",
       " 'contractmonth',\n",
       " 'contractstatuscode',\n",
       " 'planaccdate',\n",
       " 'contract_age',\n",
       " 'sale',\n",
       " 'startmonthyear',\n",
       " 'offermonthyear',\n",
       " 'offerreferencenumber',\n",
       " 'startmonth',\n",
       " 'year',\n",
       " 'CurrentDate',\n",
       " 'PurchaseDate',\n",
       " 'SchemeTypeName',\n",
       " 'RouteToMarketName',\n",
       " 'CurrentDate',\n",
       " 'planaccdate',\n",
       " 'movementdate',\n",
       " 'PurchaseDate']"
      ]
     },
     "execution_count": 20,
     "metadata": {},
     "output_type": "execute_result"
    }
   ],
   "source": [
    "parameters.leaky_feats + parameters.redundant_feats + list(date_cols)"
   ]
  },
  {
   "cell_type": "code",
   "execution_count": null,
   "metadata": {},
   "outputs": [],
   "source": [
    "filt_df12[['Postcode_Sector', 'personaddresspostcode', 'CurrentDate']].head()"
   ]
  },
  {
   "cell_type": "code",
   "execution_count": 30,
   "metadata": {},
   "outputs": [
    {
     "name": "stdout",
     "output_type": "stream",
     "text": [
      "File saved as :Earnix_Data/TelReg_Canx_12mo.csv\n"
     ]
    }
   ],
   "source": [
    "# for earnix\n",
    "conn1.write(filt_df12, 'Earnix_Data/TelReg_Canx_12mo.csv')"
   ]
  },
  {
   "cell_type": "code",
   "execution_count": null,
   "metadata": {},
   "outputs": [],
   "source": [
    "# for modelling \n",
    "# re-add PaymentType, PeriodOfCover, OfferPostcodeSector, PurchaseDate, PurchasePrice\n",
    "# drop leaky & redundant features\n",
    "filt_df12_clean = hf.drop_columns(filt_df12, parameters.leaky_feats + parameters.redundant_feats + list(date_cols))\n",
    "# save dataset for modelling\n",
    "conn1.write(filt_df12_clean, 'Modelling_Data/TelReg_Canx_filt_12mo.csv')"
   ]
  },
  {
   "cell_type": "markdown",
   "metadata": {},
   "source": [
    "## Cancellation by Months of Tenure: 9 months\n",
    "With 9-month observation period"
   ]
  },
  {
   "cell_type": "code",
   "execution_count": 22,
   "metadata": {},
   "outputs": [
    {
     "name": "stderr",
     "output_type": "stream",
     "text": [
      "/tmp/ipykernel_15925/2204384479.py:3: SettingWithCopyWarning: \n",
      "A value is trying to be set on a copy of a slice from a DataFrame.\n",
      "Try using .loc[row_indexer,col_indexer] = value instead\n",
      "\n",
      "See the caveats in the documentation: https://pandas.pydata.org/pandas-docs/stable/user_guide/indexing.html#returning-a-view-versus-a-copy\n",
      "  filt_df9['contract_age']=np.where(filt_df9['contractstatuscode']=='C', (filt_df9['movementdate']-filt_df9['planaccdate'])/np.timedelta64(1, 'M'), (final_movementdate-filt_df9['planaccdate'])/np.timedelta64(1, 'M'))\n"
     ]
    },
    {
     "data": {
      "text/plain": [
       "count    38981.000000\n",
       "mean         4.009928\n",
       "std          3.695888\n",
       "min          0.000000\n",
       "25%          0.558533\n",
       "50%          2.989794\n",
       "75%          6.800961\n",
       "max         14.357584\n",
       "Name: contract_age, dtype: float64"
      ]
     },
     "execution_count": 22,
     "metadata": {},
     "output_type": "execute_result"
    }
   ],
   "source": [
    "# re-calculate contract age\n",
    "\n",
    "filt_df9['contract_age']=np.where(filt_df9['contractstatuscode']=='C', (filt_df9['movementdate']-filt_df9['planaccdate'])/np.timedelta64(1, 'M'), (final_movementdate-filt_df9['planaccdate'])/np.timedelta64(1, 'M'))\n",
    "\n",
    "filt_df9[filt_df9['contractstatuscode']=='C']['contract_age'].describe()"
   ]
  },
  {
   "cell_type": "code",
   "execution_count": 23,
   "metadata": {},
   "outputs": [
    {
     "name": "stderr",
     "output_type": "stream",
     "text": [
      "/tmp/ipykernel_15925/2368689416.py:2: SettingWithCopyWarning: \n",
      "A value is trying to be set on a copy of a slice from a DataFrame.\n",
      "Try using .loc[row_indexer,col_indexer] = value instead\n",
      "\n",
      "See the caveats in the documentation: https://pandas.pydata.org/pandas-docs/stable/user_guide/indexing.html#returning-a-view-versus-a-copy\n",
      "  filt_df9['contractstatuscode'] = np.where((filt_df9['contractstatuscode']=='C')&(filt_df9['contract_age']>=12), 'N', filt_df9['contractstatuscode'])\n"
     ]
    },
    {
     "data": {
      "text/plain": [
       "11.992032690609664"
      ]
     },
     "execution_count": 23,
     "metadata": {},
     "output_type": "execute_result"
    }
   ],
   "source": [
    "# re-label plans that cancelled after 9 months\n",
    "filt_df9['contractstatuscode'] = np.where((filt_df9['contractstatuscode']=='C')&(filt_df9['contract_age']>=9), 'N', filt_df9['contractstatuscode'])\n",
    "filt_df9[filt_df9['contractstatuscode']=='C']['contract_age'].max()"
   ]
  },
  {
   "cell_type": "code",
   "execution_count": 24,
   "metadata": {},
   "outputs": [
    {
     "name": "stderr",
     "output_type": "stream",
     "text": [
      "/tmp/ipykernel_15925/657243915.py:2: SettingWithCopyWarning: \n",
      "A value is trying to be set on a copy of a slice from a DataFrame.\n",
      "Try using .loc[row_indexer,col_indexer] = value instead\n",
      "\n",
      "See the caveats in the documentation: https://pandas.pydata.org/pandas-docs/stable/user_guide/indexing.html#returning-a-view-versus-a-copy\n",
      "  filt_df9['cancelflag']=np.where(filt_df9['contractstatuscode']=='C', 1, 0)\n"
     ]
    }
   ],
   "source": [
    "# re-label cancelflag\n",
    "filt_df9['cancelflag']=np.where(filt_df9['contractstatuscode']=='C', 1, 0)"
   ]
  },
  {
   "cell_type": "code",
   "execution_count": 25,
   "metadata": {},
   "outputs": [
    {
     "data": {
      "text/plain": [
       "array([[<AxesSubplot:title={'center':'contract_age'}>]], dtype=object)"
      ]
     },
     "execution_count": 25,
     "metadata": {},
     "output_type": "execute_result"
    },
    {
     "data": {
      "image/png": "[encoded data removed]",
      "text/plain": [
       "<Figure size 1000x500 with 1 Axes>"
      ]
     },
     "metadata": {
      "needs_background": "light"
     },
     "output_type": "display_data"
    }
   ],
   "source": [
    "# plot distribution of contract tenure for cancelled contracts\n",
    "df_canx_tenure = pd.DataFrame(filt_df9[filt_df9['contractstatuscode']=='C']['contract_age'])\n",
    "df_canx_tenure.hist()"
   ]
  },
  {
   "cell_type": "code",
   "execution_count": 26,
   "metadata": {},
   "outputs": [],
   "source": [
    "df_month = pd.DataFrame(filt_df9.groupby(['startmonthyear']).agg({'cancelflag': lambda x: x.sum(),'offerreferencenumber': lambda x: x.count()})).reset_index()\n",
    "\n",
    "df_month.columns = ['startmonthyear','cancel_count', 'offers']\n",
    "# df_month['cum_cancels'] = df_month['cancel_count'].cumsum()\n",
    "# df_month['cum_offers'] = df_month['offers'].cumsum()\n",
    "# df_month['cum_cancel_rate'] = df_month['cum_cancels']/df_month['cum_offers']\n",
    "df_month['cancel_rate'] = df_month['cancel_count']/(df_month['offers'])"
   ]
  },
  {
   "cell_type": "code",
   "execution_count": 27,
   "metadata": {},
   "outputs": [
    {
     "name": "stdout",
     "output_type": "stream",
     "text": [
      "  startmonthyear  cancel_count  offers  cancel_rate\n",
      "0        2021-06          7732   33198     0.232906\n",
      "1        2021-07          7874   33697     0.233671\n",
      "2        2021-08          7330   31968     0.229292\n",
      "3        2021-09          7454   33530     0.222308\n",
      "4        2021-10          7635   35426     0.215520\n"
     ]
    },
    {
     "data": {
      "image/png": "[encoded data removed]",
      "text/plain": [
       "<Figure size 1000x500 with 2 Axes>"
      ]
     },
     "metadata": {
      "needs_background": "light"
     },
     "output_type": "display_data"
    }
   ],
   "source": [
    "# Plot cancellation rate\n",
    "\n",
    "y1 = df_month['cancel_rate']\n",
    "y2 = df_month['offers']\n",
    "\n",
    "x = df_month['startmonthyear']\n",
    "\n",
    "\n",
    "fig, ax1 = plt.subplots()\n",
    "\n",
    "ax2 = ax1.twinx()\n",
    "\n",
    "ax1.plot(x, y1, color = 'red', label = 'Cancellation Rate')\n",
    "y2.plot.bar(alpha=0.5)\n",
    "\n",
    "\n",
    "# ax2.yaxis.set_major_locator(MaxNLocator(integer=True))\n",
    "ax1.set_xlabel(\"Start Month-Year\")\n",
    "ax1.set_ylabel(\"Cancellation Rate\")\n",
    "ax2.set_ylabel(\"Offer Count\")\n",
    "ax1.set_xticklabels(x, rotation=45)\n",
    "\n",
    "ax1.set_xticklabels(x)\n",
    "ax1.set_ylim([0, .3])\n",
    "\n",
    "plt.legend()\n",
    "plt.title('9-Month Cancellation Rate by Plan Start Date')\n",
    "print(df_month)\n",
    "plt.show()"
   ]
  },
  {
   "cell_type": "code",
   "execution_count": 29,
   "metadata": {},
   "outputs": [
    {
     "name": "stdout",
     "output_type": "stream",
     "text": [
      "File saved as :Earnix_Data/TelReg_Canx_9mo.csv\n"
     ]
    }
   ],
   "source": [
    "# for earnix\n",
    "conn1.write(filt_df9, 'Earnix_Data/TelReg_Canx_9mo.csv')"
   ]
  },
  {
   "cell_type": "code",
   "execution_count": null,
   "metadata": {},
   "outputs": [],
   "source": [
    "# drop leaky & redundant features\n",
    "filt_df9_clean = hf.drop_columns(filt_df9, parameters.leaky_feats + parameters.redundant_feats + list(date_cols))\n",
    "\n",
    "# save dataset for modelling\n",
    "conn1.write(filt_df9_clean, 'TelReg_Canx_filt_9mo.csv')"
   ]
  },
  {
   "cell_type": "markdown",
   "metadata": {},
   "source": [
    "## Cancellation by Months of Tenure: 6 months\n",
    "With 6-month observation period"
   ]
  },
  {
   "cell_type": "code",
   "execution_count": 31,
   "metadata": {},
   "outputs": [
    {
     "name": "stderr",
     "output_type": "stream",
     "text": [
      "/tmp/ipykernel_15925/3109735923.py:2: SettingWithCopyWarning: \n",
      "A value is trying to be set on a copy of a slice from a DataFrame.\n",
      "Try using .loc[row_indexer,col_indexer] = value instead\n",
      "\n",
      "See the caveats in the documentation: https://pandas.pydata.org/pandas-docs/stable/user_guide/indexing.html#returning-a-view-versus-a-copy\n",
      "  filt_df6['contract_age']=np.where(filt_df6['contractstatuscode']=='C', (filt_df6['movementdate']-filt_df6['planaccdate'])/np.timedelta64(1, 'M'), (final_movementdate-filt_df6['planaccdate'])/np.timedelta64(1, 'M'))\n"
     ]
    },
    {
     "data": {
      "text/plain": [
       "count    59108.000000\n",
       "mean         3.510964\n",
       "std          3.376605\n",
       "min          0.000000\n",
       "25%          0.459968\n",
       "50%          2.529826\n",
       "75%          5.749605\n",
       "max         14.357584\n",
       "Name: contract_age, dtype: float64"
      ]
     },
     "execution_count": 31,
     "metadata": {},
     "output_type": "execute_result"
    }
   ],
   "source": [
    "# re-calculate contract age\n",
    "filt_df6['contract_age']=np.where(filt_df6['contractstatuscode']=='C', (filt_df6['movementdate']-filt_df6['planaccdate'])/np.timedelta64(1, 'M'), (final_movementdate-filt_df6['planaccdate'])/np.timedelta64(1, 'M'))\n",
    "\n",
    "filt_df6[filt_df6['contractstatuscode']=='C']['contract_age'].describe()"
   ]
  },
  {
   "cell_type": "code",
   "execution_count": 32,
   "metadata": {},
   "outputs": [
    {
     "name": "stderr",
     "output_type": "stream",
     "text": [
      "/tmp/ipykernel_15925/1652568261.py:2: SettingWithCopyWarning: \n",
      "A value is trying to be set on a copy of a slice from a DataFrame.\n",
      "Try using .loc[row_indexer,col_indexer] = value instead\n",
      "\n",
      "See the caveats in the documentation: https://pandas.pydata.org/pandas-docs/stable/user_guide/indexing.html#returning-a-view-versus-a-copy\n",
      "  filt_df6['contractstatuscode'] = np.where((filt_df6['contractstatuscode']=='C')&(filt_df6['contract_age']>=6), 'N', filt_df6['contractstatuscode'])\n"
     ]
    },
    {
     "data": {
      "text/plain": [
       "5.979588903262901"
      ]
     },
     "execution_count": 32,
     "metadata": {},
     "output_type": "execute_result"
    }
   ],
   "source": [
    "# re-label plans that cancelled after 6 months\n",
    "filt_df6['contractstatuscode'] = np.where((filt_df6['contractstatuscode']=='C')&(filt_df6['contract_age']>=6), 'N', filt_df6['contractstatuscode'])\n",
    "filt_df6[filt_df6['contractstatuscode']=='C']['contract_age'].max()"
   ]
  },
  {
   "cell_type": "code",
   "execution_count": 33,
   "metadata": {},
   "outputs": [
    {
     "name": "stderr",
     "output_type": "stream",
     "text": [
      "/tmp/ipykernel_15925/2604272873.py:2: SettingWithCopyWarning: \n",
      "A value is trying to be set on a copy of a slice from a DataFrame.\n",
      "Try using .loc[row_indexer,col_indexer] = value instead\n",
      "\n",
      "See the caveats in the documentation: https://pandas.pydata.org/pandas-docs/stable/user_guide/indexing.html#returning-a-view-versus-a-copy\n",
      "  filt_df6['cancelflag']=np.where(filt_df6['contractstatuscode']=='C', 1, 0)\n"
     ]
    }
   ],
   "source": [
    "# re-label cancelflag\n",
    "filt_df6['cancelflag']=np.where(filt_df6['contractstatuscode']=='C', 1, 0)"
   ]
  },
  {
   "cell_type": "code",
   "execution_count": 34,
   "metadata": {},
   "outputs": [
    {
     "data": {
      "text/plain": [
       "array([[<AxesSubplot:title={'center':'contract_age'}>]], dtype=object)"
      ]
     },
     "execution_count": 34,
     "metadata": {},
     "output_type": "execute_result"
    },
    {
     "data": {
      "image/png": "[encoded data removed]",
      "text/plain": [
       "<Figure size 1000x500 with 1 Axes>"
      ]
     },
     "metadata": {
      "needs_background": "light"
     },
     "output_type": "display_data"
    }
   ],
   "source": [
    "# plot distribution of contract tenure for cancelled contracts\n",
    "df_canx_tenure = pd.DataFrame(filt_df6[filt_df6['contractstatuscode']=='C']['contract_age'])\n",
    "df_canx_tenure.hist()"
   ]
  },
  {
   "cell_type": "code",
   "execution_count": 35,
   "metadata": {},
   "outputs": [],
   "source": [
    "df_month = pd.DataFrame(filt_df6.groupby(['startmonthyear']).agg({'cancelflag': lambda x: x.sum(),'offerreferencenumber': lambda x: x.count()})).reset_index()\n",
    "\n",
    "df_month.columns = ['startmonthyear','cancel_count', 'offers']\n",
    "# df_month['cum_cancels'] = df_month['cancel_count'].cumsum()\n",
    "# df_month['cum_offers'] = df_month['offers'].cumsum()\n",
    "# df_month['cum_cancel_rate'] = df_month['cum_cancels']/df_month['cum_offers']\n",
    "df_month['cancel_rate'] = df_month['cancel_count']/(df_month['offers'])"
   ]
  },
  {
   "cell_type": "code",
   "execution_count": 36,
   "metadata": {},
   "outputs": [
    {
     "name": "stdout",
     "output_type": "stream",
     "text": [
      "  startmonthyear  cancel_count  offers  cancel_rate\n",
      "0        2021-06          5354   33198     0.161275\n",
      "1        2021-07          5470   33697     0.162329\n",
      "2        2021-08          5158   31968     0.161349\n",
      "3        2021-09          5596   33530     0.166895\n",
      "4        2021-10          6104   35426     0.172303\n",
      "5        2021-11          6444   37262     0.172938\n",
      "6        2021-12          5961   33462     0.178142\n",
      "7        2022-01          5531   31995     0.172871\n"
     ]
    },
    {
     "data": {
      "image/png": "[encoded data removed]",
      "text/plain": [
       "<Figure size 1000x500 with 2 Axes>"
      ]
     },
     "metadata": {
      "needs_background": "light"
     },
     "output_type": "display_data"
    }
   ],
   "source": [
    "# Plot cancellation rate\n",
    "\n",
    "y1 = df_month['cancel_rate']\n",
    "y2 = df_month['offers']\n",
    "\n",
    "x = df_month['startmonthyear']\n",
    "\n",
    "\n",
    "fig, ax1 = plt.subplots()\n",
    "\n",
    "ax2 = ax1.twinx()\n",
    "\n",
    "ax1.plot(x, y1, color = 'red', label = 'Cancellation Rate')\n",
    "y2.plot.bar(alpha=0.5)\n",
    "\n",
    "\n",
    "# ax2.yaxis.set_major_locator(MaxNLocator(integer=True))\n",
    "ax1.set_xlabel(\"Start Month-Year\")\n",
    "ax1.set_ylabel(\"Cancellation Rate\")\n",
    "ax2.set_ylabel(\"Offer Count\")\n",
    "ax1.set_xticklabels(x, rotation=45)\n",
    "\n",
    "ax1.set_xticklabels(x)\n",
    "ax1.set_ylim([0, .3])\n",
    "\n",
    "plt.legend()\n",
    "plt.title('6-Month Cancellation Rate by Plan Start Date')\n",
    "print(df_month)\n",
    "plt.show()"
   ]
  },
  {
   "cell_type": "code",
   "execution_count": 37,
   "metadata": {},
   "outputs": [
    {
     "name": "stdout",
     "output_type": "stream",
     "text": [
      "File saved as :Earnix_Data/TelReg_Canx_6mo.csv\n"
     ]
    }
   ],
   "source": [
    "# for earnix\n",
    "conn1.write(filt_df6, 'Earnix_Data/TelReg_Canx_6mo.csv')"
   ]
  },
  {
   "cell_type": "code",
   "execution_count": null,
   "metadata": {},
   "outputs": [],
   "source": [
    "# drop leaky & redundant features for modelling\n",
    "filt_df6_clean = hf.drop_columns(filt_df6, parameters.leaky_feats + parameters.redundant_feats + list(date_cols))\n",
    "\n",
    "# save dataset for modelling\n",
    "conn1.write(filt_df6_clean, 'TelReg_Canx_filt_6mo.csv')\n"
   ]
  },
  {
   "cell_type": "markdown",
   "metadata": {},
   "source": [
    "## Cancellation by Months of Tenure: 3 months\n",
    "With 3-month observation period"
   ]
  },
  {
   "cell_type": "code",
   "execution_count": 38,
   "metadata": {},
   "outputs": [
    {
     "name": "stderr",
     "output_type": "stream",
     "text": [
      "/tmp/ipykernel_15925/3891502580.py:2: SettingWithCopyWarning: \n",
      "A value is trying to be set on a copy of a slice from a DataFrame.\n",
      "Try using .loc[row_indexer,col_indexer] = value instead\n",
      "\n",
      "See the caveats in the documentation: https://pandas.pydata.org/pandas-docs/stable/user_guide/indexing.html#returning-a-view-versus-a-copy\n",
      "  filt_df3['contract_age']=np.where(filt_df3['contractstatuscode']=='C', (filt_df3['movementdate']-filt_df3['planaccdate'])/np.timedelta64(1, 'M'), (final_movementdate-filt_df3['planaccdate'])/np.timedelta64(1, 'M'))\n"
     ]
    },
    {
     "data": {
      "text/plain": [
       "count    73149.000000\n",
       "mean         3.141173\n",
       "std          3.200499\n",
       "min          0.000000\n",
       "25%          0.361404\n",
       "50%          2.069858\n",
       "75%          4.928233\n",
       "max         14.357584\n",
       "Name: contract_age, dtype: float64"
      ]
     },
     "execution_count": 38,
     "metadata": {},
     "output_type": "execute_result"
    }
   ],
   "source": [
    "# re-calculate contract_age\n",
    "filt_df3['contract_age']=np.where(filt_df3['contractstatuscode']=='C', (filt_df3['movementdate']-filt_df3['planaccdate'])/np.timedelta64(1, 'M'), (final_movementdate-filt_df3['planaccdate'])/np.timedelta64(1, 'M'))\n",
    "\n",
    "filt_df3[filt_df3['contractstatuscode']=='C']['contract_age'].describe()"
   ]
  },
  {
   "cell_type": "code",
   "execution_count": 39,
   "metadata": {},
   "outputs": [
    {
     "name": "stderr",
     "output_type": "stream",
     "text": [
      "/tmp/ipykernel_15925/4039286583.py:2: SettingWithCopyWarning: \n",
      "A value is trying to be set on a copy of a slice from a DataFrame.\n",
      "Try using .loc[row_indexer,col_indexer] = value instead\n",
      "\n",
      "See the caveats in the documentation: https://pandas.pydata.org/pandas-docs/stable/user_guide/indexing.html#returning-a-view-versus-a-copy\n",
      "  filt_df3['contractstatuscode'] = np.where((filt_df3['contractstatuscode']=='C')&(filt_df3['contract_age']>=3), 'N', filt_df3['contractstatuscode'])\n"
     ]
    },
    {
     "data": {
      "text/plain": [
       "2.9897944516314503"
      ]
     },
     "execution_count": 39,
     "metadata": {},
     "output_type": "execute_result"
    }
   ],
   "source": [
    "# re-label plans that cancelled after 3 months\n",
    "filt_df3['contractstatuscode'] = np.where((filt_df3['contractstatuscode']=='C')&(filt_df3['contract_age']>=3), 'N', filt_df3['contractstatuscode'])\n",
    "filt_df3[filt_df3['contractstatuscode']=='C']['contract_age'].max()"
   ]
  },
  {
   "cell_type": "code",
   "execution_count": 40,
   "metadata": {},
   "outputs": [
    {
     "name": "stderr",
     "output_type": "stream",
     "text": [
      "/tmp/ipykernel_15925/2266683748.py:2: SettingWithCopyWarning: \n",
      "A value is trying to be set on a copy of a slice from a DataFrame.\n",
      "Try using .loc[row_indexer,col_indexer] = value instead\n",
      "\n",
      "See the caveats in the documentation: https://pandas.pydata.org/pandas-docs/stable/user_guide/indexing.html#returning-a-view-versus-a-copy\n",
      "  filt_df3['cancelflag']=np.where(filt_df3['contractstatuscode']=='C', 1, 0)\n"
     ]
    }
   ],
   "source": [
    "# re-label cancelflag\n",
    "filt_df3['cancelflag']=np.where(filt_df3['contractstatuscode']=='C', 1, 0)"
   ]
  },
  {
   "cell_type": "code",
   "execution_count": 41,
   "metadata": {},
   "outputs": [
    {
     "data": {
      "text/plain": [
       "array([[<AxesSubplot:title={'center':'contract_age'}>]], dtype=object)"
      ]
     },
     "execution_count": 41,
     "metadata": {},
     "output_type": "execute_result"
    },
    {
     "data": {
      "image/png": "[encoded data removed]",
      "text/plain": [
       "<Figure size 1000x500 with 1 Axes>"
      ]
     },
     "metadata": {
      "needs_background": "light"
     },
     "output_type": "display_data"
    }
   ],
   "source": [
    "# plot distribution of contract tenure for cancelled contracts\n",
    "df_canx_tenure = pd.DataFrame(filt_df3[filt_df3['contractstatuscode']=='C']['contract_age'])\n",
    "df_canx_tenure.hist()"
   ]
  },
  {
   "cell_type": "code",
   "execution_count": 42,
   "metadata": {},
   "outputs": [],
   "source": [
    "df_month = pd.DataFrame(filt_df3.groupby(['startmonthyear']).agg({'cancelflag': lambda x: x.sum(),'offerreferencenumber': lambda x: x.count()})).reset_index()\n",
    "\n",
    "df_month.columns = ['startmonthyear','cancel_count', 'offers']\n",
    "# df_month['cum_cancels'] = df_month['cancel_count'].cumsum()\n",
    "# df_month['cum_offers'] = df_month['offers'].cumsum()\n",
    "# df_month['cum_cancel_rate'] = df_month['cum_cancels']/df_month['cum_offers']\n",
    "df_month['cancel_rate'] = df_month['cancel_count']/(df_month['offers'])"
   ]
  },
  {
   "cell_type": "code",
   "execution_count": 43,
   "metadata": {},
   "outputs": [
    {
     "name": "stdout",
     "output_type": "stream",
     "text": [
      "   startmonthyear  cancel_count  offers  cancel_rate\n",
      "0         2021-06          3908   33198     0.117718\n",
      "1         2021-07          4060   33697     0.120486\n",
      "2         2021-08          3873   31968     0.121152\n",
      "3         2021-09          3941   33530     0.117537\n",
      "4         2021-10          4202   35426     0.118613\n",
      "5         2021-11          4513   37262     0.121115\n",
      "6         2021-12          4393   33462     0.131283\n",
      "7         2022-01          4165   31995     0.130177\n",
      "8         2022-02          4003   30082     0.133070\n",
      "9         2022-03          3561   27691     0.128598\n",
      "10        2022-04          3869   28747     0.134588\n"
     ]
    },
    {
     "data": {
      "image/png": "[encoded data removed]",
      "text/plain": [
       "<Figure size 1000x500 with 2 Axes>"
      ]
     },
     "metadata": {
      "needs_background": "light"
     },
     "output_type": "display_data"
    }
   ],
   "source": [
    "# Plot cancellation rate\n",
    "\n",
    "y1 = df_month['cancel_rate']\n",
    "y2 = df_month['offers']\n",
    "\n",
    "x = df_month['startmonthyear']\n",
    "\n",
    "\n",
    "fig, ax1 = plt.subplots()\n",
    "\n",
    "ax2 = ax1.twinx()\n",
    "\n",
    "ax1.plot(x, y1, color = 'red', label = 'Cancellation Rate')\n",
    "y2.plot.bar(alpha=0.5)\n",
    "\n",
    "\n",
    "# ax2.yaxis.set_major_locator(MaxNLocator(integer=True))\n",
    "ax1.set_xlabel(\"Start Month-Year\")\n",
    "ax1.set_ylabel(\"Cancellation Rate\")\n",
    "ax2.set_ylabel(\"Offer Count\")\n",
    "ax1.set_xticklabels(x, rotation=45)\n",
    "\n",
    "ax1.set_xticklabels(x)\n",
    "ax1.set_ylim([0, .3])\n",
    "\n",
    "plt.legend()\n",
    "plt.title('3-Month Cancellation Rate by Plan Start Date')\n",
    "\n",
    "print(df_month)\n",
    "\n",
    "plt.show()"
   ]
  },
  {
   "cell_type": "code",
   "execution_count": 44,
   "metadata": {},
   "outputs": [
    {
     "name": "stdout",
     "output_type": "stream",
     "text": [
      "File saved as :Earnix_Data/TelReg_Canx_3mo.csv\n"
     ]
    }
   ],
   "source": [
    "# save dataset for earnix\n",
    "conn1.write(filt_df3, 'Earnix_Data/TelReg_Canx_3mo.csv')"
   ]
  },
  {
   "cell_type": "code",
   "execution_count": null,
   "metadata": {},
   "outputs": [],
   "source": [
    "# drop leaky & redundant features for modelling\n",
    "filt_df3_clean = hf.drop_columns(filt_df3, parameters.leaky_feats + parameters.redundant_feats + list(date_cols))\n",
    "# save dataset for modelling\n",
    "conn1.write(filt_df3_clean, 'TelReg_Canx_filt_3mo.csv')"
   ]
  }
 ],
 "metadata": {
  "kernelspec": {
   "display_name": "Python 3.9.7 ('base')",
   "language": "python",
   "name": "python3"
  },
  "language_info": {
   "codemirror_mode": {
    "name": "ipython",
    "version": 3
   },
   "file_extension": ".py",
   "mimetype": "text/x-python",
   "name": "python",
   "nbconvert_exporter": "python",
   "pygments_lexer": "ipython3",
   "version": "3.9.7"
  },
  "vscode": {
   "interpreter": {
    "hash": "caf1c2fcf97217de91eafa76b907d50f9ea378f5ffbee7f571142d119bb6a771"
   }
  }
 },
 "nbformat": 4,
 "nbformat_minor": 4
}
