{
 "cells": [
  {
   "cell_type": "code",
   "execution_count": 1,
   "metadata": {},
   "outputs": [
    {
     "name": "stdout",
     "output_type": "stream",
     "text": [
      "pandas version:1.3.4\n",
      "numpy version:1.20.3\n",
      "h2o version:3.36.0.4\n",
      "sklearn version:1.1.2\n"
     ]
    }
   ],
   "source": [
    "\n",
    "# Reloading\n",
    "%reload_ext autoreload\n",
    "%autoreload 2\n",
    "\n",
    "import pandas as pd\n",
    "print('pandas version:{}'.format(pd.__version__))\n",
    "import numpy as np\n",
    "print('numpy version:{}'.format(np.__version__))\n",
    "import math\n",
    "from datetime import datetime\n",
    "from dgpylib import dg_athena\n",
    "from dgpylib import dg_s3\n",
    "import os\n",
    "import re\n",
    "from matplotlib.ticker import MaxNLocator\n",
    "from matplotlib import pyplot as plt\n",
    "import seaborn as sns\n",
    "from datetime import timedelta\n",
    "from dateutil.relativedelta import relativedelta\n",
    "\n",
    "import sys\n",
    "sys.path.insert(0, '../Modelling')\n",
    "import helper_function2 as hf\n",
    "\n",
    "import sys\n",
    "sys.path.insert(0, '../EDA')\n",
    "import data_integrity_fixer as dint\n",
    "import basicstatsandplotter as bsp\n",
    "import data_imputer as di\n",
    "import data_integrity_fixer as dif\n",
    "import parameters\n",
    "\n",
    "##for modelling\n",
    "import h2o\n",
    "print('h2o version:{}'.format(h2o.__version__))\n",
    "from h2o.estimators import H2OXGBoostEstimator\n",
    "from h2o.grid.grid_search import H2OGridSearch\n",
    "from h2o.estimators.glm import H2OGeneralizedLinearEstimator\n",
    "from h2o.estimators import H2OTargetEncoderEstimator\n",
    "from h2o.estimators import H2ORandomForestEstimator\n",
    "from h2o.estimators import H2OGradientBoostingEstimator\n",
    "from h2o.tree import H2OTree\n",
    "from h2o.tree import H2ONode\n",
    "from h2o.tree import H2OSplitNode\n",
    "from h2o.tree import H2OLeafNode\n",
    "from h2o.estimators.kmeans import H2OKMeansEstimator\n",
    "\n",
    "#import xgboost as xgb\n",
    "import sklearn\n",
    "import category_encoders as ce\n",
    "print('sklearn version:{}'.format(sklearn.__version__))\n",
    "from sklearn import datasets\n",
    "from sklearn.metrics import mean_squared_error\n",
    "from sklearn import preprocessing\n",
    "from sklearn.model_selection import RandomizedSearchCV, GridSearchCV\n",
    "from sklearn.metrics import roc_auc_score\n",
    "from sklearn.model_selection import StratifiedKFold\n",
    "from datetime import datetime\n",
    "from sklearn.model_selection import train_test_split\n",
    "from sklearn.metrics import classification_report\n",
    "from sklearn.metrics import r2_score\n",
    "from sklearn.preprocessing import PowerTransformer\n",
    "import time\n",
    "import parameters\n",
    "from statsmodels.stats.outliers_influence import variance_inflation_factor\n",
    "\n",
    "%run 'functions.ipynb'\n",
    "\n",
    "plt.rcParams['figure.figsize'] = [10, 5]\n",
    "plt.rcParams['figure.dpi'] = 100"
   ]
  },
  {
   "cell_type": "markdown",
   "metadata": {},
   "source": [
    "# Pre-Processing \n",
    "<a id=\"section1\"></a>"
   ]
  },
  {
   "cell_type": "code",
   "execution_count": 2,
   "metadata": {},
   "outputs": [],
   "source": [
    "pd.set_option('display.max_columns', None)\n",
    "pd.set_option('display.max_rows', None)"
   ]
  },
  {
   "cell_type": "code",
   "execution_count": 3,
   "metadata": {},
   "outputs": [
    {
     "name": "stdout",
     "output_type": "stream",
     "text": [
      "(809833, 94)\n"
     ]
    }
   ],
   "source": [
    "conn_s3 = dg_s3.Connect('dgdatadump/DS&CA/Pricing/02 Projects/2022/Tel_Reg_2.0/Cancellation Model')\n",
    "# df_raw = conn_s3.read('NewBusiness.csv')\n",
    "# df_raw = conn_s3.read('NewBusiness2.csv') # inner joined with planmaster on cmk, productcode, goodscolour\n",
    "df_raw = conn_s3.read('26745992-321f-4b73-b335-8a106dec2798.csv')\n",
    "\n",
    "print(df_raw.shape)"
   ]
  },
  {
   "cell_type": "code",
   "execution_count": 4,
   "metadata": {},
   "outputs": [
    {
     "data": {
      "text/plain": [
       "1    410899\n",
       "0    398934\n",
       "Name: sale, dtype: int64"
      ]
     },
     "execution_count": 4,
     "metadata": {},
     "output_type": "execute_result"
    }
   ],
   "source": [
    "df_raw.sale.value_counts()"
   ]
  },
  {
   "cell_type": "code",
   "execution_count": null,
   "metadata": {},
   "outputs": [],
   "source": [
    "# print('offereffectivedatetime:', pd.to_datetime(df_raw['offereffectivedatetime']).min(), '-', pd.to_datetime(df_raw['offereffectivedatetime']).max())\n",
    "# print('planaccdate:', pd.to_datetime(df_raw['pm_planaccdate']).min(), '-', pd.to_datetime(df_raw['pm_planaccdate']).max())\n",
    "# print('movementdate:', pd.to_datetime(df_raw['pm_movementdate']).min(), '-', pd.to_datetime(df_raw['pm_movementdate']).max())"
   ]
  },
  {
   "cell_type": "code",
   "execution_count": 5,
   "metadata": {},
   "outputs": [
    {
     "name": "stdout",
     "output_type": "stream",
     "text": [
      "offereffectivedatetime: 2021-05-26 00:00:00 - 2022-09-01 00:00:00\n",
      "planaccdate: 0 - 1191231\n",
      "movementdate: 1050329 - 1191231\n"
     ]
    }
   ],
   "source": [
    "print('offereffectivedatetime:', pd.to_datetime(df_raw['offereffectivedatetime']).min(), '-', pd.to_datetime(df_raw['offereffectivedatetime']).max())\n",
    "print('planaccdate:', df_raw['pm_planaccdate'].min(), '-', df_raw['pm_planaccdate'].max())\n",
    "print('movementdate:', df_raw['pm_movementdate'].min(), '-', df_raw['pm_movementdate'].max())"
   ]
  },
  {
   "cell_type": "code",
   "execution_count": 10,
   "metadata": {},
   "outputs": [],
   "source": [
    "df = df_raw[df_raw['pm_planaccdate']>=1100101]\n",
    "df = planmaster_date_to_datetime(df, ['pm_planaccdate'])"
   ]
  },
  {
   "cell_type": "code",
   "execution_count": 11,
   "metadata": {},
   "outputs": [
    {
     "data": {
      "text/plain": [
       "'20100101'"
      ]
     },
     "execution_count": 11,
     "metadata": {},
     "output_type": "execute_result"
    }
   ],
   "source": [
    "df['pm_planaccdate'].min()"
   ]
  },
  {
   "cell_type": "code",
   "execution_count": 12,
   "metadata": {},
   "outputs": [
    {
     "name": "stdout",
     "output_type": "stream",
     "text": [
      "offereffectivedatetime: 2021-05-26 00:00:00 - 2022-09-01 00:00:00\n",
      "planaccdate: 20100101 - 20191231\n",
      "movementdate: 20100324 - 20191231\n"
     ]
    }
   ],
   "source": [
    "df = planmaster_date_to_datetime(df, ['pm_movementdate'])\n",
    "print('offereffectivedatetime:', pd.to_datetime(df_raw['offereffectivedatetime']).min(), '-', pd.to_datetime(df_raw['offereffectivedatetime']).max())\n",
    "print('planaccdate:', df['pm_planaccdate'].min(), '-', df['pm_planaccdate'].max())\n",
    "print('movementdate:', df['pm_movementdate'].min(), '-', df['pm_movementdate'].max())"
   ]
  },
  {
   "cell_type": "markdown",
   "metadata": {},
   "source": [
    "## Preliminary Filters\n",
    "<a id='prefilt'></a>"
   ]
  },
  {
   "cell_type": "code",
   "execution_count": null,
   "metadata": {},
   "outputs": [],
   "source": [
    "df_raw.PeriodOfCover.describe()"
   ]
  },
  {
   "cell_type": "code",
   "execution_count": null,
   "metadata": {},
   "outputs": [],
   "source": [
    "(df_raw['manufacturerbrandname']=='SKY').any(), (df_raw['itemgoodscategoryname']=='HEATING').any(), (df_raw.PricingVersionDescription == 'TEST').any()"
   ]
  },
  {
   "cell_type": "code",
   "execution_count": null,
   "metadata": {},
   "outputs": [],
   "source": [
    "# # keep only POC == 12 months\n",
    "# df_raw =  df_raw[df_raw['PeriodOfCover']==12]\n",
    "\n",
    "# filter out Sky, Heating\n",
    "df_raw = df_raw[(df_raw['manufacturerbrandname']!='SKY')&(df_raw['itemgoodscategoryname']!='HEATING')]\n",
    "df_raw.shape\n",
    "\n",
    "df_raw = df_raw.loc[df_raw.PricingVersionDescription != 'TEST']"
   ]
  },
  {
   "cell_type": "code",
   "execution_count": null,
   "metadata": {},
   "outputs": [],
   "source": [
    "df_raw.groupby(['offerbusinesseventcode','requested_paymentplancode'])['requested_paymentplancode'].count()"
   ]
  },
  {
   "cell_type": "code",
   "execution_count": null,
   "metadata": {},
   "outputs": [],
   "source": [
    "df_raw.columns.to_list()"
   ]
  },
  {
   "cell_type": "code",
   "execution_count": null,
   "metadata": {},
   "outputs": [],
   "source": [
    "# select IPM's\n",
    "df_ipm = df_raw.loc[df_raw.requested_paymentplancode=='IPM']\n",
    "df_ipm.shape"
   ]
  },
  {
   "cell_type": "code",
   "execution_count": null,
   "metadata": {},
   "outputs": [],
   "source": [
    "df = df_ipm.copy()"
   ]
  },
  {
   "cell_type": "code",
   "execution_count": 14,
   "metadata": {},
   "outputs": [],
   "source": [
    "# Convert to Datetime\n",
    "df['pm_planaccdate'] = pd.to_datetime(df['pm_planaccdate']) \n",
    "df['pm_movementdate'] = pd.to_datetime(df['pm_movementdate'])\n",
    "\n",
    "# calculate contract tenure\n",
    "final_date = df['pm_movementdate'].max()\n",
    "df['contract_age']=np.where(df['contractstatuscode']=='C', (df['pm_movementdate']-df['pm_planaccdate'])/np.timedelta64(1, 'M'), (final_date-df['pm_planaccdate'])/np.timedelta64(1, 'M'))\n",
    "# df[df['contract_age']<0].shape"
   ]
  },
  {
   "cell_type": "code",
   "execution_count": 15,
   "metadata": {},
   "outputs": [],
   "source": [
    "df.loc[df['contractstatuscode']=='C', 'cancel_age'] = (df['pm_movementdate']-df['pm_planaccdate'])/np.timedelta64(1, 'M')"
   ]
  },
  {
   "cell_type": "code",
   "execution_count": 16,
   "metadata": {},
   "outputs": [
    {
     "data": {
      "text/plain": [
       "<AxesSubplot:>"
      ]
     },
     "execution_count": 16,
     "metadata": {},
     "output_type": "execute_result"
    },
    {
     "data": {
      "image/png": "[encoded data removed]",
      "text/plain": [
       "<Figure size 1000x500 with 1 Axes>"
      ]
     },
     "metadata": {
      "needs_background": "light"
     },
     "output_type": "display_data"
    }
   ],
   "source": [
    "df['contract_age'].hist()"
   ]
  },
  {
   "cell_type": "code",
   "execution_count": 17,
   "metadata": {},
   "outputs": [
    {
     "data": {
      "text/plain": [
       "<AxesSubplot:>"
      ]
     },
     "execution_count": 17,
     "metadata": {},
     "output_type": "execute_result"
    },
    {
     "data": {
      "image/png": "[encoded data removed]",
      "text/plain": [
       "<Figure size 1000x500 with 1 Axes>"
      ]
     },
     "metadata": {
      "needs_background": "light"
     },
     "output_type": "display_data"
    }
   ],
   "source": [
    "df['cancel_age'].hist()"
   ]
  },
  {
   "cell_type": "code",
   "execution_count": null,
   "metadata": {},
   "outputs": [],
   "source": [
    "df.shape"
   ]
  },
  {
   "cell_type": "code",
   "execution_count": 18,
   "metadata": {},
   "outputs": [
    {
     "data": {
      "text/plain": [
       "(395031, 98)"
      ]
     },
     "execution_count": 18,
     "metadata": {},
     "output_type": "execute_result"
    }
   ],
   "source": [
    "df = df.dropna(axis=0, subset=['contractstatuscode'])\n",
    "df.shape"
   ]
  },
  {
   "cell_type": "markdown",
   "metadata": {},
   "source": [
    "## < 12 mo retention"
   ]
  },
  {
   "cell_type": "code",
   "execution_count": 19,
   "metadata": {},
   "outputs": [
    {
     "data": {
      "text/html": [
       "<div>\n",
       "<style scoped>\n",
       "    .dataframe tbody tr th:only-of-type {\n",
       "        vertical-align: middle;\n",
       "    }\n",
       "\n",
       "    .dataframe tbody tr th {\n",
       "        vertical-align: top;\n",
       "    }\n",
       "\n",
       "    .dataframe thead th {\n",
       "        text-align: right;\n",
       "    }\n",
       "</style>\n",
       "<table border=\"1\" class=\"dataframe\">\n",
       "  <thead>\n",
       "    <tr style=\"text-align: right;\">\n",
       "      <th></th>\n",
       "      <th>itemcategoryname</th>\n",
       "      <th>itemsupercategorycode</th>\n",
       "      <th>itemgoodscategoryname</th>\n",
       "      <th>requested_itemgoodscatcode</th>\n",
       "      <th>manufacturerbrandname</th>\n",
       "      <th>manufacturergroupname</th>\n",
       "      <th>itemmodelnumber</th>\n",
       "      <th>itempurchaseprice</th>\n",
       "      <th>itempurchasedatetime</th>\n",
       "      <th>itemlocationpostcode</th>\n",
       "    </tr>\n",
       "  </thead>\n",
       "  <tbody>\n",
       "    <tr>\n",
       "      <th>0</th>\n",
       "      <td>cooker</td>\n",
       "      <td>CO</td>\n",
       "      <td>WHITE</td>\n",
       "      <td>W</td>\n",
       "      <td>INDESIT</td>\n",
       "      <td>INDESIT COMPANY</td>\n",
       "      <td>NaN</td>\n",
       "      <td>369.0</td>\n",
       "      <td>2021-04-15 00:00:00.000</td>\n",
       "      <td>NG16 4GD</td>\n",
       "    </tr>\n",
       "    <tr>\n",
       "      <th>3</th>\n",
       "      <td>fridge freezer</td>\n",
       "      <td>RE</td>\n",
       "      <td>WHITE</td>\n",
       "      <td>W</td>\n",
       "      <td>SAMSUNG</td>\n",
       "      <td>SAMSUNG</td>\n",
       "      <td>RS68N8230B</td>\n",
       "      <td>1200.0</td>\n",
       "      <td>2019-01-02 00:00:00.000</td>\n",
       "      <td>E4 8ET</td>\n",
       "    </tr>\n",
       "    <tr>\n",
       "      <th>4</th>\n",
       "      <td>cooker</td>\n",
       "      <td>CO</td>\n",
       "      <td>WHITE</td>\n",
       "      <td>W</td>\n",
       "      <td>FLAVEL</td>\n",
       "      <td>FLAVEL LEISURE</td>\n",
       "      <td>NaN</td>\n",
       "      <td>400.0</td>\n",
       "      <td>2022-02-19 00:00:00.000</td>\n",
       "      <td>M23 9FP</td>\n",
       "    </tr>\n",
       "    <tr>\n",
       "      <th>5</th>\n",
       "      <td>fridge freezer</td>\n",
       "      <td>RE</td>\n",
       "      <td>WHITE</td>\n",
       "      <td>W</td>\n",
       "      <td>BEKO</td>\n",
       "      <td>BEKO</td>\n",
       "      <td>CXFG3691VA</td>\n",
       "      <td>450.0</td>\n",
       "      <td>2020-11-23 00:00:00.000</td>\n",
       "      <td>NP18 1AL</td>\n",
       "    </tr>\n",
       "    <tr>\n",
       "      <th>6</th>\n",
       "      <td>cooker</td>\n",
       "      <td>CO</td>\n",
       "      <td>WHITE</td>\n",
       "      <td>W</td>\n",
       "      <td>FLAVEL</td>\n",
       "      <td>FLAVEL LEISURE</td>\n",
       "      <td>MILANO100</td>\n",
       "      <td>750.0</td>\n",
       "      <td>2015-10-10 00:00:00.000</td>\n",
       "      <td>E8 2JW</td>\n",
       "    </tr>\n",
       "  </tbody>\n",
       "</table>\n",
       "</div>"
      ],
      "text/plain": [
       "  itemcategoryname itemsupercategorycode itemgoodscategoryname  \\\n",
       "0           cooker                    CO                 WHITE   \n",
       "3   fridge freezer                    RE                 WHITE   \n",
       "4           cooker                    CO                 WHITE   \n",
       "5   fridge freezer                    RE                 WHITE   \n",
       "6           cooker                    CO                 WHITE   \n",
       "\n",
       "  requested_itemgoodscatcode manufacturerbrandname manufacturergroupname  \\\n",
       "0                          W               INDESIT       INDESIT COMPANY   \n",
       "3                          W               SAMSUNG               SAMSUNG   \n",
       "4                          W                FLAVEL        FLAVEL LEISURE   \n",
       "5                          W                  BEKO                  BEKO   \n",
       "6                          W                FLAVEL        FLAVEL LEISURE   \n",
       "\n",
       "  itemmodelnumber  itempurchaseprice     itempurchasedatetime  \\\n",
       "0             NaN              369.0  2021-04-15 00:00:00.000   \n",
       "3      RS68N8230B             1200.0  2019-01-02 00:00:00.000   \n",
       "4             NaN              400.0  2022-02-19 00:00:00.000   \n",
       "5      CXFG3691VA              450.0  2020-11-23 00:00:00.000   \n",
       "6       MILANO100              750.0  2015-10-10 00:00:00.000   \n",
       "\n",
       "  itemlocationpostcode  \n",
       "0             NG16 4GD  \n",
       "3               E4 8ET  \n",
       "4              M23 9FP  \n",
       "5             NP18 1AL  \n",
       "6               E8 2JW  "
      ]
     },
     "execution_count": 19,
     "metadata": {},
     "output_type": "execute_result"
    }
   ],
   "source": [
    "df[[ 'itemcategoryname',\n",
    " 'itemsupercategorycode',\n",
    " 'itemgoodscategoryname',\n",
    " 'requested_itemgoodscatcode',\n",
    " 'manufacturerbrandname',\n",
    " 'manufacturergroupname',\n",
    " 'itemmodelnumber',\n",
    " 'itempurchaseprice',\n",
    " 'itempurchasedatetime',\n",
    " 'itemlocationpostcode',]].head()"
   ]
  },
  {
   "cell_type": "code",
   "execution_count": 20,
   "metadata": {},
   "outputs": [
    {
     "data": {
      "text/html": [
       "<div>\n",
       "<style scoped>\n",
       "    .dataframe tbody tr th:only-of-type {\n",
       "        vertical-align: middle;\n",
       "    }\n",
       "\n",
       "    .dataframe tbody tr th {\n",
       "        vertical-align: top;\n",
       "    }\n",
       "\n",
       "    .dataframe thead th {\n",
       "        text-align: right;\n",
       "    }\n",
       "</style>\n",
       "<table border=\"1\" class=\"dataframe\">\n",
       "  <thead>\n",
       "    <tr style=\"text-align: right;\">\n",
       "      <th></th>\n",
       "      <th>contractstatuscode</th>\n",
       "      <th>requested_fee</th>\n",
       "      <th>requested_renewalfee</th>\n",
       "      <th>TotalPrice</th>\n",
       "      <th>gross</th>\n",
       "      <th>requested_itemcode</th>\n",
       "      <th>requested_perpostaladdrpostcode</th>\n",
       "      <th>planno</th>\n",
       "      <th>cocode</th>\n",
       "      <th>schcode</th>\n",
       "      <th>requested_itemgoodscatcode</th>\n",
       "      <th>cmk</th>\n",
       "      <th>productcode</th>\n",
       "      <th>goodscolour</th>\n",
       "      <th>requested_itemmanufbrandcode</th>\n",
       "    </tr>\n",
       "  </thead>\n",
       "  <tbody>\n",
       "    <tr>\n",
       "      <th>620466</th>\n",
       "      <td>N</td>\n",
       "      <td>168.00</td>\n",
       "      <td>168.00</td>\n",
       "      <td>150.24</td>\n",
       "      <td>149.90</td>\n",
       "      <td>CK</td>\n",
       "      <td>PR9 7</td>\n",
       "      <td>1</td>\n",
       "      <td>A</td>\n",
       "      <td>FPA</td>\n",
       "      <td>W</td>\n",
       "      <td>41798947</td>\n",
       "      <td>CK</td>\n",
       "      <td>W</td>\n",
       "      <td>ZANU</td>\n",
       "    </tr>\n",
       "    <tr>\n",
       "      <th>269790</th>\n",
       "      <td>N</td>\n",
       "      <td>93.72</td>\n",
       "      <td>93.72</td>\n",
       "      <td>83.28</td>\n",
       "      <td>61.80</td>\n",
       "      <td>LY</td>\n",
       "      <td>PL6 6</td>\n",
       "      <td>1</td>\n",
       "      <td>D</td>\n",
       "      <td>VZZ</td>\n",
       "      <td>B</td>\n",
       "      <td>696997268</td>\n",
       "      <td>LY</td>\n",
       "      <td>B</td>\n",
       "      <td>LG</td>\n",
       "    </tr>\n",
       "    <tr>\n",
       "      <th>648614</th>\n",
       "      <td>N</td>\n",
       "      <td>157.44</td>\n",
       "      <td>157.44</td>\n",
       "      <td>120.36</td>\n",
       "      <td>61.80</td>\n",
       "      <td>LY</td>\n",
       "      <td>PL6 6</td>\n",
       "      <td>1</td>\n",
       "      <td>D</td>\n",
       "      <td>VZZ</td>\n",
       "      <td>B</td>\n",
       "      <td>696997268</td>\n",
       "      <td>LY</td>\n",
       "      <td>B</td>\n",
       "      <td>SAMS</td>\n",
       "    </tr>\n",
       "    <tr>\n",
       "      <th>650865</th>\n",
       "      <td>N</td>\n",
       "      <td>157.44</td>\n",
       "      <td>157.44</td>\n",
       "      <td>120.36</td>\n",
       "      <td>61.80</td>\n",
       "      <td>LY</td>\n",
       "      <td>PL6 6</td>\n",
       "      <td>1</td>\n",
       "      <td>D</td>\n",
       "      <td>VZZ</td>\n",
       "      <td>B</td>\n",
       "      <td>696997268</td>\n",
       "      <td>LY</td>\n",
       "      <td>B</td>\n",
       "      <td>SAMS</td>\n",
       "    </tr>\n",
       "    <tr>\n",
       "      <th>650866</th>\n",
       "      <td>N</td>\n",
       "      <td>157.44</td>\n",
       "      <td>157.44</td>\n",
       "      <td>120.36</td>\n",
       "      <td>61.80</td>\n",
       "      <td>LY</td>\n",
       "      <td>PL6 6</td>\n",
       "      <td>1</td>\n",
       "      <td>D</td>\n",
       "      <td>VZZ</td>\n",
       "      <td>B</td>\n",
       "      <td>696997268</td>\n",
       "      <td>LY</td>\n",
       "      <td>B</td>\n",
       "      <td>SAMS</td>\n",
       "    </tr>\n",
       "    <tr>\n",
       "      <th>327465</th>\n",
       "      <td>N</td>\n",
       "      <td>50.40</td>\n",
       "      <td>77.88</td>\n",
       "      <td>69.96</td>\n",
       "      <td>22.50</td>\n",
       "      <td>DW</td>\n",
       "      <td>TD9 8</td>\n",
       "      <td>1</td>\n",
       "      <td>D</td>\n",
       "      <td>W11</td>\n",
       "      <td>W</td>\n",
       "      <td>636127418</td>\n",
       "      <td>DW</td>\n",
       "      <td>W</td>\n",
       "      <td>BEKO</td>\n",
       "    </tr>\n",
       "    <tr>\n",
       "      <th>202581</th>\n",
       "      <td>N</td>\n",
       "      <td>102.00</td>\n",
       "      <td>102.00</td>\n",
       "      <td>72.84</td>\n",
       "      <td>52.68</td>\n",
       "      <td>LY</td>\n",
       "      <td>E9 6</td>\n",
       "      <td>1</td>\n",
       "      <td>D</td>\n",
       "      <td>W6X</td>\n",
       "      <td>B</td>\n",
       "      <td>691774678</td>\n",
       "      <td>LY</td>\n",
       "      <td>B</td>\n",
       "      <td>PHIP</td>\n",
       "    </tr>\n",
       "    <tr>\n",
       "      <th>680970</th>\n",
       "      <td>N</td>\n",
       "      <td>110.64</td>\n",
       "      <td>110.64</td>\n",
       "      <td>98.40</td>\n",
       "      <td>129.36</td>\n",
       "      <td>CN</td>\n",
       "      <td>BR6 9</td>\n",
       "      <td>2</td>\n",
       "      <td>A</td>\n",
       "      <td>EY8</td>\n",
       "      <td>W</td>\n",
       "      <td>178795848</td>\n",
       "      <td>CN</td>\n",
       "      <td>W</td>\n",
       "      <td>SAMS</td>\n",
       "    </tr>\n",
       "    <tr>\n",
       "      <th>264540</th>\n",
       "      <td>N</td>\n",
       "      <td>61.44</td>\n",
       "      <td>61.44</td>\n",
       "      <td>55.32</td>\n",
       "      <td>78.00</td>\n",
       "      <td>FZ</td>\n",
       "      <td>AB42 1</td>\n",
       "      <td>4</td>\n",
       "      <td>A</td>\n",
       "      <td>F57</td>\n",
       "      <td>W</td>\n",
       "      <td>387950915</td>\n",
       "      <td>FZ</td>\n",
       "      <td>W</td>\n",
       "      <td>HOTP</td>\n",
       "    </tr>\n",
       "    <tr>\n",
       "      <th>630868</th>\n",
       "      <td>N</td>\n",
       "      <td>181.32</td>\n",
       "      <td>181.32</td>\n",
       "      <td>152.88</td>\n",
       "      <td>182.52</td>\n",
       "      <td>CN</td>\n",
       "      <td>WV4 4</td>\n",
       "      <td>4</td>\n",
       "      <td>A</td>\n",
       "      <td>FJX</td>\n",
       "      <td>W</td>\n",
       "      <td>280453374</td>\n",
       "      <td>CN</td>\n",
       "      <td>W</td>\n",
       "      <td>WHIR</td>\n",
       "    </tr>\n",
       "    <tr>\n",
       "      <th>476609</th>\n",
       "      <td>N</td>\n",
       "      <td>73.92</td>\n",
       "      <td>73.92</td>\n",
       "      <td>63.84</td>\n",
       "      <td>53.88</td>\n",
       "      <td>FR</td>\n",
       "      <td>PL3 5</td>\n",
       "      <td>4</td>\n",
       "      <td>D</td>\n",
       "      <td>VTZ</td>\n",
       "      <td>W</td>\n",
       "      <td>223296009</td>\n",
       "      <td>FR</td>\n",
       "      <td>W</td>\n",
       "      <td>SMEG</td>\n",
       "    </tr>\n",
       "    <tr>\n",
       "      <th>614390</th>\n",
       "      <td>N</td>\n",
       "      <td>37.08</td>\n",
       "      <td>37.08</td>\n",
       "      <td>33.36</td>\n",
       "      <td>40.68</td>\n",
       "      <td>E=</td>\n",
       "      <td>ST15 0</td>\n",
       "      <td>5</td>\n",
       "      <td>D</td>\n",
       "      <td>VR8</td>\n",
       "      <td>W</td>\n",
       "      <td>574657563</td>\n",
       "      <td>E=</td>\n",
       "      <td>W</td>\n",
       "      <td>HOOV</td>\n",
       "    </tr>\n",
       "    <tr>\n",
       "      <th>429293</th>\n",
       "      <td>N</td>\n",
       "      <td>70.80</td>\n",
       "      <td>115.20</td>\n",
       "      <td>85.32</td>\n",
       "      <td>75.72</td>\n",
       "      <td>TD</td>\n",
       "      <td>LS10 3</td>\n",
       "      <td>7</td>\n",
       "      <td>A</td>\n",
       "      <td>EUY</td>\n",
       "      <td>W</td>\n",
       "      <td>511640369</td>\n",
       "      <td>TD</td>\n",
       "      <td>W</td>\n",
       "      <td>HOTP</td>\n",
       "    </tr>\n",
       "    <tr>\n",
       "      <th>680533</th>\n",
       "      <td>N</td>\n",
       "      <td>83.04</td>\n",
       "      <td>83.04</td>\n",
       "      <td>71.16</td>\n",
       "      <td>68.64</td>\n",
       "      <td>FF</td>\n",
       "      <td>ME8 0</td>\n",
       "      <td>7</td>\n",
       "      <td>A</td>\n",
       "      <td>FYK</td>\n",
       "      <td>W</td>\n",
       "      <td>404347918</td>\n",
       "      <td>FF</td>\n",
       "      <td>W</td>\n",
       "      <td>HOTP</td>\n",
       "    </tr>\n",
       "    <tr>\n",
       "      <th>143118</th>\n",
       "      <td>N</td>\n",
       "      <td>93.00</td>\n",
       "      <td>93.00</td>\n",
       "      <td>82.68</td>\n",
       "      <td>71.91</td>\n",
       "      <td>DW</td>\n",
       "      <td>CV5 8</td>\n",
       "      <td>8</td>\n",
       "      <td>A</td>\n",
       "      <td>EKF</td>\n",
       "      <td>W</td>\n",
       "      <td>54853424</td>\n",
       "      <td>DW</td>\n",
       "      <td>W</td>\n",
       "      <td>BOSC</td>\n",
       "    </tr>\n",
       "    <tr>\n",
       "      <th>93994</th>\n",
       "      <td>N</td>\n",
       "      <td>76.68</td>\n",
       "      <td>76.68</td>\n",
       "      <td>68.16</td>\n",
       "      <td>74.94</td>\n",
       "      <td>TD</td>\n",
       "      <td>GL12 7</td>\n",
       "      <td>8</td>\n",
       "      <td>A</td>\n",
       "      <td>VTF</td>\n",
       "      <td>W</td>\n",
       "      <td>259748623</td>\n",
       "      <td>TD</td>\n",
       "      <td>W</td>\n",
       "      <td>HOTP</td>\n",
       "    </tr>\n",
       "    <tr>\n",
       "      <th>39190</th>\n",
       "      <td>N</td>\n",
       "      <td>99.60</td>\n",
       "      <td>99.60</td>\n",
       "      <td>88.56</td>\n",
       "      <td>79.38</td>\n",
       "      <td>DO</td>\n",
       "      <td>M8 0</td>\n",
       "      <td>9</td>\n",
       "      <td>D</td>\n",
       "      <td>DKJ</td>\n",
       "      <td>W</td>\n",
       "      <td>746624212</td>\n",
       "      <td>DO</td>\n",
       "      <td>W</td>\n",
       "      <td>BELL</td>\n",
       "    </tr>\n",
       "    <tr>\n",
       "      <th>97407</th>\n",
       "      <td>N</td>\n",
       "      <td>60.00</td>\n",
       "      <td>60.00</td>\n",
       "      <td>46.32</td>\n",
       "      <td>111.84</td>\n",
       "      <td>CL</td>\n",
       "      <td>RH11 7</td>\n",
       "      <td>9</td>\n",
       "      <td>D</td>\n",
       "      <td>DY9</td>\n",
       "      <td>W</td>\n",
       "      <td>95459331</td>\n",
       "      <td>CL</td>\n",
       "      <td>W</td>\n",
       "      <td>DYSO</td>\n",
       "    </tr>\n",
       "    <tr>\n",
       "      <th>216681</th>\n",
       "      <td>N</td>\n",
       "      <td>57.48</td>\n",
       "      <td>57.48</td>\n",
       "      <td>51.72</td>\n",
       "      <td>62.28</td>\n",
       "      <td>MW</td>\n",
       "      <td>E13 8</td>\n",
       "      <td>10</td>\n",
       "      <td>D</td>\n",
       "      <td>EA4</td>\n",
       "      <td>W</td>\n",
       "      <td>301151403</td>\n",
       "      <td>MW</td>\n",
       "      <td>W</td>\n",
       "      <td>HOTP</td>\n",
       "    </tr>\n",
       "    <tr>\n",
       "      <th>591720</th>\n",
       "      <td>N</td>\n",
       "      <td>49.08</td>\n",
       "      <td>49.08</td>\n",
       "      <td>44.16</td>\n",
       "      <td>69.48</td>\n",
       "      <td>AW</td>\n",
       "      <td>EN4 9</td>\n",
       "      <td>10</td>\n",
       "      <td>D</td>\n",
       "      <td>W6Y</td>\n",
       "      <td>W</td>\n",
       "      <td>294921796</td>\n",
       "      <td>AW</td>\n",
       "      <td>W</td>\n",
       "      <td>BOSC</td>\n",
       "    </tr>\n",
       "  </tbody>\n",
       "</table>\n",
       "</div>"
      ],
      "text/plain": [
       "       contractstatuscode  requested_fee  requested_renewalfee  TotalPrice  \\\n",
       "620466                  N         168.00                168.00      150.24   \n",
       "269790                  N          93.72                 93.72       83.28   \n",
       "648614                  N         157.44                157.44      120.36   \n",
       "650865                  N         157.44                157.44      120.36   \n",
       "650866                  N         157.44                157.44      120.36   \n",
       "327465                  N          50.40                 77.88       69.96   \n",
       "202581                  N         102.00                102.00       72.84   \n",
       "680970                  N         110.64                110.64       98.40   \n",
       "264540                  N          61.44                 61.44       55.32   \n",
       "630868                  N         181.32                181.32      152.88   \n",
       "476609                  N          73.92                 73.92       63.84   \n",
       "614390                  N          37.08                 37.08       33.36   \n",
       "429293                  N          70.80                115.20       85.32   \n",
       "680533                  N          83.04                 83.04       71.16   \n",
       "143118                  N          93.00                 93.00       82.68   \n",
       "93994                   N          76.68                 76.68       68.16   \n",
       "39190                   N          99.60                 99.60       88.56   \n",
       "97407                   N          60.00                 60.00       46.32   \n",
       "216681                  N          57.48                 57.48       51.72   \n",
       "591720                  N          49.08                 49.08       44.16   \n",
       "\n",
       "         gross requested_itemcode requested_perpostaladdrpostcode  planno  \\\n",
       "620466  149.90                 CK                           PR9 7       1   \n",
       "269790   61.80                 LY                           PL6 6       1   \n",
       "648614   61.80                 LY                           PL6 6       1   \n",
       "650865   61.80                 LY                           PL6 6       1   \n",
       "650866   61.80                 LY                           PL6 6       1   \n",
       "327465   22.50                 DW                           TD9 8       1   \n",
       "202581   52.68                 LY                            E9 6       1   \n",
       "680970  129.36                 CN                           BR6 9       2   \n",
       "264540   78.00                 FZ                          AB42 1       4   \n",
       "630868  182.52                 CN                           WV4 4       4   \n",
       "476609   53.88                 FR                           PL3 5       4   \n",
       "614390   40.68                 E=                          ST15 0       5   \n",
       "429293   75.72                 TD                          LS10 3       7   \n",
       "680533   68.64                 FF                           ME8 0       7   \n",
       "143118   71.91                 DW                           CV5 8       8   \n",
       "93994    74.94                 TD                          GL12 7       8   \n",
       "39190    79.38                 DO                            M8 0       9   \n",
       "97407   111.84                 CL                          RH11 7       9   \n",
       "216681   62.28                 MW                           E13 8      10   \n",
       "591720   69.48                 AW                           EN4 9      10   \n",
       "\n",
       "       cocode schcode requested_itemgoodscatcode        cmk productcode  \\\n",
       "620466      A     FPA                          W   41798947          CK   \n",
       "269790      D     VZZ                          B  696997268          LY   \n",
       "648614      D     VZZ                          B  696997268          LY   \n",
       "650865      D     VZZ                          B  696997268          LY   \n",
       "650866      D     VZZ                          B  696997268          LY   \n",
       "327465      D     W11                          W  636127418          DW   \n",
       "202581      D     W6X                          B  691774678          LY   \n",
       "680970      A     EY8                          W  178795848          CN   \n",
       "264540      A     F57                          W  387950915          FZ   \n",
       "630868      A     FJX                          W  280453374          CN   \n",
       "476609      D     VTZ                          W  223296009          FR   \n",
       "614390      D     VR8                          W  574657563          E=   \n",
       "429293      A     EUY                          W  511640369          TD   \n",
       "680533      A     FYK                          W  404347918          FF   \n",
       "143118      A     EKF                          W   54853424          DW   \n",
       "93994       A     VTF                          W  259748623          TD   \n",
       "39190       D     DKJ                          W  746624212          DO   \n",
       "97407       D     DY9                          W   95459331          CL   \n",
       "216681      D     EA4                          W  301151403          MW   \n",
       "591720      D     W6Y                          W  294921796          AW   \n",
       "\n",
       "       goodscolour requested_itemmanufbrandcode  \n",
       "620466           W                         ZANU  \n",
       "269790           B                           LG  \n",
       "648614           B                         SAMS  \n",
       "650865           B                         SAMS  \n",
       "650866           B                         SAMS  \n",
       "327465           W                         BEKO  \n",
       "202581           B                         PHIP  \n",
       "680970           W                         SAMS  \n",
       "264540           W                         HOTP  \n",
       "630868           W                         WHIR  \n",
       "476609           W                         SMEG  \n",
       "614390           W                         HOOV  \n",
       "429293           W                         HOTP  \n",
       "680533           W                         HOTP  \n",
       "143118           W                         BOSC  \n",
       "93994            W                         HOTP  \n",
       "39190            W                         BELL  \n",
       "97407            W                         DYSO  \n",
       "216681           W                         HOTP  \n",
       "591720           W                         BOSC  "
      ]
     },
     "execution_count": 20,
     "metadata": {},
     "output_type": "execute_result"
    }
   ],
   "source": [
    "# plans that went into retention within 12 months\n",
    "df[(df['requested_retentionflag']==1)&(df['contract_age']<12)&(df['contractstatuscode']=='N')][['contractstatuscode',\n",
    "                                                                'requested_fee',\n",
    "                                                                'requested_renewalfee', \n",
    "                                                                'TotalPrice',\n",
    "                                                                'gross',                                                                \n",
    "                                                                'requested_itemcode', \n",
    "                                                                'requested_perpostaladdrpostcode',  \n",
    "                                                                'planno',\n",
    "                                                                'cocode', \n",
    "                                                                'schcode',\n",
    "                                                                'requested_itemgoodscatcode',\n",
    "                                                                'cmk', 'productcode', 'goodscolour','requested_itemmanufbrandcode'\n",
    "                                                                ]].sort_values(by=['planno','cocode','schcode']).head(20)"
   ]
  },
  {
   "cell_type": "code",
   "execution_count": null,
   "metadata": {},
   "outputs": [],
   "source": [
    "df['cmk'].head()"
   ]
  },
  {
   "cell_type": "code",
   "execution_count": 25,
   "metadata": {},
   "outputs": [
    {
     "data": {
      "text/html": [
       "<div>\n",
       "<style scoped>\n",
       "    .dataframe tbody tr th:only-of-type {\n",
       "        vertical-align: middle;\n",
       "    }\n",
       "\n",
       "    .dataframe tbody tr th {\n",
       "        vertical-align: top;\n",
       "    }\n",
       "\n",
       "    .dataframe thead th {\n",
       "        text-align: right;\n",
       "    }\n",
       "</style>\n",
       "<table border=\"1\" class=\"dataframe\">\n",
       "  <thead>\n",
       "    <tr style=\"text-align: right;\">\n",
       "      <th></th>\n",
       "      <th>contractstatuscode</th>\n",
       "      <th>requested_retentionflag</th>\n",
       "      <th>itempurchaseprice</th>\n",
       "      <th>gross</th>\n",
       "      <th>planno</th>\n",
       "      <th>cocode</th>\n",
       "      <th>schcode</th>\n",
       "      <th>pm_movementdate</th>\n",
       "      <th>requested_itemmanufbrandcode</th>\n",
       "    </tr>\n",
       "  </thead>\n",
       "  <tbody>\n",
       "    <tr>\n",
       "      <th>268873</th>\n",
       "      <td>N</td>\n",
       "      <td>1</td>\n",
       "      <td>585.0</td>\n",
       "      <td>123.48</td>\n",
       "      <td>64684</td>\n",
       "      <td>A</td>\n",
       "      <td>MD3</td>\n",
       "      <td>2015-01-05</td>\n",
       "      <td>LG</td>\n",
       "    </tr>\n",
       "    <tr>\n",
       "      <th>268874</th>\n",
       "      <td>N</td>\n",
       "      <td>1</td>\n",
       "      <td>585.0</td>\n",
       "      <td>115.45</td>\n",
       "      <td>2568</td>\n",
       "      <td>A</td>\n",
       "      <td>ME9</td>\n",
       "      <td>2015-04-07</td>\n",
       "      <td>LG</td>\n",
       "    </tr>\n",
       "    <tr>\n",
       "      <th>275823</th>\n",
       "      <td>N</td>\n",
       "      <td>1</td>\n",
       "      <td>585.0</td>\n",
       "      <td>104.88</td>\n",
       "      <td>91238</td>\n",
       "      <td>A</td>\n",
       "      <td>MD3</td>\n",
       "      <td>2017-11-10</td>\n",
       "      <td>LG</td>\n",
       "    </tr>\n",
       "    <tr>\n",
       "      <th>271034</th>\n",
       "      <td>N</td>\n",
       "      <td>1</td>\n",
       "      <td>585.0</td>\n",
       "      <td>107.88</td>\n",
       "      <td>83295</td>\n",
       "      <td>A</td>\n",
       "      <td>MD5</td>\n",
       "      <td>2018-09-03</td>\n",
       "      <td>LG</td>\n",
       "    </tr>\n",
       "    <tr>\n",
       "      <th>269790</th>\n",
       "      <td>N</td>\n",
       "      <td>1</td>\n",
       "      <td>585.0</td>\n",
       "      <td>61.80</td>\n",
       "      <td>1</td>\n",
       "      <td>D</td>\n",
       "      <td>VZZ</td>\n",
       "      <td>2019-07-29</td>\n",
       "      <td>LG</td>\n",
       "    </tr>\n",
       "  </tbody>\n",
       "</table>\n",
       "</div>"
      ],
      "text/plain": [
       "       contractstatuscode  requested_retentionflag  itempurchaseprice   gross  \\\n",
       "268873                  N                        1              585.0  123.48   \n",
       "268874                  N                        1              585.0  115.45   \n",
       "275823                  N                        1              585.0  104.88   \n",
       "271034                  N                        1              585.0  107.88   \n",
       "269790                  N                        1              585.0   61.80   \n",
       "\n",
       "        planno cocode schcode pm_movementdate requested_itemmanufbrandcode  \n",
       "268873   64684      A     MD3      2015-01-05                           LG  \n",
       "268874    2568      A     ME9      2015-04-07                           LG  \n",
       "275823   91238      A     MD3      2017-11-10                           LG  \n",
       "271034   83295      A     MD5      2018-09-03                           LG  \n",
       "269790       1      D     VZZ      2019-07-29                           LG  "
      ]
     },
     "execution_count": 25,
     "metadata": {},
     "output_type": "execute_result"
    }
   ],
   "source": [
    "df[(df['cmk']==696997268) & (df['productcode']=='LY') & (df['goodscolour']=='B') & (df.requested_itemmanufbrandcode=='LG')][['contractstatuscode','requested_retentionflag','itempurchaseprice', 'gross', 'planno', 'cocode', 'schcode', 'pm_movementdate', 'requested_itemmanufbrandcode']].sort_values(by=['pm_movementdate'])"
   ]
  },
  {
   "cell_type": "code",
   "execution_count": null,
   "metadata": {},
   "outputs": [],
   "source": [
    "df[(df['planno']=='0001941') & (df['cocode']=='D') & (df['schcode']=='AWN')]"
   ]
  },
  {
   "cell_type": "code",
   "execution_count": null,
   "metadata": {},
   "outputs": [],
   "source": [
    "df[(df['requested_retentionflag']==1)&(df['contract_age']<12)]['contractstatuscode'].value_counts()"
   ]
  },
  {
   "cell_type": "markdown",
   "metadata": {},
   "source": [
    "Retention plans' status changes into New or Cancelled or Lapsed depending on the outcome of the offer"
   ]
  },
  {
   "cell_type": "markdown",
   "metadata": {},
   "source": [
    "Comparing the above plans with their counterpart offers in planmaster where rec_status=0\n",
    "'''select gross, planaccdate, movementdate, rec_status from \"prq_datalake_11112020\".\"schdayfilc_planmaster\" where planno='0092989' and cocode='D' and schcode='DTS''''\n",
    "shows:\n",
    "- cancelled plans were previously offered higher fees. \n",
    "- gross is the same as TotalPrice for retained plans but is much lower for cancelled plans\n",
    "- new plans have duplicates of the same offers with same movementdate\n",
    "\n",
    "This suggests, retained plans which become new plans have new plan number, company code & scheme code. Hence, they don't retain the price history of their predecessor unlike cancelled plans.\n",
    "\n",
    "Next Step: Find price history for newly retained plans"
   ]
  },
  {
   "cell_type": "code",
   "execution_count": null,
   "metadata": {},
   "outputs": [],
   "source": [
    "# check if there are missing renewal fee for validation\n",
    "df[(df['requested_retentionflag']==1)&(df['contract_age']<12)]['requested_renewalfee'].isna().sum()"
   ]
  },
  {
   "cell_type": "code",
   "execution_count": null,
   "metadata": {},
   "outputs": [],
   "source": [
    "# how many plans affected\n",
    "df[(df['requested_retentionflag']==1)&(df['contract_age']<12)].shape[0], (df[(df['requested_retentionflag']==1)&(df['contract_age']<12)].shape[0])/df.shape[0]"
   ]
  },
  {
   "cell_type": "code",
   "execution_count": null,
   "metadata": {},
   "outputs": [],
   "source": [
    "df[(df['requested_retentionflag']==1)&(df['contract_age']<12)]['price_diff'].mean()"
   ]
  },
  {
   "cell_type": "markdown",
   "metadata": {},
   "source": [
    "## > 12 mo retention"
   ]
  },
  {
   "cell_type": "code",
   "execution_count": null,
   "metadata": {},
   "outputs": [],
   "source": [
    "# plans that went into retention after 12 months\n",
    "\n",
    "df[(df['requested_retentionflag']==1)&(df['contract_age']>=12)][['contractstatuscode','requested_fee','offeracceptedprice', 'requested_renewalfee', 'TotalPrice', 'gross', 'planno','cocode', 'schcode']].head()"
   ]
  },
  {
   "cell_type": "code",
   "execution_count": null,
   "metadata": {},
   "outputs": [],
   "source": [
    "df[(df['requested_retentionflag']==1)&(df['contract_age']>=12)]['price_diff'].mean()"
   ]
  },
  {
   "cell_type": "markdown",
   "metadata": {},
   "source": [
    "## Dedup\n",
    "<a id='dedup'></a>"
   ]
  },
  {
   "cell_type": "code",
   "execution_count": null,
   "metadata": {},
   "outputs": [],
   "source": [
    "# check duplicate offers\n",
    "df_raw[df_raw.duplicated(subset='offerreferencenumber')].shape\n",
    "\n",
    "# dedup offers\n",
    "df_dedup = df_raw.drop_duplicates(subset='offerreferencenumber', keep='first')\n",
    "df_dedup.shape, df_raw.shape"
   ]
  },
  {
   "cell_type": "markdown",
   "metadata": {},
   "source": [
    "## Rename & Drop Columns\n",
    "<a id='rename'></a>"
   ]
  },
  {
   "cell_type": "code",
   "execution_count": null,
   "metadata": {},
   "outputs": [],
   "source": [
    "rename_list = parameters.rename_list\n",
    "drop_list = parameters.drop_list"
   ]
  },
  {
   "cell_type": "code",
   "execution_count": null,
   "metadata": {},
   "outputs": [],
   "source": [
    "df = df_dedup.copy()\n",
    "df.rename(columns=rename_list, inplace=True)\n",
    "df = hf.drop_columns(df, drop_list)\n",
    "\n",
    "df.shape, df_raw.shape"
   ]
  },
  {
   "cell_type": "markdown",
   "metadata": {},
   "source": []
  },
  {
   "cell_type": "markdown",
   "metadata": {},
   "source": [
    "## Data Formatting\n",
    "<a id='form'></a>"
   ]
  },
  {
   "cell_type": "code",
   "execution_count": null,
   "metadata": {},
   "outputs": [],
   "source": [
    "# dates\n",
    "\n",
    "date_cols = df.columns[df.columns.str.lower().str.contains('date')]\n",
    "\n",
    "# convert planmaster to datetime string\n",
    "df = planmaster_date_to_datetime(df, columns=['planaccdate', 'movementdate']) \n",
    "date_fix(df, date_cols) # convert to datetime\n",
    "\n",
    "print(df['CurrentDate'].min(), df['CurrentDate'].max())\n",
    "print(df['movementdate'].min(), df['movementdate'].max())\n",
    "print(df['planaccdate'].min(), df['planaccdate'].max())"
   ]
  },
  {
   "cell_type": "code",
   "execution_count": null,
   "metadata": {},
   "outputs": [],
   "source": [
    "# # Convert to Int\n",
    "# for col in ['ClaimPast1YearCount', 'ClaimPast3YearCount', 'ClaimPast5YearCount', 'PlanLiveCount', 'PlansAcceptedPast1YearCount', 'PlansAcceptedPast5YearCount', 'PlansActivePast1yrCount', 'PlansActivePast5yrCount', 'PlansCancelledPast1YearCount', 'PlansCancelledPast5YearCount']:\n",
    "#     df[col]= df[col].astype('Int64')\n",
    "    \n",
    "# Convert to Datetime\n",
    "# df['CurrentDate'] = pd.to_datetime(df['CurrentDate']) \n",
    "# df['PurchaseDate'] = pd.to_datetime(df['PurchaseDate'])\n",
    "\n",
    "# Convert to String\n",
    "for i in ['ClientGroupCode', 'ClientCode']:\n",
    "    df[i] = np.where(df[i].isna(), df[i], df[i].astype('string'))\n",
    "    print(i, ':', df[i].isna().sum(), df[i].dtypes)\n",
    "    # print(dif.get_othernulls_count(df[i]))\n",
    "# df.astype({\"PmhId\":str,\"PerhId\":str ,\"ClientGroupCode\": str,  \"ClientCode\": str})\n",
    "\n",
    "# Create new features\n",
    "df['HasPrevRTPPrice'] = np.where(df['PrevRTPPriceType'].isna(), 'N', 'Y')\n",
    "df['AppAge'] = (df['CurrentDate'] - df['PurchaseDate']) / np.timedelta64(1, 'D')\n",
    "# df['AppAge'] = np.where(pd.to_datetime(df['CurrentDate'])>=pd.to_datetime(df['PurchaseDate']),(pd.to_datetime(df['CurrentDate']) - pd.to_datetime(df['PurchaseDate'])) / np.timedelta64(1, 'D'), np.nan)\n",
    "# df['AppAge'] = df['AppAge'].fillna(df['item_age'].mean())\n",
    "df['relFee'] = df['Fee']/ df['PurchasePrice']\n",
    "df['relFeeInc'] = df['price_diff']/ df['PurchasePrice']\n",
    "df['PaymentType']= 'DD'\n",
    "\n",
    "# Impute Counts in Pricing Table\n",
    "to_impute = ['PlanLiveCount', 'PlansActivePast1yrCount',\n",
    "       'PlansActivePast5yrCount', 'PlansAcceptedPast1YearCount',\n",
    "       'PlansAcceptedPast5YearCount', 'PlansCancelledPast1YearCount',\n",
    "       'PlansCancelledPast5YearCount', 'ClaimPast1YearCount',\n",
    "       'ClaimPast3YearCount', 'ClaimPast5YearCount',\n",
    "       'ClaimAmount1YearTotal', 'ClaimAmount3YearTotal', 'ClaimAmount5YearTotal']\n",
    "\n",
    "df[to_impute] = df[to_impute].fillna(0)\n"
   ]
  },
  {
   "cell_type": "code",
   "execution_count": null,
   "metadata": {},
   "outputs": [],
   "source": [
    "# convert count columns to integer\n",
    "count_cols = list(df.columns[df.columns.str.lower().str.contains('count')])\n",
    "count_cols"
   ]
  },
  {
   "cell_type": "code",
   "execution_count": null,
   "metadata": {},
   "outputs": [],
   "source": [
    "count_cols.remove('ClientAccountDesc')\n",
    "df[count_cols] = df[count_cols].astype(int)\n",
    "df[count_cols].info()"
   ]
  },
  {
   "cell_type": "code",
   "execution_count": null,
   "metadata": {},
   "outputs": [],
   "source": [
    "df = hf.drop_columns(df, drop_list)"
   ]
  },
  {
   "cell_type": "markdown",
   "metadata": {},
   "source": [
    "## Basic Statistics\n",
    "<a id='stats'></a>"
   ]
  },
  {
   "cell_type": "code",
   "execution_count": null,
   "metadata": {},
   "outputs": [],
   "source": [
    "#dtypes\n",
    "x= df.dtypes.to_frame().reset_index()\n",
    "x.columns = ['ColName', 'dtype']\n",
    "x= x.sort_values(by= 'ColName')\n",
    "\n",
    "#missing\n",
    "y= df.isna().sum().to_frame().reset_index()\n",
    "y.columns = ['ColName', 'Na_rows']\n",
    "y= y.sort_values(by= 'ColName')\n",
    "\n",
    "#describe\n",
    "d= df.describe(percentiles= [.1, .9, .95, .975]).T.reset_index()\n",
    "d.columns = ['ColName', 'count', 'mean', 'std', 'min', '10%', '50%', '90%', '95%', '97.5%', 'max']\n",
    "d= d.sort_values(by= 'ColName')\n",
    "\n",
    "#join\n",
    "z= x.merge(y, on= 'ColName', how= 'left').merge(d, on='ColName', how= 'left')\n",
    "z['N'] = df.shape[0]\n",
    "z['Na_miss_rate'] = (z['Na_rows'] / z['N']) * 100\n",
    "\n",
    "z['dtype'] = z['dtype'].astype('str')\n",
    "\n",
    "fltr= z['dtype'].isin(['float64'])\n",
    "z.style.format('{:,.2f}', subset=['mean', 'std', 'min', '10%', '50%', '90%', '95%', '97.5%', 'max', 'Na_miss_rate']).format('{:,.0f}', subset=['N', 'Na_rows', 'count'])"
   ]
  },
  {
   "cell_type": "markdown",
   "metadata": {},
   "source": [
    "## Single Value & Null Columns\n",
    "<a id='singlenull'></a>"
   ]
  },
  {
   "cell_type": "code",
   "execution_count": null,
   "metadata": {},
   "outputs": [],
   "source": [
    "# split columns by type\n",
    "categorical_cols, integer_cols, float_cols, date_cols, unidentified_cols = hf.cat_num_split(df)\n",
    "\n",
    "# count unique values\n",
    "feature_uniques_count, low_cardinality_features_unique_values= bsp.unique_count(df[categorical_cols])\n",
    "\n",
    "# Single value categorical columns\n",
    "single_val = list([key for key, value in feature_uniques_count.items() if value == 1 ])\n",
    "single_val.remove('PaymentType')\n",
    "\n",
    "#drop single value categorical cols\n",
    "df = hf.drop_columns(df, single_val)\n",
    "\n",
    "# drop single value numerical columns\n",
    "df = hf.drop_columns(df,['rec_status', 'PredictedConversionRate'])\n",
    "\n",
    "# null columns\n",
    "na_count = df.apply(dint.get_nulls_count)\n",
    "null_cols = na_count[na_count.values>=80].index\n",
    "null_cols\n",
    "\n",
    "# drop cols with >80% nulls\n",
    "df = hf.drop_columns(df, null_cols)"
   ]
  },
  {
   "cell_type": "markdown",
   "metadata": {},
   "source": [
    "## Categorical Features\n",
    "<a id='catfeat'></a>"
   ]
  },
  {
   "cell_type": "code",
   "execution_count": null,
   "metadata": {},
   "outputs": [],
   "source": [
    "# reduce cardinality of certain categorical features\n",
    "\n",
    "cat_features = [f for f in df.select_dtypes(include=['object']).columns.sort_values() if f not in ['CurrentDate', 'PurchaseDate', 'ons_postcode_sector', 'PerPostalAddrPostCode', 'RouteToMarketName', 'PrevRTPPriceType', 'SchemeTypeName', 'planaccdate', 'movementdate']]\n",
    "id_cols = ['offerreferencenumber', 'itemeventuserid', 'ModelId']\n",
    "postcode_cols = ['personaddresspostcode', 'offerpostcode', 'Postcode_Sector']"
   ]
  },
  {
   "cell_type": "code",
   "execution_count": null,
   "metadata": {},
   "outputs": [],
   "source": [
    "to_group = list(set(cat_features) - set(id_cols) - set(postcode_cols))\n",
    "for i in to_group:\n",
    "    print(f'{i}:{df[i].nunique()}')"
   ]
  },
  {
   "cell_type": "code",
   "execution_count": null,
   "metadata": {},
   "outputs": [],
   "source": [
    "group_low_freq(df=df, lst= to_group, pct=2.5) # regroup very low frequency classes\n",
    "for i in to_group:\n",
    "    print(f'{i}:{df[i].nunique()}')"
   ]
  },
  {
   "cell_type": "code",
   "execution_count": null,
   "metadata": {},
   "outputs": [],
   "source": [
    "df_dedup[df_dedup['requested_clientaccountdesc']=='HSBC'].shape[0]/df_dedup.shape[0]"
   ]
  },
  {
   "cell_type": "code",
   "execution_count": null,
   "metadata": {},
   "outputs": [],
   "source": [
    "df[df['ClientAccountDesc']=='HSBC'].shape[0]"
   ]
  },
  {
   "cell_type": "code",
   "execution_count": null,
   "metadata": {},
   "outputs": [],
   "source": [
    "categorical_cols, integer_cols, float_cols, date_cols, unidentified_cols = hf.cat_num_split(df)\n",
    "categorical_cols"
   ]
  },
  {
   "cell_type": "code",
   "execution_count": null,
   "metadata": {},
   "outputs": [],
   "source": [
    "#strip whitespace in categorical columns\n",
    "for i in list(set(categorical_cols) - set(date_cols)):\n",
    "    if (df[i].isna().any()):\n",
    "        break\n",
    "    print(i)\n",
    "    df[i] = df[i].apply(lambda x: str(x).replace(\" \", \"\").upper())\n",
    "\n",
    "# find na's\n",
    "cat_nulls = df[categorical_cols].apply(dint.get_nulls_count)\n",
    "cat_to_impute = list(cat_nulls[cat_nulls.values>0].index)\n",
    "\n",
    "# impute na's\n",
    "df[cat_to_impute]=df[cat_to_impute].apply(lambda x: x.fillna(x.mode().iloc[0]))"
   ]
  },
  {
   "cell_type": "code",
   "execution_count": null,
   "metadata": {},
   "outputs": [],
   "source": [
    "df['Postcode_Sector'] = df['Postcode_Sector'].apply(lambda x: str(x).replace(\" \", \"\").upper())\n",
    "df['Postcode_Sector'].head()"
   ]
  },
  {
   "cell_type": "markdown",
   "metadata": {},
   "source": [
    "## Numerical Features\n",
    "<a id='numfeat'></a>"
   ]
  },
  {
   "cell_type": "code",
   "execution_count": null,
   "metadata": {},
   "outputs": [],
   "source": [
    "num_features = [f for f in df.select_dtypes(include=['int32', 'int64', 'float64']).columns.sort_values() if f not in ['planno']]\n",
    "\n",
    "# capping by quantile\n",
    "\n",
    "# for col in num_features:\n",
    "#     df[col]= df[col].clip(upper= np.quantile(df[col], q= 0.95))\n",
    "#     df[col]= df[col].clip(lower= np.quantile(df[col], q= 0.05))\n",
    "\n",
    "# float cols\n",
    "float_nulls = df[float_cols].apply(dint.get_nulls_count)\n",
    "float_null_cols = list(float_nulls[float_nulls.values>0].index)\n",
    "# replace missing offertotalprice with Fee\n",
    "df['offertotalprice'] = df['offertotalprice'].fillna(df['Fee'])\n",
    "float_null_cols.remove('offertotalprice')\n",
    "\n",
    "# integer cols\n",
    "integer_nulls = df[integer_cols].apply(dint.get_nulls_count)\n",
    "integer_null_cols = integer_nulls[integer_nulls.values>0].index\n",
    "\n",
    "num_to_impute = list(float_null_cols)+list(integer_null_cols)\n",
    "\n",
    "# num imputation \n",
    "df[num_to_impute]= di.impute_mean(df, num_to_impute, 'ClientGroupCode')"
   ]
  },
  {
   "cell_type": "code",
   "execution_count": null,
   "metadata": {},
   "outputs": [],
   "source": [
    "# date cols\n",
    "df[date_cols].apply(dint.get_nulls_count)"
   ]
  },
  {
   "cell_type": "markdown",
   "metadata": {},
   "source": [
    "## Date Features\n",
    "<a id='datefeat'></a>"
   ]
  },
  {
   "cell_type": "markdown",
   "metadata": {},
   "source": [
    "### Feature Engineering"
   ]
  },
  {
   "cell_type": "code",
   "execution_count": null,
   "metadata": {},
   "outputs": [],
   "source": [
    "df['planaccdate'].head()"
   ]
  },
  {
   "cell_type": "code",
   "execution_count": null,
   "metadata": {},
   "outputs": [],
   "source": [
    "# Convert to Datetime\n",
    "df['planaccdate'] = pd.to_datetime(df['planaccdate']) \n",
    "df['movementdate'] = pd.to_datetime(df['movementdate'])\n",
    "\n",
    "# df[date_cols].apply(lambda x: x.dt.date)"
   ]
  },
  {
   "cell_type": "code",
   "execution_count": null,
   "metadata": {},
   "outputs": [],
   "source": [
    "# month-year column\n",
    "# df_dedup['offermonthyear'] = df_dedup['CurrentDate'].dt.to_period('M')\n",
    "df['startmonthyear'] = df['planaccdate'].dt.to_period('M')\n",
    "df['contractmonthyear'] = df['movementdate'].dt.to_period('M')\n",
    "\n",
    "# month name column\n",
    "# df_dedup['offereventmonth'] = df_dedup['CurrentDate'].dt.month_name()\n",
    "df['startmonth'] = df['planaccdate'].dt.month_name()\n",
    "df['contractmonth'] = df['movementdate'].dt.month_name()\n"
   ]
  },
  {
   "cell_type": "code",
   "execution_count": null,
   "metadata": {},
   "outputs": [],
   "source": [
    "# calculate contract tenure\n",
    "final_date = df['movementdate'].max()\n",
    "df['contract_age']= np.where(df['contractstatuscode']=='C', (df['movementdate']-df['planaccdate'])/np.timedelta64(1, 'M'), (final_date-df['planaccdate'])/np.timedelta64(1, 'M'))\n",
    "df[df['contract_age']<0].shape\n",
    "# df_dedup.drop('contract_age', axis=1, inplace=True)"
   ]
  },
  {
   "cell_type": "code",
   "execution_count": null,
   "metadata": {},
   "outputs": [],
   "source": [
    "x1 = df[df['contractstatuscode']=='C']['contract_age']\n",
    "x2 = df[df['contractstatuscode']!='C']['contract_age']\n",
    "kwargs = dict(histtype='stepfilled', alpha=0.3, bins=20)\n",
    "plt.hist(x1.values, **kwargs, label = \"Yes\")\n",
    "plt.hist(x2.values, **kwargs, label = \"No\")\n",
    "plt.xlabel(\"Tenure in Months\")\n",
    "plt.ylabel(\"Number of Plans\")\n",
    "plt.title(\"Number of Plans by Tenure\")\n",
    "plt.legend(title='Cancelled')\n",
    "plt.show()"
   ]
  },
  {
   "cell_type": "markdown",
   "metadata": {},
   "source": [
    "## Target Variable: Cancellation Flag\n",
    "<a id='target'></a>"
   ]
  },
  {
   "cell_type": "code",
   "execution_count": null,
   "metadata": {},
   "outputs": [],
   "source": [
    "# create target variable for the model\n",
    "df['cancelflag']=np.where(df['contractstatuscode']=='C', 1, 0)\n",
    "df['cancelflag'].sum(), df.shape"
   ]
  },
  {
   "cell_type": "code",
   "execution_count": null,
   "metadata": {},
   "outputs": [],
   "source": [
    "df_raw1 = df.copy()"
   ]
  },
  {
   "cell_type": "markdown",
   "metadata": {},
   "source": [
    "# Merge with Geovariable\n",
    "<a id='section3'></a>"
   ]
  },
  {
   "cell_type": "code",
   "execution_count": null,
   "metadata": {},
   "outputs": [],
   "source": [
    "telreg = df_raw1.copy()"
   ]
  },
  {
   "cell_type": "code",
   "execution_count": null,
   "metadata": {},
   "outputs": [],
   "source": [
    "conn1 = dg_s3.Connect('dgdatadump/DS&CA/Reference Files/ONS/Processed')\n",
    "geo_df = conn1.read('Earnix_Geo_Look_Up_by_PC.csv')"
   ]
  },
  {
   "cell_type": "code",
   "execution_count": null,
   "metadata": {},
   "outputs": [],
   "source": [
    "all_features = geo_df.columns\n",
    "\n",
    "ons_feats = all_features[all_features.str.contains('ONS_')]\n",
    "ons_feats = ons_feats.to_list()\n",
    "\n",
    "hpi_feats =['HPI_AveragePrice', 'HPI_SalesVolume']\n",
    "\n",
    "geo_feats = hpi_feats + ons_feats\n",
    "geo_feats.remove('ONS_postcode_sector')\n",
    "geo_feats.remove('ONS_Unnamed: 0')"
   ]
  },
  {
   "cell_type": "markdown",
   "metadata": {},
   "source": [
    "## Merge\n",
    "<a id=\"merge\"></a>"
   ]
  },
  {
   "cell_type": "code",
   "execution_count": null,
   "metadata": {},
   "outputs": [],
   "source": [
    "# merge \n",
    "telreg_merged = telreg.merge(geo_df, how='left', left_on='offerpostcode', right_on='pcds')\n",
    "\n",
    "# dedup\n",
    "telreg_dedup = telreg_merged.drop_duplicates(subset=['offerreferencenumber'], keep='first')\n",
    "\n",
    "telreg_dedup.drop('ONS_Unnamed: 0', inplace=True, axis=1)"
   ]
  },
  {
   "cell_type": "markdown",
   "metadata": {},
   "source": [
    "## Impute\n",
    "<a id='imp'></a>"
   ]
  },
  {
   "cell_type": "code",
   "execution_count": null,
   "metadata": {},
   "outputs": [],
   "source": [
    "# 1st, impute by LAD_name\n",
    "for i in geo_feats:\n",
    "    telreg_geo_imputed = hf.num_imputation(telreg_dedup, i, 'LAD_name')\n",
    "# 2nd, impute by region \n",
    "for i in geo_feats:\n",
    "    telreg_geo_imputed = hf.num_imputation(telreg_geo_imputed, i, 'region')\n",
    "# 3rd, impute by country\n",
    "for i in geo_feats:\n",
    "    telreg_geo_imputed = hf.num_imputation(telreg_geo_imputed, i, 'country')\n",
    "# 4th, impute with overall mean \n",
    "for i in geo_feats:\n",
    "    telreg_geo_imputed[i].fillna(telreg_geo_imputed[i].mean(skipna = True), inplace = True)\n",
    "    \n",
    "# check for missing values in geo_feats\n",
    "for col in geo_feats:\n",
    "    print(f'{col}: {telreg_geo_imputed[col].isna().sum()}')"
   ]
  },
  {
   "cell_type": "markdown",
   "metadata": {},
   "source": [
    "## Drop Postcode Columns\n",
    "<a id='droppc'></a>"
   ]
  },
  {
   "cell_type": "code",
   "execution_count": null,
   "metadata": {},
   "outputs": [],
   "source": [
    "postcode_cols = parameters.postcode_cols\n",
    "\n",
    "# remove postcode cols except Postcode_Sector (live feature)\n",
    "telreg_geo_imputed = hf.drop_columns(telreg_geo_imputed, postcode_cols)"
   ]
  },
  {
   "cell_type": "code",
   "execution_count": null,
   "metadata": {},
   "outputs": [],
   "source": [
    "df_raw2 = telreg_geo_imputed.copy()"
   ]
  },
  {
   "cell_type": "markdown",
   "metadata": {},
   "source": [
    "## Binning, Capping & Outlier Treatment\n",
    "<a id='bin'></a>"
   ]
  },
  {
   "cell_type": "code",
   "execution_count": null,
   "metadata": {},
   "outputs": [],
   "source": [
    "# inspect numerical feats\n",
    "\n",
    "bsp.num_plotchart(df_raw2, float_cols)"
   ]
  },
  {
   "cell_type": "markdown",
   "metadata": {},
   "source": [
    "### Item Age"
   ]
  },
  {
   "cell_type": "code",
   "execution_count": null,
   "metadata": {},
   "outputs": [],
   "source": [
    "bsp.grouped_num_kde(df_raw2, 'AppAge', 'cancelflag')"
   ]
  },
  {
   "cell_type": "code",
   "execution_count": null,
   "metadata": {},
   "outputs": [],
   "source": [
    "df_raw2.columns"
   ]
  },
  {
   "cell_type": "code",
   "execution_count": null,
   "metadata": {},
   "outputs": [],
   "source": [
    "num_plot_no_pred(df_raw2, ['AppAge'], 1, 1, 'cancelflag', 'offertotalprice', nbins=10, target_lim = None)"
   ]
  },
  {
   "cell_type": "markdown",
   "metadata": {},
   "source": [
    "### Purchase Price"
   ]
  },
  {
   "cell_type": "code",
   "execution_count": null,
   "metadata": {},
   "outputs": [],
   "source": [
    "df = df_raw2.copy()\n",
    "\n",
    "# cap price\n",
    "df = df[df['PurchasePrice'] <= 1500]"
   ]
  },
  {
   "cell_type": "code",
   "execution_count": null,
   "metadata": {},
   "outputs": [],
   "source": [
    "# ClaimPast5YearCount capped below 20\n",
    "bsp.grouped_num_kde(df[df['ClaimPast5YearCount']<20], 'ClaimPast5YearCount', 'ClientGroupCode')"
   ]
  },
  {
   "cell_type": "code",
   "execution_count": null,
   "metadata": {},
   "outputs": [],
   "source": [
    "# cap claims\n",
    "\n",
    "df = df[df['ClaimPast5YearCount']<=10]"
   ]
  },
  {
   "cell_type": "markdown",
   "metadata": {},
   "source": [
    "## Outlier Treatment\n",
    "<a id='out'></a>"
   ]
  },
  {
   "cell_type": "code",
   "execution_count": null,
   "metadata": {},
   "outputs": [],
   "source": [
    "# remove outliers \n",
    "\n",
    "for i in ['PurchasePrice','ClaimAmount5YearTotal', 'PlansCancelledPast5YearCount', 'PlansActivePast1yrCount', 'PlansAcceptedPast5YearCount', 'PlansAcceptedPast1YearCount', 'AppAge', 'PlanLiveCount'\n",
    "]:    \n",
    "    df_filt = df[~df[i].isin(dif.findoutliers(df[i]))]\n",
    "\n",
    "df_filt.shape"
   ]
  },
  {
   "cell_type": "code",
   "execution_count": null,
   "metadata": {},
   "outputs": [],
   "source": [
    "df_filt[['PeriodOfCover', 'PaymentType']].head()"
   ]
  },
  {
   "cell_type": "code",
   "execution_count": null,
   "metadata": {},
   "outputs": [],
   "source": [
    "conn_s3.write(df_filt, 'TelReg_Canx_dedup.csv')"
   ]
  },
  {
   "cell_type": "code",
   "execution_count": null,
   "metadata": {},
   "outputs": [],
   "source": [
    "df_filt[['Postcode_Sector','personaddresspostcode']].head()"
   ]
  }
 ],
 "metadata": {
  "kernelspec": {
   "display_name": "Python 3.9.7 ('base')",
   "language": "python",
   "name": "python3"
  },
  "language_info": {
   "codemirror_mode": {
    "name": "ipython",
    "version": 3
   },
   "file_extension": ".py",
   "mimetype": "text/x-python",
   "name": "python",
   "nbconvert_exporter": "python",
   "pygments_lexer": "ipython3",
   "version": "3.9.7"
  },
  "vscode": {
   "interpreter": {
    "hash": "caf1c2fcf97217de91eafa76b907d50f9ea378f5ffbee7f571142d119bb6a771"
   }
  }
 },
 "nbformat": 4,
 "nbformat_minor": 4
}
