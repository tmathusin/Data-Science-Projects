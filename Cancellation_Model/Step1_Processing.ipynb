{
 "cells": [
  {
   "cell_type": "code",
   "execution_count": 1,
   "metadata": {},
   "outputs": [
    {
     "name": "stdout",
     "output_type": "stream",
     "text": [
      "pandas version:1.3.4\n",
      "numpy version:1.20.3\n",
      "h2o version:3.36.0.4\n",
      "sklearn version:1.1.2\n"
     ]
    }
   ],
   "source": [
    "\n",
    "# Reloading\n",
    "%reload_ext autoreload\n",
    "%autoreload 2\n",
    "\n",
    "import pandas as pd\n",
    "print('pandas version:{}'.format(pd.__version__))\n",
    "import numpy as np\n",
    "print('numpy version:{}'.format(np.__version__))\n",
    "import math\n",
    "from datetime import datetime\n",
    "from dgpylib import dg_athena\n",
    "from dgpylib import dg_s3\n",
    "import os\n",
    "import re\n",
    "from matplotlib.ticker import MaxNLocator\n",
    "from matplotlib import pyplot as plt\n",
    "import seaborn as sns\n",
    "from datetime import timedelta\n",
    "from dateutil.relativedelta import relativedelta\n",
    "\n",
    "import sys\n",
    "sys.path.insert(0, '../Modelling')\n",
    "import helper_function2 as hf\n",
    "\n",
    "import sys\n",
    "sys.path.insert(0, '../EDA')\n",
    "import data_integrity_fixer as dint\n",
    "import basicstatsandplotter as bsp\n",
    "import data_imputer as di\n",
    "import data_integrity_fixer as dif\n",
    "import parameters\n",
    "\n",
    "##for modelling\n",
    "import h2o\n",
    "print('h2o version:{}'.format(h2o.__version__))\n",
    "from h2o.estimators import H2OXGBoostEstimator\n",
    "from h2o.grid.grid_search import H2OGridSearch\n",
    "from h2o.estimators.glm import H2OGeneralizedLinearEstimator\n",
    "from h2o.estimators import H2OTargetEncoderEstimator\n",
    "from h2o.estimators import H2ORandomForestEstimator\n",
    "from h2o.estimators import H2OGradientBoostingEstimator\n",
    "from h2o.tree import H2OTree\n",
    "from h2o.tree import H2ONode\n",
    "from h2o.tree import H2OSplitNode\n",
    "from h2o.tree import H2OLeafNode\n",
    "from h2o.estimators.kmeans import H2OKMeansEstimator\n",
    "\n",
    "#import xgboost as xgb\n",
    "import sklearn\n",
    "import category_encoders as ce\n",
    "print('sklearn version:{}'.format(sklearn.__version__))\n",
    "from sklearn import datasets\n",
    "from sklearn.metrics import mean_squared_error\n",
    "from sklearn import preprocessing\n",
    "from sklearn.model_selection import RandomizedSearchCV, GridSearchCV\n",
    "from sklearn.metrics import roc_auc_score\n",
    "from sklearn.model_selection import StratifiedKFold\n",
    "from datetime import datetime\n",
    "from sklearn.model_selection import train_test_split\n",
    "from sklearn.metrics import classification_report\n",
    "from sklearn.metrics import r2_score\n",
    "from sklearn.preprocessing import PowerTransformer\n",
    "import time\n",
    "import parameters\n",
    "from statsmodels.stats.outliers_influence import variance_inflation_factor\n",
    "\n",
    "%run 'functions.ipynb'\n",
    "\n",
    "plt.rcParams['figure.figsize'] = [10, 5]\n",
    "plt.rcParams['figure.dpi'] = 100"
   ]
  },
  {
   "cell_type": "markdown",
   "metadata": {},
   "source": [
    "# Pre-Processing \n",
    "<a id=\"section1\"></a>"
   ]
  },
  {
   "cell_type": "code",
   "execution_count": 2,
   "metadata": {},
   "outputs": [],
   "source": [
    "pd.set_option('display.max_columns', None)\n",
    "pd.set_option('display.max_rows', None)"
   ]
  },
  {
   "cell_type": "code",
   "execution_count": 24,
   "metadata": {},
   "outputs": [
    {
     "name": "stdout",
     "output_type": "stream",
     "text": [
      "(751582, 92)\n",
      "1210102 1220818\n",
      "1210101 1220817\n"
     ]
    }
   ],
   "source": [
    "conn_s3 = dg_s3.Connect('dgdatadump/DS&CA/Pricing/02 Projects/2022/Tel_Reg_2.0/Cancellation Model')\n",
    "df_raw = conn_s3.read('TelReg_Cancellation_Planmaster.csv')\n",
    "print(df_raw.shape)\n",
    "print(df_raw['movementdate'].min(), df_raw['movementdate'].max())\n",
    "print(df_raw['planaccdate'].min(), df_raw['planaccdate'].max())"
   ]
  },
  {
   "cell_type": "code",
   "execution_count": 27,
   "metadata": {},
   "outputs": [
    {
     "data": {
      "text/plain": [
       "['offerreferencenumber',\n",
       " 'offereffectivedatetime',\n",
       " 'offereffectiveweek',\n",
       " 'offeracceptedprice',\n",
       " 'offerbusinesseventcode',\n",
       " 'offerpostcode',\n",
       " 'offeracceptedindicator',\n",
       " 'sale',\n",
       " 'offertotalprice',\n",
       " 'persongoldencopyid',\n",
       " 'itemgoldencopyid',\n",
       " 'itemeventuserid',\n",
       " 'contractcreateddate',\n",
       " 'contractstatuscode',\n",
       " 'contractcompanycode',\n",
       " 'contractschemecode',\n",
       " 'contractnumber',\n",
       " 'contractstatusname',\n",
       " 'contractenddate',\n",
       " 'contractmovementdate',\n",
       " 'contractoriginalstartdate',\n",
       " 'contractdimensionid',\n",
       " 'contracteventdatetime',\n",
       " 'itemcategoryname',\n",
       " 'itemsupercategorycode',\n",
       " 'itemgoodscategoryname',\n",
       " 'manufacturerbrandname',\n",
       " 'manufacturergroupname',\n",
       " 'itemmodelnumber',\n",
       " 'itempurchaseprice',\n",
       " 'itempurchasedatetime',\n",
       " 'itemlocationpostcode',\n",
       " 'personaddresspostcode',\n",
       " 'planno',\n",
       " 'gross',\n",
       " 'planaccdate',\n",
       " 'rec_status',\n",
       " 'planstatus',\n",
       " 'cocode',\n",
       " 'schcode',\n",
       " 'movementdate',\n",
       " 'PmhId',\n",
       " 'TotalPrice',\n",
       " 'PeriodOfCover',\n",
       " 'PricingVersionDescription',\n",
       " 'PredictedConversionRate',\n",
       " 'ModelId',\n",
       " 'PerhId',\n",
       " 'requested_purchasedate',\n",
       " 'requested_purchaprice',\n",
       " 'requested_fee',\n",
       " 'requested_retentionflag',\n",
       " 'requested_planlivecount',\n",
       " 'requested_plansactivepastoneyearcount',\n",
       " 'requested_plansactivepastfiveyearcount',\n",
       " 'requested_plansacceptedpastoneyearcount',\n",
       " 'requested_plansacceptedpastfiveyearcount',\n",
       " 'requested_planscancelledpastoneyearcount',\n",
       " 'requested_planscancelledpastfiveyearcount',\n",
       " 'requested_claimpastoneyearcount',\n",
       " 'requested_claimpastthreeyearcount',\n",
       " 'requested_claimpastfiveyearcount',\n",
       " 'requested_claimamountoneyeartotal',\n",
       " 'requested_claimamountthreeyeartotal',\n",
       " 'requested_claimamountfiveyeartotal',\n",
       " 'requested_prevrtppricetype',\n",
       " 'requested_buseventcode',\n",
       " 'requested_itemgoodscatcode',\n",
       " 'requested_clientgroupdesc',\n",
       " 'requested_schemetypename',\n",
       " 'requested_clientaccountdesc',\n",
       " 'requested_routetomarketname',\n",
       " 'requested_companycode',\n",
       " 'requested_schemecode',\n",
       " 'requested_manugteeperiodlabourmonths',\n",
       " 'requested_manugteeperiodpartsmonths',\n",
       " 'requested_itemcode',\n",
       " 'requested_clientgroupcode',\n",
       " 'requested_clientcode',\n",
       " 'requested_itemmanufbrandcode',\n",
       " 'requested_perpostaladdrpostcode',\n",
       " 'persongoldencopyid_dup',\n",
       " 'itemcategoryname_dup',\n",
       " 'manufacturerbrandname_dup',\n",
       " 'itemlocationpostcode_dup',\n",
       " 'itemmodelnumber_dup',\n",
       " 'itemmodelnumber_imputed',\n",
       " 'itemdiamondcopyid_imputed',\n",
       " 'itemdiamondcopyid',\n",
       " 'price_diff',\n",
       " 'offersourcereceiveddatetime',\n",
       " 'price_band']"
      ]
     },
     "execution_count": 27,
     "metadata": {},
     "output_type": "execute_result"
    }
   ],
   "source": [
    "df_raw.columns.to_list()"
   ]
  },
  {
   "cell_type": "code",
   "execution_count": 31,
   "metadata": {},
   "outputs": [
    {
     "data": {
      "text/html": [
       "<div>\n",
       "<style scoped>\n",
       "    .dataframe tbody tr th:only-of-type {\n",
       "        vertical-align: middle;\n",
       "    }\n",
       "\n",
       "    .dataframe tbody tr th {\n",
       "        vertical-align: top;\n",
       "    }\n",
       "\n",
       "    .dataframe thead th {\n",
       "        text-align: right;\n",
       "    }\n",
       "</style>\n",
       "<table border=\"1\" class=\"dataframe\">\n",
       "  <thead>\n",
       "    <tr style=\"text-align: right;\">\n",
       "      <th></th>\n",
       "      <th>schcode</th>\n",
       "      <th>cocode</th>\n",
       "      <th>planno</th>\n",
       "      <th>planaccdate</th>\n",
       "      <th>movementdate</th>\n",
       "      <th>gross</th>\n",
       "      <th>offertotalprice</th>\n",
       "    </tr>\n",
       "  </thead>\n",
       "  <tbody>\n",
       "    <tr>\n",
       "      <th>4</th>\n",
       "      <td>BNG</td>\n",
       "      <td>D</td>\n",
       "      <td>108951</td>\n",
       "      <td>1210605</td>\n",
       "      <td>1210809</td>\n",
       "      <td>49.72</td>\n",
       "      <td>54.24</td>\n",
       "    </tr>\n",
       "    <tr>\n",
       "      <th>8</th>\n",
       "      <td>BAN</td>\n",
       "      <td>D</td>\n",
       "      <td>6606</td>\n",
       "      <td>1220119</td>\n",
       "      <td>1220308</td>\n",
       "      <td>49.39</td>\n",
       "      <td>53.88</td>\n",
       "    </tr>\n",
       "    <tr>\n",
       "      <th>10</th>\n",
       "      <td>BNJ</td>\n",
       "      <td>D</td>\n",
       "      <td>263715</td>\n",
       "      <td>1220110</td>\n",
       "      <td>1220117</td>\n",
       "      <td>65.04</td>\n",
       "      <td>65.04</td>\n",
       "    </tr>\n",
       "    <tr>\n",
       "      <th>19</th>\n",
       "      <td>BNG</td>\n",
       "      <td>D</td>\n",
       "      <td>120591</td>\n",
       "      <td>1210907</td>\n",
       "      <td>1211101</td>\n",
       "      <td>47.16</td>\n",
       "      <td>47.16</td>\n",
       "    </tr>\n",
       "    <tr>\n",
       "      <th>22</th>\n",
       "      <td>AT1</td>\n",
       "      <td>D</td>\n",
       "      <td>73340</td>\n",
       "      <td>1220520</td>\n",
       "      <td>1220607</td>\n",
       "      <td>61.20</td>\n",
       "      <td>61.20</td>\n",
       "    </tr>\n",
       "  </tbody>\n",
       "</table>\n",
       "</div>"
      ],
      "text/plain": [
       "   schcode cocode  planno  planaccdate  movementdate  gross  offertotalprice\n",
       "4      BNG      D  108951      1210605       1210809  49.72            54.24\n",
       "8      BAN      D    6606      1220119       1220308  49.39            53.88\n",
       "10     BNJ      D  263715      1220110       1220117  65.04            65.04\n",
       "19     BNG      D  120591      1210907       1211101  47.16            47.16\n",
       "22     AT1      D   73340      1220520       1220607  61.20            61.20"
      ]
     },
     "execution_count": 31,
     "metadata": {},
     "output_type": "execute_result"
    }
   ],
   "source": [
    "df_raw[df_raw.contractstatuscode=='C'][['schcode', 'cocode', 'planno', 'planaccdate', 'movementdate', 'gross', 'offertotalprice']].head()"
   ]
  },
  {
   "cell_type": "markdown",
   "metadata": {},
   "source": [
    "## Preliminary Filters\n",
    "<a id='prefilt'></a>"
   ]
  },
  {
   "cell_type": "code",
   "execution_count": 4,
   "metadata": {},
   "outputs": [],
   "source": [
    "# keep only POC == 12 months\n",
    "df_raw =  df_raw[df_raw['PeriodOfCover']==12]\n",
    "\n",
    "# filter out Sky, Heating\n",
    "df_raw = df_raw[(df_raw['manufacturerbrandname']!='SKY')&(df_raw['itemgoodscategoryname']!='HEATING')]\n",
    "df_raw.shape\n",
    "\n",
    "df_raw = df_raw.loc[df_raw.PricingVersionDescription != 'TEST']"
   ]
  },
  {
   "cell_type": "markdown",
   "metadata": {},
   "source": [
    "## Dedup\n",
    "<a id='dedup'></a>"
   ]
  },
  {
   "cell_type": "code",
   "execution_count": 5,
   "metadata": {},
   "outputs": [
    {
     "data": {
      "text/plain": [
       "((721573, 92), (726675, 92))"
      ]
     },
     "execution_count": 5,
     "metadata": {},
     "output_type": "execute_result"
    }
   ],
   "source": [
    "# check duplicate offers\n",
    "df_raw[df_raw.duplicated(subset='offerreferencenumber')].shape\n",
    "\n",
    "# dedup offers\n",
    "df_dedup = df_raw.drop_duplicates(subset='offerreferencenumber', keep='first')\n",
    "df_dedup.shape, df_raw.shape"
   ]
  },
  {
   "cell_type": "markdown",
   "metadata": {},
   "source": [
    "## Rename & Drop Columns\n",
    "<a id='rename'></a>"
   ]
  },
  {
   "cell_type": "code",
   "execution_count": 6,
   "metadata": {},
   "outputs": [],
   "source": [
    "rename_list = parameters.rename_list\n",
    "drop_list = parameters.drop_list"
   ]
  },
  {
   "cell_type": "code",
   "execution_count": 7,
   "metadata": {},
   "outputs": [
    {
     "data": {
      "text/plain": [
       "((721573, 45), (726675, 92))"
      ]
     },
     "execution_count": 7,
     "metadata": {},
     "output_type": "execute_result"
    }
   ],
   "source": [
    "df = df_dedup.copy()\n",
    "df.rename(columns=rename_list, inplace=True)\n",
    "df = hf.drop_columns(df, drop_list)\n",
    "\n",
    "df.shape, df_raw.shape"
   ]
  },
  {
   "cell_type": "markdown",
   "metadata": {},
   "source": []
  },
  {
   "cell_type": "markdown",
   "metadata": {},
   "source": [
    "## Data Formatting\n",
    "<a id='form'></a>"
   ]
  },
  {
   "cell_type": "code",
   "execution_count": 8,
   "metadata": {},
   "outputs": [
    {
     "name": "stdout",
     "output_type": "stream",
     "text": [
      "2021-01-01 00:00:00 2022-08-01 00:00:00\n",
      "2021-01-02 00:00:00 2022-08-18 00:00:00\n",
      "2021-01-01 00:00:00 2022-08-17 00:00:00\n"
     ]
    }
   ],
   "source": [
    "# dates\n",
    "\n",
    "date_cols = df.columns[df.columns.str.lower().str.contains('date')]\n",
    "\n",
    "# convert planmaster to datetime string\n",
    "df = planmaster_date_to_datetime(df, columns=['planaccdate', 'movementdate']) \n",
    "date_fix(df, date_cols) # convert to datetime\n",
    "\n",
    "print(df['CurrentDate'].min(), df['CurrentDate'].max())\n",
    "print(df['movementdate'].min(), df['movementdate'].max())\n",
    "print(df['planaccdate'].min(), df['planaccdate'].max())"
   ]
  },
  {
   "cell_type": "code",
   "execution_count": 9,
   "metadata": {},
   "outputs": [
    {
     "name": "stdout",
     "output_type": "stream",
     "text": [
      "ClientGroupCode : 198153 object\n",
      "ClientCode : 198153 object\n"
     ]
    }
   ],
   "source": [
    "# # Convert to Int\n",
    "# for col in ['ClaimPast1YearCount', 'ClaimPast3YearCount', 'ClaimPast5YearCount', 'PlanLiveCount', 'PlansAcceptedPast1YearCount', 'PlansAcceptedPast5YearCount', 'PlansActivePast1yrCount', 'PlansActivePast5yrCount', 'PlansCancelledPast1YearCount', 'PlansCancelledPast5YearCount']:\n",
    "#     df[col]= df[col].astype('Int64')\n",
    "    \n",
    "# Convert to Datetime\n",
    "# df['CurrentDate'] = pd.to_datetime(df['CurrentDate']) \n",
    "# df['PurchaseDate'] = pd.to_datetime(df['PurchaseDate'])\n",
    "\n",
    "# Convert to String\n",
    "for i in ['ClientGroupCode', 'ClientCode']:\n",
    "    df[i] = np.where(df[i].isna(), df[i], df[i].astype('string'))\n",
    "    print(i, ':', df[i].isna().sum(), df[i].dtypes)\n",
    "    # print(dif.get_othernulls_count(df[i]))\n",
    "# df.astype({\"PmhId\":str,\"PerhId\":str ,\"ClientGroupCode\": str,  \"ClientCode\": str})\n",
    "\n",
    "# Create new features\n",
    "df['HasPrevRTPPrice'] = np.where(df['PrevRTPPriceType'].isna(), 'N', 'Y')\n",
    "df['AppAge'] = (df['CurrentDate'] - df['PurchaseDate']) / np.timedelta64(1, 'D')\n",
    "# df['AppAge'] = np.where(pd.to_datetime(df['CurrentDate'])>=pd.to_datetime(df['PurchaseDate']),(pd.to_datetime(df['CurrentDate']) - pd.to_datetime(df['PurchaseDate'])) / np.timedelta64(1, 'D'), np.nan)\n",
    "# df['AppAge'] = df['AppAge'].fillna(df['item_age'].mean())\n",
    "df['relFee'] = df['Fee']/ df['PurchasePrice']\n",
    "df['relFeeInc'] = df['price_diff']/ df['PurchasePrice']\n",
    "df['PaymentType']= 'DD'\n",
    "\n",
    "# Impute Counts in Pricing Table\n",
    "to_impute = ['PlanLiveCount', 'PlansActivePast1yrCount',\n",
    "       'PlansActivePast5yrCount', 'PlansAcceptedPast1YearCount',\n",
    "       'PlansAcceptedPast5YearCount', 'PlansCancelledPast1YearCount',\n",
    "       'PlansCancelledPast5YearCount', 'ClaimPast1YearCount',\n",
    "       'ClaimPast3YearCount', 'ClaimPast5YearCount',\n",
    "       'ClaimAmount1YearTotal', 'ClaimAmount3YearTotal', 'ClaimAmount5YearTotal']\n",
    "\n",
    "df[to_impute] = df[to_impute].fillna(0)\n"
   ]
  },
  {
   "cell_type": "code",
   "execution_count": 10,
   "metadata": {},
   "outputs": [
    {
     "data": {
      "text/plain": [
       "['PlanLiveCount',\n",
       " 'PlansActivePast1yrCount',\n",
       " 'PlansActivePast5yrCount',\n",
       " 'PlansAcceptedPast1YearCount',\n",
       " 'PlansAcceptedPast5YearCount',\n",
       " 'PlansCancelledPast1YearCount',\n",
       " 'PlansCancelledPast5YearCount',\n",
       " 'ClaimPast1YearCount',\n",
       " 'ClaimPast3YearCount',\n",
       " 'ClaimPast5YearCount',\n",
       " 'ClientAccountDesc']"
      ]
     },
     "execution_count": 10,
     "metadata": {},
     "output_type": "execute_result"
    }
   ],
   "source": [
    "# convert count columns to integer\n",
    "count_cols = list(df.columns[df.columns.str.lower().str.contains('count')])\n",
    "count_cols"
   ]
  },
  {
   "cell_type": "code",
   "execution_count": 11,
   "metadata": {},
   "outputs": [
    {
     "name": "stdout",
     "output_type": "stream",
     "text": [
      "<class 'pandas.core.frame.DataFrame'>\n",
      "Int64Index: 721573 entries, 1 to 751581\n",
      "Data columns (total 10 columns):\n",
      " #   Column                        Non-Null Count   Dtype\n",
      "---  ------                        --------------   -----\n",
      " 0   PlanLiveCount                 721573 non-null  int64\n",
      " 1   PlansActivePast1yrCount       721573 non-null  int64\n",
      " 2   PlansActivePast5yrCount       721573 non-null  int64\n",
      " 3   PlansAcceptedPast1YearCount   721573 non-null  int64\n",
      " 4   PlansAcceptedPast5YearCount   721573 non-null  int64\n",
      " 5   PlansCancelledPast1YearCount  721573 non-null  int64\n",
      " 6   PlansCancelledPast5YearCount  721573 non-null  int64\n",
      " 7   ClaimPast1YearCount           721573 non-null  int64\n",
      " 8   ClaimPast3YearCount           721573 non-null  int64\n",
      " 9   ClaimPast5YearCount           721573 non-null  int64\n",
      "dtypes: int64(10)\n",
      "memory usage: 60.6 MB\n"
     ]
    }
   ],
   "source": [
    "count_cols.remove('ClientAccountDesc')\n",
    "df[count_cols] = df[count_cols].astype(int)\n",
    "df[count_cols].info()"
   ]
  },
  {
   "cell_type": "code",
   "execution_count": 12,
   "metadata": {},
   "outputs": [],
   "source": [
    "df = hf.drop_columns(df, drop_list)"
   ]
  },
  {
   "cell_type": "markdown",
   "metadata": {},
   "source": [
    "## Basic Statistics\n",
    "<a id='stats'></a>"
   ]
  },
  {
   "cell_type": "code",
   "execution_count": 13,
   "metadata": {},
   "outputs": [
    {
     "data": {
      "text/html": [
       "<style type=\"text/css\">\n",
       "</style>\n",
       "<table id=\"T_39766_\">\n",
       "  <thead>\n",
       "    <tr>\n",
       "      <th class=\"blank level0\" >&nbsp;</th>\n",
       "      <th class=\"col_heading level0 col0\" >ColName</th>\n",
       "      <th class=\"col_heading level0 col1\" >dtype</th>\n",
       "      <th class=\"col_heading level0 col2\" >Na_rows</th>\n",
       "      <th class=\"col_heading level0 col3\" >count</th>\n",
       "      <th class=\"col_heading level0 col4\" >mean</th>\n",
       "      <th class=\"col_heading level0 col5\" >std</th>\n",
       "      <th class=\"col_heading level0 col6\" >min</th>\n",
       "      <th class=\"col_heading level0 col7\" >10%</th>\n",
       "      <th class=\"col_heading level0 col8\" >50%</th>\n",
       "      <th class=\"col_heading level0 col9\" >90%</th>\n",
       "      <th class=\"col_heading level0 col10\" >95%</th>\n",
       "      <th class=\"col_heading level0 col11\" >97.5%</th>\n",
       "      <th class=\"col_heading level0 col12\" >max</th>\n",
       "      <th class=\"col_heading level0 col13\" >N</th>\n",
       "      <th class=\"col_heading level0 col14\" >Na_miss_rate</th>\n",
       "    </tr>\n",
       "  </thead>\n",
       "  <tbody>\n",
       "    <tr>\n",
       "      <th id=\"T_39766_level0_row0\" class=\"row_heading level0 row0\" >0</th>\n",
       "      <td id=\"T_39766_row0_col0\" class=\"data row0 col0\" >AppAge</td>\n",
       "      <td id=\"T_39766_row0_col1\" class=\"data row0 col1\" >float64</td>\n",
       "      <td id=\"T_39766_row0_col2\" class=\"data row0 col2\" >198,153</td>\n",
       "      <td id=\"T_39766_row0_col3\" class=\"data row0 col3\" >523,420</td>\n",
       "      <td id=\"T_39766_row0_col4\" class=\"data row0 col4\" >107.61</td>\n",
       "      <td id=\"T_39766_row0_col5\" class=\"data row0 col5\" >189.65</td>\n",
       "      <td id=\"T_39766_row0_col6\" class=\"data row0 col6\" >0.00</td>\n",
       "      <td id=\"T_39766_row0_col7\" class=\"data row0 col7\" >0.00</td>\n",
       "      <td id=\"T_39766_row0_col8\" class=\"data row0 col8\" >14.00</td>\n",
       "      <td id=\"T_39766_row0_col9\" class=\"data row0 col9\" >365.00</td>\n",
       "      <td id=\"T_39766_row0_col10\" class=\"data row0 col10\" >549.05</td>\n",
       "      <td id=\"T_39766_row0_col11\" class=\"data row0 col11\" >731.00</td>\n",
       "      <td id=\"T_39766_row0_col12\" class=\"data row0 col12\" >1,217.00</td>\n",
       "      <td id=\"T_39766_row0_col13\" class=\"data row0 col13\" >721,573</td>\n",
       "      <td id=\"T_39766_row0_col14\" class=\"data row0 col14\" >27.46</td>\n",
       "    </tr>\n",
       "    <tr>\n",
       "      <th id=\"T_39766_level0_row1\" class=\"row_heading level0 row1\" >1</th>\n",
       "      <td id=\"T_39766_row1_col0\" class=\"data row1 col0\" >ApplianceCode</td>\n",
       "      <td id=\"T_39766_row1_col1\" class=\"data row1 col1\" >object</td>\n",
       "      <td id=\"T_39766_row1_col2\" class=\"data row1 col2\" >198,153</td>\n",
       "      <td id=\"T_39766_row1_col3\" class=\"data row1 col3\" >nan</td>\n",
       "      <td id=\"T_39766_row1_col4\" class=\"data row1 col4\" >nan</td>\n",
       "      <td id=\"T_39766_row1_col5\" class=\"data row1 col5\" >nan</td>\n",
       "      <td id=\"T_39766_row1_col6\" class=\"data row1 col6\" >nan</td>\n",
       "      <td id=\"T_39766_row1_col7\" class=\"data row1 col7\" >nan</td>\n",
       "      <td id=\"T_39766_row1_col8\" class=\"data row1 col8\" >nan</td>\n",
       "      <td id=\"T_39766_row1_col9\" class=\"data row1 col9\" >nan</td>\n",
       "      <td id=\"T_39766_row1_col10\" class=\"data row1 col10\" >nan</td>\n",
       "      <td id=\"T_39766_row1_col11\" class=\"data row1 col11\" >nan</td>\n",
       "      <td id=\"T_39766_row1_col12\" class=\"data row1 col12\" >nan</td>\n",
       "      <td id=\"T_39766_row1_col13\" class=\"data row1 col13\" >721,573</td>\n",
       "      <td id=\"T_39766_row1_col14\" class=\"data row1 col14\" >27.46</td>\n",
       "    </tr>\n",
       "    <tr>\n",
       "      <th id=\"T_39766_level0_row2\" class=\"row_heading level0 row2\" >2</th>\n",
       "      <td id=\"T_39766_row2_col0\" class=\"data row2 col0\" >ClaimAmount1YearTotal</td>\n",
       "      <td id=\"T_39766_row2_col1\" class=\"data row2 col1\" >float64</td>\n",
       "      <td id=\"T_39766_row2_col2\" class=\"data row2 col2\" >0</td>\n",
       "      <td id=\"T_39766_row2_col3\" class=\"data row2 col3\" >721,573</td>\n",
       "      <td id=\"T_39766_row2_col4\" class=\"data row2 col4\" >38.67</td>\n",
       "      <td id=\"T_39766_row2_col5\" class=\"data row2 col5\" >168.53</td>\n",
       "      <td id=\"T_39766_row2_col6\" class=\"data row2 col6\" >0.00</td>\n",
       "      <td id=\"T_39766_row2_col7\" class=\"data row2 col7\" >0.00</td>\n",
       "      <td id=\"T_39766_row2_col8\" class=\"data row2 col8\" >0.00</td>\n",
       "      <td id=\"T_39766_row2_col9\" class=\"data row2 col9\" >85.03</td>\n",
       "      <td id=\"T_39766_row2_col10\" class=\"data row2 col10\" >223.57</td>\n",
       "      <td id=\"T_39766_row2_col11\" class=\"data row2 col11\" >428.08</td>\n",
       "      <td id=\"T_39766_row2_col12\" class=\"data row2 col12\" >9,198.77</td>\n",
       "      <td id=\"T_39766_row2_col13\" class=\"data row2 col13\" >721,573</td>\n",
       "      <td id=\"T_39766_row2_col14\" class=\"data row2 col14\" >0.00</td>\n",
       "    </tr>\n",
       "    <tr>\n",
       "      <th id=\"T_39766_level0_row3\" class=\"row_heading level0 row3\" >3</th>\n",
       "      <td id=\"T_39766_row3_col0\" class=\"data row3 col0\" >ClaimAmount3YearTotal</td>\n",
       "      <td id=\"T_39766_row3_col1\" class=\"data row3 col1\" >float64</td>\n",
       "      <td id=\"T_39766_row3_col2\" class=\"data row3 col2\" >0</td>\n",
       "      <td id=\"T_39766_row3_col3\" class=\"data row3 col3\" >721,573</td>\n",
       "      <td id=\"T_39766_row3_col4\" class=\"data row3 col4\" >93.11</td>\n",
       "      <td id=\"T_39766_row3_col5\" class=\"data row3 col5\" >351.13</td>\n",
       "      <td id=\"T_39766_row3_col6\" class=\"data row3 col6\" >-254.84</td>\n",
       "      <td id=\"T_39766_row3_col7\" class=\"data row3 col7\" >0.00</td>\n",
       "      <td id=\"T_39766_row3_col8\" class=\"data row3 col8\" >0.00</td>\n",
       "      <td id=\"T_39766_row3_col9\" class=\"data row3 col9\" >253.42</td>\n",
       "      <td id=\"T_39766_row3_col10\" class=\"data row3 col10\" >561.78</td>\n",
       "      <td id=\"T_39766_row3_col11\" class=\"data row3 col11\" >953.48</td>\n",
       "      <td id=\"T_39766_row3_col12\" class=\"data row3 col12\" >17,209.60</td>\n",
       "      <td id=\"T_39766_row3_col13\" class=\"data row3 col13\" >721,573</td>\n",
       "      <td id=\"T_39766_row3_col14\" class=\"data row3 col14\" >0.00</td>\n",
       "    </tr>\n",
       "    <tr>\n",
       "      <th id=\"T_39766_level0_row4\" class=\"row_heading level0 row4\" >4</th>\n",
       "      <td id=\"T_39766_row4_col0\" class=\"data row4 col0\" >ClaimAmount5YearTotal</td>\n",
       "      <td id=\"T_39766_row4_col1\" class=\"data row4 col1\" >float64</td>\n",
       "      <td id=\"T_39766_row4_col2\" class=\"data row4 col2\" >0</td>\n",
       "      <td id=\"T_39766_row4_col3\" class=\"data row4 col3\" >721,573</td>\n",
       "      <td id=\"T_39766_row4_col4\" class=\"data row4 col4\" >132.97</td>\n",
       "      <td id=\"T_39766_row4_col5\" class=\"data row4 col5\" >474.49</td>\n",
       "      <td id=\"T_39766_row4_col6\" class=\"data row4 col6\" >-7,127.94</td>\n",
       "      <td id=\"T_39766_row4_col7\" class=\"data row4 col7\" >0.00</td>\n",
       "      <td id=\"T_39766_row4_col8\" class=\"data row4 col8\" >0.00</td>\n",
       "      <td id=\"T_39766_row4_col9\" class=\"data row4 col9\" >373.83</td>\n",
       "      <td id=\"T_39766_row4_col10\" class=\"data row4 col10\" >805.03</td>\n",
       "      <td id=\"T_39766_row4_col11\" class=\"data row4 col11\" >1,318.17</td>\n",
       "      <td id=\"T_39766_row4_col12\" class=\"data row4 col12\" >22,468.61</td>\n",
       "      <td id=\"T_39766_row4_col13\" class=\"data row4 col13\" >721,573</td>\n",
       "      <td id=\"T_39766_row4_col14\" class=\"data row4 col14\" >0.00</td>\n",
       "    </tr>\n",
       "    <tr>\n",
       "      <th id=\"T_39766_level0_row5\" class=\"row_heading level0 row5\" >5</th>\n",
       "      <td id=\"T_39766_row5_col0\" class=\"data row5 col0\" >ClaimPast1YearCount</td>\n",
       "      <td id=\"T_39766_row5_col1\" class=\"data row5 col1\" >int64</td>\n",
       "      <td id=\"T_39766_row5_col2\" class=\"data row5 col2\" >0</td>\n",
       "      <td id=\"T_39766_row5_col3\" class=\"data row5 col3\" >721,573</td>\n",
       "      <td id=\"T_39766_row5_col4\" class=\"data row5 col4\" >0.30</td>\n",
       "      <td id=\"T_39766_row5_col5\" class=\"data row5 col5\" >1.07</td>\n",
       "      <td id=\"T_39766_row5_col6\" class=\"data row5 col6\" >0.00</td>\n",
       "      <td id=\"T_39766_row5_col7\" class=\"data row5 col7\" >0.00</td>\n",
       "      <td id=\"T_39766_row5_col8\" class=\"data row5 col8\" >0.00</td>\n",
       "      <td id=\"T_39766_row5_col9\" class=\"data row5 col9\" >1.00</td>\n",
       "      <td id=\"T_39766_row5_col10\" class=\"data row5 col10\" >2.00</td>\n",
       "      <td id=\"T_39766_row5_col11\" class=\"data row5 col11\" >3.00</td>\n",
       "      <td id=\"T_39766_row5_col12\" class=\"data row5 col12\" >54.00</td>\n",
       "      <td id=\"T_39766_row5_col13\" class=\"data row5 col13\" >721,573</td>\n",
       "      <td id=\"T_39766_row5_col14\" class=\"data row5 col14\" >0.00</td>\n",
       "    </tr>\n",
       "    <tr>\n",
       "      <th id=\"T_39766_level0_row6\" class=\"row_heading level0 row6\" >6</th>\n",
       "      <td id=\"T_39766_row6_col0\" class=\"data row6 col0\" >ClaimPast3YearCount</td>\n",
       "      <td id=\"T_39766_row6_col1\" class=\"data row6 col1\" >int64</td>\n",
       "      <td id=\"T_39766_row6_col2\" class=\"data row6 col2\" >0</td>\n",
       "      <td id=\"T_39766_row6_col3\" class=\"data row6 col3\" >721,573</td>\n",
       "      <td id=\"T_39766_row6_col4\" class=\"data row6 col4\" >0.75</td>\n",
       "      <td id=\"T_39766_row6_col5\" class=\"data row6 col5\" >2.43</td>\n",
       "      <td id=\"T_39766_row6_col6\" class=\"data row6 col6\" >0.00</td>\n",
       "      <td id=\"T_39766_row6_col7\" class=\"data row6 col7\" >0.00</td>\n",
       "      <td id=\"T_39766_row6_col8\" class=\"data row6 col8\" >0.00</td>\n",
       "      <td id=\"T_39766_row6_col9\" class=\"data row6 col9\" >2.00</td>\n",
       "      <td id=\"T_39766_row6_col10\" class=\"data row6 col10\" >5.00</td>\n",
       "      <td id=\"T_39766_row6_col11\" class=\"data row6 col11\" >7.00</td>\n",
       "      <td id=\"T_39766_row6_col12\" class=\"data row6 col12\" >124.00</td>\n",
       "      <td id=\"T_39766_row6_col13\" class=\"data row6 col13\" >721,573</td>\n",
       "      <td id=\"T_39766_row6_col14\" class=\"data row6 col14\" >0.00</td>\n",
       "    </tr>\n",
       "    <tr>\n",
       "      <th id=\"T_39766_level0_row7\" class=\"row_heading level0 row7\" >7</th>\n",
       "      <td id=\"T_39766_row7_col0\" class=\"data row7 col0\" >ClaimPast5YearCount</td>\n",
       "      <td id=\"T_39766_row7_col1\" class=\"data row7 col1\" >int64</td>\n",
       "      <td id=\"T_39766_row7_col2\" class=\"data row7 col2\" >0</td>\n",
       "      <td id=\"T_39766_row7_col3\" class=\"data row7 col3\" >721,573</td>\n",
       "      <td id=\"T_39766_row7_col4\" class=\"data row7 col4\" >1.11</td>\n",
       "      <td id=\"T_39766_row7_col5\" class=\"data row7 col5\" >3.50</td>\n",
       "      <td id=\"T_39766_row7_col6\" class=\"data row7 col6\" >0.00</td>\n",
       "      <td id=\"T_39766_row7_col7\" class=\"data row7 col7\" >0.00</td>\n",
       "      <td id=\"T_39766_row7_col8\" class=\"data row7 col8\" >0.00</td>\n",
       "      <td id=\"T_39766_row7_col9\" class=\"data row7 col9\" >4.00</td>\n",
       "      <td id=\"T_39766_row7_col10\" class=\"data row7 col10\" >7.00</td>\n",
       "      <td id=\"T_39766_row7_col11\" class=\"data row7 col11\" >11.00</td>\n",
       "      <td id=\"T_39766_row7_col12\" class=\"data row7 col12\" >181.00</td>\n",
       "      <td id=\"T_39766_row7_col13\" class=\"data row7 col13\" >721,573</td>\n",
       "      <td id=\"T_39766_row7_col14\" class=\"data row7 col14\" >0.00</td>\n",
       "    </tr>\n",
       "    <tr>\n",
       "      <th id=\"T_39766_level0_row8\" class=\"row_heading level0 row8\" >8</th>\n",
       "      <td id=\"T_39766_row8_col0\" class=\"data row8 col0\" >ClientAccountDesc</td>\n",
       "      <td id=\"T_39766_row8_col1\" class=\"data row8 col1\" >object</td>\n",
       "      <td id=\"T_39766_row8_col2\" class=\"data row8 col2\" >198,153</td>\n",
       "      <td id=\"T_39766_row8_col3\" class=\"data row8 col3\" >nan</td>\n",
       "      <td id=\"T_39766_row8_col4\" class=\"data row8 col4\" >nan</td>\n",
       "      <td id=\"T_39766_row8_col5\" class=\"data row8 col5\" >nan</td>\n",
       "      <td id=\"T_39766_row8_col6\" class=\"data row8 col6\" >nan</td>\n",
       "      <td id=\"T_39766_row8_col7\" class=\"data row8 col7\" >nan</td>\n",
       "      <td id=\"T_39766_row8_col8\" class=\"data row8 col8\" >nan</td>\n",
       "      <td id=\"T_39766_row8_col9\" class=\"data row8 col9\" >nan</td>\n",
       "      <td id=\"T_39766_row8_col10\" class=\"data row8 col10\" >nan</td>\n",
       "      <td id=\"T_39766_row8_col11\" class=\"data row8 col11\" >nan</td>\n",
       "      <td id=\"T_39766_row8_col12\" class=\"data row8 col12\" >nan</td>\n",
       "      <td id=\"T_39766_row8_col13\" class=\"data row8 col13\" >721,573</td>\n",
       "      <td id=\"T_39766_row8_col14\" class=\"data row8 col14\" >27.46</td>\n",
       "    </tr>\n",
       "    <tr>\n",
       "      <th id=\"T_39766_level0_row9\" class=\"row_heading level0 row9\" >9</th>\n",
       "      <td id=\"T_39766_row9_col0\" class=\"data row9 col0\" >ClientCode</td>\n",
       "      <td id=\"T_39766_row9_col1\" class=\"data row9 col1\" >object</td>\n",
       "      <td id=\"T_39766_row9_col2\" class=\"data row9 col2\" >198,153</td>\n",
       "      <td id=\"T_39766_row9_col3\" class=\"data row9 col3\" >nan</td>\n",
       "      <td id=\"T_39766_row9_col4\" class=\"data row9 col4\" >nan</td>\n",
       "      <td id=\"T_39766_row9_col5\" class=\"data row9 col5\" >nan</td>\n",
       "      <td id=\"T_39766_row9_col6\" class=\"data row9 col6\" >nan</td>\n",
       "      <td id=\"T_39766_row9_col7\" class=\"data row9 col7\" >nan</td>\n",
       "      <td id=\"T_39766_row9_col8\" class=\"data row9 col8\" >nan</td>\n",
       "      <td id=\"T_39766_row9_col9\" class=\"data row9 col9\" >nan</td>\n",
       "      <td id=\"T_39766_row9_col10\" class=\"data row9 col10\" >nan</td>\n",
       "      <td id=\"T_39766_row9_col11\" class=\"data row9 col11\" >nan</td>\n",
       "      <td id=\"T_39766_row9_col12\" class=\"data row9 col12\" >nan</td>\n",
       "      <td id=\"T_39766_row9_col13\" class=\"data row9 col13\" >721,573</td>\n",
       "      <td id=\"T_39766_row9_col14\" class=\"data row9 col14\" >27.46</td>\n",
       "    </tr>\n",
       "    <tr>\n",
       "      <th id=\"T_39766_level0_row10\" class=\"row_heading level0 row10\" >10</th>\n",
       "      <td id=\"T_39766_row10_col0\" class=\"data row10 col0\" >ClientGroupCode</td>\n",
       "      <td id=\"T_39766_row10_col1\" class=\"data row10 col1\" >object</td>\n",
       "      <td id=\"T_39766_row10_col2\" class=\"data row10 col2\" >198,153</td>\n",
       "      <td id=\"T_39766_row10_col3\" class=\"data row10 col3\" >nan</td>\n",
       "      <td id=\"T_39766_row10_col4\" class=\"data row10 col4\" >nan</td>\n",
       "      <td id=\"T_39766_row10_col5\" class=\"data row10 col5\" >nan</td>\n",
       "      <td id=\"T_39766_row10_col6\" class=\"data row10 col6\" >nan</td>\n",
       "      <td id=\"T_39766_row10_col7\" class=\"data row10 col7\" >nan</td>\n",
       "      <td id=\"T_39766_row10_col8\" class=\"data row10 col8\" >nan</td>\n",
       "      <td id=\"T_39766_row10_col9\" class=\"data row10 col9\" >nan</td>\n",
       "      <td id=\"T_39766_row10_col10\" class=\"data row10 col10\" >nan</td>\n",
       "      <td id=\"T_39766_row10_col11\" class=\"data row10 col11\" >nan</td>\n",
       "      <td id=\"T_39766_row10_col12\" class=\"data row10 col12\" >nan</td>\n",
       "      <td id=\"T_39766_row10_col13\" class=\"data row10 col13\" >721,573</td>\n",
       "      <td id=\"T_39766_row10_col14\" class=\"data row10 col14\" >27.46</td>\n",
       "    </tr>\n",
       "    <tr>\n",
       "      <th id=\"T_39766_level0_row11\" class=\"row_heading level0 row11\" >11</th>\n",
       "      <td id=\"T_39766_row11_col0\" class=\"data row11 col0\" >ClientGroupDesc</td>\n",
       "      <td id=\"T_39766_row11_col1\" class=\"data row11 col1\" >object</td>\n",
       "      <td id=\"T_39766_row11_col2\" class=\"data row11 col2\" >198,153</td>\n",
       "      <td id=\"T_39766_row11_col3\" class=\"data row11 col3\" >nan</td>\n",
       "      <td id=\"T_39766_row11_col4\" class=\"data row11 col4\" >nan</td>\n",
       "      <td id=\"T_39766_row11_col5\" class=\"data row11 col5\" >nan</td>\n",
       "      <td id=\"T_39766_row11_col6\" class=\"data row11 col6\" >nan</td>\n",
       "      <td id=\"T_39766_row11_col7\" class=\"data row11 col7\" >nan</td>\n",
       "      <td id=\"T_39766_row11_col8\" class=\"data row11 col8\" >nan</td>\n",
       "      <td id=\"T_39766_row11_col9\" class=\"data row11 col9\" >nan</td>\n",
       "      <td id=\"T_39766_row11_col10\" class=\"data row11 col10\" >nan</td>\n",
       "      <td id=\"T_39766_row11_col11\" class=\"data row11 col11\" >nan</td>\n",
       "      <td id=\"T_39766_row11_col12\" class=\"data row11 col12\" >nan</td>\n",
       "      <td id=\"T_39766_row11_col13\" class=\"data row11 col13\" >721,573</td>\n",
       "      <td id=\"T_39766_row11_col14\" class=\"data row11 col14\" >27.46</td>\n",
       "    </tr>\n",
       "    <tr>\n",
       "      <th id=\"T_39766_level0_row12\" class=\"row_heading level0 row12\" >12</th>\n",
       "      <td id=\"T_39766_row12_col0\" class=\"data row12 col0\" >CurrentDate</td>\n",
       "      <td id=\"T_39766_row12_col1\" class=\"data row12 col1\" >datetime64[ns]</td>\n",
       "      <td id=\"T_39766_row12_col2\" class=\"data row12 col2\" >0</td>\n",
       "      <td id=\"T_39766_row12_col3\" class=\"data row12 col3\" >nan</td>\n",
       "      <td id=\"T_39766_row12_col4\" class=\"data row12 col4\" >nan</td>\n",
       "      <td id=\"T_39766_row12_col5\" class=\"data row12 col5\" >nan</td>\n",
       "      <td id=\"T_39766_row12_col6\" class=\"data row12 col6\" >nan</td>\n",
       "      <td id=\"T_39766_row12_col7\" class=\"data row12 col7\" >nan</td>\n",
       "      <td id=\"T_39766_row12_col8\" class=\"data row12 col8\" >nan</td>\n",
       "      <td id=\"T_39766_row12_col9\" class=\"data row12 col9\" >nan</td>\n",
       "      <td id=\"T_39766_row12_col10\" class=\"data row12 col10\" >nan</td>\n",
       "      <td id=\"T_39766_row12_col11\" class=\"data row12 col11\" >nan</td>\n",
       "      <td id=\"T_39766_row12_col12\" class=\"data row12 col12\" >nan</td>\n",
       "      <td id=\"T_39766_row12_col13\" class=\"data row12 col13\" >721,573</td>\n",
       "      <td id=\"T_39766_row12_col14\" class=\"data row12 col14\" >0.00</td>\n",
       "    </tr>\n",
       "    <tr>\n",
       "      <th id=\"T_39766_level0_row13\" class=\"row_heading level0 row13\" >13</th>\n",
       "      <td id=\"T_39766_row13_col0\" class=\"data row13 col0\" >Fee</td>\n",
       "      <td id=\"T_39766_row13_col1\" class=\"data row13 col1\" >float64</td>\n",
       "      <td id=\"T_39766_row13_col2\" class=\"data row13 col2\" >198,153</td>\n",
       "      <td id=\"T_39766_row13_col3\" class=\"data row13 col3\" >523,420</td>\n",
       "      <td id=\"T_39766_row13_col4\" class=\"data row13 col4\" >46.34</td>\n",
       "      <td id=\"T_39766_row13_col5\" class=\"data row13 col5\" >12.59</td>\n",
       "      <td id=\"T_39766_row13_col6\" class=\"data row13 col6\" >18.00</td>\n",
       "      <td id=\"T_39766_row13_col7\" class=\"data row13 col7\" >33.24</td>\n",
       "      <td id=\"T_39766_row13_col8\" class=\"data row13 col8\" >43.32</td>\n",
       "      <td id=\"T_39766_row13_col9\" class=\"data row13 col9\" >63.60</td>\n",
       "      <td id=\"T_39766_row13_col10\" class=\"data row13 col10\" >66.48</td>\n",
       "      <td id=\"T_39766_row13_col11\" class=\"data row13 col11\" >71.52</td>\n",
       "      <td id=\"T_39766_row13_col12\" class=\"data row13 col12\" >362.76</td>\n",
       "      <td id=\"T_39766_row13_col13\" class=\"data row13 col13\" >721,573</td>\n",
       "      <td id=\"T_39766_row13_col14\" class=\"data row13 col14\" >27.46</td>\n",
       "    </tr>\n",
       "    <tr>\n",
       "      <th id=\"T_39766_level0_row14\" class=\"row_heading level0 row14\" >14</th>\n",
       "      <td id=\"T_39766_row14_col0\" class=\"data row14 col0\" >GoodsColour</td>\n",
       "      <td id=\"T_39766_row14_col1\" class=\"data row14 col1\" >object</td>\n",
       "      <td id=\"T_39766_row14_col2\" class=\"data row14 col2\" >198,153</td>\n",
       "      <td id=\"T_39766_row14_col3\" class=\"data row14 col3\" >nan</td>\n",
       "      <td id=\"T_39766_row14_col4\" class=\"data row14 col4\" >nan</td>\n",
       "      <td id=\"T_39766_row14_col5\" class=\"data row14 col5\" >nan</td>\n",
       "      <td id=\"T_39766_row14_col6\" class=\"data row14 col6\" >nan</td>\n",
       "      <td id=\"T_39766_row14_col7\" class=\"data row14 col7\" >nan</td>\n",
       "      <td id=\"T_39766_row14_col8\" class=\"data row14 col8\" >nan</td>\n",
       "      <td id=\"T_39766_row14_col9\" class=\"data row14 col9\" >nan</td>\n",
       "      <td id=\"T_39766_row14_col10\" class=\"data row14 col10\" >nan</td>\n",
       "      <td id=\"T_39766_row14_col11\" class=\"data row14 col11\" >nan</td>\n",
       "      <td id=\"T_39766_row14_col12\" class=\"data row14 col12\" >nan</td>\n",
       "      <td id=\"T_39766_row14_col13\" class=\"data row14 col13\" >721,573</td>\n",
       "      <td id=\"T_39766_row14_col14\" class=\"data row14 col14\" >27.46</td>\n",
       "    </tr>\n",
       "    <tr>\n",
       "      <th id=\"T_39766_level0_row15\" class=\"row_heading level0 row15\" >15</th>\n",
       "      <td id=\"T_39766_row15_col0\" class=\"data row15 col0\" >HasPrevRTPPrice</td>\n",
       "      <td id=\"T_39766_row15_col1\" class=\"data row15 col1\" >object</td>\n",
       "      <td id=\"T_39766_row15_col2\" class=\"data row15 col2\" >0</td>\n",
       "      <td id=\"T_39766_row15_col3\" class=\"data row15 col3\" >nan</td>\n",
       "      <td id=\"T_39766_row15_col4\" class=\"data row15 col4\" >nan</td>\n",
       "      <td id=\"T_39766_row15_col5\" class=\"data row15 col5\" >nan</td>\n",
       "      <td id=\"T_39766_row15_col6\" class=\"data row15 col6\" >nan</td>\n",
       "      <td id=\"T_39766_row15_col7\" class=\"data row15 col7\" >nan</td>\n",
       "      <td id=\"T_39766_row15_col8\" class=\"data row15 col8\" >nan</td>\n",
       "      <td id=\"T_39766_row15_col9\" class=\"data row15 col9\" >nan</td>\n",
       "      <td id=\"T_39766_row15_col10\" class=\"data row15 col10\" >nan</td>\n",
       "      <td id=\"T_39766_row15_col11\" class=\"data row15 col11\" >nan</td>\n",
       "      <td id=\"T_39766_row15_col12\" class=\"data row15 col12\" >nan</td>\n",
       "      <td id=\"T_39766_row15_col13\" class=\"data row15 col13\" >721,573</td>\n",
       "      <td id=\"T_39766_row15_col14\" class=\"data row15 col14\" >0.00</td>\n",
       "    </tr>\n",
       "    <tr>\n",
       "      <th id=\"T_39766_level0_row16\" class=\"row_heading level0 row16\" >16</th>\n",
       "      <td id=\"T_39766_row16_col0\" class=\"data row16 col0\" >ManufacturerBrandCode</td>\n",
       "      <td id=\"T_39766_row16_col1\" class=\"data row16 col1\" >object</td>\n",
       "      <td id=\"T_39766_row16_col2\" class=\"data row16 col2\" >198,153</td>\n",
       "      <td id=\"T_39766_row16_col3\" class=\"data row16 col3\" >nan</td>\n",
       "      <td id=\"T_39766_row16_col4\" class=\"data row16 col4\" >nan</td>\n",
       "      <td id=\"T_39766_row16_col5\" class=\"data row16 col5\" >nan</td>\n",
       "      <td id=\"T_39766_row16_col6\" class=\"data row16 col6\" >nan</td>\n",
       "      <td id=\"T_39766_row16_col7\" class=\"data row16 col7\" >nan</td>\n",
       "      <td id=\"T_39766_row16_col8\" class=\"data row16 col8\" >nan</td>\n",
       "      <td id=\"T_39766_row16_col9\" class=\"data row16 col9\" >nan</td>\n",
       "      <td id=\"T_39766_row16_col10\" class=\"data row16 col10\" >nan</td>\n",
       "      <td id=\"T_39766_row16_col11\" class=\"data row16 col11\" >nan</td>\n",
       "      <td id=\"T_39766_row16_col12\" class=\"data row16 col12\" >nan</td>\n",
       "      <td id=\"T_39766_row16_col13\" class=\"data row16 col13\" >721,573</td>\n",
       "      <td id=\"T_39766_row16_col14\" class=\"data row16 col14\" >27.46</td>\n",
       "    </tr>\n",
       "    <tr>\n",
       "      <th id=\"T_39766_level0_row17\" class=\"row_heading level0 row17\" >17</th>\n",
       "      <td id=\"T_39766_row17_col0\" class=\"data row17 col0\" >ManufacturerGuaranteeLabourMonths</td>\n",
       "      <td id=\"T_39766_row17_col1\" class=\"data row17 col1\" >float64</td>\n",
       "      <td id=\"T_39766_row17_col2\" class=\"data row17 col2\" >198,153</td>\n",
       "      <td id=\"T_39766_row17_col3\" class=\"data row17 col3\" >523,420</td>\n",
       "      <td id=\"T_39766_row17_col4\" class=\"data row17 col4\" >16.40</td>\n",
       "      <td id=\"T_39766_row17_col5\" class=\"data row17 col5\" >6.26</td>\n",
       "      <td id=\"T_39766_row17_col6\" class=\"data row17 col6\" >12.00</td>\n",
       "      <td id=\"T_39766_row17_col7\" class=\"data row17 col7\" >12.00</td>\n",
       "      <td id=\"T_39766_row17_col8\" class=\"data row17 col8\" >12.00</td>\n",
       "      <td id=\"T_39766_row17_col9\" class=\"data row17 col9\" >24.00</td>\n",
       "      <td id=\"T_39766_row17_col10\" class=\"data row17 col10\" >24.00</td>\n",
       "      <td id=\"T_39766_row17_col11\" class=\"data row17 col11\" >24.00</td>\n",
       "      <td id=\"T_39766_row17_col12\" class=\"data row17 col12\" >60.00</td>\n",
       "      <td id=\"T_39766_row17_col13\" class=\"data row17 col13\" >721,573</td>\n",
       "      <td id=\"T_39766_row17_col14\" class=\"data row17 col14\" >27.46</td>\n",
       "    </tr>\n",
       "    <tr>\n",
       "      <th id=\"T_39766_level0_row18\" class=\"row_heading level0 row18\" >18</th>\n",
       "      <td id=\"T_39766_row18_col0\" class=\"data row18 col0\" >ManufacturerGuaranteePartsMonths</td>\n",
       "      <td id=\"T_39766_row18_col1\" class=\"data row18 col1\" >float64</td>\n",
       "      <td id=\"T_39766_row18_col2\" class=\"data row18 col2\" >198,153</td>\n",
       "      <td id=\"T_39766_row18_col3\" class=\"data row18 col3\" >523,420</td>\n",
       "      <td id=\"T_39766_row18_col4\" class=\"data row18 col4\" >50.89</td>\n",
       "      <td id=\"T_39766_row18_col5\" class=\"data row18 col5\" >47.92</td>\n",
       "      <td id=\"T_39766_row18_col6\" class=\"data row18 col6\" >12.00</td>\n",
       "      <td id=\"T_39766_row18_col7\" class=\"data row18 col7\" >12.00</td>\n",
       "      <td id=\"T_39766_row18_col8\" class=\"data row18 col8\" >24.00</td>\n",
       "      <td id=\"T_39766_row18_col9\" class=\"data row18 col9\" >120.00</td>\n",
       "      <td id=\"T_39766_row18_col10\" class=\"data row18 col10\" >120.00</td>\n",
       "      <td id=\"T_39766_row18_col11\" class=\"data row18 col11\" >120.00</td>\n",
       "      <td id=\"T_39766_row18_col12\" class=\"data row18 col12\" >120.00</td>\n",
       "      <td id=\"T_39766_row18_col13\" class=\"data row18 col13\" >721,573</td>\n",
       "      <td id=\"T_39766_row18_col14\" class=\"data row18 col14\" >27.46</td>\n",
       "    </tr>\n",
       "    <tr>\n",
       "      <th id=\"T_39766_level0_row19\" class=\"row_heading level0 row19\" >19</th>\n",
       "      <td id=\"T_39766_row19_col0\" class=\"data row19 col0\" >PaymentType</td>\n",
       "      <td id=\"T_39766_row19_col1\" class=\"data row19 col1\" >object</td>\n",
       "      <td id=\"T_39766_row19_col2\" class=\"data row19 col2\" >0</td>\n",
       "      <td id=\"T_39766_row19_col3\" class=\"data row19 col3\" >nan</td>\n",
       "      <td id=\"T_39766_row19_col4\" class=\"data row19 col4\" >nan</td>\n",
       "      <td id=\"T_39766_row19_col5\" class=\"data row19 col5\" >nan</td>\n",
       "      <td id=\"T_39766_row19_col6\" class=\"data row19 col6\" >nan</td>\n",
       "      <td id=\"T_39766_row19_col7\" class=\"data row19 col7\" >nan</td>\n",
       "      <td id=\"T_39766_row19_col8\" class=\"data row19 col8\" >nan</td>\n",
       "      <td id=\"T_39766_row19_col9\" class=\"data row19 col9\" >nan</td>\n",
       "      <td id=\"T_39766_row19_col10\" class=\"data row19 col10\" >nan</td>\n",
       "      <td id=\"T_39766_row19_col11\" class=\"data row19 col11\" >nan</td>\n",
       "      <td id=\"T_39766_row19_col12\" class=\"data row19 col12\" >nan</td>\n",
       "      <td id=\"T_39766_row19_col13\" class=\"data row19 col13\" >721,573</td>\n",
       "      <td id=\"T_39766_row19_col14\" class=\"data row19 col14\" >0.00</td>\n",
       "    </tr>\n",
       "    <tr>\n",
       "      <th id=\"T_39766_level0_row20\" class=\"row_heading level0 row20\" >20</th>\n",
       "      <td id=\"T_39766_row20_col0\" class=\"data row20 col0\" >PeriodOfCover</td>\n",
       "      <td id=\"T_39766_row20_col1\" class=\"data row20 col1\" >float64</td>\n",
       "      <td id=\"T_39766_row20_col2\" class=\"data row20 col2\" >0</td>\n",
       "      <td id=\"T_39766_row20_col3\" class=\"data row20 col3\" >721,573</td>\n",
       "      <td id=\"T_39766_row20_col4\" class=\"data row20 col4\" >12.00</td>\n",
       "      <td id=\"T_39766_row20_col5\" class=\"data row20 col5\" >0.00</td>\n",
       "      <td id=\"T_39766_row20_col6\" class=\"data row20 col6\" >12.00</td>\n",
       "      <td id=\"T_39766_row20_col7\" class=\"data row20 col7\" >12.00</td>\n",
       "      <td id=\"T_39766_row20_col8\" class=\"data row20 col8\" >12.00</td>\n",
       "      <td id=\"T_39766_row20_col9\" class=\"data row20 col9\" >12.00</td>\n",
       "      <td id=\"T_39766_row20_col10\" class=\"data row20 col10\" >12.00</td>\n",
       "      <td id=\"T_39766_row20_col11\" class=\"data row20 col11\" >12.00</td>\n",
       "      <td id=\"T_39766_row20_col12\" class=\"data row20 col12\" >12.00</td>\n",
       "      <td id=\"T_39766_row20_col13\" class=\"data row20 col13\" >721,573</td>\n",
       "      <td id=\"T_39766_row20_col14\" class=\"data row20 col14\" >0.00</td>\n",
       "    </tr>\n",
       "    <tr>\n",
       "      <th id=\"T_39766_level0_row21\" class=\"row_heading level0 row21\" >21</th>\n",
       "      <td id=\"T_39766_row21_col0\" class=\"data row21 col0\" >PlanLiveCount</td>\n",
       "      <td id=\"T_39766_row21_col1\" class=\"data row21 col1\" >int64</td>\n",
       "      <td id=\"T_39766_row21_col2\" class=\"data row21 col2\" >0</td>\n",
       "      <td id=\"T_39766_row21_col3\" class=\"data row21 col3\" >721,573</td>\n",
       "      <td id=\"T_39766_row21_col4\" class=\"data row21 col4\" >0.73</td>\n",
       "      <td id=\"T_39766_row21_col5\" class=\"data row21 col5\" >1.88</td>\n",
       "      <td id=\"T_39766_row21_col6\" class=\"data row21 col6\" >0.00</td>\n",
       "      <td id=\"T_39766_row21_col7\" class=\"data row21 col7\" >0.00</td>\n",
       "      <td id=\"T_39766_row21_col8\" class=\"data row21 col8\" >0.00</td>\n",
       "      <td id=\"T_39766_row21_col9\" class=\"data row21 col9\" >2.00</td>\n",
       "      <td id=\"T_39766_row21_col10\" class=\"data row21 col10\" >4.00</td>\n",
       "      <td id=\"T_39766_row21_col11\" class=\"data row21 col11\" >6.00</td>\n",
       "      <td id=\"T_39766_row21_col12\" class=\"data row21 col12\" >218.00</td>\n",
       "      <td id=\"T_39766_row21_col13\" class=\"data row21 col13\" >721,573</td>\n",
       "      <td id=\"T_39766_row21_col14\" class=\"data row21 col14\" >0.00</td>\n",
       "    </tr>\n",
       "    <tr>\n",
       "      <th id=\"T_39766_level0_row22\" class=\"row_heading level0 row22\" >22</th>\n",
       "      <td id=\"T_39766_row22_col0\" class=\"data row22 col0\" >PlansAcceptedPast1YearCount</td>\n",
       "      <td id=\"T_39766_row22_col1\" class=\"data row22 col1\" >int64</td>\n",
       "      <td id=\"T_39766_row22_col2\" class=\"data row22 col2\" >0</td>\n",
       "      <td id=\"T_39766_row22_col3\" class=\"data row22 col3\" >721,573</td>\n",
       "      <td id=\"T_39766_row22_col4\" class=\"data row22 col4\" >0.42</td>\n",
       "      <td id=\"T_39766_row22_col5\" class=\"data row22 col5\" >2.18</td>\n",
       "      <td id=\"T_39766_row22_col6\" class=\"data row22 col6\" >0.00</td>\n",
       "      <td id=\"T_39766_row22_col7\" class=\"data row22 col7\" >0.00</td>\n",
       "      <td id=\"T_39766_row22_col8\" class=\"data row22 col8\" >0.00</td>\n",
       "      <td id=\"T_39766_row22_col9\" class=\"data row22 col9\" >1.00</td>\n",
       "      <td id=\"T_39766_row22_col10\" class=\"data row22 col10\" >2.00</td>\n",
       "      <td id=\"T_39766_row22_col11\" class=\"data row22 col11\" >4.00</td>\n",
       "      <td id=\"T_39766_row22_col12\" class=\"data row22 col12\" >935.00</td>\n",
       "      <td id=\"T_39766_row22_col13\" class=\"data row22 col13\" >721,573</td>\n",
       "      <td id=\"T_39766_row22_col14\" class=\"data row22 col14\" >0.00</td>\n",
       "    </tr>\n",
       "    <tr>\n",
       "      <th id=\"T_39766_level0_row23\" class=\"row_heading level0 row23\" >23</th>\n",
       "      <td id=\"T_39766_row23_col0\" class=\"data row23 col0\" >PlansAcceptedPast5YearCount</td>\n",
       "      <td id=\"T_39766_row23_col1\" class=\"data row23 col1\" >int64</td>\n",
       "      <td id=\"T_39766_row23_col2\" class=\"data row23 col2\" >0</td>\n",
       "      <td id=\"T_39766_row23_col3\" class=\"data row23 col3\" >721,573</td>\n",
       "      <td id=\"T_39766_row23_col4\" class=\"data row23 col4\" >1.54</td>\n",
       "      <td id=\"T_39766_row23_col5\" class=\"data row23 col5\" >7.69</td>\n",
       "      <td id=\"T_39766_row23_col6\" class=\"data row23 col6\" >0.00</td>\n",
       "      <td id=\"T_39766_row23_col7\" class=\"data row23 col7\" >0.00</td>\n",
       "      <td id=\"T_39766_row23_col8\" class=\"data row23 col8\" >0.00</td>\n",
       "      <td id=\"T_39766_row23_col9\" class=\"data row23 col9\" >5.00</td>\n",
       "      <td id=\"T_39766_row23_col10\" class=\"data row23 col10\" >8.00</td>\n",
       "      <td id=\"T_39766_row23_col11\" class=\"data row23 col11\" >12.00</td>\n",
       "      <td id=\"T_39766_row23_col12\" class=\"data row23 col12\" >5,461.00</td>\n",
       "      <td id=\"T_39766_row23_col13\" class=\"data row23 col13\" >721,573</td>\n",
       "      <td id=\"T_39766_row23_col14\" class=\"data row23 col14\" >0.00</td>\n",
       "    </tr>\n",
       "    <tr>\n",
       "      <th id=\"T_39766_level0_row24\" class=\"row_heading level0 row24\" >24</th>\n",
       "      <td id=\"T_39766_row24_col0\" class=\"data row24 col0\" >PlansActivePast1yrCount</td>\n",
       "      <td id=\"T_39766_row24_col1\" class=\"data row24 col1\" >int64</td>\n",
       "      <td id=\"T_39766_row24_col2\" class=\"data row24 col2\" >0</td>\n",
       "      <td id=\"T_39766_row24_col3\" class=\"data row24 col3\" >721,573</td>\n",
       "      <td id=\"T_39766_row24_col4\" class=\"data row24 col4\" >1.15</td>\n",
       "      <td id=\"T_39766_row24_col5\" class=\"data row24 col5\" >3.31</td>\n",
       "      <td id=\"T_39766_row24_col6\" class=\"data row24 col6\" >0.00</td>\n",
       "      <td id=\"T_39766_row24_col7\" class=\"data row24 col7\" >0.00</td>\n",
       "      <td id=\"T_39766_row24_col8\" class=\"data row24 col8\" >0.00</td>\n",
       "      <td id=\"T_39766_row24_col9\" class=\"data row24 col9\" >4.00</td>\n",
       "      <td id=\"T_39766_row24_col10\" class=\"data row24 col10\" >6.00</td>\n",
       "      <td id=\"T_39766_row24_col11\" class=\"data row24 col11\" >8.00</td>\n",
       "      <td id=\"T_39766_row24_col12\" class=\"data row24 col12\" >1,091.00</td>\n",
       "      <td id=\"T_39766_row24_col13\" class=\"data row24 col13\" >721,573</td>\n",
       "      <td id=\"T_39766_row24_col14\" class=\"data row24 col14\" >0.00</td>\n",
       "    </tr>\n",
       "    <tr>\n",
       "      <th id=\"T_39766_level0_row25\" class=\"row_heading level0 row25\" >25</th>\n",
       "      <td id=\"T_39766_row25_col0\" class=\"data row25 col0\" >PlansActivePast5yrCount</td>\n",
       "      <td id=\"T_39766_row25_col1\" class=\"data row25 col1\" >int64</td>\n",
       "      <td id=\"T_39766_row25_col2\" class=\"data row25 col2\" >0</td>\n",
       "      <td id=\"T_39766_row25_col3\" class=\"data row25 col3\" >721,573</td>\n",
       "      <td id=\"T_39766_row25_col4\" class=\"data row25 col4\" >2.06</td>\n",
       "      <td id=\"T_39766_row25_col5\" class=\"data row25 col5\" >9.66</td>\n",
       "      <td id=\"T_39766_row25_col6\" class=\"data row25 col6\" >0.00</td>\n",
       "      <td id=\"T_39766_row25_col7\" class=\"data row25 col7\" >0.00</td>\n",
       "      <td id=\"T_39766_row25_col8\" class=\"data row25 col8\" >0.00</td>\n",
       "      <td id=\"T_39766_row25_col9\" class=\"data row25 col9\" >7.00</td>\n",
       "      <td id=\"T_39766_row25_col10\" class=\"data row25 col10\" >11.00</td>\n",
       "      <td id=\"T_39766_row25_col11\" class=\"data row25 col11\" >15.00</td>\n",
       "      <td id=\"T_39766_row25_col12\" class=\"data row25 col12\" >6,978.00</td>\n",
       "      <td id=\"T_39766_row25_col13\" class=\"data row25 col13\" >721,573</td>\n",
       "      <td id=\"T_39766_row25_col14\" class=\"data row25 col14\" >0.00</td>\n",
       "    </tr>\n",
       "    <tr>\n",
       "      <th id=\"T_39766_level0_row26\" class=\"row_heading level0 row26\" >26</th>\n",
       "      <td id=\"T_39766_row26_col0\" class=\"data row26 col0\" >PlansCancelledPast1YearCount</td>\n",
       "      <td id=\"T_39766_row26_col1\" class=\"data row26 col1\" >int64</td>\n",
       "      <td id=\"T_39766_row26_col2\" class=\"data row26 col2\" >0</td>\n",
       "      <td id=\"T_39766_row26_col3\" class=\"data row26 col3\" >721,573</td>\n",
       "      <td id=\"T_39766_row26_col4\" class=\"data row26 col4\" >0.44</td>\n",
       "      <td id=\"T_39766_row26_col5\" class=\"data row26 col5\" >2.22</td>\n",
       "      <td id=\"T_39766_row26_col6\" class=\"data row26 col6\" >0.00</td>\n",
       "      <td id=\"T_39766_row26_col7\" class=\"data row26 col7\" >0.00</td>\n",
       "      <td id=\"T_39766_row26_col8\" class=\"data row26 col8\" >0.00</td>\n",
       "      <td id=\"T_39766_row26_col9\" class=\"data row26 col9\" >1.00</td>\n",
       "      <td id=\"T_39766_row26_col10\" class=\"data row26 col10\" >2.00</td>\n",
       "      <td id=\"T_39766_row26_col11\" class=\"data row26 col11\" >4.00</td>\n",
       "      <td id=\"T_39766_row26_col12\" class=\"data row26 col12\" >910.00</td>\n",
       "      <td id=\"T_39766_row26_col13\" class=\"data row26 col13\" >721,573</td>\n",
       "      <td id=\"T_39766_row26_col14\" class=\"data row26 col14\" >0.00</td>\n",
       "    </tr>\n",
       "    <tr>\n",
       "      <th id=\"T_39766_level0_row27\" class=\"row_heading level0 row27\" >27</th>\n",
       "      <td id=\"T_39766_row27_col0\" class=\"data row27 col0\" >PlansCancelledPast5YearCount</td>\n",
       "      <td id=\"T_39766_row27_col1\" class=\"data row27 col1\" >int64</td>\n",
       "      <td id=\"T_39766_row27_col2\" class=\"data row27 col2\" >0</td>\n",
       "      <td id=\"T_39766_row27_col3\" class=\"data row27 col3\" >721,573</td>\n",
       "      <td id=\"T_39766_row27_col4\" class=\"data row27 col4\" >1.33</td>\n",
       "      <td id=\"T_39766_row27_col5\" class=\"data row27 col5\" >8.94</td>\n",
       "      <td id=\"T_39766_row27_col6\" class=\"data row27 col6\" >0.00</td>\n",
       "      <td id=\"T_39766_row27_col7\" class=\"data row27 col7\" >0.00</td>\n",
       "      <td id=\"T_39766_row27_col8\" class=\"data row27 col8\" >0.00</td>\n",
       "      <td id=\"T_39766_row27_col9\" class=\"data row27 col9\" >4.00</td>\n",
       "      <td id=\"T_39766_row27_col10\" class=\"data row27 col10\" >7.00</td>\n",
       "      <td id=\"T_39766_row27_col11\" class=\"data row27 col11\" >11.00</td>\n",
       "      <td id=\"T_39766_row27_col12\" class=\"data row27 col12\" >6,802.00</td>\n",
       "      <td id=\"T_39766_row27_col13\" class=\"data row27 col13\" >721,573</td>\n",
       "      <td id=\"T_39766_row27_col14\" class=\"data row27 col14\" >0.00</td>\n",
       "    </tr>\n",
       "    <tr>\n",
       "      <th id=\"T_39766_level0_row28\" class=\"row_heading level0 row28\" >28</th>\n",
       "      <td id=\"T_39766_row28_col0\" class=\"data row28 col0\" >Postcode_Sector</td>\n",
       "      <td id=\"T_39766_row28_col1\" class=\"data row28 col1\" >object</td>\n",
       "      <td id=\"T_39766_row28_col2\" class=\"data row28 col2\" >198,153</td>\n",
       "      <td id=\"T_39766_row28_col3\" class=\"data row28 col3\" >nan</td>\n",
       "      <td id=\"T_39766_row28_col4\" class=\"data row28 col4\" >nan</td>\n",
       "      <td id=\"T_39766_row28_col5\" class=\"data row28 col5\" >nan</td>\n",
       "      <td id=\"T_39766_row28_col6\" class=\"data row28 col6\" >nan</td>\n",
       "      <td id=\"T_39766_row28_col7\" class=\"data row28 col7\" >nan</td>\n",
       "      <td id=\"T_39766_row28_col8\" class=\"data row28 col8\" >nan</td>\n",
       "      <td id=\"T_39766_row28_col9\" class=\"data row28 col9\" >nan</td>\n",
       "      <td id=\"T_39766_row28_col10\" class=\"data row28 col10\" >nan</td>\n",
       "      <td id=\"T_39766_row28_col11\" class=\"data row28 col11\" >nan</td>\n",
       "      <td id=\"T_39766_row28_col12\" class=\"data row28 col12\" >nan</td>\n",
       "      <td id=\"T_39766_row28_col13\" class=\"data row28 col13\" >721,573</td>\n",
       "      <td id=\"T_39766_row28_col14\" class=\"data row28 col14\" >27.46</td>\n",
       "    </tr>\n",
       "    <tr>\n",
       "      <th id=\"T_39766_level0_row29\" class=\"row_heading level0 row29\" >29</th>\n",
       "      <td id=\"T_39766_row29_col0\" class=\"data row29 col0\" >PredictedConversionRate</td>\n",
       "      <td id=\"T_39766_row29_col1\" class=\"data row29 col1\" >float64</td>\n",
       "      <td id=\"T_39766_row29_col2\" class=\"data row29 col2\" >0</td>\n",
       "      <td id=\"T_39766_row29_col3\" class=\"data row29 col3\" >721,573</td>\n",
       "      <td id=\"T_39766_row29_col4\" class=\"data row29 col4\" >0.85</td>\n",
       "      <td id=\"T_39766_row29_col5\" class=\"data row29 col5\" >0.30</td>\n",
       "      <td id=\"T_39766_row29_col6\" class=\"data row29 col6\" >0.00</td>\n",
       "      <td id=\"T_39766_row29_col7\" class=\"data row29 col7\" >0.24</td>\n",
       "      <td id=\"T_39766_row29_col8\" class=\"data row29 col8\" >1.00</td>\n",
       "      <td id=\"T_39766_row29_col9\" class=\"data row29 col9\" >1.00</td>\n",
       "      <td id=\"T_39766_row29_col10\" class=\"data row29 col10\" >1.00</td>\n",
       "      <td id=\"T_39766_row29_col11\" class=\"data row29 col11\" >1.00</td>\n",
       "      <td id=\"T_39766_row29_col12\" class=\"data row29 col12\" >1.00</td>\n",
       "      <td id=\"T_39766_row29_col13\" class=\"data row29 col13\" >721,573</td>\n",
       "      <td id=\"T_39766_row29_col14\" class=\"data row29 col14\" >0.00</td>\n",
       "    </tr>\n",
       "    <tr>\n",
       "      <th id=\"T_39766_level0_row30\" class=\"row_heading level0 row30\" >30</th>\n",
       "      <td id=\"T_39766_row30_col0\" class=\"data row30 col0\" >PrevRTPPriceType</td>\n",
       "      <td id=\"T_39766_row30_col1\" class=\"data row30 col1\" >object</td>\n",
       "      <td id=\"T_39766_row30_col2\" class=\"data row30 col2\" >615,792</td>\n",
       "      <td id=\"T_39766_row30_col3\" class=\"data row30 col3\" >nan</td>\n",
       "      <td id=\"T_39766_row30_col4\" class=\"data row30 col4\" >nan</td>\n",
       "      <td id=\"T_39766_row30_col5\" class=\"data row30 col5\" >nan</td>\n",
       "      <td id=\"T_39766_row30_col6\" class=\"data row30 col6\" >nan</td>\n",
       "      <td id=\"T_39766_row30_col7\" class=\"data row30 col7\" >nan</td>\n",
       "      <td id=\"T_39766_row30_col8\" class=\"data row30 col8\" >nan</td>\n",
       "      <td id=\"T_39766_row30_col9\" class=\"data row30 col9\" >nan</td>\n",
       "      <td id=\"T_39766_row30_col10\" class=\"data row30 col10\" >nan</td>\n",
       "      <td id=\"T_39766_row30_col11\" class=\"data row30 col11\" >nan</td>\n",
       "      <td id=\"T_39766_row30_col12\" class=\"data row30 col12\" >nan</td>\n",
       "      <td id=\"T_39766_row30_col13\" class=\"data row30 col13\" >721,573</td>\n",
       "      <td id=\"T_39766_row30_col14\" class=\"data row30 col14\" >85.34</td>\n",
       "    </tr>\n",
       "    <tr>\n",
       "      <th id=\"T_39766_level0_row31\" class=\"row_heading level0 row31\" >31</th>\n",
       "      <td id=\"T_39766_row31_col0\" class=\"data row31 col0\" >PricingVersionDescription</td>\n",
       "      <td id=\"T_39766_row31_col1\" class=\"data row31 col1\" >object</td>\n",
       "      <td id=\"T_39766_row31_col2\" class=\"data row31 col2\" >0</td>\n",
       "      <td id=\"T_39766_row31_col3\" class=\"data row31 col3\" >nan</td>\n",
       "      <td id=\"T_39766_row31_col4\" class=\"data row31 col4\" >nan</td>\n",
       "      <td id=\"T_39766_row31_col5\" class=\"data row31 col5\" >nan</td>\n",
       "      <td id=\"T_39766_row31_col6\" class=\"data row31 col6\" >nan</td>\n",
       "      <td id=\"T_39766_row31_col7\" class=\"data row31 col7\" >nan</td>\n",
       "      <td id=\"T_39766_row31_col8\" class=\"data row31 col8\" >nan</td>\n",
       "      <td id=\"T_39766_row31_col9\" class=\"data row31 col9\" >nan</td>\n",
       "      <td id=\"T_39766_row31_col10\" class=\"data row31 col10\" >nan</td>\n",
       "      <td id=\"T_39766_row31_col11\" class=\"data row31 col11\" >nan</td>\n",
       "      <td id=\"T_39766_row31_col12\" class=\"data row31 col12\" >nan</td>\n",
       "      <td id=\"T_39766_row31_col13\" class=\"data row31 col13\" >721,573</td>\n",
       "      <td id=\"T_39766_row31_col14\" class=\"data row31 col14\" >0.00</td>\n",
       "    </tr>\n",
       "    <tr>\n",
       "      <th id=\"T_39766_level0_row32\" class=\"row_heading level0 row32\" >32</th>\n",
       "      <td id=\"T_39766_row32_col0\" class=\"data row32 col0\" >PurchaseDate</td>\n",
       "      <td id=\"T_39766_row32_col1\" class=\"data row32 col1\" >datetime64[ns]</td>\n",
       "      <td id=\"T_39766_row32_col2\" class=\"data row32 col2\" >198,153</td>\n",
       "      <td id=\"T_39766_row32_col3\" class=\"data row32 col3\" >nan</td>\n",
       "      <td id=\"T_39766_row32_col4\" class=\"data row32 col4\" >nan</td>\n",
       "      <td id=\"T_39766_row32_col5\" class=\"data row32 col5\" >nan</td>\n",
       "      <td id=\"T_39766_row32_col6\" class=\"data row32 col6\" >nan</td>\n",
       "      <td id=\"T_39766_row32_col7\" class=\"data row32 col7\" >nan</td>\n",
       "      <td id=\"T_39766_row32_col8\" class=\"data row32 col8\" >nan</td>\n",
       "      <td id=\"T_39766_row32_col9\" class=\"data row32 col9\" >nan</td>\n",
       "      <td id=\"T_39766_row32_col10\" class=\"data row32 col10\" >nan</td>\n",
       "      <td id=\"T_39766_row32_col11\" class=\"data row32 col11\" >nan</td>\n",
       "      <td id=\"T_39766_row32_col12\" class=\"data row32 col12\" >nan</td>\n",
       "      <td id=\"T_39766_row32_col13\" class=\"data row32 col13\" >721,573</td>\n",
       "      <td id=\"T_39766_row32_col14\" class=\"data row32 col14\" >27.46</td>\n",
       "    </tr>\n",
       "    <tr>\n",
       "      <th id=\"T_39766_level0_row33\" class=\"row_heading level0 row33\" >33</th>\n",
       "      <td id=\"T_39766_row33_col0\" class=\"data row33 col0\" >PurchasePrice</td>\n",
       "      <td id=\"T_39766_row33_col1\" class=\"data row33 col1\" >float64</td>\n",
       "      <td id=\"T_39766_row33_col2\" class=\"data row33 col2\" >198,153</td>\n",
       "      <td id=\"T_39766_row33_col3\" class=\"data row33 col3\" >523,420</td>\n",
       "      <td id=\"T_39766_row33_col4\" class=\"data row33 col4\" >387.86</td>\n",
       "      <td id=\"T_39766_row33_col5\" class=\"data row33 col5\" >239.40</td>\n",
       "      <td id=\"T_39766_row33_col6\" class=\"data row33 col6\" >1.00</td>\n",
       "      <td id=\"T_39766_row33_col7\" class=\"data row33 col7\" >200.00</td>\n",
       "      <td id=\"T_39766_row33_col8\" class=\"data row33 col8\" >300.00</td>\n",
       "      <td id=\"T_39766_row33_col9\" class=\"data row33 col9\" >626.04</td>\n",
       "      <td id=\"T_39766_row33_col10\" class=\"data row33 col10\" >800.00</td>\n",
       "      <td id=\"T_39766_row33_col11\" class=\"data row33 col11\" >1,000.00</td>\n",
       "      <td id=\"T_39766_row33_col12\" class=\"data row33 col12\" >18,000.00</td>\n",
       "      <td id=\"T_39766_row33_col13\" class=\"data row33 col13\" >721,573</td>\n",
       "      <td id=\"T_39766_row33_col14\" class=\"data row33 col14\" >27.46</td>\n",
       "    </tr>\n",
       "    <tr>\n",
       "      <th id=\"T_39766_level0_row34\" class=\"row_heading level0 row34\" >34</th>\n",
       "      <td id=\"T_39766_row34_col0\" class=\"data row34 col0\" >RouteToMarketName</td>\n",
       "      <td id=\"T_39766_row34_col1\" class=\"data row34 col1\" >object</td>\n",
       "      <td id=\"T_39766_row34_col2\" class=\"data row34 col2\" >198,153</td>\n",
       "      <td id=\"T_39766_row34_col3\" class=\"data row34 col3\" >nan</td>\n",
       "      <td id=\"T_39766_row34_col4\" class=\"data row34 col4\" >nan</td>\n",
       "      <td id=\"T_39766_row34_col5\" class=\"data row34 col5\" >nan</td>\n",
       "      <td id=\"T_39766_row34_col6\" class=\"data row34 col6\" >nan</td>\n",
       "      <td id=\"T_39766_row34_col7\" class=\"data row34 col7\" >nan</td>\n",
       "      <td id=\"T_39766_row34_col8\" class=\"data row34 col8\" >nan</td>\n",
       "      <td id=\"T_39766_row34_col9\" class=\"data row34 col9\" >nan</td>\n",
       "      <td id=\"T_39766_row34_col10\" class=\"data row34 col10\" >nan</td>\n",
       "      <td id=\"T_39766_row34_col11\" class=\"data row34 col11\" >nan</td>\n",
       "      <td id=\"T_39766_row34_col12\" class=\"data row34 col12\" >nan</td>\n",
       "      <td id=\"T_39766_row34_col13\" class=\"data row34 col13\" >721,573</td>\n",
       "      <td id=\"T_39766_row34_col14\" class=\"data row34 col14\" >27.46</td>\n",
       "    </tr>\n",
       "    <tr>\n",
       "      <th id=\"T_39766_level0_row35\" class=\"row_heading level0 row35\" >35</th>\n",
       "      <td id=\"T_39766_row35_col0\" class=\"data row35 col0\" >SchemeTypeName</td>\n",
       "      <td id=\"T_39766_row35_col1\" class=\"data row35 col1\" >object</td>\n",
       "      <td id=\"T_39766_row35_col2\" class=\"data row35 col2\" >198,153</td>\n",
       "      <td id=\"T_39766_row35_col3\" class=\"data row35 col3\" >nan</td>\n",
       "      <td id=\"T_39766_row35_col4\" class=\"data row35 col4\" >nan</td>\n",
       "      <td id=\"T_39766_row35_col5\" class=\"data row35 col5\" >nan</td>\n",
       "      <td id=\"T_39766_row35_col6\" class=\"data row35 col6\" >nan</td>\n",
       "      <td id=\"T_39766_row35_col7\" class=\"data row35 col7\" >nan</td>\n",
       "      <td id=\"T_39766_row35_col8\" class=\"data row35 col8\" >nan</td>\n",
       "      <td id=\"T_39766_row35_col9\" class=\"data row35 col9\" >nan</td>\n",
       "      <td id=\"T_39766_row35_col10\" class=\"data row35 col10\" >nan</td>\n",
       "      <td id=\"T_39766_row35_col11\" class=\"data row35 col11\" >nan</td>\n",
       "      <td id=\"T_39766_row35_col12\" class=\"data row35 col12\" >nan</td>\n",
       "      <td id=\"T_39766_row35_col13\" class=\"data row35 col13\" >721,573</td>\n",
       "      <td id=\"T_39766_row35_col14\" class=\"data row35 col14\" >27.46</td>\n",
       "    </tr>\n",
       "    <tr>\n",
       "      <th id=\"T_39766_level0_row36\" class=\"row_heading level0 row36\" >36</th>\n",
       "      <td id=\"T_39766_row36_col0\" class=\"data row36 col0\" >TotalPrice</td>\n",
       "      <td id=\"T_39766_row36_col1\" class=\"data row36 col1\" >float64</td>\n",
       "      <td id=\"T_39766_row36_col2\" class=\"data row36 col2\" >0</td>\n",
       "      <td id=\"T_39766_row36_col3\" class=\"data row36 col3\" >721,573</td>\n",
       "      <td id=\"T_39766_row36_col4\" class=\"data row36 col4\" >46.37</td>\n",
       "      <td id=\"T_39766_row36_col5\" class=\"data row36 col5\" >13.52</td>\n",
       "      <td id=\"T_39766_row36_col6\" class=\"data row36 col6\" >12.84</td>\n",
       "      <td id=\"T_39766_row36_col7\" class=\"data row36 col7\" >32.04</td>\n",
       "      <td id=\"T_39766_row36_col8\" class=\"data row36 col8\" >43.92</td>\n",
       "      <td id=\"T_39766_row36_col9\" class=\"data row36 col9\" >63.84</td>\n",
       "      <td id=\"T_39766_row36_col10\" class=\"data row36 col10\" >69.72</td>\n",
       "      <td id=\"T_39766_row36_col11\" class=\"data row36 col11\" >76.56</td>\n",
       "      <td id=\"T_39766_row36_col12\" class=\"data row36 col12\" >362.76</td>\n",
       "      <td id=\"T_39766_row36_col13\" class=\"data row36 col13\" >721,573</td>\n",
       "      <td id=\"T_39766_row36_col14\" class=\"data row36 col14\" >0.00</td>\n",
       "    </tr>\n",
       "    <tr>\n",
       "      <th id=\"T_39766_level0_row37\" class=\"row_heading level0 row37\" >37</th>\n",
       "      <td id=\"T_39766_row37_col0\" class=\"data row37 col0\" >cocode</td>\n",
       "      <td id=\"T_39766_row37_col1\" class=\"data row37 col1\" >object</td>\n",
       "      <td id=\"T_39766_row37_col2\" class=\"data row37 col2\" >0</td>\n",
       "      <td id=\"T_39766_row37_col3\" class=\"data row37 col3\" >nan</td>\n",
       "      <td id=\"T_39766_row37_col4\" class=\"data row37 col4\" >nan</td>\n",
       "      <td id=\"T_39766_row37_col5\" class=\"data row37 col5\" >nan</td>\n",
       "      <td id=\"T_39766_row37_col6\" class=\"data row37 col6\" >nan</td>\n",
       "      <td id=\"T_39766_row37_col7\" class=\"data row37 col7\" >nan</td>\n",
       "      <td id=\"T_39766_row37_col8\" class=\"data row37 col8\" >nan</td>\n",
       "      <td id=\"T_39766_row37_col9\" class=\"data row37 col9\" >nan</td>\n",
       "      <td id=\"T_39766_row37_col10\" class=\"data row37 col10\" >nan</td>\n",
       "      <td id=\"T_39766_row37_col11\" class=\"data row37 col11\" >nan</td>\n",
       "      <td id=\"T_39766_row37_col12\" class=\"data row37 col12\" >nan</td>\n",
       "      <td id=\"T_39766_row37_col13\" class=\"data row37 col13\" >721,573</td>\n",
       "      <td id=\"T_39766_row37_col14\" class=\"data row37 col14\" >0.00</td>\n",
       "    </tr>\n",
       "    <tr>\n",
       "      <th id=\"T_39766_level0_row38\" class=\"row_heading level0 row38\" >38</th>\n",
       "      <td id=\"T_39766_row38_col0\" class=\"data row38 col0\" >contractstatuscode</td>\n",
       "      <td id=\"T_39766_row38_col1\" class=\"data row38 col1\" >object</td>\n",
       "      <td id=\"T_39766_row38_col2\" class=\"data row38 col2\" >0</td>\n",
       "      <td id=\"T_39766_row38_col3\" class=\"data row38 col3\" >nan</td>\n",
       "      <td id=\"T_39766_row38_col4\" class=\"data row38 col4\" >nan</td>\n",
       "      <td id=\"T_39766_row38_col5\" class=\"data row38 col5\" >nan</td>\n",
       "      <td id=\"T_39766_row38_col6\" class=\"data row38 col6\" >nan</td>\n",
       "      <td id=\"T_39766_row38_col7\" class=\"data row38 col7\" >nan</td>\n",
       "      <td id=\"T_39766_row38_col8\" class=\"data row38 col8\" >nan</td>\n",
       "      <td id=\"T_39766_row38_col9\" class=\"data row38 col9\" >nan</td>\n",
       "      <td id=\"T_39766_row38_col10\" class=\"data row38 col10\" >nan</td>\n",
       "      <td id=\"T_39766_row38_col11\" class=\"data row38 col11\" >nan</td>\n",
       "      <td id=\"T_39766_row38_col12\" class=\"data row38 col12\" >nan</td>\n",
       "      <td id=\"T_39766_row38_col13\" class=\"data row38 col13\" >721,573</td>\n",
       "      <td id=\"T_39766_row38_col14\" class=\"data row38 col14\" >0.00</td>\n",
       "    </tr>\n",
       "    <tr>\n",
       "      <th id=\"T_39766_level0_row39\" class=\"row_heading level0 row39\" >39</th>\n",
       "      <td id=\"T_39766_row39_col0\" class=\"data row39 col0\" >movementdate</td>\n",
       "      <td id=\"T_39766_row39_col1\" class=\"data row39 col1\" >datetime64[ns]</td>\n",
       "      <td id=\"T_39766_row39_col2\" class=\"data row39 col2\" >0</td>\n",
       "      <td id=\"T_39766_row39_col3\" class=\"data row39 col3\" >nan</td>\n",
       "      <td id=\"T_39766_row39_col4\" class=\"data row39 col4\" >nan</td>\n",
       "      <td id=\"T_39766_row39_col5\" class=\"data row39 col5\" >nan</td>\n",
       "      <td id=\"T_39766_row39_col6\" class=\"data row39 col6\" >nan</td>\n",
       "      <td id=\"T_39766_row39_col7\" class=\"data row39 col7\" >nan</td>\n",
       "      <td id=\"T_39766_row39_col8\" class=\"data row39 col8\" >nan</td>\n",
       "      <td id=\"T_39766_row39_col9\" class=\"data row39 col9\" >nan</td>\n",
       "      <td id=\"T_39766_row39_col10\" class=\"data row39 col10\" >nan</td>\n",
       "      <td id=\"T_39766_row39_col11\" class=\"data row39 col11\" >nan</td>\n",
       "      <td id=\"T_39766_row39_col12\" class=\"data row39 col12\" >nan</td>\n",
       "      <td id=\"T_39766_row39_col13\" class=\"data row39 col13\" >721,573</td>\n",
       "      <td id=\"T_39766_row39_col14\" class=\"data row39 col14\" >0.00</td>\n",
       "    </tr>\n",
       "    <tr>\n",
       "      <th id=\"T_39766_level0_row40\" class=\"row_heading level0 row40\" >40</th>\n",
       "      <td id=\"T_39766_row40_col0\" class=\"data row40 col0\" >offerpostcode</td>\n",
       "      <td id=\"T_39766_row40_col1\" class=\"data row40 col1\" >object</td>\n",
       "      <td id=\"T_39766_row40_col2\" class=\"data row40 col2\" >0</td>\n",
       "      <td id=\"T_39766_row40_col3\" class=\"data row40 col3\" >nan</td>\n",
       "      <td id=\"T_39766_row40_col4\" class=\"data row40 col4\" >nan</td>\n",
       "      <td id=\"T_39766_row40_col5\" class=\"data row40 col5\" >nan</td>\n",
       "      <td id=\"T_39766_row40_col6\" class=\"data row40 col6\" >nan</td>\n",
       "      <td id=\"T_39766_row40_col7\" class=\"data row40 col7\" >nan</td>\n",
       "      <td id=\"T_39766_row40_col8\" class=\"data row40 col8\" >nan</td>\n",
       "      <td id=\"T_39766_row40_col9\" class=\"data row40 col9\" >nan</td>\n",
       "      <td id=\"T_39766_row40_col10\" class=\"data row40 col10\" >nan</td>\n",
       "      <td id=\"T_39766_row40_col11\" class=\"data row40 col11\" >nan</td>\n",
       "      <td id=\"T_39766_row40_col12\" class=\"data row40 col12\" >nan</td>\n",
       "      <td id=\"T_39766_row40_col13\" class=\"data row40 col13\" >721,573</td>\n",
       "      <td id=\"T_39766_row40_col14\" class=\"data row40 col14\" >0.00</td>\n",
       "    </tr>\n",
       "    <tr>\n",
       "      <th id=\"T_39766_level0_row41\" class=\"row_heading level0 row41\" >41</th>\n",
       "      <td id=\"T_39766_row41_col0\" class=\"data row41 col0\" >offerreferencenumber</td>\n",
       "      <td id=\"T_39766_row41_col1\" class=\"data row41 col1\" >object</td>\n",
       "      <td id=\"T_39766_row41_col2\" class=\"data row41 col2\" >0</td>\n",
       "      <td id=\"T_39766_row41_col3\" class=\"data row41 col3\" >nan</td>\n",
       "      <td id=\"T_39766_row41_col4\" class=\"data row41 col4\" >nan</td>\n",
       "      <td id=\"T_39766_row41_col5\" class=\"data row41 col5\" >nan</td>\n",
       "      <td id=\"T_39766_row41_col6\" class=\"data row41 col6\" >nan</td>\n",
       "      <td id=\"T_39766_row41_col7\" class=\"data row41 col7\" >nan</td>\n",
       "      <td id=\"T_39766_row41_col8\" class=\"data row41 col8\" >nan</td>\n",
       "      <td id=\"T_39766_row41_col9\" class=\"data row41 col9\" >nan</td>\n",
       "      <td id=\"T_39766_row41_col10\" class=\"data row41 col10\" >nan</td>\n",
       "      <td id=\"T_39766_row41_col11\" class=\"data row41 col11\" >nan</td>\n",
       "      <td id=\"T_39766_row41_col12\" class=\"data row41 col12\" >nan</td>\n",
       "      <td id=\"T_39766_row41_col13\" class=\"data row41 col13\" >721,573</td>\n",
       "      <td id=\"T_39766_row41_col14\" class=\"data row41 col14\" >0.00</td>\n",
       "    </tr>\n",
       "    <tr>\n",
       "      <th id=\"T_39766_level0_row42\" class=\"row_heading level0 row42\" >42</th>\n",
       "      <td id=\"T_39766_row42_col0\" class=\"data row42 col0\" >offertotalprice</td>\n",
       "      <td id=\"T_39766_row42_col1\" class=\"data row42 col1\" >float64</td>\n",
       "      <td id=\"T_39766_row42_col2\" class=\"data row42 col2\" >7,727</td>\n",
       "      <td id=\"T_39766_row42_col3\" class=\"data row42 col3\" >713,846</td>\n",
       "      <td id=\"T_39766_row42_col4\" class=\"data row42 col4\" >46.35</td>\n",
       "      <td id=\"T_39766_row42_col5\" class=\"data row42 col5\" >13.50</td>\n",
       "      <td id=\"T_39766_row42_col6\" class=\"data row42 col6\" >12.84</td>\n",
       "      <td id=\"T_39766_row42_col7\" class=\"data row42 col7\" >32.04</td>\n",
       "      <td id=\"T_39766_row42_col8\" class=\"data row42 col8\" >43.92</td>\n",
       "      <td id=\"T_39766_row42_col9\" class=\"data row42 col9\" >63.84</td>\n",
       "      <td id=\"T_39766_row42_col10\" class=\"data row42 col10\" >69.72</td>\n",
       "      <td id=\"T_39766_row42_col11\" class=\"data row42 col11\" >76.32</td>\n",
       "      <td id=\"T_39766_row42_col12\" class=\"data row42 col12\" >376.44</td>\n",
       "      <td id=\"T_39766_row42_col13\" class=\"data row42 col13\" >721,573</td>\n",
       "      <td id=\"T_39766_row42_col14\" class=\"data row42 col14\" >1.07</td>\n",
       "    </tr>\n",
       "    <tr>\n",
       "      <th id=\"T_39766_level0_row43\" class=\"row_heading level0 row43\" >43</th>\n",
       "      <td id=\"T_39766_row43_col0\" class=\"data row43 col0\" >personaddresspostcode</td>\n",
       "      <td id=\"T_39766_row43_col1\" class=\"data row43 col1\" >object</td>\n",
       "      <td id=\"T_39766_row43_col2\" class=\"data row43 col2\" >10,962</td>\n",
       "      <td id=\"T_39766_row43_col3\" class=\"data row43 col3\" >nan</td>\n",
       "      <td id=\"T_39766_row43_col4\" class=\"data row43 col4\" >nan</td>\n",
       "      <td id=\"T_39766_row43_col5\" class=\"data row43 col5\" >nan</td>\n",
       "      <td id=\"T_39766_row43_col6\" class=\"data row43 col6\" >nan</td>\n",
       "      <td id=\"T_39766_row43_col7\" class=\"data row43 col7\" >nan</td>\n",
       "      <td id=\"T_39766_row43_col8\" class=\"data row43 col8\" >nan</td>\n",
       "      <td id=\"T_39766_row43_col9\" class=\"data row43 col9\" >nan</td>\n",
       "      <td id=\"T_39766_row43_col10\" class=\"data row43 col10\" >nan</td>\n",
       "      <td id=\"T_39766_row43_col11\" class=\"data row43 col11\" >nan</td>\n",
       "      <td id=\"T_39766_row43_col12\" class=\"data row43 col12\" >nan</td>\n",
       "      <td id=\"T_39766_row43_col13\" class=\"data row43 col13\" >721,573</td>\n",
       "      <td id=\"T_39766_row43_col14\" class=\"data row43 col14\" >1.52</td>\n",
       "    </tr>\n",
       "    <tr>\n",
       "      <th id=\"T_39766_level0_row44\" class=\"row_heading level0 row44\" >44</th>\n",
       "      <td id=\"T_39766_row44_col0\" class=\"data row44 col0\" >planaccdate</td>\n",
       "      <td id=\"T_39766_row44_col1\" class=\"data row44 col1\" >datetime64[ns]</td>\n",
       "      <td id=\"T_39766_row44_col2\" class=\"data row44 col2\" >0</td>\n",
       "      <td id=\"T_39766_row44_col3\" class=\"data row44 col3\" >nan</td>\n",
       "      <td id=\"T_39766_row44_col4\" class=\"data row44 col4\" >nan</td>\n",
       "      <td id=\"T_39766_row44_col5\" class=\"data row44 col5\" >nan</td>\n",
       "      <td id=\"T_39766_row44_col6\" class=\"data row44 col6\" >nan</td>\n",
       "      <td id=\"T_39766_row44_col7\" class=\"data row44 col7\" >nan</td>\n",
       "      <td id=\"T_39766_row44_col8\" class=\"data row44 col8\" >nan</td>\n",
       "      <td id=\"T_39766_row44_col9\" class=\"data row44 col9\" >nan</td>\n",
       "      <td id=\"T_39766_row44_col10\" class=\"data row44 col10\" >nan</td>\n",
       "      <td id=\"T_39766_row44_col11\" class=\"data row44 col11\" >nan</td>\n",
       "      <td id=\"T_39766_row44_col12\" class=\"data row44 col12\" >nan</td>\n",
       "      <td id=\"T_39766_row44_col13\" class=\"data row44 col13\" >721,573</td>\n",
       "      <td id=\"T_39766_row44_col14\" class=\"data row44 col14\" >0.00</td>\n",
       "    </tr>\n",
       "    <tr>\n",
       "      <th id=\"T_39766_level0_row45\" class=\"row_heading level0 row45\" >45</th>\n",
       "      <td id=\"T_39766_row45_col0\" class=\"data row45 col0\" >price_band</td>\n",
       "      <td id=\"T_39766_row45_col1\" class=\"data row45 col1\" >object</td>\n",
       "      <td id=\"T_39766_row45_col2\" class=\"data row45 col2\" >199,643</td>\n",
       "      <td id=\"T_39766_row45_col3\" class=\"data row45 col3\" >nan</td>\n",
       "      <td id=\"T_39766_row45_col4\" class=\"data row45 col4\" >nan</td>\n",
       "      <td id=\"T_39766_row45_col5\" class=\"data row45 col5\" >nan</td>\n",
       "      <td id=\"T_39766_row45_col6\" class=\"data row45 col6\" >nan</td>\n",
       "      <td id=\"T_39766_row45_col7\" class=\"data row45 col7\" >nan</td>\n",
       "      <td id=\"T_39766_row45_col8\" class=\"data row45 col8\" >nan</td>\n",
       "      <td id=\"T_39766_row45_col9\" class=\"data row45 col9\" >nan</td>\n",
       "      <td id=\"T_39766_row45_col10\" class=\"data row45 col10\" >nan</td>\n",
       "      <td id=\"T_39766_row45_col11\" class=\"data row45 col11\" >nan</td>\n",
       "      <td id=\"T_39766_row45_col12\" class=\"data row45 col12\" >nan</td>\n",
       "      <td id=\"T_39766_row45_col13\" class=\"data row45 col13\" >721,573</td>\n",
       "      <td id=\"T_39766_row45_col14\" class=\"data row45 col14\" >27.67</td>\n",
       "    </tr>\n",
       "    <tr>\n",
       "      <th id=\"T_39766_level0_row46\" class=\"row_heading level0 row46\" >46</th>\n",
       "      <td id=\"T_39766_row46_col0\" class=\"data row46 col0\" >price_diff</td>\n",
       "      <td id=\"T_39766_row46_col1\" class=\"data row46 col1\" >float64</td>\n",
       "      <td id=\"T_39766_row46_col2\" class=\"data row46 col2\" >198,153</td>\n",
       "      <td id=\"T_39766_row46_col3\" class=\"data row46 col3\" >523,420</td>\n",
       "      <td id=\"T_39766_row46_col4\" class=\"data row46 col4\" >0.02</td>\n",
       "      <td id=\"T_39766_row46_col5\" class=\"data row46 col5\" >0.12</td>\n",
       "      <td id=\"T_39766_row46_col6\" class=\"data row46 col6\" >-0.70</td>\n",
       "      <td id=\"T_39766_row46_col7\" class=\"data row46 col7\" >-0.14</td>\n",
       "      <td id=\"T_39766_row46_col8\" class=\"data row46 col8\" >0.00</td>\n",
       "      <td id=\"T_39766_row46_col9\" class=\"data row46 col9\" >0.21</td>\n",
       "      <td id=\"T_39766_row46_col10\" class=\"data row46 col10\" >0.27</td>\n",
       "      <td id=\"T_39766_row46_col11\" class=\"data row46 col11\" >0.30</td>\n",
       "      <td id=\"T_39766_row46_col12\" class=\"data row46 col12\" >1.29</td>\n",
       "      <td id=\"T_39766_row46_col13\" class=\"data row46 col13\" >721,573</td>\n",
       "      <td id=\"T_39766_row46_col14\" class=\"data row46 col14\" >27.46</td>\n",
       "    </tr>\n",
       "    <tr>\n",
       "      <th id=\"T_39766_level0_row47\" class=\"row_heading level0 row47\" >47</th>\n",
       "      <td id=\"T_39766_row47_col0\" class=\"data row47 col0\" >relFee</td>\n",
       "      <td id=\"T_39766_row47_col1\" class=\"data row47 col1\" >float64</td>\n",
       "      <td id=\"T_39766_row47_col2\" class=\"data row47 col2\" >198,153</td>\n",
       "      <td id=\"T_39766_row47_col3\" class=\"data row47 col3\" >523,420</td>\n",
       "      <td id=\"T_39766_row47_col4\" class=\"data row47 col4\" >0.14</td>\n",
       "      <td id=\"T_39766_row47_col5\" class=\"data row47 col5\" >0.16</td>\n",
       "      <td id=\"T_39766_row47_col6\" class=\"data row47 col6\" >0.00</td>\n",
       "      <td id=\"T_39766_row47_col7\" class=\"data row47 col7\" >0.08</td>\n",
       "      <td id=\"T_39766_row47_col8\" class=\"data row47 col8\" >0.13</td>\n",
       "      <td id=\"T_39766_row47_col9\" class=\"data row47 col9\" >0.22</td>\n",
       "      <td id=\"T_39766_row47_col10\" class=\"data row47 col10\" >0.25</td>\n",
       "      <td id=\"T_39766_row47_col11\" class=\"data row47 col11\" >0.28</td>\n",
       "      <td id=\"T_39766_row47_col12\" class=\"data row47 col12\" >56.16</td>\n",
       "      <td id=\"T_39766_row47_col13\" class=\"data row47 col13\" >721,573</td>\n",
       "      <td id=\"T_39766_row47_col14\" class=\"data row47 col14\" >27.46</td>\n",
       "    </tr>\n",
       "    <tr>\n",
       "      <th id=\"T_39766_level0_row48\" class=\"row_heading level0 row48\" >48</th>\n",
       "      <td id=\"T_39766_row48_col0\" class=\"data row48 col0\" >relFeeInc</td>\n",
       "      <td id=\"T_39766_row48_col1\" class=\"data row48 col1\" >float64</td>\n",
       "      <td id=\"T_39766_row48_col2\" class=\"data row48 col2\" >198,153</td>\n",
       "      <td id=\"T_39766_row48_col3\" class=\"data row48 col3\" >523,420</td>\n",
       "      <td id=\"T_39766_row48_col4\" class=\"data row48 col4\" >0.00</td>\n",
       "      <td id=\"T_39766_row48_col5\" class=\"data row48 col5\" >0.00</td>\n",
       "      <td id=\"T_39766_row48_col6\" class=\"data row48 col6\" >-0.17</td>\n",
       "      <td id=\"T_39766_row48_col7\" class=\"data row48 col7\" >-0.00</td>\n",
       "      <td id=\"T_39766_row48_col8\" class=\"data row48 col8\" >0.00</td>\n",
       "      <td id=\"T_39766_row48_col9\" class=\"data row48 col9\" >0.00</td>\n",
       "      <td id=\"T_39766_row48_col10\" class=\"data row48 col10\" >0.00</td>\n",
       "      <td id=\"T_39766_row48_col11\" class=\"data row48 col11\" >0.00</td>\n",
       "      <td id=\"T_39766_row48_col12\" class=\"data row48 col12\" >0.07</td>\n",
       "      <td id=\"T_39766_row48_col13\" class=\"data row48 col13\" >721,573</td>\n",
       "      <td id=\"T_39766_row48_col14\" class=\"data row48 col14\" >27.46</td>\n",
       "    </tr>\n",
       "    <tr>\n",
       "      <th id=\"T_39766_level0_row49\" class=\"row_heading level0 row49\" >49</th>\n",
       "      <td id=\"T_39766_row49_col0\" class=\"data row49 col0\" >sale</td>\n",
       "      <td id=\"T_39766_row49_col1\" class=\"data row49 col1\" >int64</td>\n",
       "      <td id=\"T_39766_row49_col2\" class=\"data row49 col2\" >0</td>\n",
       "      <td id=\"T_39766_row49_col3\" class=\"data row49 col3\" >721,573</td>\n",
       "      <td id=\"T_39766_row49_col4\" class=\"data row49 col4\" >1.00</td>\n",
       "      <td id=\"T_39766_row49_col5\" class=\"data row49 col5\" >0.00</td>\n",
       "      <td id=\"T_39766_row49_col6\" class=\"data row49 col6\" >1.00</td>\n",
       "      <td id=\"T_39766_row49_col7\" class=\"data row49 col7\" >1.00</td>\n",
       "      <td id=\"T_39766_row49_col8\" class=\"data row49 col8\" >1.00</td>\n",
       "      <td id=\"T_39766_row49_col9\" class=\"data row49 col9\" >1.00</td>\n",
       "      <td id=\"T_39766_row49_col10\" class=\"data row49 col10\" >1.00</td>\n",
       "      <td id=\"T_39766_row49_col11\" class=\"data row49 col11\" >1.00</td>\n",
       "      <td id=\"T_39766_row49_col12\" class=\"data row49 col12\" >1.00</td>\n",
       "      <td id=\"T_39766_row49_col13\" class=\"data row49 col13\" >721,573</td>\n",
       "      <td id=\"T_39766_row49_col14\" class=\"data row49 col14\" >0.00</td>\n",
       "    </tr>\n",
       "  </tbody>\n",
       "</table>\n"
      ],
      "text/plain": [
       "<pandas.io.formats.style.Styler at 0x7f4ac58c1fa0>"
      ]
     },
     "execution_count": 13,
     "metadata": {},
     "output_type": "execute_result"
    }
   ],
   "source": [
    "#dtypes\n",
    "x= df.dtypes.to_frame().reset_index()\n",
    "x.columns = ['ColName', 'dtype']\n",
    "x= x.sort_values(by= 'ColName')\n",
    "\n",
    "#missing\n",
    "y= df.isna().sum().to_frame().reset_index()\n",
    "y.columns = ['ColName', 'Na_rows']\n",
    "y= y.sort_values(by= 'ColName')\n",
    "\n",
    "#describe\n",
    "d= df.describe(percentiles= [.1, .9, .95, .975]).T.reset_index()\n",
    "d.columns = ['ColName', 'count', 'mean', 'std', 'min', '10%', '50%', '90%', '95%', '97.5%', 'max']\n",
    "d= d.sort_values(by= 'ColName')\n",
    "\n",
    "#join\n",
    "z= x.merge(y, on= 'ColName', how= 'left').merge(d, on='ColName', how= 'left')\n",
    "z['N'] = df.shape[0]\n",
    "z['Na_miss_rate'] = (z['Na_rows'] / z['N']) * 100\n",
    "\n",
    "z['dtype'] = z['dtype'].astype('str')\n",
    "\n",
    "fltr= z['dtype'].isin(['float64'])\n",
    "z.style.format('{:,.2f}', subset=['mean', 'std', 'min', '10%', '50%', '90%', '95%', '97.5%', 'max', 'Na_miss_rate']).format('{:,.0f}', subset=['N', 'Na_rows', 'count'])"
   ]
  },
  {
   "cell_type": "markdown",
   "metadata": {},
   "source": [
    "## Single Value & Null Columns\n",
    "<a id='singlenull'></a>"
   ]
  },
  {
   "cell_type": "code",
   "execution_count": 14,
   "metadata": {},
   "outputs": [],
   "source": [
    "# split columns by type\n",
    "categorical_cols, integer_cols, float_cols, date_cols, unidentified_cols = hf.cat_num_split(df)\n",
    "\n",
    "# count unique values\n",
    "feature_uniques_count, low_cardinality_features_unique_values= bsp.unique_count(df[categorical_cols])\n",
    "\n",
    "# Single value categorical columns\n",
    "single_val = list([key for key, value in feature_uniques_count.items() if value == 1 ])\n",
    "single_val.remove('PaymentType')\n",
    "\n",
    "#drop single value categorical cols\n",
    "df = hf.drop_columns(df, single_val)\n",
    "\n",
    "# drop single value numerical columns\n",
    "df = hf.drop_columns(df,['rec_status', 'PredictedConversionRate'])\n",
    "\n",
    "# null columns\n",
    "na_count = df.apply(dint.get_nulls_count)\n",
    "null_cols = na_count[na_count.values>=80].index\n",
    "null_cols\n",
    "\n",
    "# drop cols with >80% nulls\n",
    "df = hf.drop_columns(df, null_cols)"
   ]
  },
  {
   "cell_type": "markdown",
   "metadata": {},
   "source": [
    "## Categorical Features\n",
    "<a id='catfeat'></a>"
   ]
  },
  {
   "cell_type": "code",
   "execution_count": 15,
   "metadata": {},
   "outputs": [],
   "source": [
    "# reduce cardinality of certain categorical features\n",
    "\n",
    "cat_features = [f for f in df.select_dtypes(include=['object']).columns.sort_values() if f not in ['CurrentDate', 'PurchaseDate', 'ons_postcode_sector', 'PerPostalAddrPostCode', 'RouteToMarketName', 'PrevRTPPriceType', 'SchemeTypeName', 'planaccdate', 'movementdate']]\n",
    "id_cols = ['offerreferencenumber', 'itemeventuserid', 'ModelId']\n",
    "postcode_cols = ['personaddresspostcode', 'offerpostcode', 'Postcode_Sector']"
   ]
  },
  {
   "cell_type": "code",
   "execution_count": 16,
   "metadata": {},
   "outputs": [
    {
     "name": "stdout",
     "output_type": "stream",
     "text": [
      "PaymentType:1\n",
      "ApplianceCode:111\n",
      "ClientGroupCode:54\n",
      "price_band:7\n",
      "ClientAccountDesc:38\n",
      "HasPrevRTPPrice:2\n",
      "ManufacturerBrandCode:114\n",
      "ClientGroupDesc:20\n",
      "GoodsColour:2\n",
      "ClientCode:84\n",
      "contractstatuscode:4\n",
      "PricingVersionDescription:17\n"
     ]
    }
   ],
   "source": [
    "to_group = list(set(cat_features) - set(id_cols) - set(postcode_cols))\n",
    "for i in to_group:\n",
    "    print(f'{i}:{df[i].nunique()}')"
   ]
  },
  {
   "cell_type": "code",
   "execution_count": 17,
   "metadata": {},
   "outputs": [
    {
     "name": "stdout",
     "output_type": "stream",
     "text": [
      "PaymentType:1\n",
      "ApplianceCode:12\n",
      "ClientGroupCode:7\n",
      "price_band:7\n",
      "ClientAccountDesc:12\n",
      "HasPrevRTPPrice:2\n",
      "ManufacturerBrandCode:12\n",
      "ClientGroupDesc:9\n",
      "GoodsColour:2\n",
      "ClientCode:9\n",
      "contractstatuscode:3\n",
      "PricingVersionDescription:5\n"
     ]
    }
   ],
   "source": [
    "group_low_freq(df=df, lst= to_group, pct=2.5) # regroup very low frequency classes\n",
    "for i in to_group:\n",
    "    print(f'{i}:{df[i].nunique()}')"
   ]
  },
  {
   "cell_type": "code",
   "execution_count": 18,
   "metadata": {},
   "outputs": [
    {
     "data": {
      "text/plain": [
       "0.00011225475454319936"
      ]
     },
     "execution_count": 18,
     "metadata": {},
     "output_type": "execute_result"
    }
   ],
   "source": [
    "df_dedup[df_dedup['requested_clientaccountdesc']=='HSBC'].shape[0]/df_dedup.shape[0]"
   ]
  },
  {
   "cell_type": "code",
   "execution_count": 19,
   "metadata": {},
   "outputs": [
    {
     "data": {
      "text/plain": [
       "0"
      ]
     },
     "execution_count": 19,
     "metadata": {},
     "output_type": "execute_result"
    }
   ],
   "source": [
    "df[df['ClientAccountDesc']=='HSBC'].shape[0]"
   ]
  },
  {
   "cell_type": "code",
   "execution_count": 20,
   "metadata": {},
   "outputs": [
    {
     "data": {
      "text/plain": [
       "['offerreferencenumber',\n",
       " 'CurrentDate',\n",
       " 'offerpostcode',\n",
       " 'contractstatuscode',\n",
       " 'personaddresspostcode',\n",
       " 'planaccdate',\n",
       " 'movementdate',\n",
       " 'PricingVersionDescription',\n",
       " 'PurchaseDate',\n",
       " 'GoodsColour',\n",
       " 'ClientGroupDesc',\n",
       " 'SchemeTypeName',\n",
       " 'ClientAccountDesc',\n",
       " 'RouteToMarketName',\n",
       " 'ApplianceCode',\n",
       " 'ClientGroupCode',\n",
       " 'ClientCode',\n",
       " 'ManufacturerBrandCode',\n",
       " 'Postcode_Sector',\n",
       " 'price_band',\n",
       " 'HasPrevRTPPrice',\n",
       " 'PaymentType']"
      ]
     },
     "execution_count": 20,
     "metadata": {},
     "output_type": "execute_result"
    }
   ],
   "source": [
    "categorical_cols, integer_cols, float_cols, date_cols, unidentified_cols = hf.cat_num_split(df)\n",
    "categorical_cols"
   ]
  },
  {
   "cell_type": "code",
   "execution_count": 22,
   "metadata": {},
   "outputs": [],
   "source": [
    "#strip whitespace in categorical columns\n",
    "for i in list(set(categorical_cols) - set(date_cols)):\n",
    "    if (df[i].isna().any()):\n",
    "        break\n",
    "    print(i)\n",
    "    df[i] = df[i].apply(lambda x: str(x).replace(\" \", \"\").upper())\n",
    "\n",
    "# find na's\n",
    "cat_nulls = df[categorical_cols].apply(dint.get_nulls_count)\n",
    "cat_to_impute = list(cat_nulls[cat_nulls.values>0].index)\n",
    "\n",
    "# impute na's\n",
    "df[cat_to_impute]=df[cat_to_impute].apply(lambda x: x.fillna(x.mode().iloc[0]))"
   ]
  },
  {
   "cell_type": "code",
   "execution_count": 25,
   "metadata": {},
   "outputs": [
    {
     "data": {
      "text/plain": [
       "1    IP257\n",
       "3     M156\n",
       "4    NP167\n",
       "5     W114\n",
       "6     RG49\n",
       "Name: Postcode_Sector, dtype: object"
      ]
     },
     "execution_count": 25,
     "metadata": {},
     "output_type": "execute_result"
    }
   ],
   "source": [
    "df['Postcode_Sector'] = df['Postcode_Sector'].apply(lambda x: str(x).replace(\" \", \"\").upper())\n",
    "df['Postcode_Sector'].head()"
   ]
  },
  {
   "cell_type": "markdown",
   "metadata": {},
   "source": [
    "## Numerical Features\n",
    "<a id='numfeat'></a>"
   ]
  },
  {
   "cell_type": "code",
   "execution_count": 28,
   "metadata": {},
   "outputs": [],
   "source": [
    "num_features = [f for f in df.select_dtypes(include=['int32', 'int64', 'float64']).columns.sort_values() if f not in ['planno']]\n",
    "\n",
    "# capping by quantile\n",
    "\n",
    "# for col in num_features:\n",
    "#     df[col]= df[col].clip(upper= np.quantile(df[col], q= 0.95))\n",
    "#     df[col]= df[col].clip(lower= np.quantile(df[col], q= 0.05))\n",
    "\n",
    "# float cols\n",
    "float_nulls = df[float_cols].apply(dint.get_nulls_count)\n",
    "float_null_cols = list(float_nulls[float_nulls.values>0].index)\n",
    "# replace missing offertotalprice with Fee\n",
    "df['offertotalprice'] = df['offertotalprice'].fillna(df['Fee'])\n",
    "float_null_cols.remove('offertotalprice')\n",
    "\n",
    "# integer cols\n",
    "integer_nulls = df[integer_cols].apply(dint.get_nulls_count)\n",
    "integer_null_cols = integer_nulls[integer_nulls.values>0].index\n",
    "\n",
    "num_to_impute = list(float_null_cols)+list(integer_null_cols)\n",
    "\n",
    "# num imputation \n",
    "df[num_to_impute]= di.impute_mean(df, num_to_impute, 'ClientGroupCode')"
   ]
  },
  {
   "cell_type": "code",
   "execution_count": 29,
   "metadata": {},
   "outputs": [
    {
     "data": {
      "text/plain": [
       "CurrentDate     0.0\n",
       "planaccdate     0.0\n",
       "movementdate    0.0\n",
       "PurchaseDate    0.0\n",
       "dtype: float64"
      ]
     },
     "execution_count": 29,
     "metadata": {},
     "output_type": "execute_result"
    }
   ],
   "source": [
    "# date cols\n",
    "df[date_cols].apply(dint.get_nulls_count)"
   ]
  },
  {
   "cell_type": "markdown",
   "metadata": {},
   "source": [
    "## Date Features\n",
    "<a id='datefeat'></a>"
   ]
  },
  {
   "cell_type": "markdown",
   "metadata": {},
   "source": [
    "### Feature Engineering"
   ]
  },
  {
   "cell_type": "code",
   "execution_count": 30,
   "metadata": {},
   "outputs": [
    {
     "data": {
      "text/plain": [
       "1    2022-05-11\n",
       "3    2021-07-16\n",
       "4    2021-06-05\n",
       "5    2022-07-14\n",
       "6    2021-07-05\n",
       "Name: planaccdate, dtype: object"
      ]
     },
     "execution_count": 30,
     "metadata": {},
     "output_type": "execute_result"
    }
   ],
   "source": [
    "df['planaccdate'].head()"
   ]
  },
  {
   "cell_type": "code",
   "execution_count": 31,
   "metadata": {},
   "outputs": [],
   "source": [
    "# Convert to Datetime\n",
    "df['planaccdate'] = pd.to_datetime(df['planaccdate']) \n",
    "df['movementdate'] = pd.to_datetime(df['movementdate'])\n",
    "\n",
    "# df[date_cols].apply(lambda x: x.dt.date)"
   ]
  },
  {
   "cell_type": "code",
   "execution_count": 32,
   "metadata": {},
   "outputs": [],
   "source": [
    "# month-year column\n",
    "# df_dedup['offermonthyear'] = df_dedup['CurrentDate'].dt.to_period('M')\n",
    "df['startmonthyear'] = df['planaccdate'].dt.to_period('M')\n",
    "df['contractmonthyear'] = df['movementdate'].dt.to_period('M')\n",
    "\n",
    "# month name column\n",
    "# df_dedup['offereventmonth'] = df_dedup['CurrentDate'].dt.month_name()\n",
    "df['startmonth'] = df['planaccdate'].dt.month_name()\n",
    "df['contractmonth'] = df['movementdate'].dt.month_name()"
   ]
  },
  {
   "cell_type": "code",
   "execution_count": 33,
   "metadata": {},
   "outputs": [
    {
     "data": {
      "text/plain": [
       "(0, 52)"
      ]
     },
     "execution_count": 33,
     "metadata": {},
     "output_type": "execute_result"
    }
   ],
   "source": [
    "# calculate contract tenure\n",
    "# if cancelled, contract_age is measured up to movementdate, otherwise it's up to latest date in the dataset\n",
    "final_date = df['movementdate'].max()\n",
    "df['contract_age']=np.where(df['contractstatuscode']=='C', (df['movementdate']-df['planaccdate'])/np.timedelta64(1, 'M'), (final_date-df['planaccdate'])/np.timedelta64(1, 'M'))\n",
    "df[df['contract_age']<0].shape\n",
    "# df_dedup.drop('contract_age', axis=1, inplace=True)"
   ]
  },
  {
   "cell_type": "code",
   "execution_count": 34,
   "metadata": {},
   "outputs": [
    {
     "data": {
      "image/png": "[encoded data removed]",
      "text/plain": [
       "<Figure size 1000x500 with 1 Axes>"
      ]
     },
     "metadata": {
      "needs_background": "light"
     },
     "output_type": "display_data"
    }
   ],
   "source": [
    "x1 = df[df['contractstatuscode']=='C']['contract_age']\n",
    "x2 = df[df['contractstatuscode']!='C']['contract_age']\n",
    "kwargs = dict(histtype='stepfilled', alpha=0.3, bins=20)\n",
    "plt.hist(x1.values, **kwargs, label = \"Yes\")\n",
    "plt.hist(x2.values, **kwargs, label = \"No\")\n",
    "plt.xlabel(\"Tenure in Months\")\n",
    "plt.ylabel(\"Number of Plans\")\n",
    "plt.title(\"Number of Plans by Tenure\")\n",
    "plt.legend(title='Cancelled')\n",
    "plt.show()"
   ]
  },
  {
   "cell_type": "markdown",
   "metadata": {},
   "source": [
    "## Target Variable: Cancellation Flag\n",
    "<a id='target'></a>"
   ]
  },
  {
   "cell_type": "code",
   "execution_count": 35,
   "metadata": {},
   "outputs": [
    {
     "data": {
      "text/plain": [
       "(149116, (721573, 53))"
      ]
     },
     "execution_count": 35,
     "metadata": {},
     "output_type": "execute_result"
    }
   ],
   "source": [
    "# create target variable for the model\n",
    "df['cancelflag']=np.where(df['contractstatuscode']=='C', 1, 0)\n",
    "df['cancelflag'].sum(), df.shape"
   ]
  },
  {
   "cell_type": "code",
   "execution_count": 36,
   "metadata": {},
   "outputs": [],
   "source": [
    "df_raw1 = df.copy()"
   ]
  },
  {
   "cell_type": "markdown",
   "metadata": {},
   "source": [
    "# Merge with Geovariable\n",
    "<a id='section3'></a>"
   ]
  },
  {
   "cell_type": "code",
   "execution_count": 37,
   "metadata": {},
   "outputs": [],
   "source": [
    "telreg = df_raw1.copy()"
   ]
  },
  {
   "cell_type": "code",
   "execution_count": 38,
   "metadata": {},
   "outputs": [],
   "source": [
    "conn1 = dg_s3.Connect('dgdatadump/DS&CA/Reference Files/ONS/Processed')\n",
    "geo_df = conn1.read('Earnix_Geo_Look_Up_by_PC.csv')"
   ]
  },
  {
   "cell_type": "code",
   "execution_count": 39,
   "metadata": {},
   "outputs": [],
   "source": [
    "all_features = geo_df.columns\n",
    "\n",
    "ons_feats = all_features[all_features.str.contains('ONS_')]\n",
    "ons_feats = ons_feats.to_list()\n",
    "\n",
    "hpi_feats =['HPI_AveragePrice', 'HPI_SalesVolume']\n",
    "\n",
    "geo_feats = hpi_feats + ons_feats\n",
    "geo_feats.remove('ONS_postcode_sector')\n",
    "geo_feats.remove('ONS_Unnamed: 0')"
   ]
  },
  {
   "cell_type": "markdown",
   "metadata": {},
   "source": [
    "## Merge\n",
    "<a id=\"merge\"></a>"
   ]
  },
  {
   "cell_type": "code",
   "execution_count": 40,
   "metadata": {},
   "outputs": [],
   "source": [
    "# merge \n",
    "telreg_merged = telreg.merge(geo_df, how='left', left_on='offerpostcode', right_on='pcds')\n",
    "\n",
    "# dedup\n",
    "telreg_dedup = telreg_merged.drop_duplicates(subset=['offerreferencenumber'], keep='first')\n",
    "\n",
    "telreg_dedup.drop('ONS_Unnamed: 0', inplace=True, axis=1)"
   ]
  },
  {
   "cell_type": "markdown",
   "metadata": {},
   "source": [
    "## Impute\n",
    "<a id='imp'></a>"
   ]
  },
  {
   "cell_type": "code",
   "execution_count": 41,
   "metadata": {},
   "outputs": [
    {
     "name": "stdout",
     "output_type": "stream",
     "text": [
      "HPI_AveragePrice: 721573\n",
      "HPI_SalesVolume: 721573\n",
      "ONS_avg_age: 721573\n",
      "ONS_avg_distance_travelled_to_work(km): 721573\n",
      "ONS_%people_working_FT: 721573\n",
      "ONS_%people_working_49+: 721573\n",
      "ONS_%people_working_sum: 721573\n",
      "ONS_avg_household_size: 721573\n",
      "ONS_n_households: 721573\n",
      "ONS_avg_dependent_children_per_family: 721573\n",
      "ONS_n_families: 721573\n",
      "ONS_n_families/n_households: 721573\n",
      "ONS_avg_bedrooms: 721573\n",
      "ONS_avg_rooms: 721573\n",
      "ONS_bedrooms per rooms: 721573\n",
      "ONS_population: 721573\n",
      "ONS_population_density: 721573\n",
      "ONS_occupation_rate: 721573\n",
      "ONS_n_families_per_population: 721573\n"
     ]
    }
   ],
   "source": [
    "# 1st, impute by LAD_name\n",
    "for i in geo_feats:\n",
    "    telreg_geo_imputed = hf.num_imputation(telreg_dedup, i, 'LAD_name')\n",
    "# 2nd, impute by region \n",
    "for i in geo_feats:\n",
    "    telreg_geo_imputed = hf.num_imputation(telreg_geo_imputed, i, 'region')\n",
    "# 3rd, impute by country\n",
    "for i in geo_feats:\n",
    "    telreg_geo_imputed = hf.num_imputation(telreg_geo_imputed, i, 'country')\n",
    "# 4th, impute with overall mean \n",
    "for i in geo_feats:\n",
    "    telreg_geo_imputed[i].fillna(telreg_geo_imputed[i].mean(skipna = True), inplace = True)\n",
    "    \n",
    "# check for missing values in geo_feats\n",
    "for col in geo_feats:\n",
    "    print(f'{col}: {telreg_geo_imputed[col].isna().sum()}')"
   ]
  },
  {
   "cell_type": "markdown",
   "metadata": {},
   "source": [
    "## Drop Postcode Columns\n",
    "<a id='droppc'></a>"
   ]
  },
  {
   "cell_type": "code",
   "execution_count": 42,
   "metadata": {},
   "outputs": [],
   "source": [
    "postcode_cols = parameters.postcode_cols\n",
    "\n",
    "# remove postcode cols except Postcode_Sector (live feature)\n",
    "telreg_geo_imputed = hf.drop_columns(telreg_geo_imputed, postcode_cols)"
   ]
  },
  {
   "cell_type": "code",
   "execution_count": 43,
   "metadata": {},
   "outputs": [],
   "source": [
    "df_raw2 = telreg_geo_imputed.copy()"
   ]
  },
  {
   "cell_type": "markdown",
   "metadata": {},
   "source": [
    "## Binning, Capping & Outlier Treatment\n",
    "<a id='bin'></a>"
   ]
  },
  {
   "cell_type": "code",
   "execution_count": 44,
   "metadata": {},
   "outputs": [
    {
     "name": "stderr",
     "output_type": "stream",
     "text": [
      "/home/ubuntu/.local/lib/python3.8/site-packages/seaborn/_decorators.py:36: FutureWarning: Pass the following variable as a keyword arg: x. From version 0.12, the only valid positional argument will be `data`, and passing other arguments without an explicit keyword will result in an error or misinterpretation.\n",
      "  warnings.warn(\n",
      "/home/ubuntu/.local/lib/python3.8/site-packages/seaborn/_core.py:1326: UserWarning: Vertical orientation ignored with only `x` specified.\n",
      "  warnings.warn(single_var_warning.format(\"Vertical\", \"x\"))\n",
      "/home/ubuntu/.local/lib/python3.8/site-packages/seaborn/distributions.py:2619: FutureWarning: `distplot` is a deprecated function and will be removed in a future version. Please adapt your code to use either `displot` (a figure-level function with similar flexibility) or `histplot` (an axes-level function for histograms).\n",
      "  warnings.warn(msg, FutureWarning)\n"
     ]
    },
    {
     "ename": "KeyboardInterrupt",
     "evalue": "",
     "output_type": "error",
     "traceback": [
      "\u001b[0;31m---------------------------------------------------------------------------\u001b[0m",
      "\u001b[0;31mKeyboardInterrupt\u001b[0m                         Traceback (most recent call last)",
      "\u001b[1;32m/home/ubuntu/Tel_Reg_2.0/Cancellation_Model/Step1_Processing.ipynb Cell 57\u001b[0m in \u001b[0;36m<cell line: 3>\u001b[0;34m()\u001b[0m\n\u001b[1;32m      <a href='vscode-notebook-cell://ssh-remote%2B7b22686f73744e616d65223a226177732d6563322d41686d61645f54656c526567227d/home/ubuntu/Tel_Reg_2.0/Cancellation_Model/Step1_Processing.ipynb#Y106sdnNjb2RlLXJlbW90ZQ%3D%3D?line=0'>1</a>\u001b[0m \u001b[39m# inspect numerical feats\u001b[39;00m\n\u001b[0;32m----> <a href='vscode-notebook-cell://ssh-remote%2B7b22686f73744e616d65223a226177732d6563322d41686d61645f54656c526567227d/home/ubuntu/Tel_Reg_2.0/Cancellation_Model/Step1_Processing.ipynb#Y106sdnNjb2RlLXJlbW90ZQ%3D%3D?line=2'>3</a>\u001b[0m bsp\u001b[39m.\u001b[39;49mnum_plotchart(df_raw2, float_cols)\n",
      "File \u001b[0;32m~/Tel_Reg_2.0/Cancellation_Model/../EDA/basicstatsandplotter.py:45\u001b[0m, in \u001b[0;36mnum_plotchart\u001b[0;34m(df, cols)\u001b[0m\n\u001b[1;32m     43\u001b[0m ax1\u001b[39m.\u001b[39mset_ylabel\u001b[39m=\u001b[39m col\n\u001b[1;32m     44\u001b[0m ax1\u001b[39m.\u001b[39mset_title(\u001b[39m'\u001b[39m\u001b[39mBox plot of \u001b[39m\u001b[39m{}\u001b[39;00m\u001b[39m'\u001b[39m\u001b[39m.\u001b[39mformat(col))\n\u001b[0;32m---> 45\u001b[0m sns\u001b[39m.\u001b[39;49mdistplot(df[col],ax\u001b[39m=\u001b[39;49max2) \n\u001b[1;32m     46\u001b[0m ax2\u001b[39m.\u001b[39mset_title(\u001b[39m'\u001b[39m\u001b[39mDistribution plot of \u001b[39m\u001b[39m{}\u001b[39;00m\u001b[39m'\u001b[39m\u001b[39m.\u001b[39mformat(col))\n\u001b[1;32m     47\u001b[0m plt\u001b[39m.\u001b[39mshow()\n",
      "File \u001b[0;32m~/.local/lib/python3.8/site-packages/seaborn/distributions.py:2687\u001b[0m, in \u001b[0;36mdistplot\u001b[0;34m(a, bins, hist, kde, rug, fit, hist_kws, kde_kws, rug_kws, fit_kws, color, vertical, norm_hist, axlabel, label, ax, x)\u001b[0m\n\u001b[1;32m   2685\u001b[0m \u001b[39mif\u001b[39;00m kde:\n\u001b[1;32m   2686\u001b[0m     kde_color \u001b[39m=\u001b[39m kde_kws\u001b[39m.\u001b[39mpop(\u001b[39m\"\u001b[39m\u001b[39mcolor\u001b[39m\u001b[39m\"\u001b[39m, color)\n\u001b[0;32m-> 2687\u001b[0m     kdeplot(a, vertical\u001b[39m=\u001b[39;49mvertical, ax\u001b[39m=\u001b[39;49max, color\u001b[39m=\u001b[39;49mkde_color, \u001b[39m*\u001b[39;49m\u001b[39m*\u001b[39;49mkde_kws)\n\u001b[1;32m   2688\u001b[0m     \u001b[39mif\u001b[39;00m kde_color \u001b[39m!=\u001b[39m color:\n\u001b[1;32m   2689\u001b[0m         kde_kws[\u001b[39m\"\u001b[39m\u001b[39mcolor\u001b[39m\u001b[39m\"\u001b[39m] \u001b[39m=\u001b[39m kde_color\n",
      "File \u001b[0;32m~/.local/lib/python3.8/site-packages/seaborn/_decorators.py:46\u001b[0m, in \u001b[0;36m_deprecate_positional_args.<locals>.inner_f\u001b[0;34m(*args, **kwargs)\u001b[0m\n\u001b[1;32m     36\u001b[0m     warnings\u001b[39m.\u001b[39mwarn(\n\u001b[1;32m     37\u001b[0m         \u001b[39m\"\u001b[39m\u001b[39mPass the following variable\u001b[39m\u001b[39m{}\u001b[39;00m\u001b[39m as \u001b[39m\u001b[39m{}\u001b[39;00m\u001b[39mkeyword arg\u001b[39m\u001b[39m{}\u001b[39;00m\u001b[39m: \u001b[39m\u001b[39m{}\u001b[39;00m\u001b[39m. \u001b[39m\u001b[39m\"\u001b[39m\n\u001b[1;32m     38\u001b[0m         \u001b[39m\"\u001b[39m\u001b[39mFrom version 0.12, the only valid positional argument \u001b[39m\u001b[39m\"\u001b[39m\n\u001b[0;32m   (...)\u001b[0m\n\u001b[1;32m     43\u001b[0m         \u001b[39mFutureWarning\u001b[39;00m\n\u001b[1;32m     44\u001b[0m     )\n\u001b[1;32m     45\u001b[0m kwargs\u001b[39m.\u001b[39mupdate({k: arg \u001b[39mfor\u001b[39;00m k, arg \u001b[39min\u001b[39;00m \u001b[39mzip\u001b[39m(sig\u001b[39m.\u001b[39mparameters, args)})\n\u001b[0;32m---> 46\u001b[0m \u001b[39mreturn\u001b[39;00m f(\u001b[39m*\u001b[39;49m\u001b[39m*\u001b[39;49mkwargs)\n",
      "File \u001b[0;32m~/.local/lib/python3.8/site-packages/seaborn/distributions.py:1770\u001b[0m, in \u001b[0;36mkdeplot\u001b[0;34m(x, y, shade, vertical, kernel, bw, gridsize, cut, clip, legend, cumulative, shade_lowest, cbar, cbar_ax, cbar_kws, ax, weights, hue, palette, hue_order, hue_norm, multiple, common_norm, common_grid, levels, thresh, bw_method, bw_adjust, log_scale, color, fill, data, data2, warn_singular, **kwargs)\u001b[0m\n\u001b[1;32m   1767\u001b[0m     \u001b[39mif\u001b[39;00m color \u001b[39mis\u001b[39;00m \u001b[39mnot\u001b[39;00m \u001b[39mNone\u001b[39;00m:\n\u001b[1;32m   1768\u001b[0m         plot_kws[\u001b[39m\"\u001b[39m\u001b[39mcolor\u001b[39m\u001b[39m\"\u001b[39m] \u001b[39m=\u001b[39m color\n\u001b[0;32m-> 1770\u001b[0m     p\u001b[39m.\u001b[39;49mplot_univariate_density(\n\u001b[1;32m   1771\u001b[0m         multiple\u001b[39m=\u001b[39;49mmultiple,\n\u001b[1;32m   1772\u001b[0m         common_norm\u001b[39m=\u001b[39;49mcommon_norm,\n\u001b[1;32m   1773\u001b[0m         common_grid\u001b[39m=\u001b[39;49mcommon_grid,\n\u001b[1;32m   1774\u001b[0m         fill\u001b[39m=\u001b[39;49mfill,\n\u001b[1;32m   1775\u001b[0m         legend\u001b[39m=\u001b[39;49mlegend,\n\u001b[1;32m   1776\u001b[0m         warn_singular\u001b[39m=\u001b[39;49mwarn_singular,\n\u001b[1;32m   1777\u001b[0m         estimate_kws\u001b[39m=\u001b[39;49mestimate_kws,\n\u001b[1;32m   1778\u001b[0m         \u001b[39m*\u001b[39;49m\u001b[39m*\u001b[39;49mplot_kws,\n\u001b[1;32m   1779\u001b[0m     )\n\u001b[1;32m   1781\u001b[0m \u001b[39melse\u001b[39;00m:\n\u001b[1;32m   1783\u001b[0m     p\u001b[39m.\u001b[39mplot_bivariate_density(\n\u001b[1;32m   1784\u001b[0m         common_norm\u001b[39m=\u001b[39mcommon_norm,\n\u001b[1;32m   1785\u001b[0m         fill\u001b[39m=\u001b[39mfill,\n\u001b[0;32m   (...)\u001b[0m\n\u001b[1;32m   1795\u001b[0m         \u001b[39m*\u001b[39m\u001b[39m*\u001b[39mkwargs,\n\u001b[1;32m   1796\u001b[0m     )\n",
      "File \u001b[0;32m~/.local/lib/python3.8/site-packages/seaborn/distributions.py:928\u001b[0m, in \u001b[0;36m_DistributionPlotter.plot_univariate_density\u001b[0;34m(self, multiple, common_norm, common_grid, warn_singular, fill, legend, estimate_kws, **plot_kws)\u001b[0m\n\u001b[1;32m    925\u001b[0m log_scale \u001b[39m=\u001b[39m \u001b[39mself\u001b[39m\u001b[39m.\u001b[39m_log_scaled(\u001b[39mself\u001b[39m\u001b[39m.\u001b[39mdata_variable)\n\u001b[1;32m    927\u001b[0m \u001b[39m# Do the computation\u001b[39;00m\n\u001b[0;32m--> 928\u001b[0m densities \u001b[39m=\u001b[39m \u001b[39mself\u001b[39;49m\u001b[39m.\u001b[39;49m_compute_univariate_density(\n\u001b[1;32m    929\u001b[0m     \u001b[39mself\u001b[39;49m\u001b[39m.\u001b[39;49mdata_variable,\n\u001b[1;32m    930\u001b[0m     common_norm,\n\u001b[1;32m    931\u001b[0m     common_grid,\n\u001b[1;32m    932\u001b[0m     estimate_kws,\n\u001b[1;32m    933\u001b[0m     log_scale,\n\u001b[1;32m    934\u001b[0m     warn_singular,\n\u001b[1;32m    935\u001b[0m )\n\u001b[1;32m    937\u001b[0m \u001b[39m# Adjust densities based on the `multiple` rule\u001b[39;00m\n\u001b[1;32m    938\u001b[0m densities, baselines \u001b[39m=\u001b[39m \u001b[39mself\u001b[39m\u001b[39m.\u001b[39m_resolve_multiple(densities, multiple)\n",
      "File \u001b[0;32m~/.local/lib/python3.8/site-packages/seaborn/distributions.py:326\u001b[0m, in \u001b[0;36m_DistributionPlotter._compute_univariate_density\u001b[0;34m(self, data_variable, common_norm, common_grid, estimate_kws, log_scale, warn_singular)\u001b[0m\n\u001b[1;32m    323\u001b[0m     weights \u001b[39m=\u001b[39m \u001b[39mNone\u001b[39;00m\n\u001b[1;32m    325\u001b[0m \u001b[39m# Estimate the density of observations at this level\u001b[39;00m\n\u001b[0;32m--> 326\u001b[0m density, support \u001b[39m=\u001b[39m estimator(observations, weights\u001b[39m=\u001b[39;49mweights)\n\u001b[1;32m    328\u001b[0m \u001b[39mif\u001b[39;00m log_scale:\n\u001b[1;32m    329\u001b[0m     support \u001b[39m=\u001b[39m np\u001b[39m.\u001b[39mpower(\u001b[39m10\u001b[39m, support)\n",
      "File \u001b[0;32m~/.local/lib/python3.8/site-packages/seaborn/_statistics.py:187\u001b[0m, in \u001b[0;36mKDE.__call__\u001b[0;34m(self, x1, x2, weights)\u001b[0m\n\u001b[1;32m    185\u001b[0m \u001b[39m\"\"\"Fit and evaluate on univariate or bivariate data.\"\"\"\u001b[39;00m\n\u001b[1;32m    186\u001b[0m \u001b[39mif\u001b[39;00m x2 \u001b[39mis\u001b[39;00m \u001b[39mNone\u001b[39;00m:\n\u001b[0;32m--> 187\u001b[0m     \u001b[39mreturn\u001b[39;00m \u001b[39mself\u001b[39;49m\u001b[39m.\u001b[39;49m_eval_univariate(x1, weights)\n\u001b[1;32m    188\u001b[0m \u001b[39melse\u001b[39;00m:\n\u001b[1;32m    189\u001b[0m     \u001b[39mreturn\u001b[39;00m \u001b[39mself\u001b[39m\u001b[39m.\u001b[39m_eval_bivariate(x1, x2, weights)\n",
      "File \u001b[0;32m~/.local/lib/python3.8/site-packages/seaborn/_statistics.py:156\u001b[0m, in \u001b[0;36mKDE._eval_univariate\u001b[0;34m(self, x, weights)\u001b[0m\n\u001b[1;32m    152\u001b[0m     density \u001b[39m=\u001b[39m np\u001b[39m.\u001b[39marray([\n\u001b[1;32m    153\u001b[0m         kde\u001b[39m.\u001b[39mintegrate_box_1d(s_0, s_i) \u001b[39mfor\u001b[39;00m s_i \u001b[39min\u001b[39;00m support\n\u001b[1;32m    154\u001b[0m     ])\n\u001b[1;32m    155\u001b[0m \u001b[39melse\u001b[39;00m:\n\u001b[0;32m--> 156\u001b[0m     density \u001b[39m=\u001b[39m kde(support)\n\u001b[1;32m    158\u001b[0m \u001b[39mreturn\u001b[39;00m density, support\n",
      "File \u001b[0;32m~/.local/lib/python3.8/site-packages/scipy/stats/_kde.py:253\u001b[0m, in \u001b[0;36mgaussian_kde.evaluate\u001b[0;34m(self, points)\u001b[0m\n\u001b[1;32m    250\u001b[0m \u001b[39melse\u001b[39;00m:\n\u001b[1;32m    251\u001b[0m     \u001b[39mraise\u001b[39;00m \u001b[39mTypeError\u001b[39;00m(\u001b[39m'\u001b[39m\u001b[39m%s\u001b[39;00m\u001b[39m has unexpected item size \u001b[39m\u001b[39m%d\u001b[39;00m\u001b[39m'\u001b[39m \u001b[39m%\u001b[39m\n\u001b[1;32m    252\u001b[0m                     (output_dtype, itemsize))\n\u001b[0;32m--> 253\u001b[0m result \u001b[39m=\u001b[39m gaussian_kernel_estimate[spec](\u001b[39mself\u001b[39;49m\u001b[39m.\u001b[39;49mdataset\u001b[39m.\u001b[39;49mT, \u001b[39mself\u001b[39;49m\u001b[39m.\u001b[39;49mweights[:, \u001b[39mNone\u001b[39;49;00m],\n\u001b[1;32m    254\u001b[0m                                         points\u001b[39m.\u001b[39;49mT, \u001b[39mself\u001b[39;49m\u001b[39m.\u001b[39;49minv_cov, output_dtype)\n\u001b[1;32m    255\u001b[0m \u001b[39mreturn\u001b[39;00m result[:, \u001b[39m0\u001b[39m]\n",
      "\u001b[0;31mKeyboardInterrupt\u001b[0m: "
     ]
    },
    {
     "data": {
      "image/png": "[encoded data removed]",
      "text/plain": [
       "<Figure size 1400x500 with 2 Axes>"
      ]
     },
     "metadata": {
      "needs_background": "light"
     },
     "output_type": "display_data"
    }
   ],
   "source": [
    "# inspect numerical feats\n",
    "\n",
    "bsp.num_plotchart(df_raw2, float_cols)"
   ]
  },
  {
   "cell_type": "markdown",
   "metadata": {},
   "source": [
    "### Item Age"
   ]
  },
  {
   "cell_type": "code",
   "execution_count": null,
   "metadata": {},
   "outputs": [],
   "source": [
    "bsp.grouped_num_kde(df_raw2, 'AppAge', 'cancelflag')"
   ]
  },
  {
   "cell_type": "code",
   "execution_count": null,
   "metadata": {},
   "outputs": [],
   "source": [
    "df_raw2.columns"
   ]
  },
  {
   "cell_type": "code",
   "execution_count": null,
   "metadata": {},
   "outputs": [],
   "source": [
    "num_plot_no_pred(df_raw2, ['AppAge'], 1, 1, 'cancelflag', 'offertotalprice', nbins=10, target_lim = None)"
   ]
  },
  {
   "cell_type": "markdown",
   "metadata": {},
   "source": [
    "### Purchase Price"
   ]
  },
  {
   "cell_type": "code",
   "execution_count": 45,
   "metadata": {},
   "outputs": [],
   "source": [
    "df = df_raw2.copy()\n",
    "\n",
    "# cap price\n",
    "df = df[df['PurchasePrice'] <= 1500]"
   ]
  },
  {
   "cell_type": "code",
   "execution_count": 46,
   "metadata": {},
   "outputs": [
    {
     "data": {
      "image/png": "[encoded data removed]",
      "text/plain": [
       "<Figure size 1000x500 with 1 Axes>"
      ]
     },
     "metadata": {
      "needs_background": "light"
     },
     "output_type": "display_data"
    }
   ],
   "source": [
    "# ClaimPast5YearCount capped below 20\n",
    "bsp.grouped_num_kde(df[df['ClaimPast5YearCount']<20], 'ClaimPast5YearCount', 'ClientGroupCode')"
   ]
  },
  {
   "cell_type": "code",
   "execution_count": 47,
   "metadata": {},
   "outputs": [],
   "source": [
    "# cap claims\n",
    "\n",
    "df = df[df['ClaimPast5YearCount']<=10]"
   ]
  },
  {
   "cell_type": "markdown",
   "metadata": {},
   "source": [
    "## Outlier Treatment\n",
    "<a id='out'></a>"
   ]
  },
  {
   "cell_type": "code",
   "execution_count": 48,
   "metadata": {},
   "outputs": [
    {
     "data": {
      "text/plain": [
       "(641180, 71)"
      ]
     },
     "execution_count": 48,
     "metadata": {},
     "output_type": "execute_result"
    }
   ],
   "source": [
    "# remove outliers \n",
    "\n",
    "for i in ['PurchasePrice','ClaimAmount5YearTotal', 'PlansCancelledPast5YearCount', 'PlansActivePast1yrCount', 'PlansAcceptedPast5YearCount', 'PlansAcceptedPast1YearCount', 'AppAge', 'PlanLiveCount'\n",
    "]:    \n",
    "    df_filt = df[~df[i].isin(dif.findoutliers(df[i]))]\n",
    "\n",
    "df_filt.shape"
   ]
  },
  {
   "cell_type": "code",
   "execution_count": 49,
   "metadata": {},
   "outputs": [
    {
     "data": {
      "text/html": [
       "<div>\n",
       "<style scoped>\n",
       "    .dataframe tbody tr th:only-of-type {\n",
       "        vertical-align: middle;\n",
       "    }\n",
       "\n",
       "    .dataframe tbody tr th {\n",
       "        vertical-align: top;\n",
       "    }\n",
       "\n",
       "    .dataframe thead th {\n",
       "        text-align: right;\n",
       "    }\n",
       "</style>\n",
       "<table border=\"1\" class=\"dataframe\">\n",
       "  <thead>\n",
       "    <tr style=\"text-align: right;\">\n",
       "      <th></th>\n",
       "      <th>PeriodOfCover</th>\n",
       "      <th>PaymentType</th>\n",
       "    </tr>\n",
       "  </thead>\n",
       "  <tbody>\n",
       "    <tr>\n",
       "      <th>0</th>\n",
       "      <td>12.0</td>\n",
       "      <td>DD</td>\n",
       "    </tr>\n",
       "    <tr>\n",
       "      <th>1</th>\n",
       "      <td>12.0</td>\n",
       "      <td>DD</td>\n",
       "    </tr>\n",
       "    <tr>\n",
       "      <th>2</th>\n",
       "      <td>12.0</td>\n",
       "      <td>DD</td>\n",
       "    </tr>\n",
       "    <tr>\n",
       "      <th>3</th>\n",
       "      <td>12.0</td>\n",
       "      <td>DD</td>\n",
       "    </tr>\n",
       "    <tr>\n",
       "      <th>4</th>\n",
       "      <td>12.0</td>\n",
       "      <td>DD</td>\n",
       "    </tr>\n",
       "  </tbody>\n",
       "</table>\n",
       "</div>"
      ],
      "text/plain": [
       "   PeriodOfCover PaymentType\n",
       "0           12.0          DD\n",
       "1           12.0          DD\n",
       "2           12.0          DD\n",
       "3           12.0          DD\n",
       "4           12.0          DD"
      ]
     },
     "execution_count": 49,
     "metadata": {},
     "output_type": "execute_result"
    }
   ],
   "source": [
    "df_filt[['PeriodOfCover', 'PaymentType']].head()"
   ]
  },
  {
   "cell_type": "code",
   "execution_count": 50,
   "metadata": {},
   "outputs": [
    {
     "name": "stdout",
     "output_type": "stream",
     "text": [
      "File saved as :TelReg_Canx_dedup.csv\n"
     ]
    }
   ],
   "source": [
    "conn_s3.write(df_filt, 'TelReg_Canx_dedup.csv')"
   ]
  },
  {
   "cell_type": "code",
   "execution_count": null,
   "metadata": {},
   "outputs": [],
   "source": [
    "df_filt[['Postcode_Sector','personaddresspostcode']].head()"
   ]
  }
 ],
 "metadata": {
  "kernelspec": {
   "display_name": "Python 3.9.7 ('base')",
   "language": "python",
   "name": "python3"
  },
  "language_info": {
   "codemirror_mode": {
    "name": "ipython",
    "version": 3
   },
   "file_extension": ".py",
   "mimetype": "text/x-python",
   "name": "python",
   "nbconvert_exporter": "python",
   "pygments_lexer": "ipython3",
   "version": "3.9.7"
  },
  "vscode": {
   "interpreter": {
    "hash": "caf1c2fcf97217de91eafa76b907d50f9ea378f5ffbee7f571142d119bb6a771"
   }
  }
 },
 "nbformat": 4,
 "nbformat_minor": 4
}
