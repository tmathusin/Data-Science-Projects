{
 "cells": [
  {
   "cell_type": "markdown",
   "metadata": {},
   "source": [
    "# For Plans Started in Jan 2021 - Jun 2021"
   ]
  },
  {
   "cell_type": "code",
   "execution_count": 1,
   "metadata": {
    "scrolled": true,
    "vscode": {
     "languageId": "python"
    }
   },
   "outputs": [],
   "source": [
    "import pandas as pd\n",
    "import numpy as np\n",
    "from datetime import datetime\n",
    "from dgpylib import dg_athena\n",
    "from dgpylib import dg_s3 \n",
    "import os\n",
    "import re\n",
    "from dateutil.relativedelta import relativedelta\n",
    "\n",
    "import sys\n",
    "sys.path.insert(0, '../EDA')\n",
    "import basicstatsandplotter as bstatsplot\n",
    "\n",
    "from matplotlib import pyplot as plt\n",
    "import seaborn as sns\n",
    "from matplotlib.ticker import MaxNLocator\n",
    "\n",
    "plt.rcParams['figure.figsize'] = [10, 5]\n",
    "plt.rcParams['figure.dpi'] = 100"
   ]
  },
  {
   "cell_type": "code",
   "execution_count": 2,
   "metadata": {
    "vscode": {
     "languageId": "python"
    }
   },
   "outputs": [],
   "source": [
    "pd.set_option('display.max_columns', None)\n",
    "pd.set_option('display.max_rows', None)"
   ]
  },
  {
   "cell_type": "code",
   "execution_count": 3,
   "metadata": {
    "vscode": {
     "languageId": "python"
    }
   },
   "outputs": [],
   "source": [
    "# query_result = conn.read(query)\n",
    "# query_result"
   ]
  },
  {
   "cell_type": "code",
   "execution_count": 4,
   "metadata": {
    "vscode": {
     "languageId": "python"
    }
   },
   "outputs": [],
   "source": [
    "conn1 = dg_s3.Connect('dgdatadump/DS&CA/Pricing/02 Projects/2022/Tel_Reg_2.0/Cancellation Model')"
   ]
  },
  {
   "cell_type": "code",
   "execution_count": 5,
   "metadata": {
    "vscode": {
     "languageId": "python"
    }
   },
   "outputs": [
    {
     "data": {
      "text/html": [
       "<div>\n",
       "<style scoped>\n",
       "    .dataframe tbody tr th:only-of-type {\n",
       "        vertical-align: middle;\n",
       "    }\n",
       "\n",
       "    .dataframe tbody tr th {\n",
       "        vertical-align: top;\n",
       "    }\n",
       "\n",
       "    .dataframe thead th {\n",
       "        text-align: right;\n",
       "    }\n",
       "</style>\n",
       "<table border=\"1\" class=\"dataframe\">\n",
       "  <thead>\n",
       "    <tr style=\"text-align: right;\">\n",
       "      <th></th>\n",
       "      <th>offerreferencenumber</th>\n",
       "      <th>offereffectivedatetime</th>\n",
       "      <th>offereffectiveweek</th>\n",
       "      <th>offeracceptedprice</th>\n",
       "      <th>offerbusinesseventcode</th>\n",
       "      <th>offerpostcode</th>\n",
       "      <th>offeracceptedindicator</th>\n",
       "      <th>sale</th>\n",
       "      <th>offertotalprice</th>\n",
       "      <th>persongoldencopyid</th>\n",
       "      <th>itemgoldencopyid</th>\n",
       "      <th>itemeventuserid</th>\n",
       "      <th>contractcreateddate</th>\n",
       "      <th>contractstatuscode</th>\n",
       "      <th>contractcompanycode</th>\n",
       "      <th>contractschemecode</th>\n",
       "      <th>contractnumber</th>\n",
       "      <th>contractstatusname</th>\n",
       "      <th>contractenddate</th>\n",
       "      <th>contractmovementdate</th>\n",
       "      <th>contractoriginalstartdate</th>\n",
       "      <th>contractdimensionid</th>\n",
       "      <th>contracteventdatetime</th>\n",
       "      <th>itemcategoryname</th>\n",
       "      <th>itemsupercategorycode</th>\n",
       "      <th>itemgoodscategoryname</th>\n",
       "      <th>manufacturerbrandname</th>\n",
       "      <th>manufacturergroupname</th>\n",
       "      <th>itemmodelnumber</th>\n",
       "      <th>itempurchaseprice</th>\n",
       "      <th>itempurchasedatetime</th>\n",
       "      <th>itemlocationpostcode</th>\n",
       "      <th>personaddresspostcode</th>\n",
       "      <th>planno</th>\n",
       "      <th>gross</th>\n",
       "      <th>planaccdate</th>\n",
       "      <th>rec_status</th>\n",
       "      <th>planstatus</th>\n",
       "      <th>cocode</th>\n",
       "      <th>schcode</th>\n",
       "      <th>movementdate</th>\n",
       "      <th>PmhId</th>\n",
       "      <th>TotalPrice</th>\n",
       "      <th>PeriodOfCover</th>\n",
       "      <th>PricingVersionDescription</th>\n",
       "      <th>PredictedConversionRate</th>\n",
       "      <th>ModelId</th>\n",
       "      <th>PerhId</th>\n",
       "      <th>requested_purchasedate</th>\n",
       "      <th>requested_purchaprice</th>\n",
       "      <th>fee</th>\n",
       "      <th>retentionflag</th>\n",
       "      <th>planlivecount</th>\n",
       "      <th>plansactivepastoneyearcount</th>\n",
       "      <th>plansactivepastfiveyearcount</th>\n",
       "      <th>plansacceptedpastoneyearcount</th>\n",
       "      <th>plansacceptedpastfiveyearcount</th>\n",
       "      <th>planscancelledpastoneyearcount</th>\n",
       "      <th>planscancelledpastfiveyearcount</th>\n",
       "      <th>claimpastoneyearcount</th>\n",
       "      <th>claimpastthreeyearcount</th>\n",
       "      <th>claimpastfiveyearcount</th>\n",
       "      <th>claimamountoneyeartotal</th>\n",
       "      <th>claimamountthreeyeartotal</th>\n",
       "      <th>claimamountfiveyeartotal</th>\n",
       "      <th>prevrtppricetype</th>\n",
       "      <th>buseventcode</th>\n",
       "      <th>itemgoodscatcode</th>\n",
       "      <th>clientgroupdesc</th>\n",
       "      <th>schemetypename</th>\n",
       "      <th>clientaccountdesc</th>\n",
       "      <th>routetomarketname</th>\n",
       "      <th>requested_appliancecode</th>\n",
       "      <th>requested_clientcode</th>\n",
       "      <th>requested_clientgroupcode</th>\n",
       "      <th>requested_itemmanufbrandcode</th>\n",
       "      <th>requested_manugteeperiodlabourmonths</th>\n",
       "      <th>requested_manugteeperiodpartsmonths</th>\n",
       "      <th>offer_request_time</th>\n",
       "      <th>persongoldencopyid_dup</th>\n",
       "      <th>itemcategoryname_dup</th>\n",
       "      <th>manufacturerbrandname_dup</th>\n",
       "      <th>itemlocationpostcode_dup</th>\n",
       "      <th>itemmodelnumber_dup</th>\n",
       "      <th>itemmodelnumber_imputed</th>\n",
       "      <th>itemdiamondcopyid_imputed</th>\n",
       "      <th>itemdiamondcopyid</th>\n",
       "      <th>price_diff</th>\n",
       "      <th>offersourcereceiveddatetime</th>\n",
       "      <th>price_band</th>\n",
       "      <th>datemonth</th>\n",
       "      <th>year</th>\n",
       "      <th>offermonthyear</th>\n",
       "      <th>startmonthyear</th>\n",
       "      <th>contractmonthyear</th>\n",
       "      <th>offereventmonth</th>\n",
       "      <th>startmonth</th>\n",
       "      <th>contractmonth</th>\n",
       "      <th>contract_age</th>\n",
       "      <th>cancelflag</th>\n",
       "    </tr>\n",
       "  </thead>\n",
       "  <tbody>\n",
       "    <tr>\n",
       "      <th>0</th>\n",
       "      <td>351-010-003-741</td>\n",
       "      <td>2021-08-25 00:00:00.000</td>\n",
       "      <td>-16</td>\n",
       "      <td>65.04</td>\n",
       "      <td>REG</td>\n",
       "      <td>LS25 7DB</td>\n",
       "      <td>Y</td>\n",
       "      <td>1</td>\n",
       "      <td>65.04</td>\n",
       "      <td>461767.0</td>\n",
       "      <td>260957411.0</td>\n",
       "      <td>NaN</td>\n",
       "      <td>2021-08-25 00:00:00.000</td>\n",
       "      <td>N</td>\n",
       "      <td>D</td>\n",
       "      <td>AQK</td>\n",
       "      <td>71120</td>\n",
       "      <td>NEW</td>\n",
       "      <td>NaN</td>\n",
       "      <td>2021-08-25 00:00:00.000</td>\n",
       "      <td>2021-08-25 00:00:00.000</td>\n",
       "      <td>47224547</td>\n",
       "      <td>2022-06-02 05:35:00.000</td>\n",
       "      <td>cooker</td>\n",
       "      <td>CO</td>\n",
       "      <td>WHITE</td>\n",
       "      <td>AEG</td>\n",
       "      <td>AEG</td>\n",
       "      <td>NaN</td>\n",
       "      <td>700.00</td>\n",
       "      <td>2021-07-09 00:00:00.000</td>\n",
       "      <td>LS25 7DB</td>\n",
       "      <td>LS25 7DB</td>\n",
       "      <td>71120</td>\n",
       "      <td>65.04</td>\n",
       "      <td>2021-08-25 00:00:00.000</td>\n",
       "      <td>1</td>\n",
       "      <td>N</td>\n",
       "      <td>D</td>\n",
       "      <td>AQK</td>\n",
       "      <td>2021-08-25 00:00:00.000</td>\n",
       "      <td>22436268</td>\n",
       "      <td>65.04</td>\n",
       "      <td>12</td>\n",
       "      <td>FEE +-30%</td>\n",
       "      <td>1.00</td>\n",
       "      <td>NO MODEL</td>\n",
       "      <td>4863823.0</td>\n",
       "      <td>2021-07-14 00:00:00.000</td>\n",
       "      <td>700.00</td>\n",
       "      <td>58.80</td>\n",
       "      <td>0.0</td>\n",
       "      <td>6.0</td>\n",
       "      <td>8.0</td>\n",
       "      <td>19.0</td>\n",
       "      <td>1.0</td>\n",
       "      <td>17.0</td>\n",
       "      <td>2.0</td>\n",
       "      <td>13.0</td>\n",
       "      <td>4.0</td>\n",
       "      <td>10.0</td>\n",
       "      <td>14.0</td>\n",
       "      <td>296.33</td>\n",
       "      <td>831.45</td>\n",
       "      <td>1511.22</td>\n",
       "      <td>CAMPAIGN</td>\n",
       "      <td>REG</td>\n",
       "      <td>W</td>\n",
       "      <td>ELECTROLUX GROUP</td>\n",
       "      <td>TELEPHONE REGISTRATION</td>\n",
       "      <td>AEG</td>\n",
       "      <td>REG</td>\n",
       "      <td>CK</td>\n",
       "      <td>351.0</td>\n",
       "      <td>296.0</td>\n",
       "      <td>AEG</td>\n",
       "      <td>24.0</td>\n",
       "      <td>24.0</td>\n",
       "      <td>2021-08-25 22:00:41.000</td>\n",
       "      <td>NaN</td>\n",
       "      <td>NaN</td>\n",
       "      <td>NaN</td>\n",
       "      <td>NaN</td>\n",
       "      <td>NaN</td>\n",
       "      <td>XXX</td>\n",
       "      <td>461767cookerAEGXXXLS257DB</td>\n",
       "      <td>461767cookerAEGXXXLS257DB</td>\n",
       "      <td>0.106122</td>\n",
       "      <td>2021-08-25 09:42:45.373</td>\n",
       "      <td>[1.1, 1.2]</td>\n",
       "      <td>825</td>\n",
       "      <td>2021</td>\n",
       "      <td>2021-08</td>\n",
       "      <td>2021-08</td>\n",
       "      <td>2021-08</td>\n",
       "      <td>August</td>\n",
       "      <td>August</td>\n",
       "      <td>August</td>\n",
       "      <td>9.922175</td>\n",
       "      <td>0</td>\n",
       "    </tr>\n",
       "    <tr>\n",
       "      <th>1</th>\n",
       "      <td>094-001-352-193</td>\n",
       "      <td>2022-02-28 00:00:00.000</td>\n",
       "      <td>10</td>\n",
       "      <td>43.56</td>\n",
       "      <td>REG</td>\n",
       "      <td>DA8 2GT</td>\n",
       "      <td>Y</td>\n",
       "      <td>1</td>\n",
       "      <td>43.56</td>\n",
       "      <td>285454009.0</td>\n",
       "      <td>285429240.0</td>\n",
       "      <td>NaN</td>\n",
       "      <td>2022-02-28 00:00:00.000</td>\n",
       "      <td>N</td>\n",
       "      <td>D</td>\n",
       "      <td>AQK</td>\n",
       "      <td>85720</td>\n",
       "      <td>NEW</td>\n",
       "      <td>NaN</td>\n",
       "      <td>2022-02-28 00:00:00.000</td>\n",
       "      <td>2022-02-28 00:00:00.000</td>\n",
       "      <td>49986046</td>\n",
       "      <td>2022-02-28 10:20:35.000</td>\n",
       "      <td>dishwasher</td>\n",
       "      <td>CE</td>\n",
       "      <td>WHITE</td>\n",
       "      <td>AEG</td>\n",
       "      <td>AEG</td>\n",
       "      <td>FFE63806P</td>\n",
       "      <td>1029.99</td>\n",
       "      <td>2022-02-26 00:00:00.000</td>\n",
       "      <td>DA8 2GT</td>\n",
       "      <td>DA8 2GT</td>\n",
       "      <td>85720</td>\n",
       "      <td>43.56</td>\n",
       "      <td>2022-02-28 00:00:00.000</td>\n",
       "      <td>1</td>\n",
       "      <td>N</td>\n",
       "      <td>D</td>\n",
       "      <td>AQK</td>\n",
       "      <td>2022-02-28 00:00:00.000</td>\n",
       "      <td>33911482</td>\n",
       "      <td>43.56</td>\n",
       "      <td>12</td>\n",
       "      <td>TEL REG OPT TARGET 27%</td>\n",
       "      <td>0.23</td>\n",
       "      <td>614C95E4EF9C67AD01949B23/614CA1505613CB56B17145AD</td>\n",
       "      <td>16018796.0</td>\n",
       "      <td>2022-02-26 00:00:00.000</td>\n",
       "      <td>1029.99</td>\n",
       "      <td>43.32</td>\n",
       "      <td>0.0</td>\n",
       "      <td>0.0</td>\n",
       "      <td>0.0</td>\n",
       "      <td>0.0</td>\n",
       "      <td>0.0</td>\n",
       "      <td>0.0</td>\n",
       "      <td>0.0</td>\n",
       "      <td>0.0</td>\n",
       "      <td>0.0</td>\n",
       "      <td>0.0</td>\n",
       "      <td>0.0</td>\n",
       "      <td>0.00</td>\n",
       "      <td>0.00</td>\n",
       "      <td>0.00</td>\n",
       "      <td>NaN</td>\n",
       "      <td>REG</td>\n",
       "      <td>W</td>\n",
       "      <td>ELECTROLUX GROUP</td>\n",
       "      <td>TELEPHONE REGISTRATION</td>\n",
       "      <td>AEG</td>\n",
       "      <td>REG</td>\n",
       "      <td>DW</td>\n",
       "      <td>94.0</td>\n",
       "      <td>168.0</td>\n",
       "      <td>AEG</td>\n",
       "      <td>24.0</td>\n",
       "      <td>24.0</td>\n",
       "      <td>2022-02-28 22:00:41.000</td>\n",
       "      <td>285454009.0</td>\n",
       "      <td>dishwasher</td>\n",
       "      <td>AEG</td>\n",
       "      <td>DA8 2GT</td>\n",
       "      <td>FFE63806P</td>\n",
       "      <td>FFE63806P</td>\n",
       "      <td>285454009dishwasherAEGFFE63806PDA82GT</td>\n",
       "      <td>285454009dishwasherAEGFFE63806PDA82GT</td>\n",
       "      <td>0.005540</td>\n",
       "      <td>2022-02-28 10:10:29.306</td>\n",
       "      <td>[1.0, 1.1]</td>\n",
       "      <td>228</td>\n",
       "      <td>2022</td>\n",
       "      <td>2022-02</td>\n",
       "      <td>2022-02</td>\n",
       "      <td>2022-02</td>\n",
       "      <td>February</td>\n",
       "      <td>February</td>\n",
       "      <td>February</td>\n",
       "      <td>3.778312</td>\n",
       "      <td>0</td>\n",
       "    </tr>\n",
       "    <tr>\n",
       "      <th>2</th>\n",
       "      <td>170-008-683-838</td>\n",
       "      <td>2021-06-18 00:00:00.000</td>\n",
       "      <td>-26</td>\n",
       "      <td>41.88</td>\n",
       "      <td>REG</td>\n",
       "      <td>BN27 2FT</td>\n",
       "      <td>Y</td>\n",
       "      <td>1</td>\n",
       "      <td>41.88</td>\n",
       "      <td>257670777.0</td>\n",
       "      <td>257662870.0</td>\n",
       "      <td>NaN</td>\n",
       "      <td>2021-06-18 00:00:00.000</td>\n",
       "      <td>C</td>\n",
       "      <td>D</td>\n",
       "      <td>BNG</td>\n",
       "      <td>110554</td>\n",
       "      <td>CANCELLED</td>\n",
       "      <td>2021-10-04 00:00:00.000</td>\n",
       "      <td>2021-10-04 00:00:00.000</td>\n",
       "      <td>2021-06-18 00:00:00.000</td>\n",
       "      <td>42285939</td>\n",
       "      <td>2021-06-18 10:54:47.000</td>\n",
       "      <td>fridge freezer</td>\n",
       "      <td>RE</td>\n",
       "      <td>WHITE</td>\n",
       "      <td>INDESIT</td>\n",
       "      <td>INDESIT COMPANY</td>\n",
       "      <td>NaN</td>\n",
       "      <td>300.00</td>\n",
       "      <td>2021-06-17 00:00:00.000</td>\n",
       "      <td>BN27 2FT</td>\n",
       "      <td>BN27 2FT</td>\n",
       "      <td>110554</td>\n",
       "      <td>31.41</td>\n",
       "      <td>2021-06-18 00:00:00.000</td>\n",
       "      <td>1</td>\n",
       "      <td>C</td>\n",
       "      <td>D</td>\n",
       "      <td>BNG</td>\n",
       "      <td>2021-10-04 00:00:00.000</td>\n",
       "      <td>18693684</td>\n",
       "      <td>41.88</td>\n",
       "      <td>12</td>\n",
       "      <td>ASIS FEE</td>\n",
       "      <td>1.00</td>\n",
       "      <td>NO MODEL</td>\n",
       "      <td>1169649.0</td>\n",
       "      <td>2021-06-17 00:00:00.000</td>\n",
       "      <td>300.00</td>\n",
       "      <td>41.88</td>\n",
       "      <td>0.0</td>\n",
       "      <td>0.0</td>\n",
       "      <td>0.0</td>\n",
       "      <td>0.0</td>\n",
       "      <td>0.0</td>\n",
       "      <td>0.0</td>\n",
       "      <td>0.0</td>\n",
       "      <td>0.0</td>\n",
       "      <td>0.0</td>\n",
       "      <td>0.0</td>\n",
       "      <td>0.0</td>\n",
       "      <td>0.00</td>\n",
       "      <td>0.00</td>\n",
       "      <td>0.00</td>\n",
       "      <td>NaN</td>\n",
       "      <td>REG</td>\n",
       "      <td>W</td>\n",
       "      <td>INDESIT COMPANY</td>\n",
       "      <td>TELEPHONE REGISTRATION</td>\n",
       "      <td>INDESIT</td>\n",
       "      <td>REG</td>\n",
       "      <td>FF</td>\n",
       "      <td>170.0</td>\n",
       "      <td>138.0</td>\n",
       "      <td>INDE</td>\n",
       "      <td>12.0</td>\n",
       "      <td>120.0</td>\n",
       "      <td>2021-06-18 22:39:49.000</td>\n",
       "      <td>NaN</td>\n",
       "      <td>NaN</td>\n",
       "      <td>NaN</td>\n",
       "      <td>NaN</td>\n",
       "      <td>NaN</td>\n",
       "      <td>XXX</td>\n",
       "      <td>257670777fridgefreezerINDESITXXXBN272FT</td>\n",
       "      <td>257670777fridgefreezerINDESITXXXBN272FT</td>\n",
       "      <td>0.000000</td>\n",
       "      <td>2021-06-18 10:47:36.683</td>\n",
       "      <td>[0.99, 1.0]</td>\n",
       "      <td>1004</td>\n",
       "      <td>2021</td>\n",
       "      <td>2021-06</td>\n",
       "      <td>2021-06</td>\n",
       "      <td>2021-10</td>\n",
       "      <td>June</td>\n",
       "      <td>June</td>\n",
       "      <td>October</td>\n",
       "      <td>3.548327</td>\n",
       "      <td>1</td>\n",
       "    </tr>\n",
       "    <tr>\n",
       "      <th>3</th>\n",
       "      <td>170-012-414-353</td>\n",
       "      <td>2022-05-13 00:00:00.000</td>\n",
       "      <td>20</td>\n",
       "      <td>48.12</td>\n",
       "      <td>REG</td>\n",
       "      <td>WF17 7PS</td>\n",
       "      <td>Y</td>\n",
       "      <td>1</td>\n",
       "      <td>48.12</td>\n",
       "      <td>255886260.0</td>\n",
       "      <td>255891925.0</td>\n",
       "      <td>NaN</td>\n",
       "      <td>2022-05-13 00:00:00.000</td>\n",
       "      <td>N</td>\n",
       "      <td>D</td>\n",
       "      <td>WAY</td>\n",
       "      <td>18644</td>\n",
       "      <td>NEW</td>\n",
       "      <td>NaN</td>\n",
       "      <td>2022-05-13 00:00:00.000</td>\n",
       "      <td>2022-05-13 00:00:00.000</td>\n",
       "      <td>50976466</td>\n",
       "      <td>2022-05-13 12:51:22.000</td>\n",
       "      <td>freezer</td>\n",
       "      <td>RE</td>\n",
       "      <td>WHITE</td>\n",
       "      <td>HOTPOINT</td>\n",
       "      <td>HOTPOINT</td>\n",
       "      <td>HF1801EFAA</td>\n",
       "      <td>300.00</td>\n",
       "      <td>2021-02-07 00:00:00.000</td>\n",
       "      <td>WF17 7PS</td>\n",
       "      <td>WF17 7PS</td>\n",
       "      <td>18644</td>\n",
       "      <td>48.12</td>\n",
       "      <td>2022-05-13 00:00:00.000</td>\n",
       "      <td>1</td>\n",
       "      <td>N</td>\n",
       "      <td>D</td>\n",
       "      <td>WAY</td>\n",
       "      <td>2022-05-13 00:00:00.000</td>\n",
       "      <td>38283605</td>\n",
       "      <td>48.12</td>\n",
       "      <td>12</td>\n",
       "      <td>TEL REG GLM (SHINEGAMI) OPT TARGET MAX</td>\n",
       "      <td>0.55</td>\n",
       "      <td>H20 GLM</td>\n",
       "      <td>20226775.0</td>\n",
       "      <td>2021-02-07 00:00:00.000</td>\n",
       "      <td>300.00</td>\n",
       "      <td>37.08</td>\n",
       "      <td>0.0</td>\n",
       "      <td>1.0</td>\n",
       "      <td>1.0</td>\n",
       "      <td>1.0</td>\n",
       "      <td>1.0</td>\n",
       "      <td>1.0</td>\n",
       "      <td>0.0</td>\n",
       "      <td>0.0</td>\n",
       "      <td>1.0</td>\n",
       "      <td>1.0</td>\n",
       "      <td>1.0</td>\n",
       "      <td>85.03</td>\n",
       "      <td>85.03</td>\n",
       "      <td>85.03</td>\n",
       "      <td>NEW_BUSINESS</td>\n",
       "      <td>REG</td>\n",
       "      <td>W</td>\n",
       "      <td>INDESIT COMPANY</td>\n",
       "      <td>TELEPHONE REGISTRATION</td>\n",
       "      <td>HOTPOINT</td>\n",
       "      <td>REG</td>\n",
       "      <td>FZ</td>\n",
       "      <td>170.0</td>\n",
       "      <td>138.0</td>\n",
       "      <td>HOTP</td>\n",
       "      <td>12.0</td>\n",
       "      <td>120.0</td>\n",
       "      <td>2022-05-13 22:01:02.000</td>\n",
       "      <td>255886260.0</td>\n",
       "      <td>freezer</td>\n",
       "      <td>HOTPOINT</td>\n",
       "      <td>WF17 7PS</td>\n",
       "      <td>HF1801EFAA</td>\n",
       "      <td>HF1801EFAA</td>\n",
       "      <td>255886260freezerHOTPOINTHF1801EFAAWF177PS</td>\n",
       "      <td>255886260freezerHOTPOINTHF1801EFAAWF177PS</td>\n",
       "      <td>0.297735</td>\n",
       "      <td>2022-05-13 12:44:38.756</td>\n",
       "      <td>[1.2, 1.34]</td>\n",
       "      <td>513</td>\n",
       "      <td>2022</td>\n",
       "      <td>2022-05</td>\n",
       "      <td>2022-05</td>\n",
       "      <td>2022-05</td>\n",
       "      <td>May</td>\n",
       "      <td>May</td>\n",
       "      <td>May</td>\n",
       "      <td>1.347050</td>\n",
       "      <td>0</td>\n",
       "    </tr>\n",
       "    <tr>\n",
       "      <th>4</th>\n",
       "      <td>170-008-498-093</td>\n",
       "      <td>2021-05-31 00:00:00.000</td>\n",
       "      <td>-28</td>\n",
       "      <td>41.88</td>\n",
       "      <td>REG</td>\n",
       "      <td>HA5 3TD</td>\n",
       "      <td>Y</td>\n",
       "      <td>1</td>\n",
       "      <td>41.88</td>\n",
       "      <td>155803167.0</td>\n",
       "      <td>252022280.0</td>\n",
       "      <td>NaN</td>\n",
       "      <td>2021-05-31 00:00:00.000</td>\n",
       "      <td>C</td>\n",
       "      <td>D</td>\n",
       "      <td>AFT</td>\n",
       "      <td>29616</td>\n",
       "      <td>CANCELLED</td>\n",
       "      <td>2021-06-30 00:00:00.000</td>\n",
       "      <td>2021-06-30 00:00:00.000</td>\n",
       "      <td>2021-05-31 00:00:00.000</td>\n",
       "      <td>42039638</td>\n",
       "      <td>2021-06-30 14:37:15.000</td>\n",
       "      <td>coffee maker</td>\n",
       "      <td>MI</td>\n",
       "      <td>WHITE</td>\n",
       "      <td>BOSCH</td>\n",
       "      <td>BOSCH</td>\n",
       "      <td>NaN</td>\n",
       "      <td>150.00</td>\n",
       "      <td>2020-05-30 00:00:00.000</td>\n",
       "      <td>HA5 3TD</td>\n",
       "      <td>HA5 3TD</td>\n",
       "      <td>29616</td>\n",
       "      <td>41.88</td>\n",
       "      <td>2021-05-31 00:00:00.000</td>\n",
       "      <td>1</td>\n",
       "      <td>C</td>\n",
       "      <td>D</td>\n",
       "      <td>AFT</td>\n",
       "      <td>2021-06-30 00:00:00.000</td>\n",
       "      <td>17938270</td>\n",
       "      <td>41.88</td>\n",
       "      <td>12</td>\n",
       "      <td>ASIS FEE</td>\n",
       "      <td>1.00</td>\n",
       "      <td>NO MODEL</td>\n",
       "      <td>373752.0</td>\n",
       "      <td>2020-05-30 00:00:00.000</td>\n",
       "      <td>150.00</td>\n",
       "      <td>41.88</td>\n",
       "      <td>0.0</td>\n",
       "      <td>4.0</td>\n",
       "      <td>6.0</td>\n",
       "      <td>9.0</td>\n",
       "      <td>6.0</td>\n",
       "      <td>9.0</td>\n",
       "      <td>2.0</td>\n",
       "      <td>5.0</td>\n",
       "      <td>4.0</td>\n",
       "      <td>6.0</td>\n",
       "      <td>6.0</td>\n",
       "      <td>159.84</td>\n",
       "      <td>239.53</td>\n",
       "      <td>239.53</td>\n",
       "      <td>NaN</td>\n",
       "      <td>REG</td>\n",
       "      <td>W</td>\n",
       "      <td>BOSCH GROUP</td>\n",
       "      <td>TELEPHONE REGISTRATION</td>\n",
       "      <td>BOSCH</td>\n",
       "      <td>REG</td>\n",
       "      <td>ME</td>\n",
       "      <td>170.0</td>\n",
       "      <td>138.0</td>\n",
       "      <td>BOSC</td>\n",
       "      <td>24.0</td>\n",
       "      <td>12.0</td>\n",
       "      <td>2021-05-31 22:00:35.000</td>\n",
       "      <td>NaN</td>\n",
       "      <td>NaN</td>\n",
       "      <td>NaN</td>\n",
       "      <td>NaN</td>\n",
       "      <td>NaN</td>\n",
       "      <td>XXX</td>\n",
       "      <td>155803167coffeemakerBOSCHXXXHA53TD</td>\n",
       "      <td>155803167coffeemakerBOSCHXXXHA53TD</td>\n",
       "      <td>0.000000</td>\n",
       "      <td>2021-05-31 14:17:46.439</td>\n",
       "      <td>[0.99, 1.0]</td>\n",
       "      <td>630</td>\n",
       "      <td>2021</td>\n",
       "      <td>2021-05</td>\n",
       "      <td>2021-05</td>\n",
       "      <td>2021-06</td>\n",
       "      <td>May</td>\n",
       "      <td>May</td>\n",
       "      <td>June</td>\n",
       "      <td>0.985647</td>\n",
       "      <td>1</td>\n",
       "    </tr>\n",
       "  </tbody>\n",
       "</table>\n",
       "</div>"
      ],
      "text/plain": [
       "  offerreferencenumber   offereffectivedatetime  offereffectiveweek  \\\n",
       "0      351-010-003-741  2021-08-25 00:00:00.000                 -16   \n",
       "1      094-001-352-193  2022-02-28 00:00:00.000                  10   \n",
       "2      170-008-683-838  2021-06-18 00:00:00.000                 -26   \n",
       "3      170-012-414-353  2022-05-13 00:00:00.000                  20   \n",
       "4      170-008-498-093  2021-05-31 00:00:00.000                 -28   \n",
       "\n",
       "   offeracceptedprice offerbusinesseventcode offerpostcode  \\\n",
       "0               65.04                    REG      LS25 7DB   \n",
       "1               43.56                    REG       DA8 2GT   \n",
       "2               41.88                    REG      BN27 2FT   \n",
       "3               48.12                    REG      WF17 7PS   \n",
       "4               41.88                    REG       HA5 3TD   \n",
       "\n",
       "  offeracceptedindicator  sale  offertotalprice  persongoldencopyid  \\\n",
       "0                      Y     1            65.04            461767.0   \n",
       "1                      Y     1            43.56         285454009.0   \n",
       "2                      Y     1            41.88         257670777.0   \n",
       "3                      Y     1            48.12         255886260.0   \n",
       "4                      Y     1            41.88         155803167.0   \n",
       "\n",
       "   itemgoldencopyid itemeventuserid      contractcreateddate  \\\n",
       "0       260957411.0             NaN  2021-08-25 00:00:00.000   \n",
       "1       285429240.0             NaN  2022-02-28 00:00:00.000   \n",
       "2       257662870.0             NaN  2021-06-18 00:00:00.000   \n",
       "3       255891925.0             NaN  2022-05-13 00:00:00.000   \n",
       "4       252022280.0             NaN  2021-05-31 00:00:00.000   \n",
       "\n",
       "  contractstatuscode contractcompanycode contractschemecode  contractnumber  \\\n",
       "0                  N                   D                AQK           71120   \n",
       "1                  N                   D                AQK           85720   \n",
       "2                  C                   D                BNG          110554   \n",
       "3                  N                   D                WAY           18644   \n",
       "4                  C                   D                AFT           29616   \n",
       "\n",
       "  contractstatusname          contractenddate     contractmovementdate  \\\n",
       "0                NEW                      NaN  2021-08-25 00:00:00.000   \n",
       "1                NEW                      NaN  2022-02-28 00:00:00.000   \n",
       "2          CANCELLED  2021-10-04 00:00:00.000  2021-10-04 00:00:00.000   \n",
       "3                NEW                      NaN  2022-05-13 00:00:00.000   \n",
       "4          CANCELLED  2021-06-30 00:00:00.000  2021-06-30 00:00:00.000   \n",
       "\n",
       "  contractoriginalstartdate  contractdimensionid    contracteventdatetime  \\\n",
       "0   2021-08-25 00:00:00.000             47224547  2022-06-02 05:35:00.000   \n",
       "1   2022-02-28 00:00:00.000             49986046  2022-02-28 10:20:35.000   \n",
       "2   2021-06-18 00:00:00.000             42285939  2021-06-18 10:54:47.000   \n",
       "3   2022-05-13 00:00:00.000             50976466  2022-05-13 12:51:22.000   \n",
       "4   2021-05-31 00:00:00.000             42039638  2021-06-30 14:37:15.000   \n",
       "\n",
       "  itemcategoryname itemsupercategorycode itemgoodscategoryname  \\\n",
       "0           cooker                    CO                 WHITE   \n",
       "1       dishwasher                    CE                 WHITE   \n",
       "2   fridge freezer                    RE                 WHITE   \n",
       "3          freezer                    RE                 WHITE   \n",
       "4     coffee maker                    MI                 WHITE   \n",
       "\n",
       "  manufacturerbrandname manufacturergroupname itemmodelnumber  \\\n",
       "0                   AEG                   AEG             NaN   \n",
       "1                   AEG                   AEG       FFE63806P   \n",
       "2               INDESIT       INDESIT COMPANY             NaN   \n",
       "3              HOTPOINT              HOTPOINT      HF1801EFAA   \n",
       "4                 BOSCH                 BOSCH             NaN   \n",
       "\n",
       "   itempurchaseprice     itempurchasedatetime itemlocationpostcode  \\\n",
       "0             700.00  2021-07-09 00:00:00.000             LS25 7DB   \n",
       "1            1029.99  2022-02-26 00:00:00.000              DA8 2GT   \n",
       "2             300.00  2021-06-17 00:00:00.000             BN27 2FT   \n",
       "3             300.00  2021-02-07 00:00:00.000             WF17 7PS   \n",
       "4             150.00  2020-05-30 00:00:00.000              HA5 3TD   \n",
       "\n",
       "  personaddresspostcode  planno  gross              planaccdate  rec_status  \\\n",
       "0              LS25 7DB   71120  65.04  2021-08-25 00:00:00.000           1   \n",
       "1               DA8 2GT   85720  43.56  2022-02-28 00:00:00.000           1   \n",
       "2              BN27 2FT  110554  31.41  2021-06-18 00:00:00.000           1   \n",
       "3              WF17 7PS   18644  48.12  2022-05-13 00:00:00.000           1   \n",
       "4               HA5 3TD   29616  41.88  2021-05-31 00:00:00.000           1   \n",
       "\n",
       "  planstatus cocode schcode             movementdate     PmhId  TotalPrice  \\\n",
       "0          N      D     AQK  2021-08-25 00:00:00.000  22436268       65.04   \n",
       "1          N      D     AQK  2022-02-28 00:00:00.000  33911482       43.56   \n",
       "2          C      D     BNG  2021-10-04 00:00:00.000  18693684       41.88   \n",
       "3          N      D     WAY  2022-05-13 00:00:00.000  38283605       48.12   \n",
       "4          C      D     AFT  2021-06-30 00:00:00.000  17938270       41.88   \n",
       "\n",
       "   PeriodOfCover               PricingVersionDescription  \\\n",
       "0             12                               FEE +-30%   \n",
       "1             12                  TEL REG OPT TARGET 27%   \n",
       "2             12                                ASIS FEE   \n",
       "3             12  TEL REG GLM (SHINEGAMI) OPT TARGET MAX   \n",
       "4             12                                ASIS FEE   \n",
       "\n",
       "   PredictedConversionRate                                            ModelId  \\\n",
       "0                     1.00                                           NO MODEL   \n",
       "1                     0.23  614C95E4EF9C67AD01949B23/614CA1505613CB56B17145AD   \n",
       "2                     1.00                                           NO MODEL   \n",
       "3                     0.55                                            H20 GLM   \n",
       "4                     1.00                                           NO MODEL   \n",
       "\n",
       "       PerhId   requested_purchasedate  requested_purchaprice    fee  \\\n",
       "0   4863823.0  2021-07-14 00:00:00.000                 700.00  58.80   \n",
       "1  16018796.0  2022-02-26 00:00:00.000                1029.99  43.32   \n",
       "2   1169649.0  2021-06-17 00:00:00.000                 300.00  41.88   \n",
       "3  20226775.0  2021-02-07 00:00:00.000                 300.00  37.08   \n",
       "4    373752.0  2020-05-30 00:00:00.000                 150.00  41.88   \n",
       "\n",
       "   retentionflag  planlivecount  plansactivepastoneyearcount  \\\n",
       "0            0.0            6.0                          8.0   \n",
       "1            0.0            0.0                          0.0   \n",
       "2            0.0            0.0                          0.0   \n",
       "3            0.0            1.0                          1.0   \n",
       "4            0.0            4.0                          6.0   \n",
       "\n",
       "   plansactivepastfiveyearcount  plansacceptedpastoneyearcount  \\\n",
       "0                          19.0                            1.0   \n",
       "1                           0.0                            0.0   \n",
       "2                           0.0                            0.0   \n",
       "3                           1.0                            1.0   \n",
       "4                           9.0                            6.0   \n",
       "\n",
       "   plansacceptedpastfiveyearcount  planscancelledpastoneyearcount  \\\n",
       "0                            17.0                             2.0   \n",
       "1                             0.0                             0.0   \n",
       "2                             0.0                             0.0   \n",
       "3                             1.0                             0.0   \n",
       "4                             9.0                             2.0   \n",
       "\n",
       "   planscancelledpastfiveyearcount  claimpastoneyearcount  \\\n",
       "0                             13.0                    4.0   \n",
       "1                              0.0                    0.0   \n",
       "2                              0.0                    0.0   \n",
       "3                              0.0                    1.0   \n",
       "4                              5.0                    4.0   \n",
       "\n",
       "   claimpastthreeyearcount  claimpastfiveyearcount  claimamountoneyeartotal  \\\n",
       "0                     10.0                    14.0                   296.33   \n",
       "1                      0.0                     0.0                     0.00   \n",
       "2                      0.0                     0.0                     0.00   \n",
       "3                      1.0                     1.0                    85.03   \n",
       "4                      6.0                     6.0                   159.84   \n",
       "\n",
       "   claimamountthreeyeartotal  claimamountfiveyeartotal prevrtppricetype  \\\n",
       "0                     831.45                   1511.22         CAMPAIGN   \n",
       "1                       0.00                      0.00              NaN   \n",
       "2                       0.00                      0.00              NaN   \n",
       "3                      85.03                     85.03     NEW_BUSINESS   \n",
       "4                     239.53                    239.53              NaN   \n",
       "\n",
       "  buseventcode itemgoodscatcode   clientgroupdesc          schemetypename  \\\n",
       "0          REG                W  ELECTROLUX GROUP  TELEPHONE REGISTRATION   \n",
       "1          REG                W  ELECTROLUX GROUP  TELEPHONE REGISTRATION   \n",
       "2          REG                W   INDESIT COMPANY  TELEPHONE REGISTRATION   \n",
       "3          REG                W   INDESIT COMPANY  TELEPHONE REGISTRATION   \n",
       "4          REG                W       BOSCH GROUP  TELEPHONE REGISTRATION   \n",
       "\n",
       "  clientaccountdesc routetomarketname requested_appliancecode  \\\n",
       "0               AEG               REG                      CK   \n",
       "1               AEG               REG                      DW   \n",
       "2           INDESIT               REG                      FF   \n",
       "3          HOTPOINT               REG                      FZ   \n",
       "4             BOSCH               REG                      ME   \n",
       "\n",
       "   requested_clientcode  requested_clientgroupcode  \\\n",
       "0                 351.0                      296.0   \n",
       "1                  94.0                      168.0   \n",
       "2                 170.0                      138.0   \n",
       "3                 170.0                      138.0   \n",
       "4                 170.0                      138.0   \n",
       "\n",
       "  requested_itemmanufbrandcode  requested_manugteeperiodlabourmonths  \\\n",
       "0                          AEG                                  24.0   \n",
       "1                          AEG                                  24.0   \n",
       "2                         INDE                                  12.0   \n",
       "3                         HOTP                                  12.0   \n",
       "4                         BOSC                                  24.0   \n",
       "\n",
       "   requested_manugteeperiodpartsmonths       offer_request_time  \\\n",
       "0                                 24.0  2021-08-25 22:00:41.000   \n",
       "1                                 24.0  2022-02-28 22:00:41.000   \n",
       "2                                120.0  2021-06-18 22:39:49.000   \n",
       "3                                120.0  2022-05-13 22:01:02.000   \n",
       "4                                 12.0  2021-05-31 22:00:35.000   \n",
       "\n",
       "   persongoldencopyid_dup itemcategoryname_dup manufacturerbrandname_dup  \\\n",
       "0                     NaN                  NaN                       NaN   \n",
       "1             285454009.0           dishwasher                       AEG   \n",
       "2                     NaN                  NaN                       NaN   \n",
       "3             255886260.0              freezer                  HOTPOINT   \n",
       "4                     NaN                  NaN                       NaN   \n",
       "\n",
       "  itemlocationpostcode_dup itemmodelnumber_dup itemmodelnumber_imputed  \\\n",
       "0                      NaN                 NaN                     XXX   \n",
       "1                  DA8 2GT           FFE63806P               FFE63806P   \n",
       "2                      NaN                 NaN                     XXX   \n",
       "3                 WF17 7PS          HF1801EFAA              HF1801EFAA   \n",
       "4                      NaN                 NaN                     XXX   \n",
       "\n",
       "                   itemdiamondcopyid_imputed  \\\n",
       "0                  461767cookerAEGXXXLS257DB   \n",
       "1      285454009dishwasherAEGFFE63806PDA82GT   \n",
       "2    257670777fridgefreezerINDESITXXXBN272FT   \n",
       "3  255886260freezerHOTPOINTHF1801EFAAWF177PS   \n",
       "4         155803167coffeemakerBOSCHXXXHA53TD   \n",
       "\n",
       "                           itemdiamondcopyid  price_diff  \\\n",
       "0                  461767cookerAEGXXXLS257DB    0.106122   \n",
       "1      285454009dishwasherAEGFFE63806PDA82GT    0.005540   \n",
       "2    257670777fridgefreezerINDESITXXXBN272FT    0.000000   \n",
       "3  255886260freezerHOTPOINTHF1801EFAAWF177PS    0.297735   \n",
       "4         155803167coffeemakerBOSCHXXXHA53TD    0.000000   \n",
       "\n",
       "  offersourcereceiveddatetime   price_band  datemonth  year offermonthyear  \\\n",
       "0     2021-08-25 09:42:45.373   [1.1, 1.2]        825  2021        2021-08   \n",
       "1     2022-02-28 10:10:29.306   [1.0, 1.1]        228  2022        2022-02   \n",
       "2     2021-06-18 10:47:36.683  [0.99, 1.0]       1004  2021        2021-06   \n",
       "3     2022-05-13 12:44:38.756  [1.2, 1.34]        513  2022        2022-05   \n",
       "4     2021-05-31 14:17:46.439  [0.99, 1.0]        630  2021        2021-05   \n",
       "\n",
       "  startmonthyear contractmonthyear offereventmonth startmonth contractmonth  \\\n",
       "0        2021-08           2021-08          August     August        August   \n",
       "1        2022-02           2022-02        February   February      February   \n",
       "2        2021-06           2021-10            June       June       October   \n",
       "3        2022-05           2022-05             May        May           May   \n",
       "4        2021-05           2021-06             May        May          June   \n",
       "\n",
       "   contract_age  cancelflag  \n",
       "0      9.922175           0  \n",
       "1      3.778312           0  \n",
       "2      3.548327           1  \n",
       "3      1.347050           0  \n",
       "4      0.985647           1  "
      ]
     },
     "execution_count": 5,
     "metadata": {},
     "output_type": "execute_result"
    }
   ],
   "source": [
    "raw_df = conn1.read('TelReg_Canx_dedup.csv') #TelReg_Canx_dedup\n",
    "\n",
    "raw_df.head()"
   ]
  },
  {
   "cell_type": "code",
   "execution_count": 6,
   "metadata": {
    "vscode": {
     "languageId": "python"
    }
   },
   "outputs": [
    {
     "data": {
      "text/plain": [
       "(616752, 100)"
      ]
     },
     "execution_count": 6,
     "metadata": {},
     "output_type": "execute_result"
    }
   ],
   "source": [
    "raw_df.shape"
   ]
  },
  {
   "cell_type": "code",
   "execution_count": 7,
   "metadata": {
    "scrolled": true,
    "vscode": {
     "languageId": "python"
    }
   },
   "outputs": [
    {
     "data": {
      "text/plain": [
       "['offerreferencenumber',\n",
       " 'offereffectivedatetime',\n",
       " 'offereffectiveweek',\n",
       " 'offeracceptedprice',\n",
       " 'offerbusinesseventcode',\n",
       " 'offerpostcode',\n",
       " 'offeracceptedindicator',\n",
       " 'sale',\n",
       " 'offertotalprice',\n",
       " 'persongoldencopyid',\n",
       " 'itemgoldencopyid',\n",
       " 'itemeventuserid',\n",
       " 'contractcreateddate',\n",
       " 'contractstatuscode',\n",
       " 'contractcompanycode',\n",
       " 'contractschemecode',\n",
       " 'contractnumber',\n",
       " 'contractstatusname',\n",
       " 'contractenddate',\n",
       " 'contractmovementdate',\n",
       " 'contractoriginalstartdate',\n",
       " 'contractdimensionid',\n",
       " 'contracteventdatetime',\n",
       " 'itemcategoryname',\n",
       " 'itemsupercategorycode',\n",
       " 'itemgoodscategoryname',\n",
       " 'manufacturerbrandname',\n",
       " 'manufacturergroupname',\n",
       " 'itemmodelnumber',\n",
       " 'itempurchaseprice',\n",
       " 'itempurchasedatetime',\n",
       " 'itemlocationpostcode',\n",
       " 'personaddresspostcode',\n",
       " 'planno',\n",
       " 'gross',\n",
       " 'planaccdate',\n",
       " 'rec_status',\n",
       " 'planstatus',\n",
       " 'cocode',\n",
       " 'schcode',\n",
       " 'movementdate',\n",
       " 'PmhId',\n",
       " 'TotalPrice',\n",
       " 'PeriodOfCover',\n",
       " 'PricingVersionDescription',\n",
       " 'PredictedConversionRate',\n",
       " 'ModelId',\n",
       " 'PerhId',\n",
       " 'requested_purchasedate',\n",
       " 'requested_purchaprice',\n",
       " 'fee',\n",
       " 'retentionflag',\n",
       " 'planlivecount',\n",
       " 'plansactivepastoneyearcount',\n",
       " 'plansactivepastfiveyearcount',\n",
       " 'plansacceptedpastoneyearcount',\n",
       " 'plansacceptedpastfiveyearcount',\n",
       " 'planscancelledpastoneyearcount',\n",
       " 'planscancelledpastfiveyearcount',\n",
       " 'claimpastoneyearcount',\n",
       " 'claimpastthreeyearcount',\n",
       " 'claimpastfiveyearcount',\n",
       " 'claimamountoneyeartotal',\n",
       " 'claimamountthreeyeartotal',\n",
       " 'claimamountfiveyeartotal',\n",
       " 'prevrtppricetype',\n",
       " 'buseventcode',\n",
       " 'itemgoodscatcode',\n",
       " 'clientgroupdesc',\n",
       " 'schemetypename',\n",
       " 'clientaccountdesc',\n",
       " 'routetomarketname',\n",
       " 'requested_appliancecode',\n",
       " 'requested_clientcode',\n",
       " 'requested_clientgroupcode',\n",
       " 'requested_itemmanufbrandcode',\n",
       " 'requested_manugteeperiodlabourmonths',\n",
       " 'requested_manugteeperiodpartsmonths',\n",
       " 'offer_request_time',\n",
       " 'persongoldencopyid_dup',\n",
       " 'itemcategoryname_dup',\n",
       " 'manufacturerbrandname_dup',\n",
       " 'itemlocationpostcode_dup',\n",
       " 'itemmodelnumber_dup',\n",
       " 'itemmodelnumber_imputed',\n",
       " 'itemdiamondcopyid_imputed',\n",
       " 'itemdiamondcopyid',\n",
       " 'price_diff',\n",
       " 'offersourcereceiveddatetime',\n",
       " 'price_band',\n",
       " 'datemonth',\n",
       " 'year',\n",
       " 'offermonthyear',\n",
       " 'startmonthyear',\n",
       " 'contractmonthyear',\n",
       " 'offereventmonth',\n",
       " 'startmonth',\n",
       " 'contractmonth',\n",
       " 'contract_age',\n",
       " 'cancelflag']"
      ]
     },
     "execution_count": 7,
     "metadata": {},
     "output_type": "execute_result"
    }
   ],
   "source": [
    "raw_df.columns.to_list()"
   ]
  },
  {
   "cell_type": "code",
   "execution_count": 8,
   "metadata": {
    "vscode": {
     "languageId": "python"
    }
   },
   "outputs": [],
   "source": [
    "# ????Filter out offers cancelled within 30 days?????\n",
    "\n",
    "# filt_df = raw_df.loc[(raw_df['daystocancel']>30)|(raw_df['daystocancel'].isna())]"
   ]
  },
  {
   "cell_type": "code",
   "execution_count": 9,
   "metadata": {
    "vscode": {
     "languageId": "python"
    }
   },
   "outputs": [],
   "source": [
    "col_list = ['offerreferencenumber',\n",
    "            'contractstatuscode',\n",
    "            'offereffectivedatetime',  \n",
    "            'planaccdate', \n",
    "            'contractcreateddate',\n",
    "            'movementdate',\n",
    "            'contract_age', \n",
    "            'contractenddate',\n",
    "            'contractnumber',\n",
    "            'offeracceptedprice'\n",
    "            ]\n",
    "col_list1 = ['offerreferencenumber',\n",
    "            'contractstatuscode',\n",
    "            'planaccdate',\n",
    "            'offereffectivedatetime',  \n",
    "            'movementdate', \n",
    "            'contractenddate',\n",
    "            'contractnumber',\n",
    "            'offeracceptedprice',\n",
    "            'contractcompanycode',\n",
    "            'contractschemecode'\n",
    "            ]"
   ]
  },
  {
   "cell_type": "code",
   "execution_count": 10,
   "metadata": {
    "vscode": {
     "languageId": "python"
    }
   },
   "outputs": [
    {
     "name": "stdout",
     "output_type": "stream",
     "text": [
      "2021-01-02 00:00:00.000 2022-06-23 00:00:00.000\n",
      "2021-01-01 00:00:00.000 2022-06-23 00:00:00.000\n"
     ]
    }
   ],
   "source": [
    "print(raw_df['movementdate'].min(), raw_df['movementdate'].max())\n",
    "print(raw_df['planaccdate'].min(), raw_df['planaccdate'].max())"
   ]
  },
  {
   "cell_type": "markdown",
   "metadata": {},
   "source": [
    "## Heating & Sky Filter"
   ]
  },
  {
   "cell_type": "code",
   "execution_count": null,
   "metadata": {
    "vscode": {
     "languageId": "python"
    }
   },
   "outputs": [],
   "source": [
    "\n",
    "filt_df = raw_df[(raw_df['manufacturerbrandname']!='SKY')&(raw_df['itemgoodscategoryname']!='HEATING')]\n",
    "filt_df.shape"
   ]
  },
  {
   "cell_type": "markdown",
   "metadata": {},
   "source": [
    "## Date Filter"
   ]
  },
  {
   "cell_type": "code",
   "execution_count": 12,
   "metadata": {
    "vscode": {
     "languageId": "python"
    }
   },
   "outputs": [
    {
     "data": {
      "text/plain": [
       "(388, 100)"
      ]
     },
     "execution_count": 12,
     "metadata": {},
     "output_type": "execute_result"
    }
   ],
   "source": [
    "filt_df[(filt_df['movementdate']>filt_df['planaccdate'])&(filt_df['contractstatuscode']=='N')].shape"
   ]
  },
  {
   "cell_type": "code",
   "execution_count": 13,
   "metadata": {
    "vscode": {
     "languageId": "python"
    }
   },
   "outputs": [
    {
     "data": {
      "text/plain": [
       "(0, 100)"
      ]
     },
     "execution_count": 13,
     "metadata": {},
     "output_type": "execute_result"
    }
   ],
   "source": [
    "# the above shows there are new plans whose movementdate are later than planaccdate\n",
    "# we will amend these movementdates to match their corresponding planaccdate\n",
    "\n",
    "filt_df['movementdate']=np.where((filt_df['movementdate']>filt_df['planaccdate'])&(filt_df['contractstatuscode']=='N'), filt_df['planaccdate'],filt_df['movementdate'])\n",
    "filt_df[(filt_df['movementdate']>filt_df['planaccdate'])&(filt_df['contractstatuscode']=='N')].shape"
   ]
  },
  {
   "cell_type": "code",
   "execution_count": 14,
   "metadata": {
    "vscode": {
     "languageId": "python"
    }
   },
   "outputs": [
    {
     "data": {
      "text/plain": [
       "Index(['offereffectivedatetime', 'contractcreateddate', 'contractenddate',\n",
       "       'contractmovementdate', 'contractoriginalstartdate',\n",
       "       'contracteventdatetime', 'itempurchasedatetime', 'planaccdate',\n",
       "       'movementdate', 'requested_purchasedate', 'offersourcereceiveddatetime',\n",
       "       'datemonth'],\n",
       "      dtype='object')"
      ]
     },
     "execution_count": 14,
     "metadata": {},
     "output_type": "execute_result"
    }
   ],
   "source": [
    "date_cols = filt_df.columns[filt_df.columns.str.lower().str.contains('date')]\n",
    "date_cols"
   ]
  },
  {
   "cell_type": "code",
   "execution_count": 15,
   "metadata": {
    "vscode": {
     "languageId": "python"
    }
   },
   "outputs": [],
   "source": [
    "# re-calculate contract age\n",
    "\n",
    "def date_fix(df, cols):\n",
    "    df[cols] = df[cols].apply(pd.to_datetime)\n",
    "\n",
    "date_fix(filt_df, date_cols)"
   ]
  },
  {
   "cell_type": "code",
   "execution_count": 16,
   "metadata": {
    "vscode": {
     "languageId": "python"
    }
   },
   "outputs": [
    {
     "data": {
      "text/plain": [
       "Timestamp('2022-05-31 00:00:00')"
      ]
     },
     "execution_count": 16,
     "metadata": {},
     "output_type": "execute_result"
    }
   ],
   "source": [
    "final_planaccdate = pd.Timestamp('2021-05-31 00:00:00')\n",
    "final_movementdate = final_planaccdate + relativedelta(months=12)\n",
    "final_movementdate"
   ]
  },
  {
   "cell_type": "code",
   "execution_count": 17,
   "metadata": {
    "vscode": {
     "languageId": "python"
    }
   },
   "outputs": [
    {
     "data": {
      "text/plain": [
       "count    120356.000000\n",
       "mean          3.761872\n",
       "std           4.023876\n",
       "min           0.000000\n",
       "25%           0.394259\n",
       "50%           2.168422\n",
       "75%           5.979589\n",
       "max          17.610218\n",
       "Name: contract_age, dtype: float64"
      ]
     },
     "execution_count": 17,
     "metadata": {},
     "output_type": "execute_result"
    }
   ],
   "source": [
    "# final date is 12 months after the last contract\n",
    "filt_df['contract_age']=np.where(filt_df['contractstatuscode']=='C', (filt_df['movementdate']-filt_df['planaccdate'])/np.timedelta64(1, 'M'), (final_movementdate-filt_df['planaccdate'])/np.timedelta64(1, 'M'))\n",
    "\n",
    "filt_df[filt_df['contractstatuscode']=='C']['contract_age'].describe()"
   ]
  },
  {
   "cell_type": "code",
   "execution_count": 18,
   "metadata": {
    "vscode": {
     "languageId": "python"
    }
   },
   "outputs": [],
   "source": [
    "# re-label plans that cancelled after 12 months\n",
    "filt_df['contractstatuscode'] = np.where((filt_df['contractstatuscode']=='C')&(filt_df['contract_age']>=12), 'N', filt_df['contractstatuscode'])"
   ]
  },
  {
   "cell_type": "code",
   "execution_count": 19,
   "metadata": {
    "vscode": {
     "languageId": "python"
    }
   },
   "outputs": [
    {
     "name": "stdout",
     "output_type": "stream",
     "text": [
      "200245\n",
      "11.992032690609664\n"
     ]
    }
   ],
   "source": [
    "# select cancelled plans that start within a 5 months period & whose contract age is less than 12 months\n",
    "filt_df1 = filt_df[(filt_df['planaccdate']>='2021-01-01')&(filt_df['planaccdate']<'2021-06-01')]\n",
    "print(filt_df1.shape[0])\n",
    "print(filt_df1[filt_df1['contractstatuscode']=='C']['contract_age'].max())"
   ]
  },
  {
   "cell_type": "code",
   "execution_count": 20,
   "metadata": {
    "vscode": {
     "languageId": "python"
    }
   },
   "outputs": [
    {
     "data": {
      "text/plain": [
       "count    42987.000000\n",
       "mean         4.219653\n",
       "std          3.737522\n",
       "min          0.000000\n",
       "25%          0.755662\n",
       "50%          3.055504\n",
       "75%          7.096655\n",
       "max         11.992033\n",
       "Name: contract_age, dtype: float64"
      ]
     },
     "execution_count": 20,
     "metadata": {},
     "output_type": "execute_result"
    }
   ],
   "source": [
    "# check if all cancelled contracts were cancelled within 12 months of start date\n",
    "filt_df1[filt_df1['contractstatuscode']=='C']['contract_age'].describe()"
   ]
  },
  {
   "cell_type": "markdown",
   "metadata": {},
   "source": [
    "## POC Filter"
   ]
  },
  {
   "cell_type": "code",
   "execution_count": 21,
   "metadata": {
    "vscode": {
     "languageId": "python"
    }
   },
   "outputs": [
    {
     "data": {
      "text/plain": [
       "12    200223\n",
       "36        11\n",
       "24         9\n",
       "48         2\n",
       "Name: PeriodOfCover, dtype: int64"
      ]
     },
     "execution_count": 21,
     "metadata": {},
     "output_type": "execute_result"
    }
   ],
   "source": [
    "# check for POC longer than 12 months\n",
    "\n",
    "filt_df1['PeriodOfCover'].value_counts()"
   ]
  },
  {
   "cell_type": "code",
   "execution_count": 22,
   "metadata": {
    "vscode": {
     "languageId": "python"
    }
   },
   "outputs": [
    {
     "data": {
      "text/plain": [
       "12    200223\n",
       "Name: PeriodOfCover, dtype: int64"
      ]
     },
     "execution_count": 22,
     "metadata": {},
     "output_type": "execute_result"
    }
   ],
   "source": [
    "# keep only POC == 12 months\n",
    "\n",
    "filt_df1 =  filt_df1[filt_df1['PeriodOfCover']==12]\n",
    "filt_df1['PeriodOfCover'].value_counts()"
   ]
  },
  {
   "cell_type": "code",
   "execution_count": 23,
   "metadata": {
    "vscode": {
     "languageId": "python"
    }
   },
   "outputs": [
    {
     "data": {
      "text/plain": [
       "array([[<AxesSubplot:title={'center':'contract_age'}>]], dtype=object)"
      ]
     },
     "execution_count": 23,
     "metadata": {},
     "output_type": "execute_result"
    },
    {
     "data": {
      "image/png": "[encoded data removed]",
      "text/plain": [
       "<Figure size 1000x500 with 1 Axes>"
      ]
     },
     "metadata": {
      "needs_background": "light"
     },
     "output_type": "display_data"
    }
   ],
   "source": [
    "# plot distribution of contract tenure for cancelled contracts\n",
    "df_canx_tenure = pd.DataFrame(filt_df1[filt_df1['contractstatuscode']=='C']['contract_age'])\n",
    "df_canx_tenure.hist()"
   ]
  },
  {
   "cell_type": "markdown",
   "metadata": {},
   "source": [
    "- Most people keep their contract to the end. Those who cancel tend to do it very early in the contract."
   ]
  },
  {
   "cell_type": "markdown",
   "metadata": {},
   "source": [
    "## Cancellation Rate"
   ]
  },
  {
   "cell_type": "markdown",
   "metadata": {},
   "source": [
    "### Without Filter"
   ]
  },
  {
   "cell_type": "code",
   "execution_count": 26,
   "metadata": {
    "vscode": {
     "languageId": "python"
    }
   },
   "outputs": [
    {
     "data": {
      "text/html": [
       "<div>\n",
       "<style scoped>\n",
       "    .dataframe tbody tr th:only-of-type {\n",
       "        vertical-align: middle;\n",
       "    }\n",
       "\n",
       "    .dataframe tbody tr th {\n",
       "        vertical-align: top;\n",
       "    }\n",
       "\n",
       "    .dataframe thead th {\n",
       "        text-align: right;\n",
       "    }\n",
       "</style>\n",
       "<table border=\"1\" class=\"dataframe\">\n",
       "  <thead>\n",
       "    <tr style=\"text-align: right;\">\n",
       "      <th></th>\n",
       "      <th>startmonthyear</th>\n",
       "      <th>cancel_count</th>\n",
       "      <th>offers</th>\n",
       "    </tr>\n",
       "  </thead>\n",
       "  <tbody>\n",
       "    <tr>\n",
       "      <th>0</th>\n",
       "      <td>2021-01</td>\n",
       "      <td>11177</td>\n",
       "      <td>42867</td>\n",
       "    </tr>\n",
       "    <tr>\n",
       "      <th>1</th>\n",
       "      <td>2021-02</td>\n",
       "      <td>10189</td>\n",
       "      <td>39512</td>\n",
       "    </tr>\n",
       "    <tr>\n",
       "      <th>2</th>\n",
       "      <td>2021-03</td>\n",
       "      <td>10765</td>\n",
       "      <td>43562</td>\n",
       "    </tr>\n",
       "    <tr>\n",
       "      <th>3</th>\n",
       "      <td>2021-04</td>\n",
       "      <td>8939</td>\n",
       "      <td>37022</td>\n",
       "    </tr>\n",
       "    <tr>\n",
       "      <th>4</th>\n",
       "      <td>2021-05</td>\n",
       "      <td>8797</td>\n",
       "      <td>37282</td>\n",
       "    </tr>\n",
       "    <tr>\n",
       "      <th>5</th>\n",
       "      <td>2021-06</td>\n",
       "      <td>8983</td>\n",
       "      <td>38568</td>\n",
       "    </tr>\n",
       "    <tr>\n",
       "      <th>6</th>\n",
       "      <td>2021-07</td>\n",
       "      <td>8333</td>\n",
       "      <td>37624</td>\n",
       "    </tr>\n",
       "    <tr>\n",
       "      <th>7</th>\n",
       "      <td>2021-08</td>\n",
       "      <td>6745</td>\n",
       "      <td>31948</td>\n",
       "    </tr>\n",
       "    <tr>\n",
       "      <th>8</th>\n",
       "      <td>2021-09</td>\n",
       "      <td>6736</td>\n",
       "      <td>33569</td>\n",
       "    </tr>\n",
       "    <tr>\n",
       "      <th>9</th>\n",
       "      <td>2021-10</td>\n",
       "      <td>6304</td>\n",
       "      <td>32448</td>\n",
       "    </tr>\n",
       "    <tr>\n",
       "      <th>10</th>\n",
       "      <td>2021-11</td>\n",
       "      <td>6023</td>\n",
       "      <td>33245</td>\n",
       "    </tr>\n",
       "    <tr>\n",
       "      <th>11</th>\n",
       "      <td>2021-12</td>\n",
       "      <td>5245</td>\n",
       "      <td>29689</td>\n",
       "    </tr>\n",
       "    <tr>\n",
       "      <th>12</th>\n",
       "      <td>2022-01</td>\n",
       "      <td>5452</td>\n",
       "      <td>33913</td>\n",
       "    </tr>\n",
       "    <tr>\n",
       "      <th>13</th>\n",
       "      <td>2022-02</td>\n",
       "      <td>5316</td>\n",
       "      <td>35688</td>\n",
       "    </tr>\n",
       "    <tr>\n",
       "      <th>14</th>\n",
       "      <td>2022-03</td>\n",
       "      <td>4181</td>\n",
       "      <td>32301</td>\n",
       "    </tr>\n",
       "    <tr>\n",
       "      <th>15</th>\n",
       "      <td>2022-04</td>\n",
       "      <td>3851</td>\n",
       "      <td>33922</td>\n",
       "    </tr>\n",
       "    <tr>\n",
       "      <th>16</th>\n",
       "      <td>2022-05</td>\n",
       "      <td>2528</td>\n",
       "      <td>29878</td>\n",
       "    </tr>\n",
       "    <tr>\n",
       "      <th>17</th>\n",
       "      <td>2022-06</td>\n",
       "      <td>792</td>\n",
       "      <td>13714</td>\n",
       "    </tr>\n",
       "  </tbody>\n",
       "</table>\n",
       "</div>"
      ],
      "text/plain": [
       "   startmonthyear  cancel_count  offers\n",
       "0         2021-01         11177   42867\n",
       "1         2021-02         10189   39512\n",
       "2         2021-03         10765   43562\n",
       "3         2021-04          8939   37022\n",
       "4         2021-05          8797   37282\n",
       "5         2021-06          8983   38568\n",
       "6         2021-07          8333   37624\n",
       "7         2021-08          6745   31948\n",
       "8         2021-09          6736   33569\n",
       "9         2021-10          6304   32448\n",
       "10        2021-11          6023   33245\n",
       "11        2021-12          5245   29689\n",
       "12        2022-01          5452   33913\n",
       "13        2022-02          5316   35688\n",
       "14        2022-03          4181   32301\n",
       "15        2022-04          3851   33922\n",
       "16        2022-05          2528   29878\n",
       "17        2022-06           792   13714"
      ]
     },
     "execution_count": 26,
     "metadata": {},
     "output_type": "execute_result"
    }
   ],
   "source": [
    "df_month_raw = pd.DataFrame(raw_df.groupby(['startmonthyear']).agg({'cancelflag': lambda x: x.sum(),'offerreferencenumber': lambda x: x.count()})).reset_index()\n",
    "df_month_raw.columns = ['startmonthyear','cancel_count', 'offers']\n",
    "df_month_raw"
   ]
  },
  {
   "cell_type": "code",
   "execution_count": 27,
   "metadata": {
    "vscode": {
     "languageId": "python"
    }
   },
   "outputs": [
    {
     "data": {
      "image/png": "[encoded data removed]",
      "text/plain": [
       "<Figure size 1000x500 with 1 Axes>"
      ]
     },
     "metadata": {
      "needs_background": "light"
     },
     "output_type": "display_data"
    }
   ],
   "source": [
    "offer_df = df_month_raw[['startmonthyear', 'offers']]\n",
    "\n",
    "ax = offer_df.plot.bar(x='startmonthyear', y='offers')"
   ]
  },
  {
   "cell_type": "markdown",
   "metadata": {},
   "source": [
    "### With Filter"
   ]
  },
  {
   "cell_type": "code",
   "execution_count": 28,
   "metadata": {
    "vscode": {
     "languageId": "python"
    }
   },
   "outputs": [
    {
     "data": {
      "text/html": [
       "<div>\n",
       "<style scoped>\n",
       "    .dataframe tbody tr th:only-of-type {\n",
       "        vertical-align: middle;\n",
       "    }\n",
       "\n",
       "    .dataframe tbody tr th {\n",
       "        vertical-align: top;\n",
       "    }\n",
       "\n",
       "    .dataframe thead th {\n",
       "        text-align: right;\n",
       "    }\n",
       "</style>\n",
       "<table border=\"1\" class=\"dataframe\">\n",
       "  <thead>\n",
       "    <tr style=\"text-align: right;\">\n",
       "      <th></th>\n",
       "      <th>startmonthyear</th>\n",
       "      <th>cancel_count</th>\n",
       "      <th>offers</th>\n",
       "      <th>cancel_rate</th>\n",
       "    </tr>\n",
       "  </thead>\n",
       "  <tbody>\n",
       "    <tr>\n",
       "      <th>0</th>\n",
       "      <td>2021-01</td>\n",
       "      <td>11175</td>\n",
       "      <td>42865</td>\n",
       "      <td>0.260702</td>\n",
       "    </tr>\n",
       "    <tr>\n",
       "      <th>1</th>\n",
       "      <td>2021-02</td>\n",
       "      <td>10187</td>\n",
       "      <td>39508</td>\n",
       "      <td>0.257847</td>\n",
       "    </tr>\n",
       "    <tr>\n",
       "      <th>2</th>\n",
       "      <td>2021-03</td>\n",
       "      <td>10757</td>\n",
       "      <td>43554</td>\n",
       "      <td>0.246981</td>\n",
       "    </tr>\n",
       "    <tr>\n",
       "      <th>3</th>\n",
       "      <td>2021-04</td>\n",
       "      <td>8936</td>\n",
       "      <td>37015</td>\n",
       "      <td>0.241416</td>\n",
       "    </tr>\n",
       "    <tr>\n",
       "      <th>4</th>\n",
       "      <td>2021-05</td>\n",
       "      <td>8796</td>\n",
       "      <td>37281</td>\n",
       "      <td>0.235938</td>\n",
       "    </tr>\n",
       "  </tbody>\n",
       "</table>\n",
       "</div>"
      ],
      "text/plain": [
       "  startmonthyear  cancel_count  offers  cancel_rate\n",
       "0        2021-01         11175   42865     0.260702\n",
       "1        2021-02         10187   39508     0.257847\n",
       "2        2021-03         10757   43554     0.246981\n",
       "3        2021-04          8936   37015     0.241416\n",
       "4        2021-05          8796   37281     0.235938"
      ]
     },
     "execution_count": 28,
     "metadata": {},
     "output_type": "execute_result"
    }
   ],
   "source": [
    "df_month = pd.DataFrame(filt_df1.groupby(['startmonthyear']).agg({'cancelflag': lambda x: x.sum(),'offerreferencenumber': lambda x: x.count()})).reset_index()\n",
    "\n",
    "df_month.columns = ['startmonthyear','cancel_count', 'offers']\n",
    "# df_month['cum_cancels'] = df_month['cancel_count'].cumsum()\n",
    "# df_month['cum_offers'] = df_month['offers'].cumsum()\n",
    "# df_month['cum_cancel_rate'] = df_month['cum_cancels']/df_month['cum_offers']\n",
    "df_month['cancel_rate'] = df_month['cancel_count']/(df_month['offers'])\n",
    "df_month"
   ]
  },
  {
   "cell_type": "code",
   "execution_count": 29,
   "metadata": {
    "vscode": {
     "languageId": "python"
    }
   },
   "outputs": [
    {
     "data": {
      "image/png": "[encoded data removed]",
      "text/plain": [
       "<Figure size 1000x500 with 2 Axes>"
      ]
     },
     "metadata": {
      "needs_background": "light"
     },
     "output_type": "display_data"
    }
   ],
   "source": [
    "# Plot cancellation rate\n",
    "\n",
    "y1 = df_month['cancel_rate']\n",
    "y2 = df_month['offers']\n",
    "\n",
    "x = df_month['startmonthyear']\n",
    "\n",
    "\n",
    "fig, ax1 = plt.subplots()\n",
    "\n",
    "ax2 = ax1.twinx()\n",
    "\n",
    "ax1.plot(x, y1, color = 'red', label = 'Cancellation Rate')\n",
    "y2.plot.bar(alpha=0.5)\n",
    "\n",
    "\n",
    "# ax2.yaxis.set_major_locator(MaxNLocator(integer=True))\n",
    "ax1.set_xlabel(\"Start Month-Year\")\n",
    "ax1.set_ylabel(\"Cancellation Rate\")\n",
    "ax2.set_ylabel(\"Offer Count\")\n",
    "ax1.set_xticklabels(x, rotation=45)\n",
    "\n",
    "ax1.set_xticklabels(x)\n",
    "ax1.set_ylim([0, .3])\n",
    "\n",
    "plt.legend()\n",
    "plt.title('Cancellation Rate by Plan Start Date')\n",
    "\n",
    "plt.show()"
   ]
  },
  {
   "cell_type": "markdown",
   "metadata": {},
   "source": [
    "There's a decline in cancellation rate for the observed period which suggests one of the following:\n",
    "- cancellation rate is declining in general\n",
    "- plans that start later in the year are less likely to cancel"
   ]
  }
 ],
 "metadata": {
  "interpreter": {
   "hash": "31f2aee4e71d21fbe5cf8b01ff0e069b9275f58929596ceb00d14d90e3e16cd6"
  },
  "kernelspec": {
   "display_name": "Python 3 (ipykernel)",
   "language": "python",
   "name": "python3"
  }
 },
 "nbformat": 4,
 "nbformat_minor": 4
}
