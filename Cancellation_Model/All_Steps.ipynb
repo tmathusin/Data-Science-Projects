{
 "cells": [
  {
   "cell_type": "markdown",
   "metadata": {},
   "source": [
    "# Content"
   ]
  },
  {
   "cell_type": "markdown",
   "metadata": {},
   "source": [
    "[Pre-processing](#section1)\n",
    "- [Preliminary Filters (POC, Heating, Sky, PricingVersionDescription)](#prefilt)\n",
    "- [Dedup](#dedup)\n",
    "- [Rename & Drop Columns](#rename)\n",
    "- [Data Formatting](#form)\n",
    "- [Basic Stats](#stats)\n",
    "- [Categorical Features](#catfeat)\n",
    "- [Numerical Features](#numfeat)\n",
    "- [Date Features(Formatting, Feature Engineering - offermonthyear, startmonthyear,contractmonthyear, offereventmonth, startmonth, contractmonth, contract_age, item_age)](#datefeat)\n",
    "- [Target Variable (cancelflag)](#target)\n",
    "\n",
    "[Cohort Analysis & Filter](#section2)\n",
    "- [Cohort Filter (Jun & Jul '21 start dates)](#cofilt)\n",
    "- [Cancellation Rate by Months of Tenure: 12](#canx)\n",
    "\n",
    "[Merge with Geovariable](#section3)\n",
    "- [Merge](#merge)\n",
    "- [Impute](#imp)\n",
    "- [Drop Postcode Columns](#droppc)\n",
    "\n",
    "[Final Processing](#section4)\n",
    "- [Split columns by type](#split)\n",
    "- [Count unique values](#countval)\n",
    "- [Single Value & Null Columns](#singlenull)\n",
    "- [Clean up](#clean)\n",
    "- [Impute Categorical Features](#impcat)\n",
    "- [Impute Numerical Features](#impnum)\n",
    "- [Impute Claims Features](impclaim)\n",
    "- [Binning, Capping & Outlier Treatment (PurchasePrice, item_price_bin, HPI_AveragePrice, ClaimPast5YearCount, claimpastfiveyearcount_bin)](#bin)\n",
    "- [Redundant & Leaky Features](#leak)\n",
    "- [Outlier Treatment](#out)\n",
    "\n",
    "[Modelling](#section5)\n",
    "- [Feature Importance](#featimp)\n",
    "- [Multicollinearity](#multicol)\n",
    "- [Model 1: GBM](#gbm)\n",
    "- [Model 2: GLM](#glm)\n",
    "- [Model 3: Random Forest](#rf)"
   ]
  },
  {
   "cell_type": "markdown",
   "metadata": {},
   "source": [
    "# Pre-Processing \n",
    "<a id=\"section1\"></a>"
   ]
  },
  {
   "cell_type": "code",
   "execution_count": 1,
   "metadata": {},
   "outputs": [
    {
     "name": "stdout",
     "output_type": "stream",
     "text": [
      "pandas version:1.3.4\n",
      "numpy version:1.20.3\n",
      "h2o version:3.36.0.4\n",
      "sklearn version:1.1.2\n"
     ]
    }
   ],
   "source": [
    "\n",
    "# Reloading\n",
    "%reload_ext autoreload\n",
    "%autoreload 2\n",
    "\n",
    "import pandas as pd\n",
    "print('pandas version:{}'.format(pd.__version__))\n",
    "import numpy as np\n",
    "print('numpy version:{}'.format(np.__version__))\n",
    "import math\n",
    "from datetime import datetime\n",
    "from dgpylib import dg_athena\n",
    "from dgpylib import dg_s3\n",
    "import os\n",
    "import re\n",
    "from matplotlib.ticker import MaxNLocator\n",
    "from matplotlib import pyplot as plt\n",
    "import seaborn as sns\n",
    "from datetime import timedelta\n",
    "from dateutil.relativedelta import relativedelta\n",
    "\n",
    "import sys\n",
    "sys.path.insert(0, '../Modelling')\n",
    "import helper_function2 as hf\n",
    "\n",
    "import sys\n",
    "sys.path.insert(0, '../EDA')\n",
    "import data_integrity_fixer as dint\n",
    "import basicstatsandplotter as bsp\n",
    "import data_imputer as di\n",
    "import data_integrity_fixer as dif\n",
    "import parameters\n",
    "\n",
    "##for modelling\n",
    "import h2o\n",
    "print('h2o version:{}'.format(h2o.__version__))\n",
    "from h2o.estimators import H2OXGBoostEstimator\n",
    "from h2o.grid.grid_search import H2OGridSearch\n",
    "from h2o.estimators.glm import H2OGeneralizedLinearEstimator\n",
    "from h2o.estimators import H2OTargetEncoderEstimator\n",
    "from h2o.estimators import H2ORandomForestEstimator\n",
    "from h2o.estimators import H2OGradientBoostingEstimator\n",
    "from h2o.tree import H2OTree\n",
    "from h2o.tree import H2ONode\n",
    "from h2o.tree import H2OSplitNode\n",
    "from h2o.tree import H2OLeafNode\n",
    "from h2o.estimators.kmeans import H2OKMeansEstimator\n",
    "\n",
    "#import xgboost as xgb\n",
    "import sklearn\n",
    "import category_encoders as ce\n",
    "print('sklearn version:{}'.format(sklearn.__version__))\n",
    "from sklearn import datasets\n",
    "from sklearn.metrics import mean_squared_error\n",
    "from sklearn import preprocessing\n",
    "from sklearn.model_selection import RandomizedSearchCV, GridSearchCV\n",
    "from sklearn.metrics import roc_auc_score\n",
    "from sklearn.model_selection import StratifiedKFold\n",
    "from datetime import datetime\n",
    "from sklearn.model_selection import train_test_split\n",
    "from sklearn.metrics import classification_report\n",
    "from sklearn.metrics import r2_score\n",
    "from sklearn.preprocessing import PowerTransformer\n",
    "import time\n",
    "import parameters\n",
    "from statsmodels.stats.outliers_influence import variance_inflation_factor\n",
    "\n",
    "%run 'functions.ipynb'\n",
    "\n",
    "plt.rcParams['figure.figsize'] = [10, 5]\n",
    "plt.rcParams['figure.dpi'] = 100"
   ]
  },
  {
   "cell_type": "code",
   "execution_count": 2,
   "metadata": {},
   "outputs": [],
   "source": [
    "pd.set_option('display.max_columns', None)\n",
    "pd.set_option('display.max_rows', None)"
   ]
  },
  {
   "cell_type": "code",
   "execution_count": 3,
   "metadata": {},
   "outputs": [
    {
     "name": "stdout",
     "output_type": "stream",
     "text": [
      "(751582, 92)\n",
      "1210102 1220818\n",
      "1210101 1220817\n"
     ]
    }
   ],
   "source": [
    "conn_s3 = dg_s3.Connect('dgdatadump/DS&CA/Pricing/02 Projects/2022/Tel_Reg_2.0/Cancellation Model')\n",
    "df_raw = conn_s3.read('TelReg_Cancellation_Planmaster.csv')\n",
    "print(df_raw.shape)\n",
    "print(df_raw['movementdate'].min(), df_raw['movementdate'].max())\n",
    "print(df_raw['planaccdate'].min(), df_raw['planaccdate'].max())"
   ]
  },
  {
   "cell_type": "markdown",
   "metadata": {},
   "source": [
    "## Preliminary Filters\n",
    "<a id='prefilt'></a>"
   ]
  },
  {
   "cell_type": "code",
   "execution_count": 4,
   "metadata": {},
   "outputs": [],
   "source": [
    "# keep only POC == 12 months\n",
    "df_raw =  df_raw[df_raw['PeriodOfCover']==12]\n",
    "\n",
    "# filter out Sky, Heating\n",
    "df_raw = df_raw[(df_raw['manufacturerbrandname']!='SKY')&(df_raw['itemgoodscategoryname']!='HEATING')]\n",
    "df_raw.shape\n",
    "\n",
    "df_raw = df_raw.loc[df_raw.PricingVersionDescription != 'TEST']"
   ]
  },
  {
   "cell_type": "markdown",
   "metadata": {},
   "source": [
    "## Dedup\n",
    "<a id='dedup'></a>"
   ]
  },
  {
   "cell_type": "code",
   "execution_count": 5,
   "metadata": {},
   "outputs": [
    {
     "data": {
      "text/plain": [
       "((721573, 92), (726675, 92))"
      ]
     },
     "execution_count": 5,
     "metadata": {},
     "output_type": "execute_result"
    }
   ],
   "source": [
    "# check duplicate offers\n",
    "df_raw[df_raw.duplicated(subset='offerreferencenumber')].shape\n",
    "\n",
    "# dedup offers\n",
    "df_dedup = df_raw.drop_duplicates(subset='offerreferencenumber', keep='first')\n",
    "df_dedup.shape, df_raw.shape"
   ]
  },
  {
   "cell_type": "markdown",
   "metadata": {},
   "source": [
    "## Rename & Drop Columns\n",
    "<a id='rename'></a>"
   ]
  },
  {
   "cell_type": "code",
   "execution_count": 6,
   "metadata": {},
   "outputs": [],
   "source": [
    "rename_list = parameters.rename_list\n",
    "drop_list = parameters.drop_list"
   ]
  },
  {
   "cell_type": "code",
   "execution_count": 7,
   "metadata": {},
   "outputs": [
    {
     "data": {
      "text/plain": [
       "((721573, 49), (726675, 92))"
      ]
     },
     "execution_count": 7,
     "metadata": {},
     "output_type": "execute_result"
    }
   ],
   "source": [
    "df = df_dedup.copy()\n",
    "df.rename(columns=rename_list, inplace=True)\n",
    "df = hf.drop_columns(df, drop_list)\n",
    "\n",
    "df.shape, df_raw.shape"
   ]
  },
  {
   "cell_type": "markdown",
   "metadata": {},
   "source": []
  },
  {
   "cell_type": "markdown",
   "metadata": {},
   "source": [
    "## Data Formatting\n",
    "<a id='form'></a>"
   ]
  },
  {
   "cell_type": "code",
   "execution_count": 8,
   "metadata": {},
   "outputs": [
    {
     "name": "stdout",
     "output_type": "stream",
     "text": [
      "ClientGroupCode : 198153 object\n",
      "ClientCode : 198153 object\n"
     ]
    }
   ],
   "source": [
    "# # Convert to Int\n",
    "# for col in ['ClaimPast1YearCount', 'ClaimPast3YearCount', 'ClaimPast5YearCount', 'PlanLiveCount', 'PlansAcceptedPast1YearCount', 'PlansAcceptedPast5YearCount', 'PlansActivePast1yrCount', 'PlansActivePast5yrCount', 'PlansCancelledPast1YearCount', 'PlansCancelledPast5YearCount']:\n",
    "#     df[col]= df[col].astype('Int64')\n",
    "    \n",
    "# Convert to Datetime\n",
    "df['CurrentDate'] = pd.to_datetime(df['CurrentDate']) \n",
    "df['PurchaseDate'] = pd.to_datetime(df['PurchaseDate'])\n",
    "\n",
    "# Convert to String\n",
    "for i in ['ClientGroupCode', 'ClientCode']:\n",
    "    df[i] = np.where(df[i].isna(), df[i], df[i].astype('string'))\n",
    "    print(i, ':', df[i].isna().sum(), df[i].dtypes)\n",
    "    # print(dif.get_othernulls_count(df[i]))\n",
    "# df.astype({\"PmhId\":str,\"PerhId\":str ,\"ClientGroupCode\": str,  \"ClientCode\": str})\n",
    "\n",
    "# Create new features\n",
    "df['HasPrevRTPPrice'] = np.where(df['PrevRTPPriceType'].isna(), 'N', 'Y')\n",
    "df['AppAge'] = (df['CurrentDate'] - df['PurchaseDate']) / np.timedelta64(1, 'D')\n",
    "df['relFee'] = df['Fee']/ df['PurchasePrice']\n",
    "df['relFeeInc'] = df['price_diff']/ df['PurchasePrice']\n",
    "df['PaymentType']= 'DD'\n",
    "\n",
    "# Impute Counts in Pricing Table\n",
    "to_impute = ['PlanLiveCount', 'PlansActivePast1yrCount',\n",
    "       'PlansActivePast5yrCount', 'PlansAcceptedPast1YearCount',\n",
    "       'PlansAcceptedPast5YearCount', 'PlansCancelledPast1YearCount',\n",
    "       'PlansCancelledPast5YearCount', 'ClaimPast1YearCount',\n",
    "       'ClaimPast3YearCount', 'ClaimPast5YearCount',\n",
    "       'ClaimAmount1YearTotal', 'ClaimAmount3YearTotal', 'ClaimAmount5YearTotal']\n",
    "\n",
    "df[to_impute] = df[to_impute].fillna(0)\n"
   ]
  },
  {
   "cell_type": "markdown",
   "metadata": {},
   "source": [
    "## Basic Statistics\n",
    "<a id='stats'></a>"
   ]
  },
  {
   "cell_type": "code",
   "execution_count": 9,
   "metadata": {},
   "outputs": [
    {
     "data": {
      "text/html": [
       "<style type=\"text/css\">\n",
       "</style>\n",
       "<table id=\"T_ef19c_\">\n",
       "  <thead>\n",
       "    <tr>\n",
       "      <th class=\"blank level0\" >&nbsp;</th>\n",
       "      <th class=\"col_heading level0 col0\" >ColName</th>\n",
       "      <th class=\"col_heading level0 col1\" >dtype</th>\n",
       "      <th class=\"col_heading level0 col2\" >Na_rows</th>\n",
       "      <th class=\"col_heading level0 col3\" >count</th>\n",
       "      <th class=\"col_heading level0 col4\" >mean</th>\n",
       "      <th class=\"col_heading level0 col5\" >std</th>\n",
       "      <th class=\"col_heading level0 col6\" >min</th>\n",
       "      <th class=\"col_heading level0 col7\" >10%</th>\n",
       "      <th class=\"col_heading level0 col8\" >50%</th>\n",
       "      <th class=\"col_heading level0 col9\" >90%</th>\n",
       "      <th class=\"col_heading level0 col10\" >95%</th>\n",
       "      <th class=\"col_heading level0 col11\" >97.5%</th>\n",
       "      <th class=\"col_heading level0 col12\" >max</th>\n",
       "      <th class=\"col_heading level0 col13\" >N</th>\n",
       "      <th class=\"col_heading level0 col14\" >Na_miss_rate</th>\n",
       "    </tr>\n",
       "  </thead>\n",
       "  <tbody>\n",
       "    <tr>\n",
       "      <th id=\"T_ef19c_level0_row0\" class=\"row_heading level0 row0\" >0</th>\n",
       "      <td id=\"T_ef19c_row0_col0\" class=\"data row0 col0\" >AppAge</td>\n",
       "      <td id=\"T_ef19c_row0_col1\" class=\"data row0 col1\" >float64</td>\n",
       "      <td id=\"T_ef19c_row0_col2\" class=\"data row0 col2\" >198,153</td>\n",
       "      <td id=\"T_ef19c_row0_col3\" class=\"data row0 col3\" >523,420</td>\n",
       "      <td id=\"T_ef19c_row0_col4\" class=\"data row0 col4\" >107.61</td>\n",
       "      <td id=\"T_ef19c_row0_col5\" class=\"data row0 col5\" >189.65</td>\n",
       "      <td id=\"T_ef19c_row0_col6\" class=\"data row0 col6\" >0.00</td>\n",
       "      <td id=\"T_ef19c_row0_col7\" class=\"data row0 col7\" >0.00</td>\n",
       "      <td id=\"T_ef19c_row0_col8\" class=\"data row0 col8\" >14.00</td>\n",
       "      <td id=\"T_ef19c_row0_col9\" class=\"data row0 col9\" >365.00</td>\n",
       "      <td id=\"T_ef19c_row0_col10\" class=\"data row0 col10\" >549.05</td>\n",
       "      <td id=\"T_ef19c_row0_col11\" class=\"data row0 col11\" >731.00</td>\n",
       "      <td id=\"T_ef19c_row0_col12\" class=\"data row0 col12\" >1,217.00</td>\n",
       "      <td id=\"T_ef19c_row0_col13\" class=\"data row0 col13\" >721,573</td>\n",
       "      <td id=\"T_ef19c_row0_col14\" class=\"data row0 col14\" >27.46</td>\n",
       "    </tr>\n",
       "    <tr>\n",
       "      <th id=\"T_ef19c_level0_row1\" class=\"row_heading level0 row1\" >1</th>\n",
       "      <td id=\"T_ef19c_row1_col0\" class=\"data row1 col0\" >ApplianceCode</td>\n",
       "      <td id=\"T_ef19c_row1_col1\" class=\"data row1 col1\" >object</td>\n",
       "      <td id=\"T_ef19c_row1_col2\" class=\"data row1 col2\" >198,153</td>\n",
       "      <td id=\"T_ef19c_row1_col3\" class=\"data row1 col3\" >nan</td>\n",
       "      <td id=\"T_ef19c_row1_col4\" class=\"data row1 col4\" >nan</td>\n",
       "      <td id=\"T_ef19c_row1_col5\" class=\"data row1 col5\" >nan</td>\n",
       "      <td id=\"T_ef19c_row1_col6\" class=\"data row1 col6\" >nan</td>\n",
       "      <td id=\"T_ef19c_row1_col7\" class=\"data row1 col7\" >nan</td>\n",
       "      <td id=\"T_ef19c_row1_col8\" class=\"data row1 col8\" >nan</td>\n",
       "      <td id=\"T_ef19c_row1_col9\" class=\"data row1 col9\" >nan</td>\n",
       "      <td id=\"T_ef19c_row1_col10\" class=\"data row1 col10\" >nan</td>\n",
       "      <td id=\"T_ef19c_row1_col11\" class=\"data row1 col11\" >nan</td>\n",
       "      <td id=\"T_ef19c_row1_col12\" class=\"data row1 col12\" >nan</td>\n",
       "      <td id=\"T_ef19c_row1_col13\" class=\"data row1 col13\" >721,573</td>\n",
       "      <td id=\"T_ef19c_row1_col14\" class=\"data row1 col14\" >27.46</td>\n",
       "    </tr>\n",
       "    <tr>\n",
       "      <th id=\"T_ef19c_level0_row2\" class=\"row_heading level0 row2\" >2</th>\n",
       "      <td id=\"T_ef19c_row2_col0\" class=\"data row2 col0\" >ClaimAmount1YearTotal</td>\n",
       "      <td id=\"T_ef19c_row2_col1\" class=\"data row2 col1\" >float64</td>\n",
       "      <td id=\"T_ef19c_row2_col2\" class=\"data row2 col2\" >0</td>\n",
       "      <td id=\"T_ef19c_row2_col3\" class=\"data row2 col3\" >721,573</td>\n",
       "      <td id=\"T_ef19c_row2_col4\" class=\"data row2 col4\" >38.67</td>\n",
       "      <td id=\"T_ef19c_row2_col5\" class=\"data row2 col5\" >168.53</td>\n",
       "      <td id=\"T_ef19c_row2_col6\" class=\"data row2 col6\" >0.00</td>\n",
       "      <td id=\"T_ef19c_row2_col7\" class=\"data row2 col7\" >0.00</td>\n",
       "      <td id=\"T_ef19c_row2_col8\" class=\"data row2 col8\" >0.00</td>\n",
       "      <td id=\"T_ef19c_row2_col9\" class=\"data row2 col9\" >85.03</td>\n",
       "      <td id=\"T_ef19c_row2_col10\" class=\"data row2 col10\" >223.57</td>\n",
       "      <td id=\"T_ef19c_row2_col11\" class=\"data row2 col11\" >428.08</td>\n",
       "      <td id=\"T_ef19c_row2_col12\" class=\"data row2 col12\" >9,198.77</td>\n",
       "      <td id=\"T_ef19c_row2_col13\" class=\"data row2 col13\" >721,573</td>\n",
       "      <td id=\"T_ef19c_row2_col14\" class=\"data row2 col14\" >0.00</td>\n",
       "    </tr>\n",
       "    <tr>\n",
       "      <th id=\"T_ef19c_level0_row3\" class=\"row_heading level0 row3\" >3</th>\n",
       "      <td id=\"T_ef19c_row3_col0\" class=\"data row3 col0\" >ClaimAmount3YearTotal</td>\n",
       "      <td id=\"T_ef19c_row3_col1\" class=\"data row3 col1\" >float64</td>\n",
       "      <td id=\"T_ef19c_row3_col2\" class=\"data row3 col2\" >0</td>\n",
       "      <td id=\"T_ef19c_row3_col3\" class=\"data row3 col3\" >721,573</td>\n",
       "      <td id=\"T_ef19c_row3_col4\" class=\"data row3 col4\" >93.11</td>\n",
       "      <td id=\"T_ef19c_row3_col5\" class=\"data row3 col5\" >351.13</td>\n",
       "      <td id=\"T_ef19c_row3_col6\" class=\"data row3 col6\" >-254.84</td>\n",
       "      <td id=\"T_ef19c_row3_col7\" class=\"data row3 col7\" >0.00</td>\n",
       "      <td id=\"T_ef19c_row3_col8\" class=\"data row3 col8\" >0.00</td>\n",
       "      <td id=\"T_ef19c_row3_col9\" class=\"data row3 col9\" >253.42</td>\n",
       "      <td id=\"T_ef19c_row3_col10\" class=\"data row3 col10\" >561.78</td>\n",
       "      <td id=\"T_ef19c_row3_col11\" class=\"data row3 col11\" >953.48</td>\n",
       "      <td id=\"T_ef19c_row3_col12\" class=\"data row3 col12\" >17,209.60</td>\n",
       "      <td id=\"T_ef19c_row3_col13\" class=\"data row3 col13\" >721,573</td>\n",
       "      <td id=\"T_ef19c_row3_col14\" class=\"data row3 col14\" >0.00</td>\n",
       "    </tr>\n",
       "    <tr>\n",
       "      <th id=\"T_ef19c_level0_row4\" class=\"row_heading level0 row4\" >4</th>\n",
       "      <td id=\"T_ef19c_row4_col0\" class=\"data row4 col0\" >ClaimAmount5YearTotal</td>\n",
       "      <td id=\"T_ef19c_row4_col1\" class=\"data row4 col1\" >float64</td>\n",
       "      <td id=\"T_ef19c_row4_col2\" class=\"data row4 col2\" >0</td>\n",
       "      <td id=\"T_ef19c_row4_col3\" class=\"data row4 col3\" >721,573</td>\n",
       "      <td id=\"T_ef19c_row4_col4\" class=\"data row4 col4\" >132.97</td>\n",
       "      <td id=\"T_ef19c_row4_col5\" class=\"data row4 col5\" >474.49</td>\n",
       "      <td id=\"T_ef19c_row4_col6\" class=\"data row4 col6\" >-7,127.94</td>\n",
       "      <td id=\"T_ef19c_row4_col7\" class=\"data row4 col7\" >0.00</td>\n",
       "      <td id=\"T_ef19c_row4_col8\" class=\"data row4 col8\" >0.00</td>\n",
       "      <td id=\"T_ef19c_row4_col9\" class=\"data row4 col9\" >373.83</td>\n",
       "      <td id=\"T_ef19c_row4_col10\" class=\"data row4 col10\" >805.03</td>\n",
       "      <td id=\"T_ef19c_row4_col11\" class=\"data row4 col11\" >1,318.17</td>\n",
       "      <td id=\"T_ef19c_row4_col12\" class=\"data row4 col12\" >22,468.61</td>\n",
       "      <td id=\"T_ef19c_row4_col13\" class=\"data row4 col13\" >721,573</td>\n",
       "      <td id=\"T_ef19c_row4_col14\" class=\"data row4 col14\" >0.00</td>\n",
       "    </tr>\n",
       "    <tr>\n",
       "      <th id=\"T_ef19c_level0_row5\" class=\"row_heading level0 row5\" >5</th>\n",
       "      <td id=\"T_ef19c_row5_col0\" class=\"data row5 col0\" >ClaimPast1YearCount</td>\n",
       "      <td id=\"T_ef19c_row5_col1\" class=\"data row5 col1\" >float64</td>\n",
       "      <td id=\"T_ef19c_row5_col2\" class=\"data row5 col2\" >0</td>\n",
       "      <td id=\"T_ef19c_row5_col3\" class=\"data row5 col3\" >721,573</td>\n",
       "      <td id=\"T_ef19c_row5_col4\" class=\"data row5 col4\" >0.30</td>\n",
       "      <td id=\"T_ef19c_row5_col5\" class=\"data row5 col5\" >1.07</td>\n",
       "      <td id=\"T_ef19c_row5_col6\" class=\"data row5 col6\" >0.00</td>\n",
       "      <td id=\"T_ef19c_row5_col7\" class=\"data row5 col7\" >0.00</td>\n",
       "      <td id=\"T_ef19c_row5_col8\" class=\"data row5 col8\" >0.00</td>\n",
       "      <td id=\"T_ef19c_row5_col9\" class=\"data row5 col9\" >1.00</td>\n",
       "      <td id=\"T_ef19c_row5_col10\" class=\"data row5 col10\" >2.00</td>\n",
       "      <td id=\"T_ef19c_row5_col11\" class=\"data row5 col11\" >3.00</td>\n",
       "      <td id=\"T_ef19c_row5_col12\" class=\"data row5 col12\" >54.00</td>\n",
       "      <td id=\"T_ef19c_row5_col13\" class=\"data row5 col13\" >721,573</td>\n",
       "      <td id=\"T_ef19c_row5_col14\" class=\"data row5 col14\" >0.00</td>\n",
       "    </tr>\n",
       "    <tr>\n",
       "      <th id=\"T_ef19c_level0_row6\" class=\"row_heading level0 row6\" >6</th>\n",
       "      <td id=\"T_ef19c_row6_col0\" class=\"data row6 col0\" >ClaimPast3YearCount</td>\n",
       "      <td id=\"T_ef19c_row6_col1\" class=\"data row6 col1\" >float64</td>\n",
       "      <td id=\"T_ef19c_row6_col2\" class=\"data row6 col2\" >0</td>\n",
       "      <td id=\"T_ef19c_row6_col3\" class=\"data row6 col3\" >721,573</td>\n",
       "      <td id=\"T_ef19c_row6_col4\" class=\"data row6 col4\" >0.75</td>\n",
       "      <td id=\"T_ef19c_row6_col5\" class=\"data row6 col5\" >2.43</td>\n",
       "      <td id=\"T_ef19c_row6_col6\" class=\"data row6 col6\" >0.00</td>\n",
       "      <td id=\"T_ef19c_row6_col7\" class=\"data row6 col7\" >0.00</td>\n",
       "      <td id=\"T_ef19c_row6_col8\" class=\"data row6 col8\" >0.00</td>\n",
       "      <td id=\"T_ef19c_row6_col9\" class=\"data row6 col9\" >2.00</td>\n",
       "      <td id=\"T_ef19c_row6_col10\" class=\"data row6 col10\" >5.00</td>\n",
       "      <td id=\"T_ef19c_row6_col11\" class=\"data row6 col11\" >7.00</td>\n",
       "      <td id=\"T_ef19c_row6_col12\" class=\"data row6 col12\" >124.00</td>\n",
       "      <td id=\"T_ef19c_row6_col13\" class=\"data row6 col13\" >721,573</td>\n",
       "      <td id=\"T_ef19c_row6_col14\" class=\"data row6 col14\" >0.00</td>\n",
       "    </tr>\n",
       "    <tr>\n",
       "      <th id=\"T_ef19c_level0_row7\" class=\"row_heading level0 row7\" >7</th>\n",
       "      <td id=\"T_ef19c_row7_col0\" class=\"data row7 col0\" >ClaimPast5YearCount</td>\n",
       "      <td id=\"T_ef19c_row7_col1\" class=\"data row7 col1\" >float64</td>\n",
       "      <td id=\"T_ef19c_row7_col2\" class=\"data row7 col2\" >0</td>\n",
       "      <td id=\"T_ef19c_row7_col3\" class=\"data row7 col3\" >721,573</td>\n",
       "      <td id=\"T_ef19c_row7_col4\" class=\"data row7 col4\" >1.11</td>\n",
       "      <td id=\"T_ef19c_row7_col5\" class=\"data row7 col5\" >3.50</td>\n",
       "      <td id=\"T_ef19c_row7_col6\" class=\"data row7 col6\" >0.00</td>\n",
       "      <td id=\"T_ef19c_row7_col7\" class=\"data row7 col7\" >0.00</td>\n",
       "      <td id=\"T_ef19c_row7_col8\" class=\"data row7 col8\" >0.00</td>\n",
       "      <td id=\"T_ef19c_row7_col9\" class=\"data row7 col9\" >4.00</td>\n",
       "      <td id=\"T_ef19c_row7_col10\" class=\"data row7 col10\" >7.00</td>\n",
       "      <td id=\"T_ef19c_row7_col11\" class=\"data row7 col11\" >11.00</td>\n",
       "      <td id=\"T_ef19c_row7_col12\" class=\"data row7 col12\" >181.00</td>\n",
       "      <td id=\"T_ef19c_row7_col13\" class=\"data row7 col13\" >721,573</td>\n",
       "      <td id=\"T_ef19c_row7_col14\" class=\"data row7 col14\" >0.00</td>\n",
       "    </tr>\n",
       "    <tr>\n",
       "      <th id=\"T_ef19c_level0_row8\" class=\"row_heading level0 row8\" >8</th>\n",
       "      <td id=\"T_ef19c_row8_col0\" class=\"data row8 col0\" >ClientAccountDesc</td>\n",
       "      <td id=\"T_ef19c_row8_col1\" class=\"data row8 col1\" >object</td>\n",
       "      <td id=\"T_ef19c_row8_col2\" class=\"data row8 col2\" >198,153</td>\n",
       "      <td id=\"T_ef19c_row8_col3\" class=\"data row8 col3\" >nan</td>\n",
       "      <td id=\"T_ef19c_row8_col4\" class=\"data row8 col4\" >nan</td>\n",
       "      <td id=\"T_ef19c_row8_col5\" class=\"data row8 col5\" >nan</td>\n",
       "      <td id=\"T_ef19c_row8_col6\" class=\"data row8 col6\" >nan</td>\n",
       "      <td id=\"T_ef19c_row8_col7\" class=\"data row8 col7\" >nan</td>\n",
       "      <td id=\"T_ef19c_row8_col8\" class=\"data row8 col8\" >nan</td>\n",
       "      <td id=\"T_ef19c_row8_col9\" class=\"data row8 col9\" >nan</td>\n",
       "      <td id=\"T_ef19c_row8_col10\" class=\"data row8 col10\" >nan</td>\n",
       "      <td id=\"T_ef19c_row8_col11\" class=\"data row8 col11\" >nan</td>\n",
       "      <td id=\"T_ef19c_row8_col12\" class=\"data row8 col12\" >nan</td>\n",
       "      <td id=\"T_ef19c_row8_col13\" class=\"data row8 col13\" >721,573</td>\n",
       "      <td id=\"T_ef19c_row8_col14\" class=\"data row8 col14\" >27.46</td>\n",
       "    </tr>\n",
       "    <tr>\n",
       "      <th id=\"T_ef19c_level0_row9\" class=\"row_heading level0 row9\" >9</th>\n",
       "      <td id=\"T_ef19c_row9_col0\" class=\"data row9 col0\" >ClientCode</td>\n",
       "      <td id=\"T_ef19c_row9_col1\" class=\"data row9 col1\" >object</td>\n",
       "      <td id=\"T_ef19c_row9_col2\" class=\"data row9 col2\" >198,153</td>\n",
       "      <td id=\"T_ef19c_row9_col3\" class=\"data row9 col3\" >nan</td>\n",
       "      <td id=\"T_ef19c_row9_col4\" class=\"data row9 col4\" >nan</td>\n",
       "      <td id=\"T_ef19c_row9_col5\" class=\"data row9 col5\" >nan</td>\n",
       "      <td id=\"T_ef19c_row9_col6\" class=\"data row9 col6\" >nan</td>\n",
       "      <td id=\"T_ef19c_row9_col7\" class=\"data row9 col7\" >nan</td>\n",
       "      <td id=\"T_ef19c_row9_col8\" class=\"data row9 col8\" >nan</td>\n",
       "      <td id=\"T_ef19c_row9_col9\" class=\"data row9 col9\" >nan</td>\n",
       "      <td id=\"T_ef19c_row9_col10\" class=\"data row9 col10\" >nan</td>\n",
       "      <td id=\"T_ef19c_row9_col11\" class=\"data row9 col11\" >nan</td>\n",
       "      <td id=\"T_ef19c_row9_col12\" class=\"data row9 col12\" >nan</td>\n",
       "      <td id=\"T_ef19c_row9_col13\" class=\"data row9 col13\" >721,573</td>\n",
       "      <td id=\"T_ef19c_row9_col14\" class=\"data row9 col14\" >27.46</td>\n",
       "    </tr>\n",
       "    <tr>\n",
       "      <th id=\"T_ef19c_level0_row10\" class=\"row_heading level0 row10\" >10</th>\n",
       "      <td id=\"T_ef19c_row10_col0\" class=\"data row10 col0\" >ClientGroupCode</td>\n",
       "      <td id=\"T_ef19c_row10_col1\" class=\"data row10 col1\" >object</td>\n",
       "      <td id=\"T_ef19c_row10_col2\" class=\"data row10 col2\" >198,153</td>\n",
       "      <td id=\"T_ef19c_row10_col3\" class=\"data row10 col3\" >nan</td>\n",
       "      <td id=\"T_ef19c_row10_col4\" class=\"data row10 col4\" >nan</td>\n",
       "      <td id=\"T_ef19c_row10_col5\" class=\"data row10 col5\" >nan</td>\n",
       "      <td id=\"T_ef19c_row10_col6\" class=\"data row10 col6\" >nan</td>\n",
       "      <td id=\"T_ef19c_row10_col7\" class=\"data row10 col7\" >nan</td>\n",
       "      <td id=\"T_ef19c_row10_col8\" class=\"data row10 col8\" >nan</td>\n",
       "      <td id=\"T_ef19c_row10_col9\" class=\"data row10 col9\" >nan</td>\n",
       "      <td id=\"T_ef19c_row10_col10\" class=\"data row10 col10\" >nan</td>\n",
       "      <td id=\"T_ef19c_row10_col11\" class=\"data row10 col11\" >nan</td>\n",
       "      <td id=\"T_ef19c_row10_col12\" class=\"data row10 col12\" >nan</td>\n",
       "      <td id=\"T_ef19c_row10_col13\" class=\"data row10 col13\" >721,573</td>\n",
       "      <td id=\"T_ef19c_row10_col14\" class=\"data row10 col14\" >27.46</td>\n",
       "    </tr>\n",
       "    <tr>\n",
       "      <th id=\"T_ef19c_level0_row11\" class=\"row_heading level0 row11\" >11</th>\n",
       "      <td id=\"T_ef19c_row11_col0\" class=\"data row11 col0\" >ClientGroupDesc</td>\n",
       "      <td id=\"T_ef19c_row11_col1\" class=\"data row11 col1\" >object</td>\n",
       "      <td id=\"T_ef19c_row11_col2\" class=\"data row11 col2\" >198,153</td>\n",
       "      <td id=\"T_ef19c_row11_col3\" class=\"data row11 col3\" >nan</td>\n",
       "      <td id=\"T_ef19c_row11_col4\" class=\"data row11 col4\" >nan</td>\n",
       "      <td id=\"T_ef19c_row11_col5\" class=\"data row11 col5\" >nan</td>\n",
       "      <td id=\"T_ef19c_row11_col6\" class=\"data row11 col6\" >nan</td>\n",
       "      <td id=\"T_ef19c_row11_col7\" class=\"data row11 col7\" >nan</td>\n",
       "      <td id=\"T_ef19c_row11_col8\" class=\"data row11 col8\" >nan</td>\n",
       "      <td id=\"T_ef19c_row11_col9\" class=\"data row11 col9\" >nan</td>\n",
       "      <td id=\"T_ef19c_row11_col10\" class=\"data row11 col10\" >nan</td>\n",
       "      <td id=\"T_ef19c_row11_col11\" class=\"data row11 col11\" >nan</td>\n",
       "      <td id=\"T_ef19c_row11_col12\" class=\"data row11 col12\" >nan</td>\n",
       "      <td id=\"T_ef19c_row11_col13\" class=\"data row11 col13\" >721,573</td>\n",
       "      <td id=\"T_ef19c_row11_col14\" class=\"data row11 col14\" >27.46</td>\n",
       "    </tr>\n",
       "    <tr>\n",
       "      <th id=\"T_ef19c_level0_row12\" class=\"row_heading level0 row12\" >12</th>\n",
       "      <td id=\"T_ef19c_row12_col0\" class=\"data row12 col0\" >CurrentDate</td>\n",
       "      <td id=\"T_ef19c_row12_col1\" class=\"data row12 col1\" >datetime64[ns]</td>\n",
       "      <td id=\"T_ef19c_row12_col2\" class=\"data row12 col2\" >0</td>\n",
       "      <td id=\"T_ef19c_row12_col3\" class=\"data row12 col3\" >nan</td>\n",
       "      <td id=\"T_ef19c_row12_col4\" class=\"data row12 col4\" >nan</td>\n",
       "      <td id=\"T_ef19c_row12_col5\" class=\"data row12 col5\" >nan</td>\n",
       "      <td id=\"T_ef19c_row12_col6\" class=\"data row12 col6\" >nan</td>\n",
       "      <td id=\"T_ef19c_row12_col7\" class=\"data row12 col7\" >nan</td>\n",
       "      <td id=\"T_ef19c_row12_col8\" class=\"data row12 col8\" >nan</td>\n",
       "      <td id=\"T_ef19c_row12_col9\" class=\"data row12 col9\" >nan</td>\n",
       "      <td id=\"T_ef19c_row12_col10\" class=\"data row12 col10\" >nan</td>\n",
       "      <td id=\"T_ef19c_row12_col11\" class=\"data row12 col11\" >nan</td>\n",
       "      <td id=\"T_ef19c_row12_col12\" class=\"data row12 col12\" >nan</td>\n",
       "      <td id=\"T_ef19c_row12_col13\" class=\"data row12 col13\" >721,573</td>\n",
       "      <td id=\"T_ef19c_row12_col14\" class=\"data row12 col14\" >0.00</td>\n",
       "    </tr>\n",
       "    <tr>\n",
       "      <th id=\"T_ef19c_level0_row13\" class=\"row_heading level0 row13\" >13</th>\n",
       "      <td id=\"T_ef19c_row13_col0\" class=\"data row13 col0\" >Fee</td>\n",
       "      <td id=\"T_ef19c_row13_col1\" class=\"data row13 col1\" >float64</td>\n",
       "      <td id=\"T_ef19c_row13_col2\" class=\"data row13 col2\" >198,153</td>\n",
       "      <td id=\"T_ef19c_row13_col3\" class=\"data row13 col3\" >523,420</td>\n",
       "      <td id=\"T_ef19c_row13_col4\" class=\"data row13 col4\" >46.34</td>\n",
       "      <td id=\"T_ef19c_row13_col5\" class=\"data row13 col5\" >12.59</td>\n",
       "      <td id=\"T_ef19c_row13_col6\" class=\"data row13 col6\" >18.00</td>\n",
       "      <td id=\"T_ef19c_row13_col7\" class=\"data row13 col7\" >33.24</td>\n",
       "      <td id=\"T_ef19c_row13_col8\" class=\"data row13 col8\" >43.32</td>\n",
       "      <td id=\"T_ef19c_row13_col9\" class=\"data row13 col9\" >63.60</td>\n",
       "      <td id=\"T_ef19c_row13_col10\" class=\"data row13 col10\" >66.48</td>\n",
       "      <td id=\"T_ef19c_row13_col11\" class=\"data row13 col11\" >71.52</td>\n",
       "      <td id=\"T_ef19c_row13_col12\" class=\"data row13 col12\" >362.76</td>\n",
       "      <td id=\"T_ef19c_row13_col13\" class=\"data row13 col13\" >721,573</td>\n",
       "      <td id=\"T_ef19c_row13_col14\" class=\"data row13 col14\" >27.46</td>\n",
       "    </tr>\n",
       "    <tr>\n",
       "      <th id=\"T_ef19c_level0_row14\" class=\"row_heading level0 row14\" >14</th>\n",
       "      <td id=\"T_ef19c_row14_col0\" class=\"data row14 col0\" >GoodsColour</td>\n",
       "      <td id=\"T_ef19c_row14_col1\" class=\"data row14 col1\" >object</td>\n",
       "      <td id=\"T_ef19c_row14_col2\" class=\"data row14 col2\" >198,153</td>\n",
       "      <td id=\"T_ef19c_row14_col3\" class=\"data row14 col3\" >nan</td>\n",
       "      <td id=\"T_ef19c_row14_col4\" class=\"data row14 col4\" >nan</td>\n",
       "      <td id=\"T_ef19c_row14_col5\" class=\"data row14 col5\" >nan</td>\n",
       "      <td id=\"T_ef19c_row14_col6\" class=\"data row14 col6\" >nan</td>\n",
       "      <td id=\"T_ef19c_row14_col7\" class=\"data row14 col7\" >nan</td>\n",
       "      <td id=\"T_ef19c_row14_col8\" class=\"data row14 col8\" >nan</td>\n",
       "      <td id=\"T_ef19c_row14_col9\" class=\"data row14 col9\" >nan</td>\n",
       "      <td id=\"T_ef19c_row14_col10\" class=\"data row14 col10\" >nan</td>\n",
       "      <td id=\"T_ef19c_row14_col11\" class=\"data row14 col11\" >nan</td>\n",
       "      <td id=\"T_ef19c_row14_col12\" class=\"data row14 col12\" >nan</td>\n",
       "      <td id=\"T_ef19c_row14_col13\" class=\"data row14 col13\" >721,573</td>\n",
       "      <td id=\"T_ef19c_row14_col14\" class=\"data row14 col14\" >27.46</td>\n",
       "    </tr>\n",
       "    <tr>\n",
       "      <th id=\"T_ef19c_level0_row15\" class=\"row_heading level0 row15\" >15</th>\n",
       "      <td id=\"T_ef19c_row15_col0\" class=\"data row15 col0\" >HasPrevRTPPrice</td>\n",
       "      <td id=\"T_ef19c_row15_col1\" class=\"data row15 col1\" >object</td>\n",
       "      <td id=\"T_ef19c_row15_col2\" class=\"data row15 col2\" >0</td>\n",
       "      <td id=\"T_ef19c_row15_col3\" class=\"data row15 col3\" >nan</td>\n",
       "      <td id=\"T_ef19c_row15_col4\" class=\"data row15 col4\" >nan</td>\n",
       "      <td id=\"T_ef19c_row15_col5\" class=\"data row15 col5\" >nan</td>\n",
       "      <td id=\"T_ef19c_row15_col6\" class=\"data row15 col6\" >nan</td>\n",
       "      <td id=\"T_ef19c_row15_col7\" class=\"data row15 col7\" >nan</td>\n",
       "      <td id=\"T_ef19c_row15_col8\" class=\"data row15 col8\" >nan</td>\n",
       "      <td id=\"T_ef19c_row15_col9\" class=\"data row15 col9\" >nan</td>\n",
       "      <td id=\"T_ef19c_row15_col10\" class=\"data row15 col10\" >nan</td>\n",
       "      <td id=\"T_ef19c_row15_col11\" class=\"data row15 col11\" >nan</td>\n",
       "      <td id=\"T_ef19c_row15_col12\" class=\"data row15 col12\" >nan</td>\n",
       "      <td id=\"T_ef19c_row15_col13\" class=\"data row15 col13\" >721,573</td>\n",
       "      <td id=\"T_ef19c_row15_col14\" class=\"data row15 col14\" >0.00</td>\n",
       "    </tr>\n",
       "    <tr>\n",
       "      <th id=\"T_ef19c_level0_row16\" class=\"row_heading level0 row16\" >16</th>\n",
       "      <td id=\"T_ef19c_row16_col0\" class=\"data row16 col0\" >ManufacturerBrandCode</td>\n",
       "      <td id=\"T_ef19c_row16_col1\" class=\"data row16 col1\" >object</td>\n",
       "      <td id=\"T_ef19c_row16_col2\" class=\"data row16 col2\" >198,153</td>\n",
       "      <td id=\"T_ef19c_row16_col3\" class=\"data row16 col3\" >nan</td>\n",
       "      <td id=\"T_ef19c_row16_col4\" class=\"data row16 col4\" >nan</td>\n",
       "      <td id=\"T_ef19c_row16_col5\" class=\"data row16 col5\" >nan</td>\n",
       "      <td id=\"T_ef19c_row16_col6\" class=\"data row16 col6\" >nan</td>\n",
       "      <td id=\"T_ef19c_row16_col7\" class=\"data row16 col7\" >nan</td>\n",
       "      <td id=\"T_ef19c_row16_col8\" class=\"data row16 col8\" >nan</td>\n",
       "      <td id=\"T_ef19c_row16_col9\" class=\"data row16 col9\" >nan</td>\n",
       "      <td id=\"T_ef19c_row16_col10\" class=\"data row16 col10\" >nan</td>\n",
       "      <td id=\"T_ef19c_row16_col11\" class=\"data row16 col11\" >nan</td>\n",
       "      <td id=\"T_ef19c_row16_col12\" class=\"data row16 col12\" >nan</td>\n",
       "      <td id=\"T_ef19c_row16_col13\" class=\"data row16 col13\" >721,573</td>\n",
       "      <td id=\"T_ef19c_row16_col14\" class=\"data row16 col14\" >27.46</td>\n",
       "    </tr>\n",
       "    <tr>\n",
       "      <th id=\"T_ef19c_level0_row17\" class=\"row_heading level0 row17\" >17</th>\n",
       "      <td id=\"T_ef19c_row17_col0\" class=\"data row17 col0\" >ManufacturerGuaranteeLabourMonths</td>\n",
       "      <td id=\"T_ef19c_row17_col1\" class=\"data row17 col1\" >float64</td>\n",
       "      <td id=\"T_ef19c_row17_col2\" class=\"data row17 col2\" >198,153</td>\n",
       "      <td id=\"T_ef19c_row17_col3\" class=\"data row17 col3\" >523,420</td>\n",
       "      <td id=\"T_ef19c_row17_col4\" class=\"data row17 col4\" >16.40</td>\n",
       "      <td id=\"T_ef19c_row17_col5\" class=\"data row17 col5\" >6.26</td>\n",
       "      <td id=\"T_ef19c_row17_col6\" class=\"data row17 col6\" >12.00</td>\n",
       "      <td id=\"T_ef19c_row17_col7\" class=\"data row17 col7\" >12.00</td>\n",
       "      <td id=\"T_ef19c_row17_col8\" class=\"data row17 col8\" >12.00</td>\n",
       "      <td id=\"T_ef19c_row17_col9\" class=\"data row17 col9\" >24.00</td>\n",
       "      <td id=\"T_ef19c_row17_col10\" class=\"data row17 col10\" >24.00</td>\n",
       "      <td id=\"T_ef19c_row17_col11\" class=\"data row17 col11\" >24.00</td>\n",
       "      <td id=\"T_ef19c_row17_col12\" class=\"data row17 col12\" >60.00</td>\n",
       "      <td id=\"T_ef19c_row17_col13\" class=\"data row17 col13\" >721,573</td>\n",
       "      <td id=\"T_ef19c_row17_col14\" class=\"data row17 col14\" >27.46</td>\n",
       "    </tr>\n",
       "    <tr>\n",
       "      <th id=\"T_ef19c_level0_row18\" class=\"row_heading level0 row18\" >18</th>\n",
       "      <td id=\"T_ef19c_row18_col0\" class=\"data row18 col0\" >ManufacturerGuaranteePartsMonths</td>\n",
       "      <td id=\"T_ef19c_row18_col1\" class=\"data row18 col1\" >float64</td>\n",
       "      <td id=\"T_ef19c_row18_col2\" class=\"data row18 col2\" >198,153</td>\n",
       "      <td id=\"T_ef19c_row18_col3\" class=\"data row18 col3\" >523,420</td>\n",
       "      <td id=\"T_ef19c_row18_col4\" class=\"data row18 col4\" >50.89</td>\n",
       "      <td id=\"T_ef19c_row18_col5\" class=\"data row18 col5\" >47.92</td>\n",
       "      <td id=\"T_ef19c_row18_col6\" class=\"data row18 col6\" >12.00</td>\n",
       "      <td id=\"T_ef19c_row18_col7\" class=\"data row18 col7\" >12.00</td>\n",
       "      <td id=\"T_ef19c_row18_col8\" class=\"data row18 col8\" >24.00</td>\n",
       "      <td id=\"T_ef19c_row18_col9\" class=\"data row18 col9\" >120.00</td>\n",
       "      <td id=\"T_ef19c_row18_col10\" class=\"data row18 col10\" >120.00</td>\n",
       "      <td id=\"T_ef19c_row18_col11\" class=\"data row18 col11\" >120.00</td>\n",
       "      <td id=\"T_ef19c_row18_col12\" class=\"data row18 col12\" >120.00</td>\n",
       "      <td id=\"T_ef19c_row18_col13\" class=\"data row18 col13\" >721,573</td>\n",
       "      <td id=\"T_ef19c_row18_col14\" class=\"data row18 col14\" >27.46</td>\n",
       "    </tr>\n",
       "    <tr>\n",
       "      <th id=\"T_ef19c_level0_row19\" class=\"row_heading level0 row19\" >19</th>\n",
       "      <td id=\"T_ef19c_row19_col0\" class=\"data row19 col0\" >ModelId</td>\n",
       "      <td id=\"T_ef19c_row19_col1\" class=\"data row19 col1\" >object</td>\n",
       "      <td id=\"T_ef19c_row19_col2\" class=\"data row19 col2\" >0</td>\n",
       "      <td id=\"T_ef19c_row19_col3\" class=\"data row19 col3\" >nan</td>\n",
       "      <td id=\"T_ef19c_row19_col4\" class=\"data row19 col4\" >nan</td>\n",
       "      <td id=\"T_ef19c_row19_col5\" class=\"data row19 col5\" >nan</td>\n",
       "      <td id=\"T_ef19c_row19_col6\" class=\"data row19 col6\" >nan</td>\n",
       "      <td id=\"T_ef19c_row19_col7\" class=\"data row19 col7\" >nan</td>\n",
       "      <td id=\"T_ef19c_row19_col8\" class=\"data row19 col8\" >nan</td>\n",
       "      <td id=\"T_ef19c_row19_col9\" class=\"data row19 col9\" >nan</td>\n",
       "      <td id=\"T_ef19c_row19_col10\" class=\"data row19 col10\" >nan</td>\n",
       "      <td id=\"T_ef19c_row19_col11\" class=\"data row19 col11\" >nan</td>\n",
       "      <td id=\"T_ef19c_row19_col12\" class=\"data row19 col12\" >nan</td>\n",
       "      <td id=\"T_ef19c_row19_col13\" class=\"data row19 col13\" >721,573</td>\n",
       "      <td id=\"T_ef19c_row19_col14\" class=\"data row19 col14\" >0.00</td>\n",
       "    </tr>\n",
       "    <tr>\n",
       "      <th id=\"T_ef19c_level0_row20\" class=\"row_heading level0 row20\" >20</th>\n",
       "      <td id=\"T_ef19c_row20_col0\" class=\"data row20 col0\" >PaymentType</td>\n",
       "      <td id=\"T_ef19c_row20_col1\" class=\"data row20 col1\" >object</td>\n",
       "      <td id=\"T_ef19c_row20_col2\" class=\"data row20 col2\" >0</td>\n",
       "      <td id=\"T_ef19c_row20_col3\" class=\"data row20 col3\" >nan</td>\n",
       "      <td id=\"T_ef19c_row20_col4\" class=\"data row20 col4\" >nan</td>\n",
       "      <td id=\"T_ef19c_row20_col5\" class=\"data row20 col5\" >nan</td>\n",
       "      <td id=\"T_ef19c_row20_col6\" class=\"data row20 col6\" >nan</td>\n",
       "      <td id=\"T_ef19c_row20_col7\" class=\"data row20 col7\" >nan</td>\n",
       "      <td id=\"T_ef19c_row20_col8\" class=\"data row20 col8\" >nan</td>\n",
       "      <td id=\"T_ef19c_row20_col9\" class=\"data row20 col9\" >nan</td>\n",
       "      <td id=\"T_ef19c_row20_col10\" class=\"data row20 col10\" >nan</td>\n",
       "      <td id=\"T_ef19c_row20_col11\" class=\"data row20 col11\" >nan</td>\n",
       "      <td id=\"T_ef19c_row20_col12\" class=\"data row20 col12\" >nan</td>\n",
       "      <td id=\"T_ef19c_row20_col13\" class=\"data row20 col13\" >721,573</td>\n",
       "      <td id=\"T_ef19c_row20_col14\" class=\"data row20 col14\" >0.00</td>\n",
       "    </tr>\n",
       "    <tr>\n",
       "      <th id=\"T_ef19c_level0_row21\" class=\"row_heading level0 row21\" >21</th>\n",
       "      <td id=\"T_ef19c_row21_col0\" class=\"data row21 col0\" >PeriodOfCover</td>\n",
       "      <td id=\"T_ef19c_row21_col1\" class=\"data row21 col1\" >float64</td>\n",
       "      <td id=\"T_ef19c_row21_col2\" class=\"data row21 col2\" >0</td>\n",
       "      <td id=\"T_ef19c_row21_col3\" class=\"data row21 col3\" >721,573</td>\n",
       "      <td id=\"T_ef19c_row21_col4\" class=\"data row21 col4\" >12.00</td>\n",
       "      <td id=\"T_ef19c_row21_col5\" class=\"data row21 col5\" >0.00</td>\n",
       "      <td id=\"T_ef19c_row21_col6\" class=\"data row21 col6\" >12.00</td>\n",
       "      <td id=\"T_ef19c_row21_col7\" class=\"data row21 col7\" >12.00</td>\n",
       "      <td id=\"T_ef19c_row21_col8\" class=\"data row21 col8\" >12.00</td>\n",
       "      <td id=\"T_ef19c_row21_col9\" class=\"data row21 col9\" >12.00</td>\n",
       "      <td id=\"T_ef19c_row21_col10\" class=\"data row21 col10\" >12.00</td>\n",
       "      <td id=\"T_ef19c_row21_col11\" class=\"data row21 col11\" >12.00</td>\n",
       "      <td id=\"T_ef19c_row21_col12\" class=\"data row21 col12\" >12.00</td>\n",
       "      <td id=\"T_ef19c_row21_col13\" class=\"data row21 col13\" >721,573</td>\n",
       "      <td id=\"T_ef19c_row21_col14\" class=\"data row21 col14\" >0.00</td>\n",
       "    </tr>\n",
       "    <tr>\n",
       "      <th id=\"T_ef19c_level0_row22\" class=\"row_heading level0 row22\" >22</th>\n",
       "      <td id=\"T_ef19c_row22_col0\" class=\"data row22 col0\" >PlanLiveCount</td>\n",
       "      <td id=\"T_ef19c_row22_col1\" class=\"data row22 col1\" >float64</td>\n",
       "      <td id=\"T_ef19c_row22_col2\" class=\"data row22 col2\" >0</td>\n",
       "      <td id=\"T_ef19c_row22_col3\" class=\"data row22 col3\" >721,573</td>\n",
       "      <td id=\"T_ef19c_row22_col4\" class=\"data row22 col4\" >0.73</td>\n",
       "      <td id=\"T_ef19c_row22_col5\" class=\"data row22 col5\" >1.88</td>\n",
       "      <td id=\"T_ef19c_row22_col6\" class=\"data row22 col6\" >0.00</td>\n",
       "      <td id=\"T_ef19c_row22_col7\" class=\"data row22 col7\" >0.00</td>\n",
       "      <td id=\"T_ef19c_row22_col8\" class=\"data row22 col8\" >0.00</td>\n",
       "      <td id=\"T_ef19c_row22_col9\" class=\"data row22 col9\" >2.00</td>\n",
       "      <td id=\"T_ef19c_row22_col10\" class=\"data row22 col10\" >4.00</td>\n",
       "      <td id=\"T_ef19c_row22_col11\" class=\"data row22 col11\" >6.00</td>\n",
       "      <td id=\"T_ef19c_row22_col12\" class=\"data row22 col12\" >218.00</td>\n",
       "      <td id=\"T_ef19c_row22_col13\" class=\"data row22 col13\" >721,573</td>\n",
       "      <td id=\"T_ef19c_row22_col14\" class=\"data row22 col14\" >0.00</td>\n",
       "    </tr>\n",
       "    <tr>\n",
       "      <th id=\"T_ef19c_level0_row23\" class=\"row_heading level0 row23\" >23</th>\n",
       "      <td id=\"T_ef19c_row23_col0\" class=\"data row23 col0\" >PlansAcceptedPast1YearCount</td>\n",
       "      <td id=\"T_ef19c_row23_col1\" class=\"data row23 col1\" >float64</td>\n",
       "      <td id=\"T_ef19c_row23_col2\" class=\"data row23 col2\" >0</td>\n",
       "      <td id=\"T_ef19c_row23_col3\" class=\"data row23 col3\" >721,573</td>\n",
       "      <td id=\"T_ef19c_row23_col4\" class=\"data row23 col4\" >0.42</td>\n",
       "      <td id=\"T_ef19c_row23_col5\" class=\"data row23 col5\" >2.18</td>\n",
       "      <td id=\"T_ef19c_row23_col6\" class=\"data row23 col6\" >0.00</td>\n",
       "      <td id=\"T_ef19c_row23_col7\" class=\"data row23 col7\" >0.00</td>\n",
       "      <td id=\"T_ef19c_row23_col8\" class=\"data row23 col8\" >0.00</td>\n",
       "      <td id=\"T_ef19c_row23_col9\" class=\"data row23 col9\" >1.00</td>\n",
       "      <td id=\"T_ef19c_row23_col10\" class=\"data row23 col10\" >2.00</td>\n",
       "      <td id=\"T_ef19c_row23_col11\" class=\"data row23 col11\" >4.00</td>\n",
       "      <td id=\"T_ef19c_row23_col12\" class=\"data row23 col12\" >935.00</td>\n",
       "      <td id=\"T_ef19c_row23_col13\" class=\"data row23 col13\" >721,573</td>\n",
       "      <td id=\"T_ef19c_row23_col14\" class=\"data row23 col14\" >0.00</td>\n",
       "    </tr>\n",
       "    <tr>\n",
       "      <th id=\"T_ef19c_level0_row24\" class=\"row_heading level0 row24\" >24</th>\n",
       "      <td id=\"T_ef19c_row24_col0\" class=\"data row24 col0\" >PlansAcceptedPast5YearCount</td>\n",
       "      <td id=\"T_ef19c_row24_col1\" class=\"data row24 col1\" >float64</td>\n",
       "      <td id=\"T_ef19c_row24_col2\" class=\"data row24 col2\" >0</td>\n",
       "      <td id=\"T_ef19c_row24_col3\" class=\"data row24 col3\" >721,573</td>\n",
       "      <td id=\"T_ef19c_row24_col4\" class=\"data row24 col4\" >1.54</td>\n",
       "      <td id=\"T_ef19c_row24_col5\" class=\"data row24 col5\" >7.69</td>\n",
       "      <td id=\"T_ef19c_row24_col6\" class=\"data row24 col6\" >0.00</td>\n",
       "      <td id=\"T_ef19c_row24_col7\" class=\"data row24 col7\" >0.00</td>\n",
       "      <td id=\"T_ef19c_row24_col8\" class=\"data row24 col8\" >0.00</td>\n",
       "      <td id=\"T_ef19c_row24_col9\" class=\"data row24 col9\" >5.00</td>\n",
       "      <td id=\"T_ef19c_row24_col10\" class=\"data row24 col10\" >8.00</td>\n",
       "      <td id=\"T_ef19c_row24_col11\" class=\"data row24 col11\" >12.00</td>\n",
       "      <td id=\"T_ef19c_row24_col12\" class=\"data row24 col12\" >5,461.00</td>\n",
       "      <td id=\"T_ef19c_row24_col13\" class=\"data row24 col13\" >721,573</td>\n",
       "      <td id=\"T_ef19c_row24_col14\" class=\"data row24 col14\" >0.00</td>\n",
       "    </tr>\n",
       "    <tr>\n",
       "      <th id=\"T_ef19c_level0_row25\" class=\"row_heading level0 row25\" >25</th>\n",
       "      <td id=\"T_ef19c_row25_col0\" class=\"data row25 col0\" >PlansActivePast1yrCount</td>\n",
       "      <td id=\"T_ef19c_row25_col1\" class=\"data row25 col1\" >float64</td>\n",
       "      <td id=\"T_ef19c_row25_col2\" class=\"data row25 col2\" >0</td>\n",
       "      <td id=\"T_ef19c_row25_col3\" class=\"data row25 col3\" >721,573</td>\n",
       "      <td id=\"T_ef19c_row25_col4\" class=\"data row25 col4\" >1.15</td>\n",
       "      <td id=\"T_ef19c_row25_col5\" class=\"data row25 col5\" >3.31</td>\n",
       "      <td id=\"T_ef19c_row25_col6\" class=\"data row25 col6\" >0.00</td>\n",
       "      <td id=\"T_ef19c_row25_col7\" class=\"data row25 col7\" >0.00</td>\n",
       "      <td id=\"T_ef19c_row25_col8\" class=\"data row25 col8\" >0.00</td>\n",
       "      <td id=\"T_ef19c_row25_col9\" class=\"data row25 col9\" >4.00</td>\n",
       "      <td id=\"T_ef19c_row25_col10\" class=\"data row25 col10\" >6.00</td>\n",
       "      <td id=\"T_ef19c_row25_col11\" class=\"data row25 col11\" >8.00</td>\n",
       "      <td id=\"T_ef19c_row25_col12\" class=\"data row25 col12\" >1,091.00</td>\n",
       "      <td id=\"T_ef19c_row25_col13\" class=\"data row25 col13\" >721,573</td>\n",
       "      <td id=\"T_ef19c_row25_col14\" class=\"data row25 col14\" >0.00</td>\n",
       "    </tr>\n",
       "    <tr>\n",
       "      <th id=\"T_ef19c_level0_row26\" class=\"row_heading level0 row26\" >26</th>\n",
       "      <td id=\"T_ef19c_row26_col0\" class=\"data row26 col0\" >PlansActivePast5yrCount</td>\n",
       "      <td id=\"T_ef19c_row26_col1\" class=\"data row26 col1\" >float64</td>\n",
       "      <td id=\"T_ef19c_row26_col2\" class=\"data row26 col2\" >0</td>\n",
       "      <td id=\"T_ef19c_row26_col3\" class=\"data row26 col3\" >721,573</td>\n",
       "      <td id=\"T_ef19c_row26_col4\" class=\"data row26 col4\" >2.06</td>\n",
       "      <td id=\"T_ef19c_row26_col5\" class=\"data row26 col5\" >9.66</td>\n",
       "      <td id=\"T_ef19c_row26_col6\" class=\"data row26 col6\" >0.00</td>\n",
       "      <td id=\"T_ef19c_row26_col7\" class=\"data row26 col7\" >0.00</td>\n",
       "      <td id=\"T_ef19c_row26_col8\" class=\"data row26 col8\" >0.00</td>\n",
       "      <td id=\"T_ef19c_row26_col9\" class=\"data row26 col9\" >7.00</td>\n",
       "      <td id=\"T_ef19c_row26_col10\" class=\"data row26 col10\" >11.00</td>\n",
       "      <td id=\"T_ef19c_row26_col11\" class=\"data row26 col11\" >15.00</td>\n",
       "      <td id=\"T_ef19c_row26_col12\" class=\"data row26 col12\" >6,978.00</td>\n",
       "      <td id=\"T_ef19c_row26_col13\" class=\"data row26 col13\" >721,573</td>\n",
       "      <td id=\"T_ef19c_row26_col14\" class=\"data row26 col14\" >0.00</td>\n",
       "    </tr>\n",
       "    <tr>\n",
       "      <th id=\"T_ef19c_level0_row27\" class=\"row_heading level0 row27\" >27</th>\n",
       "      <td id=\"T_ef19c_row27_col0\" class=\"data row27 col0\" >PlansCancelledPast1YearCount</td>\n",
       "      <td id=\"T_ef19c_row27_col1\" class=\"data row27 col1\" >float64</td>\n",
       "      <td id=\"T_ef19c_row27_col2\" class=\"data row27 col2\" >0</td>\n",
       "      <td id=\"T_ef19c_row27_col3\" class=\"data row27 col3\" >721,573</td>\n",
       "      <td id=\"T_ef19c_row27_col4\" class=\"data row27 col4\" >0.44</td>\n",
       "      <td id=\"T_ef19c_row27_col5\" class=\"data row27 col5\" >2.22</td>\n",
       "      <td id=\"T_ef19c_row27_col6\" class=\"data row27 col6\" >0.00</td>\n",
       "      <td id=\"T_ef19c_row27_col7\" class=\"data row27 col7\" >0.00</td>\n",
       "      <td id=\"T_ef19c_row27_col8\" class=\"data row27 col8\" >0.00</td>\n",
       "      <td id=\"T_ef19c_row27_col9\" class=\"data row27 col9\" >1.00</td>\n",
       "      <td id=\"T_ef19c_row27_col10\" class=\"data row27 col10\" >2.00</td>\n",
       "      <td id=\"T_ef19c_row27_col11\" class=\"data row27 col11\" >4.00</td>\n",
       "      <td id=\"T_ef19c_row27_col12\" class=\"data row27 col12\" >910.00</td>\n",
       "      <td id=\"T_ef19c_row27_col13\" class=\"data row27 col13\" >721,573</td>\n",
       "      <td id=\"T_ef19c_row27_col14\" class=\"data row27 col14\" >0.00</td>\n",
       "    </tr>\n",
       "    <tr>\n",
       "      <th id=\"T_ef19c_level0_row28\" class=\"row_heading level0 row28\" >28</th>\n",
       "      <td id=\"T_ef19c_row28_col0\" class=\"data row28 col0\" >PlansCancelledPast5YearCount</td>\n",
       "      <td id=\"T_ef19c_row28_col1\" class=\"data row28 col1\" >float64</td>\n",
       "      <td id=\"T_ef19c_row28_col2\" class=\"data row28 col2\" >0</td>\n",
       "      <td id=\"T_ef19c_row28_col3\" class=\"data row28 col3\" >721,573</td>\n",
       "      <td id=\"T_ef19c_row28_col4\" class=\"data row28 col4\" >1.33</td>\n",
       "      <td id=\"T_ef19c_row28_col5\" class=\"data row28 col5\" >8.94</td>\n",
       "      <td id=\"T_ef19c_row28_col6\" class=\"data row28 col6\" >0.00</td>\n",
       "      <td id=\"T_ef19c_row28_col7\" class=\"data row28 col7\" >0.00</td>\n",
       "      <td id=\"T_ef19c_row28_col8\" class=\"data row28 col8\" >0.00</td>\n",
       "      <td id=\"T_ef19c_row28_col9\" class=\"data row28 col9\" >4.00</td>\n",
       "      <td id=\"T_ef19c_row28_col10\" class=\"data row28 col10\" >7.00</td>\n",
       "      <td id=\"T_ef19c_row28_col11\" class=\"data row28 col11\" >11.00</td>\n",
       "      <td id=\"T_ef19c_row28_col12\" class=\"data row28 col12\" >6,802.00</td>\n",
       "      <td id=\"T_ef19c_row28_col13\" class=\"data row28 col13\" >721,573</td>\n",
       "      <td id=\"T_ef19c_row28_col14\" class=\"data row28 col14\" >0.00</td>\n",
       "    </tr>\n",
       "    <tr>\n",
       "      <th id=\"T_ef19c_level0_row29\" class=\"row_heading level0 row29\" >29</th>\n",
       "      <td id=\"T_ef19c_row29_col0\" class=\"data row29 col0\" >Postcode_Sector</td>\n",
       "      <td id=\"T_ef19c_row29_col1\" class=\"data row29 col1\" >object</td>\n",
       "      <td id=\"T_ef19c_row29_col2\" class=\"data row29 col2\" >198,153</td>\n",
       "      <td id=\"T_ef19c_row29_col3\" class=\"data row29 col3\" >nan</td>\n",
       "      <td id=\"T_ef19c_row29_col4\" class=\"data row29 col4\" >nan</td>\n",
       "      <td id=\"T_ef19c_row29_col5\" class=\"data row29 col5\" >nan</td>\n",
       "      <td id=\"T_ef19c_row29_col6\" class=\"data row29 col6\" >nan</td>\n",
       "      <td id=\"T_ef19c_row29_col7\" class=\"data row29 col7\" >nan</td>\n",
       "      <td id=\"T_ef19c_row29_col8\" class=\"data row29 col8\" >nan</td>\n",
       "      <td id=\"T_ef19c_row29_col9\" class=\"data row29 col9\" >nan</td>\n",
       "      <td id=\"T_ef19c_row29_col10\" class=\"data row29 col10\" >nan</td>\n",
       "      <td id=\"T_ef19c_row29_col11\" class=\"data row29 col11\" >nan</td>\n",
       "      <td id=\"T_ef19c_row29_col12\" class=\"data row29 col12\" >nan</td>\n",
       "      <td id=\"T_ef19c_row29_col13\" class=\"data row29 col13\" >721,573</td>\n",
       "      <td id=\"T_ef19c_row29_col14\" class=\"data row29 col14\" >27.46</td>\n",
       "    </tr>\n",
       "    <tr>\n",
       "      <th id=\"T_ef19c_level0_row30\" class=\"row_heading level0 row30\" >30</th>\n",
       "      <td id=\"T_ef19c_row30_col0\" class=\"data row30 col0\" >PredictedConversionRate</td>\n",
       "      <td id=\"T_ef19c_row30_col1\" class=\"data row30 col1\" >float64</td>\n",
       "      <td id=\"T_ef19c_row30_col2\" class=\"data row30 col2\" >0</td>\n",
       "      <td id=\"T_ef19c_row30_col3\" class=\"data row30 col3\" >721,573</td>\n",
       "      <td id=\"T_ef19c_row30_col4\" class=\"data row30 col4\" >0.85</td>\n",
       "      <td id=\"T_ef19c_row30_col5\" class=\"data row30 col5\" >0.30</td>\n",
       "      <td id=\"T_ef19c_row30_col6\" class=\"data row30 col6\" >0.00</td>\n",
       "      <td id=\"T_ef19c_row30_col7\" class=\"data row30 col7\" >0.24</td>\n",
       "      <td id=\"T_ef19c_row30_col8\" class=\"data row30 col8\" >1.00</td>\n",
       "      <td id=\"T_ef19c_row30_col9\" class=\"data row30 col9\" >1.00</td>\n",
       "      <td id=\"T_ef19c_row30_col10\" class=\"data row30 col10\" >1.00</td>\n",
       "      <td id=\"T_ef19c_row30_col11\" class=\"data row30 col11\" >1.00</td>\n",
       "      <td id=\"T_ef19c_row30_col12\" class=\"data row30 col12\" >1.00</td>\n",
       "      <td id=\"T_ef19c_row30_col13\" class=\"data row30 col13\" >721,573</td>\n",
       "      <td id=\"T_ef19c_row30_col14\" class=\"data row30 col14\" >0.00</td>\n",
       "    </tr>\n",
       "    <tr>\n",
       "      <th id=\"T_ef19c_level0_row31\" class=\"row_heading level0 row31\" >31</th>\n",
       "      <td id=\"T_ef19c_row31_col0\" class=\"data row31 col0\" >PrevRTPPriceType</td>\n",
       "      <td id=\"T_ef19c_row31_col1\" class=\"data row31 col1\" >object</td>\n",
       "      <td id=\"T_ef19c_row31_col2\" class=\"data row31 col2\" >615,792</td>\n",
       "      <td id=\"T_ef19c_row31_col3\" class=\"data row31 col3\" >nan</td>\n",
       "      <td id=\"T_ef19c_row31_col4\" class=\"data row31 col4\" >nan</td>\n",
       "      <td id=\"T_ef19c_row31_col5\" class=\"data row31 col5\" >nan</td>\n",
       "      <td id=\"T_ef19c_row31_col6\" class=\"data row31 col6\" >nan</td>\n",
       "      <td id=\"T_ef19c_row31_col7\" class=\"data row31 col7\" >nan</td>\n",
       "      <td id=\"T_ef19c_row31_col8\" class=\"data row31 col8\" >nan</td>\n",
       "      <td id=\"T_ef19c_row31_col9\" class=\"data row31 col9\" >nan</td>\n",
       "      <td id=\"T_ef19c_row31_col10\" class=\"data row31 col10\" >nan</td>\n",
       "      <td id=\"T_ef19c_row31_col11\" class=\"data row31 col11\" >nan</td>\n",
       "      <td id=\"T_ef19c_row31_col12\" class=\"data row31 col12\" >nan</td>\n",
       "      <td id=\"T_ef19c_row31_col13\" class=\"data row31 col13\" >721,573</td>\n",
       "      <td id=\"T_ef19c_row31_col14\" class=\"data row31 col14\" >85.34</td>\n",
       "    </tr>\n",
       "    <tr>\n",
       "      <th id=\"T_ef19c_level0_row32\" class=\"row_heading level0 row32\" >32</th>\n",
       "      <td id=\"T_ef19c_row32_col0\" class=\"data row32 col0\" >PricingVersionDescription</td>\n",
       "      <td id=\"T_ef19c_row32_col1\" class=\"data row32 col1\" >object</td>\n",
       "      <td id=\"T_ef19c_row32_col2\" class=\"data row32 col2\" >0</td>\n",
       "      <td id=\"T_ef19c_row32_col3\" class=\"data row32 col3\" >nan</td>\n",
       "      <td id=\"T_ef19c_row32_col4\" class=\"data row32 col4\" >nan</td>\n",
       "      <td id=\"T_ef19c_row32_col5\" class=\"data row32 col5\" >nan</td>\n",
       "      <td id=\"T_ef19c_row32_col6\" class=\"data row32 col6\" >nan</td>\n",
       "      <td id=\"T_ef19c_row32_col7\" class=\"data row32 col7\" >nan</td>\n",
       "      <td id=\"T_ef19c_row32_col8\" class=\"data row32 col8\" >nan</td>\n",
       "      <td id=\"T_ef19c_row32_col9\" class=\"data row32 col9\" >nan</td>\n",
       "      <td id=\"T_ef19c_row32_col10\" class=\"data row32 col10\" >nan</td>\n",
       "      <td id=\"T_ef19c_row32_col11\" class=\"data row32 col11\" >nan</td>\n",
       "      <td id=\"T_ef19c_row32_col12\" class=\"data row32 col12\" >nan</td>\n",
       "      <td id=\"T_ef19c_row32_col13\" class=\"data row32 col13\" >721,573</td>\n",
       "      <td id=\"T_ef19c_row32_col14\" class=\"data row32 col14\" >0.00</td>\n",
       "    </tr>\n",
       "    <tr>\n",
       "      <th id=\"T_ef19c_level0_row33\" class=\"row_heading level0 row33\" >33</th>\n",
       "      <td id=\"T_ef19c_row33_col0\" class=\"data row33 col0\" >PurchaseDate</td>\n",
       "      <td id=\"T_ef19c_row33_col1\" class=\"data row33 col1\" >datetime64[ns]</td>\n",
       "      <td id=\"T_ef19c_row33_col2\" class=\"data row33 col2\" >198,153</td>\n",
       "      <td id=\"T_ef19c_row33_col3\" class=\"data row33 col3\" >nan</td>\n",
       "      <td id=\"T_ef19c_row33_col4\" class=\"data row33 col4\" >nan</td>\n",
       "      <td id=\"T_ef19c_row33_col5\" class=\"data row33 col5\" >nan</td>\n",
       "      <td id=\"T_ef19c_row33_col6\" class=\"data row33 col6\" >nan</td>\n",
       "      <td id=\"T_ef19c_row33_col7\" class=\"data row33 col7\" >nan</td>\n",
       "      <td id=\"T_ef19c_row33_col8\" class=\"data row33 col8\" >nan</td>\n",
       "      <td id=\"T_ef19c_row33_col9\" class=\"data row33 col9\" >nan</td>\n",
       "      <td id=\"T_ef19c_row33_col10\" class=\"data row33 col10\" >nan</td>\n",
       "      <td id=\"T_ef19c_row33_col11\" class=\"data row33 col11\" >nan</td>\n",
       "      <td id=\"T_ef19c_row33_col12\" class=\"data row33 col12\" >nan</td>\n",
       "      <td id=\"T_ef19c_row33_col13\" class=\"data row33 col13\" >721,573</td>\n",
       "      <td id=\"T_ef19c_row33_col14\" class=\"data row33 col14\" >27.46</td>\n",
       "    </tr>\n",
       "    <tr>\n",
       "      <th id=\"T_ef19c_level0_row34\" class=\"row_heading level0 row34\" >34</th>\n",
       "      <td id=\"T_ef19c_row34_col0\" class=\"data row34 col0\" >PurchasePrice</td>\n",
       "      <td id=\"T_ef19c_row34_col1\" class=\"data row34 col1\" >float64</td>\n",
       "      <td id=\"T_ef19c_row34_col2\" class=\"data row34 col2\" >198,153</td>\n",
       "      <td id=\"T_ef19c_row34_col3\" class=\"data row34 col3\" >523,420</td>\n",
       "      <td id=\"T_ef19c_row34_col4\" class=\"data row34 col4\" >387.86</td>\n",
       "      <td id=\"T_ef19c_row34_col5\" class=\"data row34 col5\" >239.40</td>\n",
       "      <td id=\"T_ef19c_row34_col6\" class=\"data row34 col6\" >1.00</td>\n",
       "      <td id=\"T_ef19c_row34_col7\" class=\"data row34 col7\" >200.00</td>\n",
       "      <td id=\"T_ef19c_row34_col8\" class=\"data row34 col8\" >300.00</td>\n",
       "      <td id=\"T_ef19c_row34_col9\" class=\"data row34 col9\" >626.04</td>\n",
       "      <td id=\"T_ef19c_row34_col10\" class=\"data row34 col10\" >800.00</td>\n",
       "      <td id=\"T_ef19c_row34_col11\" class=\"data row34 col11\" >1,000.00</td>\n",
       "      <td id=\"T_ef19c_row34_col12\" class=\"data row34 col12\" >18,000.00</td>\n",
       "      <td id=\"T_ef19c_row34_col13\" class=\"data row34 col13\" >721,573</td>\n",
       "      <td id=\"T_ef19c_row34_col14\" class=\"data row34 col14\" >27.46</td>\n",
       "    </tr>\n",
       "    <tr>\n",
       "      <th id=\"T_ef19c_level0_row35\" class=\"row_heading level0 row35\" >35</th>\n",
       "      <td id=\"T_ef19c_row35_col0\" class=\"data row35 col0\" >RetentionFlag</td>\n",
       "      <td id=\"T_ef19c_row35_col1\" class=\"data row35 col1\" >float64</td>\n",
       "      <td id=\"T_ef19c_row35_col2\" class=\"data row35 col2\" >198,153</td>\n",
       "      <td id=\"T_ef19c_row35_col3\" class=\"data row35 col3\" >523,420</td>\n",
       "      <td id=\"T_ef19c_row35_col4\" class=\"data row35 col4\" >0.01</td>\n",
       "      <td id=\"T_ef19c_row35_col5\" class=\"data row35 col5\" >0.11</td>\n",
       "      <td id=\"T_ef19c_row35_col6\" class=\"data row35 col6\" >0.00</td>\n",
       "      <td id=\"T_ef19c_row35_col7\" class=\"data row35 col7\" >0.00</td>\n",
       "      <td id=\"T_ef19c_row35_col8\" class=\"data row35 col8\" >0.00</td>\n",
       "      <td id=\"T_ef19c_row35_col9\" class=\"data row35 col9\" >0.00</td>\n",
       "      <td id=\"T_ef19c_row35_col10\" class=\"data row35 col10\" >0.00</td>\n",
       "      <td id=\"T_ef19c_row35_col11\" class=\"data row35 col11\" >0.00</td>\n",
       "      <td id=\"T_ef19c_row35_col12\" class=\"data row35 col12\" >1.00</td>\n",
       "      <td id=\"T_ef19c_row35_col13\" class=\"data row35 col13\" >721,573</td>\n",
       "      <td id=\"T_ef19c_row35_col14\" class=\"data row35 col14\" >27.46</td>\n",
       "    </tr>\n",
       "    <tr>\n",
       "      <th id=\"T_ef19c_level0_row36\" class=\"row_heading level0 row36\" >36</th>\n",
       "      <td id=\"T_ef19c_row36_col0\" class=\"data row36 col0\" >RouteToMarketName</td>\n",
       "      <td id=\"T_ef19c_row36_col1\" class=\"data row36 col1\" >object</td>\n",
       "      <td id=\"T_ef19c_row36_col2\" class=\"data row36 col2\" >198,153</td>\n",
       "      <td id=\"T_ef19c_row36_col3\" class=\"data row36 col3\" >nan</td>\n",
       "      <td id=\"T_ef19c_row36_col4\" class=\"data row36 col4\" >nan</td>\n",
       "      <td id=\"T_ef19c_row36_col5\" class=\"data row36 col5\" >nan</td>\n",
       "      <td id=\"T_ef19c_row36_col6\" class=\"data row36 col6\" >nan</td>\n",
       "      <td id=\"T_ef19c_row36_col7\" class=\"data row36 col7\" >nan</td>\n",
       "      <td id=\"T_ef19c_row36_col8\" class=\"data row36 col8\" >nan</td>\n",
       "      <td id=\"T_ef19c_row36_col9\" class=\"data row36 col9\" >nan</td>\n",
       "      <td id=\"T_ef19c_row36_col10\" class=\"data row36 col10\" >nan</td>\n",
       "      <td id=\"T_ef19c_row36_col11\" class=\"data row36 col11\" >nan</td>\n",
       "      <td id=\"T_ef19c_row36_col12\" class=\"data row36 col12\" >nan</td>\n",
       "      <td id=\"T_ef19c_row36_col13\" class=\"data row36 col13\" >721,573</td>\n",
       "      <td id=\"T_ef19c_row36_col14\" class=\"data row36 col14\" >27.46</td>\n",
       "    </tr>\n",
       "    <tr>\n",
       "      <th id=\"T_ef19c_level0_row37\" class=\"row_heading level0 row37\" >37</th>\n",
       "      <td id=\"T_ef19c_row37_col0\" class=\"data row37 col0\" >SchemeTypeName</td>\n",
       "      <td id=\"T_ef19c_row37_col1\" class=\"data row37 col1\" >object</td>\n",
       "      <td id=\"T_ef19c_row37_col2\" class=\"data row37 col2\" >198,153</td>\n",
       "      <td id=\"T_ef19c_row37_col3\" class=\"data row37 col3\" >nan</td>\n",
       "      <td id=\"T_ef19c_row37_col4\" class=\"data row37 col4\" >nan</td>\n",
       "      <td id=\"T_ef19c_row37_col5\" class=\"data row37 col5\" >nan</td>\n",
       "      <td id=\"T_ef19c_row37_col6\" class=\"data row37 col6\" >nan</td>\n",
       "      <td id=\"T_ef19c_row37_col7\" class=\"data row37 col7\" >nan</td>\n",
       "      <td id=\"T_ef19c_row37_col8\" class=\"data row37 col8\" >nan</td>\n",
       "      <td id=\"T_ef19c_row37_col9\" class=\"data row37 col9\" >nan</td>\n",
       "      <td id=\"T_ef19c_row37_col10\" class=\"data row37 col10\" >nan</td>\n",
       "      <td id=\"T_ef19c_row37_col11\" class=\"data row37 col11\" >nan</td>\n",
       "      <td id=\"T_ef19c_row37_col12\" class=\"data row37 col12\" >nan</td>\n",
       "      <td id=\"T_ef19c_row37_col13\" class=\"data row37 col13\" >721,573</td>\n",
       "      <td id=\"T_ef19c_row37_col14\" class=\"data row37 col14\" >27.46</td>\n",
       "    </tr>\n",
       "    <tr>\n",
       "      <th id=\"T_ef19c_level0_row38\" class=\"row_heading level0 row38\" >38</th>\n",
       "      <td id=\"T_ef19c_row38_col0\" class=\"data row38 col0\" >TotalPrice</td>\n",
       "      <td id=\"T_ef19c_row38_col1\" class=\"data row38 col1\" >float64</td>\n",
       "      <td id=\"T_ef19c_row38_col2\" class=\"data row38 col2\" >0</td>\n",
       "      <td id=\"T_ef19c_row38_col3\" class=\"data row38 col3\" >721,573</td>\n",
       "      <td id=\"T_ef19c_row38_col4\" class=\"data row38 col4\" >46.37</td>\n",
       "      <td id=\"T_ef19c_row38_col5\" class=\"data row38 col5\" >13.52</td>\n",
       "      <td id=\"T_ef19c_row38_col6\" class=\"data row38 col6\" >12.84</td>\n",
       "      <td id=\"T_ef19c_row38_col7\" class=\"data row38 col7\" >32.04</td>\n",
       "      <td id=\"T_ef19c_row38_col8\" class=\"data row38 col8\" >43.92</td>\n",
       "      <td id=\"T_ef19c_row38_col9\" class=\"data row38 col9\" >63.84</td>\n",
       "      <td id=\"T_ef19c_row38_col10\" class=\"data row38 col10\" >69.72</td>\n",
       "      <td id=\"T_ef19c_row38_col11\" class=\"data row38 col11\" >76.56</td>\n",
       "      <td id=\"T_ef19c_row38_col12\" class=\"data row38 col12\" >362.76</td>\n",
       "      <td id=\"T_ef19c_row38_col13\" class=\"data row38 col13\" >721,573</td>\n",
       "      <td id=\"T_ef19c_row38_col14\" class=\"data row38 col14\" >0.00</td>\n",
       "    </tr>\n",
       "    <tr>\n",
       "      <th id=\"T_ef19c_level0_row39\" class=\"row_heading level0 row39\" >39</th>\n",
       "      <td id=\"T_ef19c_row39_col0\" class=\"data row39 col0\" >cocode</td>\n",
       "      <td id=\"T_ef19c_row39_col1\" class=\"data row39 col1\" >object</td>\n",
       "      <td id=\"T_ef19c_row39_col2\" class=\"data row39 col2\" >0</td>\n",
       "      <td id=\"T_ef19c_row39_col3\" class=\"data row39 col3\" >nan</td>\n",
       "      <td id=\"T_ef19c_row39_col4\" class=\"data row39 col4\" >nan</td>\n",
       "      <td id=\"T_ef19c_row39_col5\" class=\"data row39 col5\" >nan</td>\n",
       "      <td id=\"T_ef19c_row39_col6\" class=\"data row39 col6\" >nan</td>\n",
       "      <td id=\"T_ef19c_row39_col7\" class=\"data row39 col7\" >nan</td>\n",
       "      <td id=\"T_ef19c_row39_col8\" class=\"data row39 col8\" >nan</td>\n",
       "      <td id=\"T_ef19c_row39_col9\" class=\"data row39 col9\" >nan</td>\n",
       "      <td id=\"T_ef19c_row39_col10\" class=\"data row39 col10\" >nan</td>\n",
       "      <td id=\"T_ef19c_row39_col11\" class=\"data row39 col11\" >nan</td>\n",
       "      <td id=\"T_ef19c_row39_col12\" class=\"data row39 col12\" >nan</td>\n",
       "      <td id=\"T_ef19c_row39_col13\" class=\"data row39 col13\" >721,573</td>\n",
       "      <td id=\"T_ef19c_row39_col14\" class=\"data row39 col14\" >0.00</td>\n",
       "    </tr>\n",
       "    <tr>\n",
       "      <th id=\"T_ef19c_level0_row40\" class=\"row_heading level0 row40\" >40</th>\n",
       "      <td id=\"T_ef19c_row40_col0\" class=\"data row40 col0\" >contractstatuscode</td>\n",
       "      <td id=\"T_ef19c_row40_col1\" class=\"data row40 col1\" >object</td>\n",
       "      <td id=\"T_ef19c_row40_col2\" class=\"data row40 col2\" >0</td>\n",
       "      <td id=\"T_ef19c_row40_col3\" class=\"data row40 col3\" >nan</td>\n",
       "      <td id=\"T_ef19c_row40_col4\" class=\"data row40 col4\" >nan</td>\n",
       "      <td id=\"T_ef19c_row40_col5\" class=\"data row40 col5\" >nan</td>\n",
       "      <td id=\"T_ef19c_row40_col6\" class=\"data row40 col6\" >nan</td>\n",
       "      <td id=\"T_ef19c_row40_col7\" class=\"data row40 col7\" >nan</td>\n",
       "      <td id=\"T_ef19c_row40_col8\" class=\"data row40 col8\" >nan</td>\n",
       "      <td id=\"T_ef19c_row40_col9\" class=\"data row40 col9\" >nan</td>\n",
       "      <td id=\"T_ef19c_row40_col10\" class=\"data row40 col10\" >nan</td>\n",
       "      <td id=\"T_ef19c_row40_col11\" class=\"data row40 col11\" >nan</td>\n",
       "      <td id=\"T_ef19c_row40_col12\" class=\"data row40 col12\" >nan</td>\n",
       "      <td id=\"T_ef19c_row40_col13\" class=\"data row40 col13\" >721,573</td>\n",
       "      <td id=\"T_ef19c_row40_col14\" class=\"data row40 col14\" >0.00</td>\n",
       "    </tr>\n",
       "    <tr>\n",
       "      <th id=\"T_ef19c_level0_row41\" class=\"row_heading level0 row41\" >41</th>\n",
       "      <td id=\"T_ef19c_row41_col0\" class=\"data row41 col0\" >itemeventuserid</td>\n",
       "      <td id=\"T_ef19c_row41_col1\" class=\"data row41 col1\" >object</td>\n",
       "      <td id=\"T_ef19c_row41_col2\" class=\"data row41 col2\" >650,168</td>\n",
       "      <td id=\"T_ef19c_row41_col3\" class=\"data row41 col3\" >nan</td>\n",
       "      <td id=\"T_ef19c_row41_col4\" class=\"data row41 col4\" >nan</td>\n",
       "      <td id=\"T_ef19c_row41_col5\" class=\"data row41 col5\" >nan</td>\n",
       "      <td id=\"T_ef19c_row41_col6\" class=\"data row41 col6\" >nan</td>\n",
       "      <td id=\"T_ef19c_row41_col7\" class=\"data row41 col7\" >nan</td>\n",
       "      <td id=\"T_ef19c_row41_col8\" class=\"data row41 col8\" >nan</td>\n",
       "      <td id=\"T_ef19c_row41_col9\" class=\"data row41 col9\" >nan</td>\n",
       "      <td id=\"T_ef19c_row41_col10\" class=\"data row41 col10\" >nan</td>\n",
       "      <td id=\"T_ef19c_row41_col11\" class=\"data row41 col11\" >nan</td>\n",
       "      <td id=\"T_ef19c_row41_col12\" class=\"data row41 col12\" >nan</td>\n",
       "      <td id=\"T_ef19c_row41_col13\" class=\"data row41 col13\" >721,573</td>\n",
       "      <td id=\"T_ef19c_row41_col14\" class=\"data row41 col14\" >90.10</td>\n",
       "    </tr>\n",
       "    <tr>\n",
       "      <th id=\"T_ef19c_level0_row42\" class=\"row_heading level0 row42\" >42</th>\n",
       "      <td id=\"T_ef19c_row42_col0\" class=\"data row42 col0\" >movementdate</td>\n",
       "      <td id=\"T_ef19c_row42_col1\" class=\"data row42 col1\" >int64</td>\n",
       "      <td id=\"T_ef19c_row42_col2\" class=\"data row42 col2\" >0</td>\n",
       "      <td id=\"T_ef19c_row42_col3\" class=\"data row42 col3\" >721,573</td>\n",
       "      <td id=\"T_ef19c_row42_col4\" class=\"data row42 col4\" >1,217,416.25</td>\n",
       "      <td id=\"T_ef19c_row42_col5\" class=\"data row42 col5\" >4,409.93</td>\n",
       "      <td id=\"T_ef19c_row42_col6\" class=\"data row42 col6\" >1,210,102.00</td>\n",
       "      <td id=\"T_ef19c_row42_col7\" class=\"data row42 col7\" >1,210,906.00</td>\n",
       "      <td id=\"T_ef19c_row42_col8\" class=\"data row42 col8\" >1,220,222.00</td>\n",
       "      <td id=\"T_ef19c_row42_col9\" class=\"data row42 col9\" >1,220,701.00</td>\n",
       "      <td id=\"T_ef19c_row42_col10\" class=\"data row42 col10\" >1,220,718.00</td>\n",
       "      <td id=\"T_ef19c_row42_col11\" class=\"data row42 col11\" >1,220,725.00</td>\n",
       "      <td id=\"T_ef19c_row42_col12\" class=\"data row42 col12\" >1,220,818.00</td>\n",
       "      <td id=\"T_ef19c_row42_col13\" class=\"data row42 col13\" >721,573</td>\n",
       "      <td id=\"T_ef19c_row42_col14\" class=\"data row42 col14\" >0.00</td>\n",
       "    </tr>\n",
       "    <tr>\n",
       "      <th id=\"T_ef19c_level0_row43\" class=\"row_heading level0 row43\" >43</th>\n",
       "      <td id=\"T_ef19c_row43_col0\" class=\"data row43 col0\" >offerpostcode</td>\n",
       "      <td id=\"T_ef19c_row43_col1\" class=\"data row43 col1\" >object</td>\n",
       "      <td id=\"T_ef19c_row43_col2\" class=\"data row43 col2\" >0</td>\n",
       "      <td id=\"T_ef19c_row43_col3\" class=\"data row43 col3\" >nan</td>\n",
       "      <td id=\"T_ef19c_row43_col4\" class=\"data row43 col4\" >nan</td>\n",
       "      <td id=\"T_ef19c_row43_col5\" class=\"data row43 col5\" >nan</td>\n",
       "      <td id=\"T_ef19c_row43_col6\" class=\"data row43 col6\" >nan</td>\n",
       "      <td id=\"T_ef19c_row43_col7\" class=\"data row43 col7\" >nan</td>\n",
       "      <td id=\"T_ef19c_row43_col8\" class=\"data row43 col8\" >nan</td>\n",
       "      <td id=\"T_ef19c_row43_col9\" class=\"data row43 col9\" >nan</td>\n",
       "      <td id=\"T_ef19c_row43_col10\" class=\"data row43 col10\" >nan</td>\n",
       "      <td id=\"T_ef19c_row43_col11\" class=\"data row43 col11\" >nan</td>\n",
       "      <td id=\"T_ef19c_row43_col12\" class=\"data row43 col12\" >nan</td>\n",
       "      <td id=\"T_ef19c_row43_col13\" class=\"data row43 col13\" >721,573</td>\n",
       "      <td id=\"T_ef19c_row43_col14\" class=\"data row43 col14\" >0.00</td>\n",
       "    </tr>\n",
       "    <tr>\n",
       "      <th id=\"T_ef19c_level0_row44\" class=\"row_heading level0 row44\" >44</th>\n",
       "      <td id=\"T_ef19c_row44_col0\" class=\"data row44 col0\" >offerreferencenumber</td>\n",
       "      <td id=\"T_ef19c_row44_col1\" class=\"data row44 col1\" >object</td>\n",
       "      <td id=\"T_ef19c_row44_col2\" class=\"data row44 col2\" >0</td>\n",
       "      <td id=\"T_ef19c_row44_col3\" class=\"data row44 col3\" >nan</td>\n",
       "      <td id=\"T_ef19c_row44_col4\" class=\"data row44 col4\" >nan</td>\n",
       "      <td id=\"T_ef19c_row44_col5\" class=\"data row44 col5\" >nan</td>\n",
       "      <td id=\"T_ef19c_row44_col6\" class=\"data row44 col6\" >nan</td>\n",
       "      <td id=\"T_ef19c_row44_col7\" class=\"data row44 col7\" >nan</td>\n",
       "      <td id=\"T_ef19c_row44_col8\" class=\"data row44 col8\" >nan</td>\n",
       "      <td id=\"T_ef19c_row44_col9\" class=\"data row44 col9\" >nan</td>\n",
       "      <td id=\"T_ef19c_row44_col10\" class=\"data row44 col10\" >nan</td>\n",
       "      <td id=\"T_ef19c_row44_col11\" class=\"data row44 col11\" >nan</td>\n",
       "      <td id=\"T_ef19c_row44_col12\" class=\"data row44 col12\" >nan</td>\n",
       "      <td id=\"T_ef19c_row44_col13\" class=\"data row44 col13\" >721,573</td>\n",
       "      <td id=\"T_ef19c_row44_col14\" class=\"data row44 col14\" >0.00</td>\n",
       "    </tr>\n",
       "    <tr>\n",
       "      <th id=\"T_ef19c_level0_row45\" class=\"row_heading level0 row45\" >45</th>\n",
       "      <td id=\"T_ef19c_row45_col0\" class=\"data row45 col0\" >offertotalprice</td>\n",
       "      <td id=\"T_ef19c_row45_col1\" class=\"data row45 col1\" >float64</td>\n",
       "      <td id=\"T_ef19c_row45_col2\" class=\"data row45 col2\" >7,727</td>\n",
       "      <td id=\"T_ef19c_row45_col3\" class=\"data row45 col3\" >713,846</td>\n",
       "      <td id=\"T_ef19c_row45_col4\" class=\"data row45 col4\" >46.35</td>\n",
       "      <td id=\"T_ef19c_row45_col5\" class=\"data row45 col5\" >13.50</td>\n",
       "      <td id=\"T_ef19c_row45_col6\" class=\"data row45 col6\" >12.84</td>\n",
       "      <td id=\"T_ef19c_row45_col7\" class=\"data row45 col7\" >32.04</td>\n",
       "      <td id=\"T_ef19c_row45_col8\" class=\"data row45 col8\" >43.92</td>\n",
       "      <td id=\"T_ef19c_row45_col9\" class=\"data row45 col9\" >63.84</td>\n",
       "      <td id=\"T_ef19c_row45_col10\" class=\"data row45 col10\" >69.72</td>\n",
       "      <td id=\"T_ef19c_row45_col11\" class=\"data row45 col11\" >76.32</td>\n",
       "      <td id=\"T_ef19c_row45_col12\" class=\"data row45 col12\" >376.44</td>\n",
       "      <td id=\"T_ef19c_row45_col13\" class=\"data row45 col13\" >721,573</td>\n",
       "      <td id=\"T_ef19c_row45_col14\" class=\"data row45 col14\" >1.07</td>\n",
       "    </tr>\n",
       "    <tr>\n",
       "      <th id=\"T_ef19c_level0_row46\" class=\"row_heading level0 row46\" >46</th>\n",
       "      <td id=\"T_ef19c_row46_col0\" class=\"data row46 col0\" >personaddresspostcode</td>\n",
       "      <td id=\"T_ef19c_row46_col1\" class=\"data row46 col1\" >object</td>\n",
       "      <td id=\"T_ef19c_row46_col2\" class=\"data row46 col2\" >10,962</td>\n",
       "      <td id=\"T_ef19c_row46_col3\" class=\"data row46 col3\" >nan</td>\n",
       "      <td id=\"T_ef19c_row46_col4\" class=\"data row46 col4\" >nan</td>\n",
       "      <td id=\"T_ef19c_row46_col5\" class=\"data row46 col5\" >nan</td>\n",
       "      <td id=\"T_ef19c_row46_col6\" class=\"data row46 col6\" >nan</td>\n",
       "      <td id=\"T_ef19c_row46_col7\" class=\"data row46 col7\" >nan</td>\n",
       "      <td id=\"T_ef19c_row46_col8\" class=\"data row46 col8\" >nan</td>\n",
       "      <td id=\"T_ef19c_row46_col9\" class=\"data row46 col9\" >nan</td>\n",
       "      <td id=\"T_ef19c_row46_col10\" class=\"data row46 col10\" >nan</td>\n",
       "      <td id=\"T_ef19c_row46_col11\" class=\"data row46 col11\" >nan</td>\n",
       "      <td id=\"T_ef19c_row46_col12\" class=\"data row46 col12\" >nan</td>\n",
       "      <td id=\"T_ef19c_row46_col13\" class=\"data row46 col13\" >721,573</td>\n",
       "      <td id=\"T_ef19c_row46_col14\" class=\"data row46 col14\" >1.52</td>\n",
       "    </tr>\n",
       "    <tr>\n",
       "      <th id=\"T_ef19c_level0_row47\" class=\"row_heading level0 row47\" >47</th>\n",
       "      <td id=\"T_ef19c_row47_col0\" class=\"data row47 col0\" >planaccdate</td>\n",
       "      <td id=\"T_ef19c_row47_col1\" class=\"data row47 col1\" >int64</td>\n",
       "      <td id=\"T_ef19c_row47_col2\" class=\"data row47 col2\" >0</td>\n",
       "      <td id=\"T_ef19c_row47_col3\" class=\"data row47 col3\" >721,573</td>\n",
       "      <td id=\"T_ef19c_row47_col4\" class=\"data row47 col4\" >1,213,902.46</td>\n",
       "      <td id=\"T_ef19c_row47_col5\" class=\"data row47 col5\" >4,600.17</td>\n",
       "      <td id=\"T_ef19c_row47_col6\" class=\"data row47 col6\" >1,210,101.00</td>\n",
       "      <td id=\"T_ef19c_row47_col7\" class=\"data row47 col7\" >1,210,220.00</td>\n",
       "      <td id=\"T_ef19c_row47_col8\" class=\"data row47 col8\" >1,211,004.00</td>\n",
       "      <td id=\"T_ef19c_row47_col9\" class=\"data row47 col9\" >1,220,525.00</td>\n",
       "      <td id=\"T_ef19c_row47_col10\" class=\"data row47 col10\" >1,220,628.00</td>\n",
       "      <td id=\"T_ef19c_row47_col11\" class=\"data row47 col11\" >1,220,717.00</td>\n",
       "      <td id=\"T_ef19c_row47_col12\" class=\"data row47 col12\" >1,220,817.00</td>\n",
       "      <td id=\"T_ef19c_row47_col13\" class=\"data row47 col13\" >721,573</td>\n",
       "      <td id=\"T_ef19c_row47_col14\" class=\"data row47 col14\" >0.00</td>\n",
       "    </tr>\n",
       "    <tr>\n",
       "      <th id=\"T_ef19c_level0_row48\" class=\"row_heading level0 row48\" >48</th>\n",
       "      <td id=\"T_ef19c_row48_col0\" class=\"data row48 col0\" >price_band</td>\n",
       "      <td id=\"T_ef19c_row48_col1\" class=\"data row48 col1\" >object</td>\n",
       "      <td id=\"T_ef19c_row48_col2\" class=\"data row48 col2\" >199,643</td>\n",
       "      <td id=\"T_ef19c_row48_col3\" class=\"data row48 col3\" >nan</td>\n",
       "      <td id=\"T_ef19c_row48_col4\" class=\"data row48 col4\" >nan</td>\n",
       "      <td id=\"T_ef19c_row48_col5\" class=\"data row48 col5\" >nan</td>\n",
       "      <td id=\"T_ef19c_row48_col6\" class=\"data row48 col6\" >nan</td>\n",
       "      <td id=\"T_ef19c_row48_col7\" class=\"data row48 col7\" >nan</td>\n",
       "      <td id=\"T_ef19c_row48_col8\" class=\"data row48 col8\" >nan</td>\n",
       "      <td id=\"T_ef19c_row48_col9\" class=\"data row48 col9\" >nan</td>\n",
       "      <td id=\"T_ef19c_row48_col10\" class=\"data row48 col10\" >nan</td>\n",
       "      <td id=\"T_ef19c_row48_col11\" class=\"data row48 col11\" >nan</td>\n",
       "      <td id=\"T_ef19c_row48_col12\" class=\"data row48 col12\" >nan</td>\n",
       "      <td id=\"T_ef19c_row48_col13\" class=\"data row48 col13\" >721,573</td>\n",
       "      <td id=\"T_ef19c_row48_col14\" class=\"data row48 col14\" >27.67</td>\n",
       "    </tr>\n",
       "    <tr>\n",
       "      <th id=\"T_ef19c_level0_row49\" class=\"row_heading level0 row49\" >49</th>\n",
       "      <td id=\"T_ef19c_row49_col0\" class=\"data row49 col0\" >price_diff</td>\n",
       "      <td id=\"T_ef19c_row49_col1\" class=\"data row49 col1\" >float64</td>\n",
       "      <td id=\"T_ef19c_row49_col2\" class=\"data row49 col2\" >198,153</td>\n",
       "      <td id=\"T_ef19c_row49_col3\" class=\"data row49 col3\" >523,420</td>\n",
       "      <td id=\"T_ef19c_row49_col4\" class=\"data row49 col4\" >0.02</td>\n",
       "      <td id=\"T_ef19c_row49_col5\" class=\"data row49 col5\" >0.12</td>\n",
       "      <td id=\"T_ef19c_row49_col6\" class=\"data row49 col6\" >-0.70</td>\n",
       "      <td id=\"T_ef19c_row49_col7\" class=\"data row49 col7\" >-0.14</td>\n",
       "      <td id=\"T_ef19c_row49_col8\" class=\"data row49 col8\" >0.00</td>\n",
       "      <td id=\"T_ef19c_row49_col9\" class=\"data row49 col9\" >0.21</td>\n",
       "      <td id=\"T_ef19c_row49_col10\" class=\"data row49 col10\" >0.27</td>\n",
       "      <td id=\"T_ef19c_row49_col11\" class=\"data row49 col11\" >0.30</td>\n",
       "      <td id=\"T_ef19c_row49_col12\" class=\"data row49 col12\" >1.29</td>\n",
       "      <td id=\"T_ef19c_row49_col13\" class=\"data row49 col13\" >721,573</td>\n",
       "      <td id=\"T_ef19c_row49_col14\" class=\"data row49 col14\" >27.46</td>\n",
       "    </tr>\n",
       "    <tr>\n",
       "      <th id=\"T_ef19c_level0_row50\" class=\"row_heading level0 row50\" >50</th>\n",
       "      <td id=\"T_ef19c_row50_col0\" class=\"data row50 col0\" >relFee</td>\n",
       "      <td id=\"T_ef19c_row50_col1\" class=\"data row50 col1\" >float64</td>\n",
       "      <td id=\"T_ef19c_row50_col2\" class=\"data row50 col2\" >198,153</td>\n",
       "      <td id=\"T_ef19c_row50_col3\" class=\"data row50 col3\" >523,420</td>\n",
       "      <td id=\"T_ef19c_row50_col4\" class=\"data row50 col4\" >0.14</td>\n",
       "      <td id=\"T_ef19c_row50_col5\" class=\"data row50 col5\" >0.16</td>\n",
       "      <td id=\"T_ef19c_row50_col6\" class=\"data row50 col6\" >0.00</td>\n",
       "      <td id=\"T_ef19c_row50_col7\" class=\"data row50 col7\" >0.08</td>\n",
       "      <td id=\"T_ef19c_row50_col8\" class=\"data row50 col8\" >0.13</td>\n",
       "      <td id=\"T_ef19c_row50_col9\" class=\"data row50 col9\" >0.22</td>\n",
       "      <td id=\"T_ef19c_row50_col10\" class=\"data row50 col10\" >0.25</td>\n",
       "      <td id=\"T_ef19c_row50_col11\" class=\"data row50 col11\" >0.28</td>\n",
       "      <td id=\"T_ef19c_row50_col12\" class=\"data row50 col12\" >56.16</td>\n",
       "      <td id=\"T_ef19c_row50_col13\" class=\"data row50 col13\" >721,573</td>\n",
       "      <td id=\"T_ef19c_row50_col14\" class=\"data row50 col14\" >27.46</td>\n",
       "    </tr>\n",
       "    <tr>\n",
       "      <th id=\"T_ef19c_level0_row51\" class=\"row_heading level0 row51\" >51</th>\n",
       "      <td id=\"T_ef19c_row51_col0\" class=\"data row51 col0\" >relFeeInc</td>\n",
       "      <td id=\"T_ef19c_row51_col1\" class=\"data row51 col1\" >float64</td>\n",
       "      <td id=\"T_ef19c_row51_col2\" class=\"data row51 col2\" >198,153</td>\n",
       "      <td id=\"T_ef19c_row51_col3\" class=\"data row51 col3\" >523,420</td>\n",
       "      <td id=\"T_ef19c_row51_col4\" class=\"data row51 col4\" >0.00</td>\n",
       "      <td id=\"T_ef19c_row51_col5\" class=\"data row51 col5\" >0.00</td>\n",
       "      <td id=\"T_ef19c_row51_col6\" class=\"data row51 col6\" >-0.17</td>\n",
       "      <td id=\"T_ef19c_row51_col7\" class=\"data row51 col7\" >-0.00</td>\n",
       "      <td id=\"T_ef19c_row51_col8\" class=\"data row51 col8\" >0.00</td>\n",
       "      <td id=\"T_ef19c_row51_col9\" class=\"data row51 col9\" >0.00</td>\n",
       "      <td id=\"T_ef19c_row51_col10\" class=\"data row51 col10\" >0.00</td>\n",
       "      <td id=\"T_ef19c_row51_col11\" class=\"data row51 col11\" >0.00</td>\n",
       "      <td id=\"T_ef19c_row51_col12\" class=\"data row51 col12\" >0.07</td>\n",
       "      <td id=\"T_ef19c_row51_col13\" class=\"data row51 col13\" >721,573</td>\n",
       "      <td id=\"T_ef19c_row51_col14\" class=\"data row51 col14\" >27.46</td>\n",
       "    </tr>\n",
       "    <tr>\n",
       "      <th id=\"T_ef19c_level0_row52\" class=\"row_heading level0 row52\" >52</th>\n",
       "      <td id=\"T_ef19c_row52_col0\" class=\"data row52 col0\" >sale</td>\n",
       "      <td id=\"T_ef19c_row52_col1\" class=\"data row52 col1\" >int64</td>\n",
       "      <td id=\"T_ef19c_row52_col2\" class=\"data row52 col2\" >0</td>\n",
       "      <td id=\"T_ef19c_row52_col3\" class=\"data row52 col3\" >721,573</td>\n",
       "      <td id=\"T_ef19c_row52_col4\" class=\"data row52 col4\" >1.00</td>\n",
       "      <td id=\"T_ef19c_row52_col5\" class=\"data row52 col5\" >0.00</td>\n",
       "      <td id=\"T_ef19c_row52_col6\" class=\"data row52 col6\" >1.00</td>\n",
       "      <td id=\"T_ef19c_row52_col7\" class=\"data row52 col7\" >1.00</td>\n",
       "      <td id=\"T_ef19c_row52_col8\" class=\"data row52 col8\" >1.00</td>\n",
       "      <td id=\"T_ef19c_row52_col9\" class=\"data row52 col9\" >1.00</td>\n",
       "      <td id=\"T_ef19c_row52_col10\" class=\"data row52 col10\" >1.00</td>\n",
       "      <td id=\"T_ef19c_row52_col11\" class=\"data row52 col11\" >1.00</td>\n",
       "      <td id=\"T_ef19c_row52_col12\" class=\"data row52 col12\" >1.00</td>\n",
       "      <td id=\"T_ef19c_row52_col13\" class=\"data row52 col13\" >721,573</td>\n",
       "      <td id=\"T_ef19c_row52_col14\" class=\"data row52 col14\" >0.00</td>\n",
       "    </tr>\n",
       "    <tr>\n",
       "      <th id=\"T_ef19c_level0_row53\" class=\"row_heading level0 row53\" >53</th>\n",
       "      <td id=\"T_ef19c_row53_col0\" class=\"data row53 col0\" >schcode</td>\n",
       "      <td id=\"T_ef19c_row53_col1\" class=\"data row53 col1\" >object</td>\n",
       "      <td id=\"T_ef19c_row53_col2\" class=\"data row53 col2\" >0</td>\n",
       "      <td id=\"T_ef19c_row53_col3\" class=\"data row53 col3\" >nan</td>\n",
       "      <td id=\"T_ef19c_row53_col4\" class=\"data row53 col4\" >nan</td>\n",
       "      <td id=\"T_ef19c_row53_col5\" class=\"data row53 col5\" >nan</td>\n",
       "      <td id=\"T_ef19c_row53_col6\" class=\"data row53 col6\" >nan</td>\n",
       "      <td id=\"T_ef19c_row53_col7\" class=\"data row53 col7\" >nan</td>\n",
       "      <td id=\"T_ef19c_row53_col8\" class=\"data row53 col8\" >nan</td>\n",
       "      <td id=\"T_ef19c_row53_col9\" class=\"data row53 col9\" >nan</td>\n",
       "      <td id=\"T_ef19c_row53_col10\" class=\"data row53 col10\" >nan</td>\n",
       "      <td id=\"T_ef19c_row53_col11\" class=\"data row53 col11\" >nan</td>\n",
       "      <td id=\"T_ef19c_row53_col12\" class=\"data row53 col12\" >nan</td>\n",
       "      <td id=\"T_ef19c_row53_col13\" class=\"data row53 col13\" >721,573</td>\n",
       "      <td id=\"T_ef19c_row53_col14\" class=\"data row53 col14\" >0.00</td>\n",
       "    </tr>\n",
       "  </tbody>\n",
       "</table>\n"
      ],
      "text/plain": [
       "<pandas.io.formats.style.Styler at 0x7ff0edf0eaf0>"
      ]
     },
     "execution_count": 9,
     "metadata": {},
     "output_type": "execute_result"
    }
   ],
   "source": [
    "#dtypes\n",
    "x= df.dtypes.to_frame().reset_index()\n",
    "x.columns = ['ColName', 'dtype']\n",
    "x= x.sort_values(by= 'ColName')\n",
    "\n",
    "#missing\n",
    "y= df.isna().sum().to_frame().reset_index()\n",
    "y.columns = ['ColName', 'Na_rows']\n",
    "y= y.sort_values(by= 'ColName')\n",
    "\n",
    "#describe\n",
    "d= df.describe(percentiles= [.1, .9, .95, .975]).T.reset_index()\n",
    "d.columns = ['ColName', 'count', 'mean', 'std', 'min', '10%', '50%', '90%', '95%', '97.5%', 'max']\n",
    "d= d.sort_values(by= 'ColName')\n",
    "\n",
    "#join\n",
    "z= x.merge(y, on= 'ColName', how= 'left').merge(d, on='ColName', how= 'left')\n",
    "z['N'] = df.shape[0]\n",
    "z['Na_miss_rate'] = (z['Na_rows'] / z['N']) * 100\n",
    "\n",
    "z['dtype'] = z['dtype'].astype('str')\n",
    "\n",
    "fltr= z['dtype'].isin(['float64'])\n",
    "z.style.format('{:,.2f}', subset=['mean', 'std', 'min', '10%', '50%', '90%', '95%', '97.5%', 'max', 'Na_miss_rate']).format('{:,.0f}', subset=['N', 'Na_rows', 'count'])"
   ]
  },
  {
   "cell_type": "markdown",
   "metadata": {},
   "source": [
    "## Categorical Features\n",
    "<a id='catfeat'></a>"
   ]
  },
  {
   "cell_type": "code",
   "execution_count": 10,
   "metadata": {},
   "outputs": [
    {
     "data": {
      "text/plain": [
       "['ApplianceCode',\n",
       " 'ClientAccountDesc',\n",
       " 'ClientCode',\n",
       " 'ClientGroupCode',\n",
       " 'ClientGroupDesc',\n",
       " 'GoodsColour',\n",
       " 'HasPrevRTPPrice',\n",
       " 'ManufacturerBrandCode',\n",
       " 'ModelId',\n",
       " 'PaymentType',\n",
       " 'Postcode_Sector',\n",
       " 'PricingVersionDescription',\n",
       " 'cocode',\n",
       " 'contractstatuscode',\n",
       " 'itemeventuserid',\n",
       " 'offerpostcode',\n",
       " 'offerreferencenumber',\n",
       " 'personaddresspostcode',\n",
       " 'price_band',\n",
       " 'schcode']"
      ]
     },
     "execution_count": 10,
     "metadata": {},
     "output_type": "execute_result"
    }
   ],
   "source": [
    "cat_features = [f for f in df.select_dtypes(include=['object']).columns.sort_values() if f not in ['CurrentDate', 'PurchaseDate', 'ons_postcode_sector', 'PerPostalAddrPostCode', 'RouteToMarketName', 'PrevRTPPriceType', 'SchemeTypeName']]\n",
    "cat_features"
   ]
  },
  {
   "cell_type": "code",
   "execution_count": 11,
   "metadata": {},
   "outputs": [
    {
     "name": "stdout",
     "output_type": "stream",
     "text": [
      "ApplianceCode : 111\n",
      "ClientAccountDesc : 38\n",
      "ClientCode : 84\n",
      "ClientGroupCode : 54\n",
      "ClientGroupDesc : 20\n",
      "GoodsColour : 2\n",
      "HasPrevRTPPrice : 2\n",
      "ManufacturerBrandCode : 114\n",
      "ModelId : 8\n",
      "PaymentType : 1\n",
      "Postcode_Sector : 10583\n",
      "PricingVersionDescription : 17\n",
      "cocode : 1\n",
      "contractstatuscode : 4\n",
      "itemeventuserid : 2267\n",
      "offerpostcode : 327306\n",
      "offerreferencenumber : 721573\n",
      "personaddresspostcode : 323200\n",
      "price_band : 7\n",
      "schcode : 167\n"
     ]
    }
   ],
   "source": [
    "for i in cat_features:\n",
    "    print(i, ':', df[i].nunique())"
   ]
  },
  {
   "cell_type": "code",
   "execution_count": 12,
   "metadata": {},
   "outputs": [
    {
     "name": "stdout",
     "output_type": "stream",
     "text": [
      "ApplianceCode : 12\n",
      "ClientAccountDesc : 12\n",
      "price_band : 7\n",
      "PricingVersionDescription : 5\n",
      "cocode : 1\n",
      "PaymentType : 1\n",
      "ClientCode : 9\n",
      "GoodsColour : 2\n",
      "ClientGroupCode : 7\n",
      "ManufacturerBrandCode : 12\n",
      "contractstatuscode : 3\n",
      "schcode : 14\n",
      "HasPrevRTPPrice : 2\n",
      "ClientGroupDesc : 9\n"
     ]
    }
   ],
   "source": [
    "id_cols = ['offerreferencenumber', 'itemeventuserid', 'ModelId']\n",
    "postcode_cols = ['personaddresspostcode', 'offerpostcode', 'Postcode_Sector']\n",
    "\n",
    "to_group = list(set(cat_features) - set(id_cols) - set(postcode_cols))\n",
    "\n",
    "group_low_freq(df=df, lst= to_group, pct=2.5) # regroup very low frequency classes\n",
    "\n",
    "for i in to_group:  # check unique values after regrouping\n",
    "    print(i, ':', df[i].nunique())"
   ]
  },
  {
   "cell_type": "markdown",
   "metadata": {},
   "source": [
    "## Numerical Features\n",
    "<a id='numfeat'></a>"
   ]
  },
  {
   "cell_type": "code",
   "execution_count": 13,
   "metadata": {},
   "outputs": [
    {
     "data": {
      "text/plain": [
       "['AppAge',\n",
       " 'ClaimAmount1YearTotal',\n",
       " 'ClaimAmount3YearTotal',\n",
       " 'ClaimAmount5YearTotal',\n",
       " 'ClaimPast1YearCount',\n",
       " 'ClaimPast3YearCount',\n",
       " 'ClaimPast5YearCount',\n",
       " 'Fee',\n",
       " 'ManufacturerGuaranteeLabourMonths',\n",
       " 'ManufacturerGuaranteePartsMonths',\n",
       " 'PeriodOfCover',\n",
       " 'PlanLiveCount',\n",
       " 'PlansAcceptedPast1YearCount',\n",
       " 'PlansAcceptedPast5YearCount',\n",
       " 'PlansActivePast1yrCount',\n",
       " 'PlansActivePast5yrCount',\n",
       " 'PlansCancelledPast1YearCount',\n",
       " 'PlansCancelledPast5YearCount',\n",
       " 'PredictedConversionRate',\n",
       " 'PurchasePrice',\n",
       " 'RetentionFlag',\n",
       " 'TotalPrice',\n",
       " 'movementdate',\n",
       " 'offertotalprice',\n",
       " 'planaccdate',\n",
       " 'price_diff',\n",
       " 'relFee',\n",
       " 'relFeeInc',\n",
       " 'sale']"
      ]
     },
     "execution_count": 13,
     "metadata": {},
     "output_type": "execute_result"
    }
   ],
   "source": [
    "num_features = [f for f in df.select_dtypes(include=['int32', 'int64', 'float64']).columns.sort_values() if f not in ['planno']]\n",
    "num_features"
   ]
  },
  {
   "cell_type": "code",
   "execution_count": 14,
   "metadata": {},
   "outputs": [],
   "source": [
    "# for col in num_features:\n",
    "#     df[col]= df[col].clip(upper= np.quantile(df[col], q= 0.95))\n",
    "#     df[col]= df[col].clip(lower= np.quantile(df[col], q= 0.05))"
   ]
  },
  {
   "cell_type": "markdown",
   "metadata": {},
   "source": [
    "## Date Features\n",
    "<a id='datefeat'></a>"
   ]
  },
  {
   "cell_type": "markdown",
   "metadata": {},
   "source": [
    "### Formatting"
   ]
  },
  {
   "cell_type": "code",
   "execution_count": 15,
   "metadata": {},
   "outputs": [
    {
     "name": "stdout",
     "output_type": "stream",
     "text": [
      "2021-01-01 00:00:00 2022-08-01 00:00:00\n",
      "2021-01-02 00:00:00 2022-08-18 00:00:00\n",
      "2021-01-01 00:00:00 2022-08-17 00:00:00\n"
     ]
    }
   ],
   "source": [
    "date_cols = df.columns[df.columns.str.lower().str.contains('date')]\n",
    "df = planmaster_date_to_datetime(df, columns=['planaccdate', 'movementdate']) # convert planmaster to datetime string\n",
    "date_fix(df, date_cols) # convert to datetime\n",
    "\n",
    "print(df['CurrentDate'].min(), df['CurrentDate'].max())\n",
    "print(df['movementdate'].min(), df['movementdate'].max())\n",
    "print(df['planaccdate'].min(), df['planaccdate'].max())"
   ]
  },
  {
   "cell_type": "markdown",
   "metadata": {},
   "source": [
    "### Feature Engineering"
   ]
  },
  {
   "cell_type": "code",
   "execution_count": 16,
   "metadata": {},
   "outputs": [],
   "source": [
    "# month-year column\n",
    "# df_dedup['offermonthyear'] = df_dedup['CurrentDate'].dt.to_period('M')\n",
    "df['startmonthyear'] = df['planaccdate'].dt.to_period('M')\n",
    "df['contractmonthyear'] = df['movementdate'].dt.to_period('M')\n",
    "\n",
    "# month name column\n",
    "# df_dedup['offereventmonth'] = df_dedup['CurrentDate'].dt.month_name()\n",
    "df['startmonth'] = df['planaccdate'].dt.month_name()\n",
    "df['contractmonth'] = df['movementdate'].dt.month_name()"
   ]
  },
  {
   "cell_type": "code",
   "execution_count": 17,
   "metadata": {},
   "outputs": [
    {
     "data": {
      "text/plain": [
       "(0, 61)"
      ]
     },
     "execution_count": 17,
     "metadata": {},
     "output_type": "execute_result"
    }
   ],
   "source": [
    "# calculate contract tenure\n",
    "final_date = df['movementdate'].max()\n",
    "df['contract_age']=df['contract_age']=np.where(df['contractstatuscode']=='C', (df['movementdate']-df['planaccdate'])/np.timedelta64(1, 'M'), (final_date-df['planaccdate'])/np.timedelta64(1, 'M'))\n",
    "df[df['contract_age']<0].shape\n",
    "# df_dedup.drop('contract_age', axis=1, inplace=True)"
   ]
  },
  {
   "cell_type": "code",
   "execution_count": 18,
   "metadata": {},
   "outputs": [],
   "source": [
    "# # calculate item age\n",
    "\n",
    "# df['item_age'] = np.where(pd.to_datetime(df['CurrentDate'])>=pd.to_datetime(df['PurchaseDate']),(pd.to_datetime(df['CurrentDate']) - pd.to_datetime(df['PurchaseDate'])) / np.timedelta64(1, 'M'), np.nan)\n",
    "# df['item_age'] = df['item_age'].fillna(df['item_age'].mean())"
   ]
  },
  {
   "cell_type": "code",
   "execution_count": 19,
   "metadata": {},
   "outputs": [
    {
     "data": {
      "image/png": "[encoded data removed]",
      "text/plain": [
       "<Figure size 1000x500 with 1 Axes>"
      ]
     },
     "metadata": {
      "needs_background": "light"
     },
     "output_type": "display_data"
    }
   ],
   "source": [
    "x1 = df[df['contractstatuscode']=='C']['contract_age']\n",
    "x2 = df[df['contractstatuscode']!='C']['contract_age']\n",
    "kwargs = dict(histtype='stepfilled', alpha=0.3, bins=20)\n",
    "plt.hist(x1.values, **kwargs, label = \"Yes\")\n",
    "plt.hist(x2.values, **kwargs, label = \"No\")\n",
    "plt.xlabel(\"Tenure in Months\")\n",
    "plt.ylabel(\"Number of Plans\")\n",
    "plt.title(\"Number of Plans by Tenure\")\n",
    "plt.legend(title='Cancelled')\n",
    "plt.show()"
   ]
  },
  {
   "cell_type": "markdown",
   "metadata": {},
   "source": [
    "## Target Variable: Cancellation Flag\n",
    "<a id='target'></a>"
   ]
  },
  {
   "cell_type": "code",
   "execution_count": 20,
   "metadata": {},
   "outputs": [
    {
     "data": {
      "text/plain": [
       "(149116, (721573, 62))"
      ]
     },
     "execution_count": 20,
     "metadata": {},
     "output_type": "execute_result"
    }
   ],
   "source": [
    "# create target variable for the model\n",
    "df['cancelflag']=np.where(df['contractstatuscode']=='C', 1, 0)\n",
    "df['cancelflag'].sum(), df.shape"
   ]
  },
  {
   "cell_type": "code",
   "execution_count": 23,
   "metadata": {},
   "outputs": [],
   "source": [
    "df_raw1 = df.copy()"
   ]
  },
  {
   "cell_type": "markdown",
   "metadata": {},
   "source": [
    "# Cohort Analysis & Filter\n",
    "<a id='section2'></a>"
   ]
  },
  {
   "cell_type": "markdown",
   "metadata": {},
   "source": [
    "## Cohort Filter\n",
    "<a id='cofilt'></a>"
   ]
  },
  {
   "cell_type": "code",
   "execution_count": 24,
   "metadata": {},
   "outputs": [
    {
     "data": {
      "text/plain": [
       "(78471, 62)"
      ]
     },
     "execution_count": 24,
     "metadata": {},
     "output_type": "execute_result"
    }
   ],
   "source": [
    "# Cohort Filter - select only jun & jul 21 start dates\n",
    "\n",
    "filt_df = df_raw1[(df_raw1['planaccdate']>='2021-06-01')&(df_raw1['planaccdate']<'2021-08-01')]\n",
    "filt_df.shape"
   ]
  },
  {
   "cell_type": "markdown",
   "metadata": {},
   "source": [
    "## Cancellation Rate by Months of Tenure: 12 months\n",
    "With 12-month observation period\n",
    "<a id='canx'></a>"
   ]
  },
  {
   "cell_type": "code",
   "execution_count": 25,
   "metadata": {},
   "outputs": [
    {
     "data": {
      "text/plain": [
       "Timestamp('2022-07-31 00:00:00')"
      ]
     },
     "execution_count": 25,
     "metadata": {},
     "output_type": "execute_result"
    }
   ],
   "source": [
    "final_planaccdate = pd.Timestamp('2021-07-31 00:00:00')\n",
    "final_movementdate = final_planaccdate + relativedelta(months=12)\n",
    "final_movementdate"
   ]
  },
  {
   "cell_type": "code",
   "execution_count": 26,
   "metadata": {},
   "outputs": [
    {
     "data": {
      "text/plain": [
       "count    19266.000000\n",
       "mean         4.683772\n",
       "std          4.168502\n",
       "min          0.000000\n",
       "25%          0.722807\n",
       "50%          3.581182\n",
       "75%          8.016592\n",
       "max         14.357584\n",
       "Name: contract_age, dtype: float64"
      ]
     },
     "execution_count": 26,
     "metadata": {},
     "output_type": "execute_result"
    }
   ],
   "source": [
    "# re-calculate contract_age\n",
    "filt_df12 = filt_df.copy()\n",
    "filt_df12['contract_age']=np.where(filt_df12['contractstatuscode']=='C',(filt_df12['movementdate']-filt_df12['planaccdate'])/np.timedelta64(1, 'M'), (final_movementdate-filt_df12['planaccdate'])/np.timedelta64(1, 'M'))\n",
    "\n",
    "filt_df12[filt_df12['contractstatuscode']=='C']['contract_age'].describe()"
   ]
  },
  {
   "cell_type": "code",
   "execution_count": 27,
   "metadata": {},
   "outputs": [
    {
     "data": {
      "text/plain": [
       "(78471, 62)"
      ]
     },
     "execution_count": 27,
     "metadata": {},
     "output_type": "execute_result"
    }
   ],
   "source": [
    "filt_df12.shape"
   ]
  },
  {
   "cell_type": "code",
   "execution_count": 28,
   "metadata": {},
   "outputs": [
    {
     "data": {
      "text/plain": [
       "11.992032690609664"
      ]
     },
     "execution_count": 28,
     "metadata": {},
     "output_type": "execute_result"
    }
   ],
   "source": [
    "# re-label plans that cancelled after 12 months\n",
    "filt_df12['contractstatuscode'] = np.where((filt_df12['contractstatuscode']=='C')&(filt_df12['contract_age']>=12), 'N', filt_df12['contractstatuscode'])\n",
    "filt_df12[filt_df12['contractstatuscode']=='C']['contract_age'].max()"
   ]
  },
  {
   "cell_type": "code",
   "execution_count": 29,
   "metadata": {},
   "outputs": [],
   "source": [
    "# re-label cancelflag\n",
    "filt_df12['cancelflag']=np.where(filt_df12['contractstatuscode']=='C', 1, 0)"
   ]
  },
  {
   "cell_type": "code",
   "execution_count": 30,
   "metadata": {},
   "outputs": [
    {
     "data": {
      "text/plain": [
       "array([[<AxesSubplot:title={'center':'contract_age'}>]], dtype=object)"
      ]
     },
     "execution_count": 30,
     "metadata": {},
     "output_type": "execute_result"
    },
    {
     "data": {
      "image/png": "[encoded data removed]",
      "text/plain": [
       "<Figure size 1000x500 with 1 Axes>"
      ]
     },
     "metadata": {
      "needs_background": "light"
     },
     "output_type": "display_data"
    }
   ],
   "source": [
    "# plot distribution of contract tenure for cancelled contracts\n",
    "df_canx_tenure = pd.DataFrame(filt_df12[filt_df12['contractstatuscode']=='C']['contract_age'])\n",
    "df_canx_tenure.hist()"
   ]
  },
  {
   "cell_type": "code",
   "execution_count": 31,
   "metadata": {},
   "outputs": [],
   "source": [
    "filt_df12['startmonthyear'] = filt_df12['startmonthyear'].astype(str)"
   ]
  },
  {
   "cell_type": "code",
   "execution_count": 32,
   "metadata": {},
   "outputs": [],
   "source": [
    "df_month = pd.DataFrame(filt_df12.groupby(['startmonthyear']).agg({'cancelflag': lambda x: x.sum(),'offerreferencenumber': lambda x: x.count()})).reset_index()\n",
    "\n",
    "df_month.columns = ['startmonthyear','cancel_count', 'offers']\n",
    "# df_month['cum_cancels'] = df_month['cancel_count'].cumsum()\n",
    "# df_month['cum_offers'] = df_month['offers'].cumsum()\n",
    "# df_month['cum_cancel_rate'] = df_month['cum_cancels']/df_month['cum_offers']\n",
    "df_month['cancel_rate'] = df_month['cancel_count']/(df_month['offers'])"
   ]
  },
  {
   "cell_type": "code",
   "execution_count": 33,
   "metadata": {},
   "outputs": [
    {
     "name": "stdout",
     "output_type": "stream",
     "text": [
      "  startmonthyear  cancel_count  offers  cancel_rate\n",
      "0        2021-06          8947   38997     0.229428\n",
      "1        2021-07          9167   39474     0.232229\n"
     ]
    },
    {
     "data": {
      "image/png": "[encoded data removed]",
      "text/plain": [
       "<Figure size 1000x500 with 2 Axes>"
      ]
     },
     "metadata": {
      "needs_background": "light"
     },
     "output_type": "display_data"
    }
   ],
   "source": [
    "# Plot cancellation rate\n",
    "\n",
    "y1 = df_month['cancel_rate']\n",
    "y2 = df_month['offers']\n",
    "\n",
    "x = df_month['startmonthyear']\n",
    "\n",
    "\n",
    "fig, ax1 = plt.subplots()\n",
    "\n",
    "ax2 = ax1.twinx()\n",
    "\n",
    "ax1.plot(x, y1, color = 'red', label = 'Cancellation Rate')\n",
    "y2.plot.bar(alpha=0.5)\n",
    "\n",
    "\n",
    "# ax2.yaxis.set_major_locator(MaxNLocator(integer=True))\n",
    "ax1.set_xlabel(\"Start Month-Year\")\n",
    "ax1.set_ylabel(\"Cancellation Rate\")\n",
    "ax2.set_ylabel(\"Offer Count\")\n",
    "ax1.set_xticklabels(x, rotation=45)\n",
    "\n",
    "ax1.set_xticklabels(x)\n",
    "ax1.set_ylim([0, .3])\n",
    "\n",
    "plt.legend()\n",
    "plt.title('12-Month Cancellation Rate by Plan Start Date')\n",
    "\n",
    "print(df_month)\n",
    "\n",
    "plt.show()"
   ]
  },
  {
   "cell_type": "markdown",
   "metadata": {},
   "source": [
    "# Merge with Geovariable\n",
    "<a id='section3'></a>"
   ]
  },
  {
   "cell_type": "code",
   "execution_count": 34,
   "metadata": {},
   "outputs": [],
   "source": [
    "telreg = filt_df12.copy()"
   ]
  },
  {
   "cell_type": "code",
   "execution_count": 35,
   "metadata": {},
   "outputs": [],
   "source": [
    "conn1 = dg_s3.Connect('dgdatadump/DS&CA/Reference Files/ONS/Processed')\n",
    "geo_df = conn1.read('Earnix_Geo_Look_Up_by_PC.csv')"
   ]
  },
  {
   "cell_type": "code",
   "execution_count": 36,
   "metadata": {},
   "outputs": [
    {
     "data": {
      "text/plain": [
       "['HPI_AveragePrice',\n",
       " 'HPI_SalesVolume',\n",
       " 'ONS_Unnamed: 0',\n",
       " 'ONS_postcode_sector',\n",
       " 'ONS_avg_age',\n",
       " 'ONS_avg_distance_travelled_to_work(km)',\n",
       " 'ONS_%people_working_FT',\n",
       " 'ONS_%people_working_49+',\n",
       " 'ONS_%people_working_sum',\n",
       " 'ONS_avg_household_size',\n",
       " 'ONS_n_households',\n",
       " 'ONS_avg_dependent_children_per_family',\n",
       " 'ONS_n_families',\n",
       " 'ONS_n_families/n_households',\n",
       " 'ONS_avg_bedrooms',\n",
       " 'ONS_avg_rooms',\n",
       " 'ONS_bedrooms per rooms',\n",
       " 'ONS_population',\n",
       " 'ONS_population_density',\n",
       " 'ONS_occupation_rate',\n",
       " 'ONS_n_families_per_population']"
      ]
     },
     "execution_count": 36,
     "metadata": {},
     "output_type": "execute_result"
    }
   ],
   "source": [
    "all_features = geo_df.columns\n",
    "\n",
    "ons_feats = all_features[all_features.str.contains('ONS_')]\n",
    "ons_feats = ons_feats.to_list()\n",
    "\n",
    "hpi_feats =['HPI_AveragePrice', 'HPI_SalesVolume']\n",
    "\n",
    "geo_feats = hpi_feats + ons_feats\n",
    "geo_feats"
   ]
  },
  {
   "cell_type": "code",
   "execution_count": 37,
   "metadata": {},
   "outputs": [],
   "source": [
    "geo_feats.remove('ONS_postcode_sector')\n",
    "geo_feats.remove('ONS_Unnamed: 0')"
   ]
  },
  {
   "cell_type": "markdown",
   "metadata": {},
   "source": [
    "## Merge\n",
    "<a id=\"merge\"></a>"
   ]
  },
  {
   "cell_type": "code",
   "execution_count": 38,
   "metadata": {},
   "outputs": [
    {
     "data": {
      "text/plain": [
       "(2652196, 44846)"
      ]
     },
     "execution_count": 38,
     "metadata": {},
     "output_type": "execute_result"
    }
   ],
   "source": [
    "geo_df.pcds.nunique(), telreg.offerpostcode.nunique()"
   ]
  },
  {
   "cell_type": "code",
   "execution_count": 39,
   "metadata": {},
   "outputs": [
    {
     "data": {
      "text/plain": [
       "Index(['LAD_name', 'LAD_code', 'country', 'region', 'pcds', 'AreaCode',\n",
       "       'RegionName', 'HPI_AveragePrice', 'HPI_SalesVolume', 'postcode_sector',\n",
       "       'ONS_Unnamed: 0', 'ONS_postcode_sector', 'ONS_avg_age',\n",
       "       'ONS_avg_distance_travelled_to_work(km)', 'ONS_%people_working_FT',\n",
       "       'ONS_%people_working_49+', 'ONS_%people_working_sum',\n",
       "       'ONS_avg_household_size', 'ONS_n_households',\n",
       "       'ONS_avg_dependent_children_per_family', 'ONS_n_families',\n",
       "       'ONS_n_families/n_households', 'ONS_avg_bedrooms', 'ONS_avg_rooms',\n",
       "       'ONS_bedrooms per rooms', 'ONS_population', 'ONS_population_density',\n",
       "       'ONS_occupation_rate', 'ONS_n_families_per_population'],\n",
       "      dtype='object')"
      ]
     },
     "execution_count": 39,
     "metadata": {},
     "output_type": "execute_result"
    }
   ],
   "source": [
    "geo_df.columns"
   ]
  },
  {
   "cell_type": "code",
   "execution_count": 40,
   "metadata": {},
   "outputs": [
    {
     "data": {
      "text/plain": [
       "0    BT251\n",
       "1    BT251\n",
       "2    BT251\n",
       "3    BT251\n",
       "4    BT251\n",
       "Name: postcode_sector, dtype: object"
      ]
     },
     "execution_count": 40,
     "metadata": {},
     "output_type": "execute_result"
    }
   ],
   "source": [
    "geo_df['postcode_sector'].head()"
   ]
  },
  {
   "cell_type": "code",
   "execution_count": 41,
   "metadata": {},
   "outputs": [],
   "source": [
    "# merge \n",
    "telreg_merged = telreg.merge(geo_df, how='left', left_on='offerpostcode', right_on='pcds')"
   ]
  },
  {
   "cell_type": "code",
   "execution_count": 42,
   "metadata": {},
   "outputs": [
    {
     "data": {
      "text/plain": [
       "<AxesSubplot:>"
      ]
     },
     "execution_count": 42,
     "metadata": {},
     "output_type": "execute_result"
    },
    {
     "data": {
      "image/png": "[encoded data removed]",
      "text/plain": [
       "<Figure size 1000x500 with 1 Axes>"
      ]
     },
     "metadata": {
      "needs_background": "light"
     },
     "output_type": "display_data"
    }
   ],
   "source": [
    "geo_df['HPI_AveragePrice'].hist()"
   ]
  },
  {
   "cell_type": "code",
   "execution_count": 43,
   "metadata": {},
   "outputs": [
    {
     "data": {
      "text/plain": [
       "False"
      ]
     },
     "execution_count": 43,
     "metadata": {},
     "output_type": "execute_result"
    }
   ],
   "source": [
    "# dedup\n",
    "telreg_dedup = telreg_merged.drop_duplicates(subset=['offerreferencenumber'], keep='first')\n",
    "\n",
    "# check\n",
    "telreg_dedup.duplicated(subset=['offerreferencenumber']).any()"
   ]
  },
  {
   "cell_type": "code",
   "execution_count": 44,
   "metadata": {},
   "outputs": [
    {
     "name": "stderr",
     "output_type": "stream",
     "text": [
      "/home/ubuntu/anaconda3/lib/python3.9/site-packages/pandas/core/frame.py:4906: SettingWithCopyWarning: \n",
      "A value is trying to be set on a copy of a slice from a DataFrame\n",
      "\n",
      "See the caveats in the documentation: https://pandas.pydata.org/pandas-docs/stable/user_guide/indexing.html#returning-a-view-versus-a-copy\n",
      "  return super().drop(\n"
     ]
    }
   ],
   "source": [
    "telreg_dedup.drop('ONS_Unnamed: 0', inplace=True, axis=1)"
   ]
  },
  {
   "cell_type": "code",
   "execution_count": 45,
   "metadata": {},
   "outputs": [
    {
     "name": "stdout",
     "output_type": "stream",
     "text": [
      "HPI_AveragePrice: 549\n",
      "HPI_SalesVolume: 549\n",
      "ONS_avg_age: 549\n",
      "ONS_avg_distance_travelled_to_work(km): 549\n",
      "ONS_%people_working_FT: 549\n",
      "ONS_%people_working_49+: 549\n",
      "ONS_%people_working_sum: 549\n",
      "ONS_avg_household_size: 549\n",
      "ONS_n_households: 549\n",
      "ONS_avg_dependent_children_per_family: 549\n",
      "ONS_n_families: 549\n",
      "ONS_n_families/n_households: 549\n",
      "ONS_avg_bedrooms: 549\n",
      "ONS_avg_rooms: 549\n",
      "ONS_bedrooms per rooms: 549\n",
      "ONS_population: 549\n",
      "ONS_population_density: 549\n",
      "ONS_occupation_rate: 549\n",
      "ONS_n_families_per_population: 549\n"
     ]
    }
   ],
   "source": [
    "# check missing values in geo_feats\n",
    "for col in geo_feats:\n",
    "    print(f'{col}: {telreg_dedup[col].isna().sum()}')"
   ]
  },
  {
   "cell_type": "markdown",
   "metadata": {},
   "source": [
    "## Impute\n",
    "<a id='imp'></a>"
   ]
  },
  {
   "cell_type": "code",
   "execution_count": 46,
   "metadata": {},
   "outputs": [
    {
     "name": "stdout",
     "output_type": "stream",
     "text": [
      "HPI_AveragePrice: 0\n",
      "HPI_SalesVolume: 0\n",
      "ONS_avg_age: 0\n",
      "ONS_avg_distance_travelled_to_work(km): 0\n",
      "ONS_%people_working_FT: 0\n",
      "ONS_%people_working_49+: 0\n",
      "ONS_%people_working_sum: 0\n",
      "ONS_avg_household_size: 0\n",
      "ONS_n_households: 0\n",
      "ONS_avg_dependent_children_per_family: 0\n",
      "ONS_n_families: 0\n",
      "ONS_n_families/n_households: 0\n",
      "ONS_avg_bedrooms: 0\n",
      "ONS_avg_rooms: 0\n",
      "ONS_bedrooms per rooms: 0\n",
      "ONS_population: 0\n",
      "ONS_population_density: 0\n",
      "ONS_occupation_rate: 0\n",
      "ONS_n_families_per_population: 0\n"
     ]
    }
   ],
   "source": [
    "# 1st, impute by LAD_name\n",
    "for i in geo_feats:\n",
    "    telreg_geo_imputed = hf.num_imputation(telreg_dedup, i, 'LAD_name')\n",
    "# 2nd, impute by region \n",
    "for i in geo_feats:\n",
    "    telreg_geo_imputed = hf.num_imputation(telreg_geo_imputed, i, 'region')\n",
    "# 3rd, impute by country\n",
    "for i in geo_feats:\n",
    "    telreg_geo_imputed = hf.num_imputation(telreg_geo_imputed, i, 'country')\n",
    "# 4th, impute with overall mean \n",
    "for i in geo_feats:\n",
    "    telreg_geo_imputed[i].fillna(telreg_geo_imputed[i].mean(skipna = True), inplace = True)\n",
    "    \n",
    "# check for missing values in geo_feats\n",
    "for col in geo_feats:\n",
    "    print(f'{col}: {telreg_geo_imputed[col].isna().sum()}')"
   ]
  },
  {
   "cell_type": "markdown",
   "metadata": {},
   "source": [
    "## Drop Postcode Columns\n",
    "<a id='droppc'></a>"
   ]
  },
  {
   "cell_type": "code",
   "execution_count": 47,
   "metadata": {},
   "outputs": [],
   "source": [
    "postcode_cols = parameters.postcode_cols\n",
    "\n",
    "# remove postcode cols except Postcode_Sector (live feature)\n",
    "telreg_geo_imputed = hf.drop_columns(telreg_geo_imputed, postcode_cols)"
   ]
  },
  {
   "cell_type": "code",
   "execution_count": 48,
   "metadata": {},
   "outputs": [],
   "source": [
    "df_raw2 = telreg_geo_imputed.copy()"
   ]
  },
  {
   "cell_type": "markdown",
   "metadata": {},
   "source": [
    "# Final Processing\n",
    "<a id='section4'></a>"
   ]
  },
  {
   "cell_type": "markdown",
   "metadata": {},
   "source": [
    "## Split columns by type\n",
    "<a id='split'></a>"
   ]
  },
  {
   "cell_type": "code",
   "execution_count": 49,
   "metadata": {},
   "outputs": [],
   "source": [
    "categorical_cols, integer_cols, float_cols, date_cols, unidentified_cols = hf.cat_num_split(df_raw2)"
   ]
  },
  {
   "cell_type": "code",
   "execution_count": 50,
   "metadata": {},
   "outputs": [
    {
     "data": {
      "text/plain": [
       "['sale', 'year', 'cancelflag']"
      ]
     },
     "execution_count": 50,
     "metadata": {},
     "output_type": "execute_result"
    }
   ],
   "source": [
    "integer_cols"
   ]
  },
  {
   "cell_type": "code",
   "execution_count": 51,
   "metadata": {},
   "outputs": [
    {
     "data": {
      "text/plain": [
       "['CurrentDate', 'planaccdate', 'movementdate', 'PurchaseDate', 'datemonth']"
      ]
     },
     "execution_count": 51,
     "metadata": {},
     "output_type": "execute_result"
    }
   ],
   "source": [
    "date_cols"
   ]
  },
  {
   "cell_type": "code",
   "execution_count": 52,
   "metadata": {},
   "outputs": [
    {
     "data": {
      "text/plain": [
       "['offertotalprice',\n",
       " 'TotalPrice',\n",
       " 'PeriodOfCover',\n",
       " 'PredictedConversionRate',\n",
       " 'PurchasePrice',\n",
       " 'Fee',\n",
       " 'RetentionFlag',\n",
       " 'PlanLiveCount',\n",
       " 'PlansActivePast1yrCount',\n",
       " 'PlansActivePast5yrCount',\n",
       " 'PlansAcceptedPast1YearCount',\n",
       " 'PlansAcceptedPast5YearCount',\n",
       " 'PlansCancelledPast1YearCount',\n",
       " 'PlansCancelledPast5YearCount',\n",
       " 'ClaimPast1YearCount',\n",
       " 'ClaimPast3YearCount',\n",
       " 'ClaimPast5YearCount',\n",
       " 'ClaimAmount1YearTotal',\n",
       " 'ClaimAmount3YearTotal',\n",
       " 'ClaimAmount5YearTotal',\n",
       " 'ManufacturerGuaranteeLabourMonths',\n",
       " 'ManufacturerGuaranteePartsMonths',\n",
       " 'price_diff',\n",
       " 'AppAge',\n",
       " 'relFee',\n",
       " 'relFeeInc',\n",
       " 'contract_age',\n",
       " 'HPI_AveragePrice',\n",
       " 'HPI_SalesVolume',\n",
       " 'ONS_avg_age',\n",
       " 'ONS_avg_distance_travelled_to_work(km)',\n",
       " 'ONS_%people_working_FT',\n",
       " 'ONS_%people_working_49+',\n",
       " 'ONS_%people_working_sum',\n",
       " 'ONS_avg_household_size',\n",
       " 'ONS_n_households',\n",
       " 'ONS_avg_dependent_children_per_family',\n",
       " 'ONS_n_families',\n",
       " 'ONS_n_families/n_households',\n",
       " 'ONS_avg_bedrooms',\n",
       " 'ONS_avg_rooms',\n",
       " 'ONS_bedrooms per rooms',\n",
       " 'ONS_population',\n",
       " 'ONS_population_density',\n",
       " 'ONS_occupation_rate',\n",
       " 'ONS_n_families_per_population']"
      ]
     },
     "execution_count": 52,
     "metadata": {},
     "output_type": "execute_result"
    }
   ],
   "source": [
    "float_cols"
   ]
  },
  {
   "cell_type": "code",
   "execution_count": 53,
   "metadata": {},
   "outputs": [
    {
     "data": {
      "text/plain": [
       "{'contractmonthyear'}"
      ]
     },
     "execution_count": 53,
     "metadata": {},
     "output_type": "execute_result"
    }
   ],
   "source": [
    "unidentified_cols"
   ]
  },
  {
   "cell_type": "code",
   "execution_count": 54,
   "metadata": {},
   "outputs": [
    {
     "data": {
      "text/plain": [
       "contractmonthyear    period[M]\n",
       "dtype: object"
      ]
     },
     "execution_count": 54,
     "metadata": {},
     "output_type": "execute_result"
    }
   ],
   "source": [
    "df_raw2[unidentified_cols].dtypes"
   ]
  },
  {
   "cell_type": "code",
   "execution_count": 55,
   "metadata": {},
   "outputs": [],
   "source": [
    "df = df_raw2.copy()"
   ]
  },
  {
   "cell_type": "markdown",
   "metadata": {},
   "source": [
    "## count unique values\n",
    "<a id='countval'></a>"
   ]
  },
  {
   "cell_type": "code",
   "execution_count": 56,
   "metadata": {},
   "outputs": [],
   "source": [
    "feature_uniques_count, low_cardinality_features_unique_values= bsp.unique_count(df[categorical_cols])\n"
   ]
  },
  {
   "cell_type": "markdown",
   "metadata": {},
   "source": [
    "## Single Value & Null Columns\n",
    "<a id='singlenull'></a>"
   ]
  },
  {
   "cell_type": "code",
   "execution_count": 57,
   "metadata": {},
   "outputs": [],
   "source": [
    "# Single value categorical columns\n",
    "single_val = [key for key, value in feature_uniques_count.items() if value == 1 ]\n",
    "\n",
    "#drop single value categorical cols\n",
    "df = hf.drop_columns(df, single_val)"
   ]
  },
  {
   "cell_type": "code",
   "execution_count": 58,
   "metadata": {},
   "outputs": [
    {
     "data": {
      "text/html": [
       "<div>\n",
       "<style scoped>\n",
       "    .dataframe tbody tr th:only-of-type {\n",
       "        vertical-align: middle;\n",
       "    }\n",
       "\n",
       "    .dataframe tbody tr th {\n",
       "        vertical-align: top;\n",
       "    }\n",
       "\n",
       "    .dataframe thead th {\n",
       "        text-align: right;\n",
       "    }\n",
       "</style>\n",
       "<table border=\"1\" class=\"dataframe\">\n",
       "  <thead>\n",
       "    <tr style=\"text-align: right;\">\n",
       "      <th></th>\n",
       "      <th>sale</th>\n",
       "      <th>year</th>\n",
       "      <th>cancelflag</th>\n",
       "    </tr>\n",
       "  </thead>\n",
       "  <tbody>\n",
       "    <tr>\n",
       "      <th>count</th>\n",
       "      <td>78471.0</td>\n",
       "      <td>78471.000000</td>\n",
       "      <td>78471.000000</td>\n",
       "    </tr>\n",
       "    <tr>\n",
       "      <th>mean</th>\n",
       "      <td>1.0</td>\n",
       "      <td>2021.838845</td>\n",
       "      <td>0.230837</td>\n",
       "    </tr>\n",
       "    <tr>\n",
       "      <th>std</th>\n",
       "      <td>0.0</td>\n",
       "      <td>0.367676</td>\n",
       "      <td>0.421371</td>\n",
       "    </tr>\n",
       "    <tr>\n",
       "      <th>min</th>\n",
       "      <td>1.0</td>\n",
       "      <td>2021.000000</td>\n",
       "      <td>0.000000</td>\n",
       "    </tr>\n",
       "    <tr>\n",
       "      <th>25%</th>\n",
       "      <td>1.0</td>\n",
       "      <td>2022.000000</td>\n",
       "      <td>0.000000</td>\n",
       "    </tr>\n",
       "    <tr>\n",
       "      <th>50%</th>\n",
       "      <td>1.0</td>\n",
       "      <td>2022.000000</td>\n",
       "      <td>0.000000</td>\n",
       "    </tr>\n",
       "    <tr>\n",
       "      <th>75%</th>\n",
       "      <td>1.0</td>\n",
       "      <td>2022.000000</td>\n",
       "      <td>0.000000</td>\n",
       "    </tr>\n",
       "    <tr>\n",
       "      <th>max</th>\n",
       "      <td>1.0</td>\n",
       "      <td>2022.000000</td>\n",
       "      <td>1.000000</td>\n",
       "    </tr>\n",
       "  </tbody>\n",
       "</table>\n",
       "</div>"
      ],
      "text/plain": [
       "          sale          year    cancelflag\n",
       "count  78471.0  78471.000000  78471.000000\n",
       "mean       1.0   2021.838845      0.230837\n",
       "std        0.0      0.367676      0.421371\n",
       "min        1.0   2021.000000      0.000000\n",
       "25%        1.0   2022.000000      0.000000\n",
       "50%        1.0   2022.000000      0.000000\n",
       "75%        1.0   2022.000000      0.000000\n",
       "max        1.0   2022.000000      1.000000"
      ]
     },
     "execution_count": 58,
     "metadata": {},
     "output_type": "execute_result"
    }
   ],
   "source": [
    "df[integer_cols].describe()"
   ]
  },
  {
   "cell_type": "code",
   "execution_count": 59,
   "metadata": {},
   "outputs": [
    {
     "data": {
      "text/html": [
       "<div>\n",
       "<style scoped>\n",
       "    .dataframe tbody tr th:only-of-type {\n",
       "        vertical-align: middle;\n",
       "    }\n",
       "\n",
       "    .dataframe tbody tr th {\n",
       "        vertical-align: top;\n",
       "    }\n",
       "\n",
       "    .dataframe thead th {\n",
       "        text-align: right;\n",
       "    }\n",
       "</style>\n",
       "<table border=\"1\" class=\"dataframe\">\n",
       "  <thead>\n",
       "    <tr style=\"text-align: right;\">\n",
       "      <th></th>\n",
       "      <th>offertotalprice</th>\n",
       "      <th>TotalPrice</th>\n",
       "      <th>PeriodOfCover</th>\n",
       "      <th>PredictedConversionRate</th>\n",
       "      <th>PurchasePrice</th>\n",
       "      <th>Fee</th>\n",
       "      <th>RetentionFlag</th>\n",
       "      <th>PlanLiveCount</th>\n",
       "      <th>PlansActivePast1yrCount</th>\n",
       "      <th>PlansActivePast5yrCount</th>\n",
       "      <th>PlansAcceptedPast1YearCount</th>\n",
       "      <th>PlansAcceptedPast5YearCount</th>\n",
       "      <th>PlansCancelledPast1YearCount</th>\n",
       "      <th>PlansCancelledPast5YearCount</th>\n",
       "      <th>ClaimPast1YearCount</th>\n",
       "      <th>ClaimPast3YearCount</th>\n",
       "      <th>ClaimPast5YearCount</th>\n",
       "      <th>ClaimAmount1YearTotal</th>\n",
       "      <th>ClaimAmount3YearTotal</th>\n",
       "      <th>ClaimAmount5YearTotal</th>\n",
       "      <th>ManufacturerGuaranteeLabourMonths</th>\n",
       "      <th>ManufacturerGuaranteePartsMonths</th>\n",
       "      <th>price_diff</th>\n",
       "      <th>AppAge</th>\n",
       "      <th>relFee</th>\n",
       "      <th>relFeeInc</th>\n",
       "      <th>contract_age</th>\n",
       "      <th>HPI_AveragePrice</th>\n",
       "      <th>HPI_SalesVolume</th>\n",
       "      <th>ONS_avg_age</th>\n",
       "      <th>ONS_avg_distance_travelled_to_work(km)</th>\n",
       "      <th>ONS_%people_working_FT</th>\n",
       "      <th>ONS_%people_working_49+</th>\n",
       "      <th>ONS_%people_working_sum</th>\n",
       "      <th>ONS_avg_household_size</th>\n",
       "      <th>ONS_n_households</th>\n",
       "      <th>ONS_avg_dependent_children_per_family</th>\n",
       "      <th>ONS_n_families</th>\n",
       "      <th>ONS_n_families/n_households</th>\n",
       "      <th>ONS_avg_bedrooms</th>\n",
       "      <th>ONS_avg_rooms</th>\n",
       "      <th>ONS_bedrooms per rooms</th>\n",
       "      <th>ONS_population</th>\n",
       "      <th>ONS_population_density</th>\n",
       "      <th>ONS_occupation_rate</th>\n",
       "      <th>ONS_n_families_per_population</th>\n",
       "    </tr>\n",
       "  </thead>\n",
       "  <tbody>\n",
       "    <tr>\n",
       "      <th>count</th>\n",
       "      <td>78391.000000</td>\n",
       "      <td>78471.000000</td>\n",
       "      <td>78471.0</td>\n",
       "      <td>78471.00000</td>\n",
       "      <td>78433.000000</td>\n",
       "      <td>78433.000000</td>\n",
       "      <td>78433.000000</td>\n",
       "      <td>78471.000000</td>\n",
       "      <td>78471.000000</td>\n",
       "      <td>78471.000000</td>\n",
       "      <td>78471.000000</td>\n",
       "      <td>78471.000000</td>\n",
       "      <td>78471.000000</td>\n",
       "      <td>78471.000000</td>\n",
       "      <td>78471.000000</td>\n",
       "      <td>78471.000000</td>\n",
       "      <td>78471.000000</td>\n",
       "      <td>78471.000000</td>\n",
       "      <td>78471.000000</td>\n",
       "      <td>78471.000000</td>\n",
       "      <td>78433.000000</td>\n",
       "      <td>78433.000000</td>\n",
       "      <td>78433.000000</td>\n",
       "      <td>78433.000000</td>\n",
       "      <td>78433.000000</td>\n",
       "      <td>78433.000000</td>\n",
       "      <td>78471.000000</td>\n",
       "      <td>7.847100e+04</td>\n",
       "      <td>78471.000000</td>\n",
       "      <td>78471.000000</td>\n",
       "      <td>78471.00000</td>\n",
       "      <td>78471.000000</td>\n",
       "      <td>78471.000000</td>\n",
       "      <td>78471.000000</td>\n",
       "      <td>78471.000000</td>\n",
       "      <td>78471.000000</td>\n",
       "      <td>78471.000000</td>\n",
       "      <td>78471.000000</td>\n",
       "      <td>78471.000000</td>\n",
       "      <td>78471.000000</td>\n",
       "      <td>78471.000000</td>\n",
       "      <td>78471.000000</td>\n",
       "      <td>78471.000000</td>\n",
       "      <td>78471.000000</td>\n",
       "      <td>78471.000000</td>\n",
       "      <td>78471.000000</td>\n",
       "    </tr>\n",
       "    <tr>\n",
       "      <th>mean</th>\n",
       "      <td>44.652461</td>\n",
       "      <td>44.661324</td>\n",
       "      <td>12.0</td>\n",
       "      <td>0.98259</td>\n",
       "      <td>382.384200</td>\n",
       "      <td>44.846865</td>\n",
       "      <td>0.010429</td>\n",
       "      <td>0.958991</td>\n",
       "      <td>1.596692</td>\n",
       "      <td>2.671089</td>\n",
       "      <td>0.546100</td>\n",
       "      <td>1.940908</td>\n",
       "      <td>0.650368</td>\n",
       "      <td>1.711753</td>\n",
       "      <td>0.418855</td>\n",
       "      <td>1.001963</td>\n",
       "      <td>1.479897</td>\n",
       "      <td>53.121246</td>\n",
       "      <td>122.553459</td>\n",
       "      <td>173.850629</td>\n",
       "      <td>16.431553</td>\n",
       "      <td>51.519845</td>\n",
       "      <td>-0.003430</td>\n",
       "      <td>101.658511</td>\n",
       "      <td>0.139690</td>\n",
       "      <td>-0.000010</td>\n",
       "      <td>10.941897</td>\n",
       "      <td>2.759858e+05</td>\n",
       "      <td>303.578403</td>\n",
       "      <td>45.436833</td>\n",
       "      <td>16.15939</td>\n",
       "      <td>0.705661</td>\n",
       "      <td>0.191676</td>\n",
       "      <td>3977.599511</td>\n",
       "      <td>2.356948</td>\n",
       "      <td>3496.109464</td>\n",
       "      <td>0.785918</td>\n",
       "      <td>2390.093167</td>\n",
       "      <td>0.684892</td>\n",
       "      <td>2.781486</td>\n",
       "      <td>5.447282</td>\n",
       "      <td>0.511329</td>\n",
       "      <td>7872.723253</td>\n",
       "      <td>26.403975</td>\n",
       "      <td>0.729303</td>\n",
       "      <td>0.321068</td>\n",
       "    </tr>\n",
       "    <tr>\n",
       "      <th>std</th>\n",
       "      <td>12.387700</td>\n",
       "      <td>12.361126</td>\n",
       "      <td>0.0</td>\n",
       "      <td>0.11197</td>\n",
       "      <td>247.111765</td>\n",
       "      <td>11.922320</td>\n",
       "      <td>0.101591</td>\n",
       "      <td>2.120729</td>\n",
       "      <td>3.306404</td>\n",
       "      <td>5.352431</td>\n",
       "      <td>1.697504</td>\n",
       "      <td>4.261000</td>\n",
       "      <td>1.850096</td>\n",
       "      <td>4.012605</td>\n",
       "      <td>1.217031</td>\n",
       "      <td>2.696712</td>\n",
       "      <td>3.824575</td>\n",
       "      <td>197.686017</td>\n",
       "      <td>388.610127</td>\n",
       "      <td>511.682589</td>\n",
       "      <td>6.247399</td>\n",
       "      <td>48.108390</td>\n",
       "      <td>0.084787</td>\n",
       "      <td>186.375419</td>\n",
       "      <td>0.072169</td>\n",
       "      <td>0.000296</td>\n",
       "      <td>4.154169</td>\n",
       "      <td>1.288199e+05</td>\n",
       "      <td>215.014298</td>\n",
       "      <td>3.871559</td>\n",
       "      <td>4.82354</td>\n",
       "      <td>0.040288</td>\n",
       "      <td>0.061127</td>\n",
       "      <td>1833.276077</td>\n",
       "      <td>0.224974</td>\n",
       "      <td>1524.191916</td>\n",
       "      <td>0.186855</td>\n",
       "      <td>1080.000492</td>\n",
       "      <td>0.075408</td>\n",
       "      <td>0.304039</td>\n",
       "      <td>0.638231</td>\n",
       "      <td>0.015871</td>\n",
       "      <td>3960.493891</td>\n",
       "      <td>37.695673</td>\n",
       "      <td>0.244783</td>\n",
       "      <td>0.080904</td>\n",
       "    </tr>\n",
       "    <tr>\n",
       "      <th>min</th>\n",
       "      <td>15.120000</td>\n",
       "      <td>15.120000</td>\n",
       "      <td>12.0</td>\n",
       "      <td>0.01000</td>\n",
       "      <td>4.000000</td>\n",
       "      <td>20.640000</td>\n",
       "      <td>0.000000</td>\n",
       "      <td>0.000000</td>\n",
       "      <td>0.000000</td>\n",
       "      <td>0.000000</td>\n",
       "      <td>0.000000</td>\n",
       "      <td>0.000000</td>\n",
       "      <td>0.000000</td>\n",
       "      <td>0.000000</td>\n",
       "      <td>0.000000</td>\n",
       "      <td>0.000000</td>\n",
       "      <td>0.000000</td>\n",
       "      <td>0.000000</td>\n",
       "      <td>-254.840000</td>\n",
       "      <td>-142.830000</td>\n",
       "      <td>12.000000</td>\n",
       "      <td>12.000000</td>\n",
       "      <td>-0.639519</td>\n",
       "      <td>0.000000</td>\n",
       "      <td>0.003828</td>\n",
       "      <td>-0.009106</td>\n",
       "      <td>0.000000</td>\n",
       "      <td>1.022292e+05</td>\n",
       "      <td>11.777778</td>\n",
       "      <td>23.983128</td>\n",
       "      <td>3.70000</td>\n",
       "      <td>0.345351</td>\n",
       "      <td>0.040816</td>\n",
       "      <td>69.000000</td>\n",
       "      <td>1.178161</td>\n",
       "      <td>76.000000</td>\n",
       "      <td>0.071429</td>\n",
       "      <td>28.000000</td>\n",
       "      <td>0.126437</td>\n",
       "      <td>1.283019</td>\n",
       "      <td>2.690722</td>\n",
       "      <td>0.413437</td>\n",
       "      <td>103.000000</td>\n",
       "      <td>0.000000</td>\n",
       "      <td>0.011298</td>\n",
       "      <td>0.003298</td>\n",
       "    </tr>\n",
       "    <tr>\n",
       "      <th>25%</th>\n",
       "      <td>36.240000</td>\n",
       "      <td>36.240000</td>\n",
       "      <td>12.0</td>\n",
       "      <td>1.00000</td>\n",
       "      <td>289.000000</td>\n",
       "      <td>36.960000</td>\n",
       "      <td>0.000000</td>\n",
       "      <td>0.000000</td>\n",
       "      <td>0.000000</td>\n",
       "      <td>0.000000</td>\n",
       "      <td>0.000000</td>\n",
       "      <td>0.000000</td>\n",
       "      <td>0.000000</td>\n",
       "      <td>0.000000</td>\n",
       "      <td>0.000000</td>\n",
       "      <td>0.000000</td>\n",
       "      <td>0.000000</td>\n",
       "      <td>0.000000</td>\n",
       "      <td>0.000000</td>\n",
       "      <td>0.000000</td>\n",
       "      <td>12.000000</td>\n",
       "      <td>12.000000</td>\n",
       "      <td>0.000000</td>\n",
       "      <td>1.000000</td>\n",
       "      <td>0.099600</td>\n",
       "      <td>0.000000</td>\n",
       "      <td>12.024888</td>\n",
       "      <td>1.790110e+05</td>\n",
       "      <td>166.555556</td>\n",
       "      <td>43.114507</td>\n",
       "      <td>12.60000</td>\n",
       "      <td>0.687358</td>\n",
       "      <td>0.145049</td>\n",
       "      <td>2697.000000</td>\n",
       "      <td>2.229020</td>\n",
       "      <td>2452.000000</td>\n",
       "      <td>0.670522</td>\n",
       "      <td>1607.000000</td>\n",
       "      <td>0.659826</td>\n",
       "      <td>2.607747</td>\n",
       "      <td>5.047920</td>\n",
       "      <td>0.499454</td>\n",
       "      <td>5287.000000</td>\n",
       "      <td>2.800000</td>\n",
       "      <td>0.591879</td>\n",
       "      <td>0.275749</td>\n",
       "    </tr>\n",
       "    <tr>\n",
       "      <th>50%</th>\n",
       "      <td>41.880000</td>\n",
       "      <td>41.880000</td>\n",
       "      <td>12.0</td>\n",
       "      <td>1.00000</td>\n",
       "      <td>300.000000</td>\n",
       "      <td>41.880000</td>\n",
       "      <td>0.000000</td>\n",
       "      <td>0.000000</td>\n",
       "      <td>0.000000</td>\n",
       "      <td>0.000000</td>\n",
       "      <td>0.000000</td>\n",
       "      <td>0.000000</td>\n",
       "      <td>0.000000</td>\n",
       "      <td>0.000000</td>\n",
       "      <td>0.000000</td>\n",
       "      <td>0.000000</td>\n",
       "      <td>0.000000</td>\n",
       "      <td>0.000000</td>\n",
       "      <td>0.000000</td>\n",
       "      <td>0.000000</td>\n",
       "      <td>12.000000</td>\n",
       "      <td>24.000000</td>\n",
       "      <td>0.000000</td>\n",
       "      <td>13.000000</td>\n",
       "      <td>0.131600</td>\n",
       "      <td>0.000000</td>\n",
       "      <td>12.714840</td>\n",
       "      <td>2.484092e+05</td>\n",
       "      <td>233.777778</td>\n",
       "      <td>45.756282</td>\n",
       "      <td>15.20000</td>\n",
       "      <td>0.706872</td>\n",
       "      <td>0.179056</td>\n",
       "      <td>3914.000000</td>\n",
       "      <td>2.337754</td>\n",
       "      <td>3478.000000</td>\n",
       "      <td>0.765461</td>\n",
       "      <td>2386.000000</td>\n",
       "      <td>0.691419</td>\n",
       "      <td>2.801515</td>\n",
       "      <td>5.457397</td>\n",
       "      <td>0.508569</td>\n",
       "      <td>7636.000000</td>\n",
       "      <td>17.200000</td>\n",
       "      <td>0.698393</td>\n",
       "      <td>0.335912</td>\n",
       "    </tr>\n",
       "    <tr>\n",
       "      <th>75%</th>\n",
       "      <td>52.920000</td>\n",
       "      <td>52.920000</td>\n",
       "      <td>12.0</td>\n",
       "      <td>1.00000</td>\n",
       "      <td>409.990000</td>\n",
       "      <td>54.240000</td>\n",
       "      <td>0.000000</td>\n",
       "      <td>1.000000</td>\n",
       "      <td>2.000000</td>\n",
       "      <td>3.000000</td>\n",
       "      <td>0.000000</td>\n",
       "      <td>2.000000</td>\n",
       "      <td>1.000000</td>\n",
       "      <td>2.000000</td>\n",
       "      <td>0.000000</td>\n",
       "      <td>1.000000</td>\n",
       "      <td>1.000000</td>\n",
       "      <td>0.000000</td>\n",
       "      <td>54.170000</td>\n",
       "      <td>85.030000</td>\n",
       "      <td>24.000000</td>\n",
       "      <td>120.000000</td>\n",
       "      <td>0.000000</td>\n",
       "      <td>91.000000</td>\n",
       "      <td>0.175600</td>\n",
       "      <td>0.000000</td>\n",
       "      <td>13.306228</td>\n",
       "      <td>3.296021e+05</td>\n",
       "      <td>358.444444</td>\n",
       "      <td>48.279101</td>\n",
       "      <td>18.60000</td>\n",
       "      <td>0.725457</td>\n",
       "      <td>0.222147</td>\n",
       "      <td>5171.000000</td>\n",
       "      <td>2.442608</td>\n",
       "      <td>4556.000000</td>\n",
       "      <td>0.870232</td>\n",
       "      <td>3101.000000</td>\n",
       "      <td>0.731349</td>\n",
       "      <td>2.953328</td>\n",
       "      <td>5.809644</td>\n",
       "      <td>0.519894</td>\n",
       "      <td>9961.000000</td>\n",
       "      <td>35.700000</td>\n",
       "      <td>0.864403</td>\n",
       "      <td>0.375533</td>\n",
       "    </tr>\n",
       "    <tr>\n",
       "      <th>max</th>\n",
       "      <td>310.080000</td>\n",
       "      <td>310.080000</td>\n",
       "      <td>12.0</td>\n",
       "      <td>1.00000</td>\n",
       "      <td>17995.000000</td>\n",
       "      <td>310.080000</td>\n",
       "      <td>1.000000</td>\n",
       "      <td>213.000000</td>\n",
       "      <td>213.000000</td>\n",
       "      <td>213.000000</td>\n",
       "      <td>90.000000</td>\n",
       "      <td>213.000000</td>\n",
       "      <td>87.000000</td>\n",
       "      <td>135.000000</td>\n",
       "      <td>29.000000</td>\n",
       "      <td>76.000000</td>\n",
       "      <td>106.000000</td>\n",
       "      <td>6979.120000</td>\n",
       "      <td>17016.550000</td>\n",
       "      <td>18764.940000</td>\n",
       "      <td>60.000000</td>\n",
       "      <td>120.000000</td>\n",
       "      <td>0.970502</td>\n",
       "      <td>1185.000000</td>\n",
       "      <td>7.380000</td>\n",
       "      <td>0.006605</td>\n",
       "      <td>14.357584</td>\n",
       "      <td>1.308076e+06</td>\n",
       "      <td>1522.333333</td>\n",
       "      <td>57.105018</td>\n",
       "      <td>59.10000</td>\n",
       "      <td>0.912458</td>\n",
       "      <td>0.551231</td>\n",
       "      <td>12079.000000</td>\n",
       "      <td>4.038799</td>\n",
       "      <td>9650.000000</td>\n",
       "      <td>1.835960</td>\n",
       "      <td>6975.000000</td>\n",
       "      <td>0.935223</td>\n",
       "      <td>4.378357</td>\n",
       "      <td>8.250395</td>\n",
       "      <td>0.626911</td>\n",
       "      <td>134615.000000</td>\n",
       "      <td>1396.600000</td>\n",
       "      <td>3.228261</td>\n",
       "      <td>0.786765</td>\n",
       "    </tr>\n",
       "  </tbody>\n",
       "</table>\n",
       "</div>"
      ],
      "text/plain": [
       "       offertotalprice    TotalPrice  PeriodOfCover  PredictedConversionRate  \\\n",
       "count     78391.000000  78471.000000        78471.0              78471.00000   \n",
       "mean         44.652461     44.661324           12.0                  0.98259   \n",
       "std          12.387700     12.361126            0.0                  0.11197   \n",
       "min          15.120000     15.120000           12.0                  0.01000   \n",
       "25%          36.240000     36.240000           12.0                  1.00000   \n",
       "50%          41.880000     41.880000           12.0                  1.00000   \n",
       "75%          52.920000     52.920000           12.0                  1.00000   \n",
       "max         310.080000    310.080000           12.0                  1.00000   \n",
       "\n",
       "       PurchasePrice           Fee  RetentionFlag  PlanLiveCount  \\\n",
       "count   78433.000000  78433.000000   78433.000000   78471.000000   \n",
       "mean      382.384200     44.846865       0.010429       0.958991   \n",
       "std       247.111765     11.922320       0.101591       2.120729   \n",
       "min         4.000000     20.640000       0.000000       0.000000   \n",
       "25%       289.000000     36.960000       0.000000       0.000000   \n",
       "50%       300.000000     41.880000       0.000000       0.000000   \n",
       "75%       409.990000     54.240000       0.000000       1.000000   \n",
       "max     17995.000000    310.080000       1.000000     213.000000   \n",
       "\n",
       "       PlansActivePast1yrCount  PlansActivePast5yrCount  \\\n",
       "count             78471.000000             78471.000000   \n",
       "mean                  1.596692                 2.671089   \n",
       "std                   3.306404                 5.352431   \n",
       "min                   0.000000                 0.000000   \n",
       "25%                   0.000000                 0.000000   \n",
       "50%                   0.000000                 0.000000   \n",
       "75%                   2.000000                 3.000000   \n",
       "max                 213.000000               213.000000   \n",
       "\n",
       "       PlansAcceptedPast1YearCount  PlansAcceptedPast5YearCount  \\\n",
       "count                 78471.000000                 78471.000000   \n",
       "mean                      0.546100                     1.940908   \n",
       "std                       1.697504                     4.261000   \n",
       "min                       0.000000                     0.000000   \n",
       "25%                       0.000000                     0.000000   \n",
       "50%                       0.000000                     0.000000   \n",
       "75%                       0.000000                     2.000000   \n",
       "max                      90.000000                   213.000000   \n",
       "\n",
       "       PlansCancelledPast1YearCount  PlansCancelledPast5YearCount  \\\n",
       "count                  78471.000000                  78471.000000   \n",
       "mean                       0.650368                      1.711753   \n",
       "std                        1.850096                      4.012605   \n",
       "min                        0.000000                      0.000000   \n",
       "25%                        0.000000                      0.000000   \n",
       "50%                        0.000000                      0.000000   \n",
       "75%                        1.000000                      2.000000   \n",
       "max                       87.000000                    135.000000   \n",
       "\n",
       "       ClaimPast1YearCount  ClaimPast3YearCount  ClaimPast5YearCount  \\\n",
       "count         78471.000000         78471.000000         78471.000000   \n",
       "mean              0.418855             1.001963             1.479897   \n",
       "std               1.217031             2.696712             3.824575   \n",
       "min               0.000000             0.000000             0.000000   \n",
       "25%               0.000000             0.000000             0.000000   \n",
       "50%               0.000000             0.000000             0.000000   \n",
       "75%               0.000000             1.000000             1.000000   \n",
       "max              29.000000            76.000000           106.000000   \n",
       "\n",
       "       ClaimAmount1YearTotal  ClaimAmount3YearTotal  ClaimAmount5YearTotal  \\\n",
       "count           78471.000000           78471.000000           78471.000000   \n",
       "mean               53.121246             122.553459             173.850629   \n",
       "std               197.686017             388.610127             511.682589   \n",
       "min                 0.000000            -254.840000            -142.830000   \n",
       "25%                 0.000000               0.000000               0.000000   \n",
       "50%                 0.000000               0.000000               0.000000   \n",
       "75%                 0.000000              54.170000              85.030000   \n",
       "max              6979.120000           17016.550000           18764.940000   \n",
       "\n",
       "       ManufacturerGuaranteeLabourMonths  ManufacturerGuaranteePartsMonths  \\\n",
       "count                       78433.000000                      78433.000000   \n",
       "mean                           16.431553                         51.519845   \n",
       "std                             6.247399                         48.108390   \n",
       "min                            12.000000                         12.000000   \n",
       "25%                            12.000000                         12.000000   \n",
       "50%                            12.000000                         24.000000   \n",
       "75%                            24.000000                        120.000000   \n",
       "max                            60.000000                        120.000000   \n",
       "\n",
       "         price_diff        AppAge        relFee     relFeeInc  contract_age  \\\n",
       "count  78433.000000  78433.000000  78433.000000  78433.000000  78471.000000   \n",
       "mean      -0.003430    101.658511      0.139690     -0.000010     10.941897   \n",
       "std        0.084787    186.375419      0.072169      0.000296      4.154169   \n",
       "min       -0.639519      0.000000      0.003828     -0.009106      0.000000   \n",
       "25%        0.000000      1.000000      0.099600      0.000000     12.024888   \n",
       "50%        0.000000     13.000000      0.131600      0.000000     12.714840   \n",
       "75%        0.000000     91.000000      0.175600      0.000000     13.306228   \n",
       "max        0.970502   1185.000000      7.380000      0.006605     14.357584   \n",
       "\n",
       "       HPI_AveragePrice  HPI_SalesVolume   ONS_avg_age  \\\n",
       "count      7.847100e+04     78471.000000  78471.000000   \n",
       "mean       2.759858e+05       303.578403     45.436833   \n",
       "std        1.288199e+05       215.014298      3.871559   \n",
       "min        1.022292e+05        11.777778     23.983128   \n",
       "25%        1.790110e+05       166.555556     43.114507   \n",
       "50%        2.484092e+05       233.777778     45.756282   \n",
       "75%        3.296021e+05       358.444444     48.279101   \n",
       "max        1.308076e+06      1522.333333     57.105018   \n",
       "\n",
       "       ONS_avg_distance_travelled_to_work(km)  ONS_%people_working_FT  \\\n",
       "count                             78471.00000            78471.000000   \n",
       "mean                                 16.15939                0.705661   \n",
       "std                                   4.82354                0.040288   \n",
       "min                                   3.70000                0.345351   \n",
       "25%                                  12.60000                0.687358   \n",
       "50%                                  15.20000                0.706872   \n",
       "75%                                  18.60000                0.725457   \n",
       "max                                  59.10000                0.912458   \n",
       "\n",
       "       ONS_%people_working_49+  ONS_%people_working_sum  \\\n",
       "count             78471.000000             78471.000000   \n",
       "mean                  0.191676              3977.599511   \n",
       "std                   0.061127              1833.276077   \n",
       "min                   0.040816                69.000000   \n",
       "25%                   0.145049              2697.000000   \n",
       "50%                   0.179056              3914.000000   \n",
       "75%                   0.222147              5171.000000   \n",
       "max                   0.551231             12079.000000   \n",
       "\n",
       "       ONS_avg_household_size  ONS_n_households  \\\n",
       "count            78471.000000      78471.000000   \n",
       "mean                 2.356948       3496.109464   \n",
       "std                  0.224974       1524.191916   \n",
       "min                  1.178161         76.000000   \n",
       "25%                  2.229020       2452.000000   \n",
       "50%                  2.337754       3478.000000   \n",
       "75%                  2.442608       4556.000000   \n",
       "max                  4.038799       9650.000000   \n",
       "\n",
       "       ONS_avg_dependent_children_per_family  ONS_n_families  \\\n",
       "count                           78471.000000    78471.000000   \n",
       "mean                                0.785918     2390.093167   \n",
       "std                                 0.186855     1080.000492   \n",
       "min                                 0.071429       28.000000   \n",
       "25%                                 0.670522     1607.000000   \n",
       "50%                                 0.765461     2386.000000   \n",
       "75%                                 0.870232     3101.000000   \n",
       "max                                 1.835960     6975.000000   \n",
       "\n",
       "       ONS_n_families/n_households  ONS_avg_bedrooms  ONS_avg_rooms  \\\n",
       "count                 78471.000000      78471.000000   78471.000000   \n",
       "mean                      0.684892          2.781486       5.447282   \n",
       "std                       0.075408          0.304039       0.638231   \n",
       "min                       0.126437          1.283019       2.690722   \n",
       "25%                       0.659826          2.607747       5.047920   \n",
       "50%                       0.691419          2.801515       5.457397   \n",
       "75%                       0.731349          2.953328       5.809644   \n",
       "max                       0.935223          4.378357       8.250395   \n",
       "\n",
       "       ONS_bedrooms per rooms  ONS_population  ONS_population_density  \\\n",
       "count            78471.000000    78471.000000            78471.000000   \n",
       "mean                 0.511329     7872.723253               26.403975   \n",
       "std                  0.015871     3960.493891               37.695673   \n",
       "min                  0.413437      103.000000                0.000000   \n",
       "25%                  0.499454     5287.000000                2.800000   \n",
       "50%                  0.508569     7636.000000               17.200000   \n",
       "75%                  0.519894     9961.000000               35.700000   \n",
       "max                  0.626911   134615.000000             1396.600000   \n",
       "\n",
       "       ONS_occupation_rate  ONS_n_families_per_population  \n",
       "count         78471.000000                   78471.000000  \n",
       "mean              0.729303                       0.321068  \n",
       "std               0.244783                       0.080904  \n",
       "min               0.011298                       0.003298  \n",
       "25%               0.591879                       0.275749  \n",
       "50%               0.698393                       0.335912  \n",
       "75%               0.864403                       0.375533  \n",
       "max               3.228261                       0.786765  "
      ]
     },
     "execution_count": 59,
     "metadata": {},
     "output_type": "execute_result"
    }
   ],
   "source": [
    "df[float_cols].describe()"
   ]
  },
  {
   "cell_type": "code",
   "execution_count": 60,
   "metadata": {},
   "outputs": [],
   "source": [
    "# drop no variance numerical features except sale\n",
    "df = hf.drop_columns(df,['rec_status', 'PeriodOfCover', 'PredictedConversionRate'])"
   ]
  },
  {
   "cell_type": "code",
   "execution_count": 61,
   "metadata": {},
   "outputs": [
    {
     "data": {
      "text/plain": [
       "Index(['itemeventuserid', 'PrevRTPPriceType'], dtype='object')"
      ]
     },
     "execution_count": 61,
     "metadata": {},
     "output_type": "execute_result"
    }
   ],
   "source": [
    "# null columns\n",
    "\n",
    "na_count = df.apply(dint.get_nulls_count)\n",
    "null_cols = na_count[na_count.values>=80].index\n",
    "null_cols"
   ]
  },
  {
   "cell_type": "code",
   "execution_count": 62,
   "metadata": {},
   "outputs": [],
   "source": [
    "# drop cols with >80% nulls\n",
    "df = hf.drop_columns(df, null_cols)"
   ]
  },
  {
   "cell_type": "markdown",
   "metadata": {},
   "source": [
    "## Clean up\n",
    "<a id='clean'></a>"
   ]
  },
  {
   "cell_type": "code",
   "execution_count": 63,
   "metadata": {},
   "outputs": [
    {
     "name": "stdout",
     "output_type": "stream",
     "text": [
      "offerreferencenumber\n",
      "CurrentDate\n",
      "contractstatuscode\n",
      "planaccdate\n",
      "schcode\n",
      "movementdate\n",
      "PricingVersionDescription\n",
      "ModelId\n"
     ]
    }
   ],
   "source": [
    "categorical_cols, integer_cols, float_cols, date_cols, unidentified_cols = hf.cat_num_split(df)\n",
    "\n",
    "#strp whitespace in categorical columns\n",
    "for i in categorical_cols:\n",
    "    if df[i].isna().any():\n",
    "        break\n",
    "    print(i)\n",
    "    df[i] = df[i].apply(lambda x: str(x).replace(\" \", \"\").upper())"
   ]
  },
  {
   "cell_type": "markdown",
   "metadata": {},
   "source": [
    "## Impute Categorical Features\n",
    "<a id='impcat'></a>"
   ]
  },
  {
   "cell_type": "code",
   "execution_count": 64,
   "metadata": {},
   "outputs": [
    {
     "data": {
      "text/plain": [
       "['PurchaseDate',\n",
       " 'GoodsColour',\n",
       " 'ClientGroupDesc',\n",
       " 'SchemeTypeName',\n",
       " 'ClientAccountDesc',\n",
       " 'RouteToMarketName',\n",
       " 'ApplianceCode',\n",
       " 'ClientGroupCode',\n",
       " 'ClientCode',\n",
       " 'ManufacturerBrandCode',\n",
       " 'price_band',\n",
       " 'LAD_name',\n",
       " 'LAD_code',\n",
       " 'country',\n",
       " 'region',\n",
       " 'AreaCode',\n",
       " 'RegionName']"
      ]
     },
     "execution_count": 64,
     "metadata": {},
     "output_type": "execute_result"
    }
   ],
   "source": [
    "cat_nulls = df[categorical_cols].apply(dint.get_nulls_count)\n",
    "cat_to_impute = list(cat_nulls[cat_nulls.values>0].index)\n",
    "cat_to_impute"
   ]
  },
  {
   "cell_type": "code",
   "execution_count": 65,
   "metadata": {},
   "outputs": [],
   "source": [
    "df[cat_to_impute]=df[cat_to_impute].apply(lambda x: x.fillna(x.mode().iloc[0]))"
   ]
  },
  {
   "cell_type": "code",
   "execution_count": 66,
   "metadata": {},
   "outputs": [],
   "source": [
    "# for i in [\"PmhId\",\"PerhId\" ,\"ClientGroupCode\",  \"ClientCode\"]:\n",
    "for i in [\"ClientGroupCode\",  \"ClientCode\"]:\n",
    "    df[i] = np.where((df[i]=='nan')|(df[i]=='nan'), df[i].mode().iloc[0], df[i])"
   ]
  },
  {
   "cell_type": "markdown",
   "metadata": {},
   "source": [
    "## Impute Numerical Features\n",
    "<a id='impnum'></a>"
   ]
  },
  {
   "cell_type": "code",
   "execution_count": 67,
   "metadata": {},
   "outputs": [
    {
     "data": {
      "text/plain": [
       "['offertotalprice',\n",
       " 'PurchasePrice',\n",
       " 'Fee',\n",
       " 'RetentionFlag',\n",
       " 'ManufacturerGuaranteeLabourMonths',\n",
       " 'ManufacturerGuaranteePartsMonths',\n",
       " 'price_diff',\n",
       " 'AppAge',\n",
       " 'relFee',\n",
       " 'relFeeInc']"
      ]
     },
     "execution_count": 67,
     "metadata": {},
     "output_type": "execute_result"
    }
   ],
   "source": [
    "# float cols\n",
    "float_nulls = df[float_cols].apply(dint.get_nulls_count)\n",
    "float_null_cols = list(float_nulls[float_nulls.values>0].index)\n",
    "float_null_cols"
   ]
  },
  {
   "cell_type": "code",
   "execution_count": 68,
   "metadata": {},
   "outputs": [
    {
     "data": {
      "text/html": [
       "<div>\n",
       "<style scoped>\n",
       "    .dataframe tbody tr th:only-of-type {\n",
       "        vertical-align: middle;\n",
       "    }\n",
       "\n",
       "    .dataframe tbody tr th {\n",
       "        vertical-align: top;\n",
       "    }\n",
       "\n",
       "    .dataframe thead th {\n",
       "        text-align: right;\n",
       "    }\n",
       "</style>\n",
       "<table border=\"1\" class=\"dataframe\">\n",
       "  <thead>\n",
       "    <tr style=\"text-align: right;\">\n",
       "      <th></th>\n",
       "      <th>cancelflag</th>\n",
       "      <th>contractstatuscode</th>\n",
       "    </tr>\n",
       "  </thead>\n",
       "  <tbody>\n",
       "  </tbody>\n",
       "</table>\n",
       "</div>"
      ],
      "text/plain": [
       "Empty DataFrame\n",
       "Columns: [cancelflag, contractstatuscode]\n",
       "Index: []"
      ]
     },
     "execution_count": 68,
     "metadata": {},
     "output_type": "execute_result"
    }
   ],
   "source": [
    "df[df['cancelflag'].isna()][['cancelflag', 'contractstatuscode']]"
   ]
  },
  {
   "cell_type": "code",
   "execution_count": 69,
   "metadata": {},
   "outputs": [],
   "source": [
    "# # replace missing itempurchaseprice with PurchasePrice\n",
    "# df['itempurchaseprice'] = df['itempurchaseprice'].fillna(df['PurchasePrice'])\n",
    "\n",
    "# replace missing offertotalprice with Fee\n",
    "df['offertotalprice'] = df['offertotalprice'].fillna(df['Fee'])"
   ]
  },
  {
   "cell_type": "code",
   "execution_count": 70,
   "metadata": {},
   "outputs": [],
   "source": [
    "float_null_cols.remove('offertotalprice')"
   ]
  },
  {
   "cell_type": "code",
   "execution_count": 71,
   "metadata": {},
   "outputs": [
    {
     "data": {
      "text/plain": [
       "Index([], dtype='object')"
      ]
     },
     "execution_count": 71,
     "metadata": {},
     "output_type": "execute_result"
    }
   ],
   "source": [
    "# integer cols\n",
    "integer_nulls = df[integer_cols].apply(dint.get_nulls_count)\n",
    "integer_null_cols = integer_nulls[integer_nulls.values>0].index\n",
    "integer_null_cols"
   ]
  },
  {
   "cell_type": "code",
   "execution_count": 72,
   "metadata": {},
   "outputs": [
    {
     "data": {
      "text/plain": [
       "['PurchasePrice',\n",
       " 'Fee',\n",
       " 'RetentionFlag',\n",
       " 'ManufacturerGuaranteeLabourMonths',\n",
       " 'ManufacturerGuaranteePartsMonths',\n",
       " 'price_diff',\n",
       " 'AppAge',\n",
       " 'relFee',\n",
       " 'relFeeInc']"
      ]
     },
     "execution_count": 72,
     "metadata": {},
     "output_type": "execute_result"
    }
   ],
   "source": [
    "num_to_impute = list(float_null_cols)+list(integer_null_cols)\n",
    "num_to_impute"
   ]
  },
  {
   "cell_type": "code",
   "execution_count": 73,
   "metadata": {},
   "outputs": [],
   "source": [
    "# num imputation \n",
    "df[num_to_impute]= di.impute_mean(df, num_to_impute, 'ClientGroupCode')"
   ]
  },
  {
   "cell_type": "code",
   "execution_count": 74,
   "metadata": {},
   "outputs": [
    {
     "data": {
      "text/plain": [
       "0"
      ]
     },
     "execution_count": 74,
     "metadata": {},
     "output_type": "execute_result"
    }
   ],
   "source": [
    "df['PurchasePrice'].isna().sum()"
   ]
  },
  {
   "cell_type": "code",
   "execution_count": 75,
   "metadata": {},
   "outputs": [
    {
     "data": {
      "text/plain": [
       "contractmonthyear    0.0\n",
       "dtype: float64"
      ]
     },
     "execution_count": 75,
     "metadata": {},
     "output_type": "execute_result"
    }
   ],
   "source": [
    "df[unidentified_cols].apply(dint.get_nulls_count).sort_values()"
   ]
  },
  {
   "cell_type": "code",
   "execution_count": 76,
   "metadata": {},
   "outputs": [
    {
     "data": {
      "text/plain": [
       "CurrentDate     0.0\n",
       "planaccdate     0.0\n",
       "movementdate    0.0\n",
       "PurchaseDate    0.0\n",
       "datemonth       0.0\n",
       "dtype: float64"
      ]
     },
     "execution_count": 76,
     "metadata": {},
     "output_type": "execute_result"
    }
   ],
   "source": [
    "# date cols\n",
    "df[date_cols].apply(dint.get_nulls_count)"
   ]
  },
  {
   "cell_type": "markdown",
   "metadata": {},
   "source": [
    "## Impute Claims Features\n",
    "<a id='impclaim'></a>"
   ]
  },
  {
   "cell_type": "code",
   "execution_count": 77,
   "metadata": {},
   "outputs": [],
   "source": [
    "# for col in df.columns[df.columns.str.contains('laim')]:\n",
    "#     print(col, ':', df[col].isna().sum())\n",
    "#     # df[col] = df[col].fillna(0)"
   ]
  },
  {
   "cell_type": "markdown",
   "metadata": {},
   "source": [
    "## Binning, Capping & Outlier Treatment\n",
    "<a id='bin'></a>"
   ]
  },
  {
   "cell_type": "code",
   "execution_count": 78,
   "metadata": {},
   "outputs": [
    {
     "data": {
      "text/plain": [
       "0"
      ]
     },
     "execution_count": 78,
     "metadata": {},
     "output_type": "execute_result"
    }
   ],
   "source": [
    "df_raw2['HPI_AveragePrice'].isna().sum()"
   ]
  },
  {
   "cell_type": "code",
   "execution_count": 79,
   "metadata": {},
   "outputs": [
    {
     "data": {
      "text/plain": [
       "dtype('float64')"
      ]
     },
     "execution_count": 79,
     "metadata": {},
     "output_type": "execute_result"
    }
   ],
   "source": [
    "df['HPI_AveragePrice'].dtype"
   ]
  },
  {
   "cell_type": "code",
   "execution_count": 80,
   "metadata": {},
   "outputs": [
    {
     "data": {
      "text/plain": [
       "<AxesSubplot:>"
      ]
     },
     "execution_count": 80,
     "metadata": {},
     "output_type": "execute_result"
    },
    {
     "data": {
      "image/png": "[encoded data removed]",
      "text/plain": [
       "<Figure size 1000x500 with 1 Axes>"
      ]
     },
     "metadata": {
      "needs_background": "light"
     },
     "output_type": "display_data"
    }
   ],
   "source": [
    "df_raw2['HPI_AveragePrice'].hist()"
   ]
  },
  {
   "cell_type": "code",
   "execution_count": 81,
   "metadata": {},
   "outputs": [],
   "source": [
    "# # inspect numerical feats\n",
    "\n",
    "# bsp.num_plotchart(df, float_cols)"
   ]
  },
  {
   "cell_type": "markdown",
   "metadata": {},
   "source": [
    "### Item Age"
   ]
  },
  {
   "cell_type": "code",
   "execution_count": 83,
   "metadata": {},
   "outputs": [
    {
     "data": {
      "image/png": "[encoded data removed]",
      "text/plain": [
       "<Figure size 1000x500 with 1 Axes>"
      ]
     },
     "metadata": {
      "needs_background": "light"
     },
     "output_type": "display_data"
    }
   ],
   "source": [
    "bsp.grouped_num_kde(df, 'AppAge', 'ClientGroupCode')"
   ]
  },
  {
   "cell_type": "markdown",
   "metadata": {},
   "source": [
    "### Purchase Price"
   ]
  },
  {
   "cell_type": "code",
   "execution_count": 84,
   "metadata": {},
   "outputs": [
    {
     "name": "stderr",
     "output_type": "stream",
     "text": [
      "/tmp/ipykernel_21082/2035819757.py:8: SettingWithCopyWarning: \n",
      "A value is trying to be set on a copy of a slice from a DataFrame.\n",
      "Try using .loc[row_indexer,col_indexer] = value instead\n",
      "\n",
      "See the caveats in the documentation: https://pandas.pydata.org/pandas-docs/stable/user_guide/indexing.html#returning-a-view-versus-a-copy\n",
      "  df['item_price_bin'] = pd.cut(df['PurchasePrice'] , bins)\n"
     ]
    }
   ],
   "source": [
    "# cap price\n",
    "df = df[df['PurchasePrice'] <= 1500]\n",
    "\n",
    "#bin price\n",
    "\n",
    "# bins = [0,200,250,300, 400, 500, 1500]\n",
    "\n",
    "# df['item_price_bin'] = pd.cut(df['PurchasePrice'] , bins)"
   ]
  },
  {
   "cell_type": "code",
   "execution_count": 85,
   "metadata": {},
   "outputs": [],
   "source": [
    "# df['purchaseprice_premium_ratio'] = df['PurchasePrice']/df['TotalPrice']\n",
    "# df['purchaseprice_premium_ratio'].isna().any()"
   ]
  },
  {
   "cell_type": "code",
   "execution_count": 86,
   "metadata": {},
   "outputs": [
    {
     "data": {
      "image/png": "[encoded data removed]",
      "text/plain": [
       "<Figure size 1000x500 with 1 Axes>"
      ]
     },
     "metadata": {
      "needs_background": "light"
     },
     "output_type": "display_data"
    }
   ],
   "source": [
    "bsp.grouped_num_kde(df_raw2, 'PurchasePrice', 'ClientGroupCode')"
   ]
  },
  {
   "cell_type": "code",
   "execution_count": 87,
   "metadata": {},
   "outputs": [
    {
     "data": {
      "image/png": "[encoded data removed]",
      "text/plain": [
       "<Figure size 1000x500 with 1 Axes>"
      ]
     },
     "metadata": {
      "needs_background": "light"
     },
     "output_type": "display_data"
    }
   ],
   "source": [
    "bsp.grouped_num_kde(df, 'PurchasePrice', 'ClientGroupCode')"
   ]
  },
  {
   "cell_type": "code",
   "execution_count": 88,
   "metadata": {},
   "outputs": [
    {
     "data": {
      "text/plain": [
       "<AxesSubplot:>"
      ]
     },
     "execution_count": 88,
     "metadata": {},
     "output_type": "execute_result"
    },
    {
     "data": {
      "image/png": "[encoded data removed]",
      "text/plain": [
       "<Figure size 1000x500 with 1 Axes>"
      ]
     },
     "metadata": {
      "needs_background": "light"
     },
     "output_type": "display_data"
    }
   ],
   "source": [
    "df_raw2['PurchasePrice'].hist()"
   ]
  },
  {
   "cell_type": "code",
   "execution_count": 89,
   "metadata": {},
   "outputs": [
    {
     "data": {
      "text/plain": [
       "<AxesSubplot:>"
      ]
     },
     "execution_count": 89,
     "metadata": {},
     "output_type": "execute_result"
    },
    {
     "data": {
      "image/png": "[encoded data removed]",
      "text/plain": [
       "<Figure size 1000x500 with 1 Axes>"
      ]
     },
     "metadata": {
      "needs_background": "light"
     },
     "output_type": "display_data"
    }
   ],
   "source": [
    "df['PurchasePrice'].hist()"
   ]
  },
  {
   "cell_type": "code",
   "execution_count": 90,
   "metadata": {},
   "outputs": [
    {
     "data": {
      "text/plain": [
       "False"
      ]
     },
     "execution_count": 90,
     "metadata": {},
     "output_type": "execute_result"
    }
   ],
   "source": [
    "df['item_price_bin'].isna().any()"
   ]
  },
  {
   "cell_type": "code",
   "execution_count": 91,
   "metadata": {},
   "outputs": [
    {
     "data": {
      "image/png": "[encoded data removed]",
      "text/plain": [
       "<Figure size 1000x500 with 1 Axes>"
      ]
     },
     "metadata": {
      "needs_background": "light"
     },
     "output_type": "display_data"
    }
   ],
   "source": [
    "# ClaimPast5YearCount not capped\n",
    "bsp.grouped_num_kde(df, 'ClaimPast5YearCount', 'ClientGroupCode')"
   ]
  },
  {
   "cell_type": "code",
   "execution_count": 92,
   "metadata": {},
   "outputs": [
    {
     "data": {
      "image/png": "[encoded data removed]",
      "text/plain": [
       "<Figure size 1000x500 with 1 Axes>"
      ]
     },
     "metadata": {
      "needs_background": "light"
     },
     "output_type": "display_data"
    }
   ],
   "source": [
    "# ClaimPast5YearCount capped below 50\n",
    "bsp.grouped_num_kde(df[df['ClaimPast5YearCount']<20], 'ClaimPast5YearCount', 'ClientGroupCode')"
   ]
  },
  {
   "cell_type": "code",
   "execution_count": 93,
   "metadata": {},
   "outputs": [
    {
     "data": {
      "image/png": "[encoded data removed]",
      "text/plain": [
       "<Figure size 1000x500 with 1 Axes>"
      ]
     },
     "metadata": {
      "needs_background": "light"
     },
     "output_type": "display_data"
    }
   ],
   "source": [
    "# ClaimPast5YearCount capped below 20\n",
    "bsp.grouped_num_kde(df[df['ClaimPast5YearCount']<20], 'ClaimPast5YearCount', 'ClientGroupCode')"
   ]
  },
  {
   "cell_type": "code",
   "execution_count": 94,
   "metadata": {},
   "outputs": [],
   "source": [
    "# cap claims\n",
    "\n",
    "df = df[df['ClaimPast5YearCount']<=10]"
   ]
  },
  {
   "cell_type": "code",
   "execution_count": 95,
   "metadata": {},
   "outputs": [],
   "source": [
    "#bin claim count\n",
    "\n",
    "# bins = [-1, 0, 1, 3, 5, 7, 10, 20, 30, 50]\n",
    "# bins = [-1, 0, 1, 3, 5, 7, 10]\n",
    "\n",
    "# df['claimpastfiveyearcount_bin'] = pd.cut(df['ClaimPast5YearCount'] , bins)"
   ]
  },
  {
   "cell_type": "markdown",
   "metadata": {},
   "source": [
    "## Redundant & Leaky Features\n",
    "<a id='leak'></a>"
   ]
  },
  {
   "cell_type": "code",
   "execution_count": 96,
   "metadata": {},
   "outputs": [],
   "source": [
    "df_raw3 = df.copy()"
   ]
  },
  {
   "cell_type": "code",
   "execution_count": 97,
   "metadata": {},
   "outputs": [],
   "source": [
    "df_clean = hf.drop_columns(df_raw3, parameters.leaky_feats + parameters.redundant_feats + date_cols)"
   ]
  },
  {
   "cell_type": "code",
   "execution_count": 120,
   "metadata": {},
   "outputs": [
    {
     "data": {
      "text/plain": [
       "{'PerhId',\n",
       " 'PmhId',\n",
       " 'contract_age',\n",
       " 'contractcompanycode',\n",
       " 'contractcreateddate',\n",
       " 'contractdimensionid',\n",
       " 'contractenddate',\n",
       " 'contracteventdatetime',\n",
       " 'contractmovementdate',\n",
       " 'contractnumber',\n",
       " 'contractoriginalstartdate',\n",
       " 'contractschemecode',\n",
       " 'contractstatusname',\n",
       " 'gross',\n",
       " 'itemcategoryname',\n",
       " 'itemcategoryname_dup',\n",
       " 'itemdiamondcopyid',\n",
       " 'itemdiamondcopyid_imputed',\n",
       " 'itemgoldencopyid',\n",
       " 'itemlocationpostcode',\n",
       " 'itemlocationpostcode_dup',\n",
       " 'itemmodelnumber',\n",
       " 'itemmodelnumber_dup',\n",
       " 'itemmodelnumber_imputed',\n",
       " 'itempurchasedatetime',\n",
       " 'itemsupercategorycode',\n",
       " 'manufacturerbrandname_dup',\n",
       " 'offer_request_time',\n",
       " 'offeracceptedindicator',\n",
       " 'offersourcereceiveddatetime',\n",
       " 'pcds',\n",
       " 'persongoldencopyid',\n",
       " 'persongoldencopyid_dup',\n",
       " 'planno',\n",
       " 'planstatus',\n",
       " 'postcode_sector',\n",
       " 'rec_status',\n",
       " 'region',\n",
       " 'year'}"
      ]
     },
     "execution_count": 120,
     "metadata": {},
     "output_type": "execute_result"
    }
   ],
   "source": [
    "set1 = set(parameters.leaky_feats + parameters.redundant_feats)\n",
    "set2 = set(drop_list)\n",
    "# missing_columns = list(sorted(set1 - set2)) # missing values in set1\n",
    "# check for common values in 2 lists\n",
    "set1.intersection(set2)"
   ]
  },
  {
   "cell_type": "markdown",
   "metadata": {},
   "source": [
    "## Outlier Treatment\n",
    "<a id='out'></a>"
   ]
  },
  {
   "cell_type": "code",
   "execution_count": 98,
   "metadata": {},
   "outputs": [
    {
     "data": {
      "text/plain": [
       "(66881, 56)"
      ]
     },
     "execution_count": 98,
     "metadata": {},
     "output_type": "execute_result"
    }
   ],
   "source": [
    "# remove outliers \n",
    "\n",
    "# df_filt = df_clean[~df_clean['item_age'].isin(dif.findoutliers(df_clean.item_age))]\n",
    "df_filt = df_clean[~df_clean['PurchasePrice'].isin(dif.findoutliers(df_clean.PurchasePrice))]\n",
    "df_filt.shape"
   ]
  },
  {
   "cell_type": "markdown",
   "metadata": {},
   "source": [
    "# Modelling\n",
    "<a id='section5'></a>"
   ]
  },
  {
   "cell_type": "code",
   "execution_count": 99,
   "metadata": {},
   "outputs": [],
   "source": [
    "# set predictors & response\n",
    "\n",
    "categorical_cols, integer_cols, float_cols, date_cols, unidentified_cols = hf.cat_num_split(df_filt)\n",
    "\n",
    "predictors = list(set(categorical_cols + float_cols + integer_cols) - set(['cancelflag']))\n",
    "response = 'cancelflag'"
   ]
  },
  {
   "cell_type": "code",
   "execution_count": 100,
   "metadata": {},
   "outputs": [
    {
     "name": "stdout",
     "output_type": "stream",
     "text": [
      "Checking whether there is an H2O instance running at http://localhost:54321 . connected.\n",
      "Warning: Your H2O cluster version is too old (4 months and 30 days)!Please download and install the latest version from http://h2o.ai/download/\n"
     ]
    },
    {
     "data": {
      "text/html": [
       "<div style=\"overflow:auto\"><table style=\"width:50%\"><tr><td>H2O_cluster_uptime:</td>\n",
       "<td>6 hours 2 mins</td></tr>\n",
       "<tr><td>H2O_cluster_timezone:</td>\n",
       "<td>Etc/UTC</td></tr>\n",
       "<tr><td>H2O_data_parsing_timezone:</td>\n",
       "<td>UTC</td></tr>\n",
       "<tr><td>H2O_cluster_version:</td>\n",
       "<td>3.36.0.4</td></tr>\n",
       "<tr><td>H2O_cluster_version_age:</td>\n",
       "<td>4 months and 30 days !!!</td></tr>\n",
       "<tr><td>H2O_cluster_name:</td>\n",
       "<td>H2O_from_python_ubuntu_at1vqz</td></tr>\n",
       "<tr><td>H2O_cluster_total_nodes:</td>\n",
       "<td>1</td></tr>\n",
       "<tr><td>H2O_cluster_free_memory:</td>\n",
       "<td>29.39 Gb</td></tr>\n",
       "<tr><td>H2O_cluster_total_cores:</td>\n",
       "<td>16</td></tr>\n",
       "<tr><td>H2O_cluster_allowed_cores:</td>\n",
       "<td>16</td></tr>\n",
       "<tr><td>H2O_cluster_status:</td>\n",
       "<td>locked, healthy</td></tr>\n",
       "<tr><td>H2O_connection_url:</td>\n",
       "<td>http://localhost:54321</td></tr>\n",
       "<tr><td>H2O_connection_proxy:</td>\n",
       "<td>{\"http\": null, \"https\": null}</td></tr>\n",
       "<tr><td>H2O_internal_security:</td>\n",
       "<td>False</td></tr>\n",
       "<tr><td>Python_version:</td>\n",
       "<td>3.9.7 final</td></tr></table></div>"
      ],
      "text/plain": [
       "--------------------------  -----------------------------\n",
       "H2O_cluster_uptime:         6 hours 2 mins\n",
       "H2O_cluster_timezone:       Etc/UTC\n",
       "H2O_data_parsing_timezone:  UTC\n",
       "H2O_cluster_version:        3.36.0.4\n",
       "H2O_cluster_version_age:    4 months and 30 days !!!\n",
       "H2O_cluster_name:           H2O_from_python_ubuntu_at1vqz\n",
       "H2O_cluster_total_nodes:    1\n",
       "H2O_cluster_free_memory:    29.39 Gb\n",
       "H2O_cluster_total_cores:    16\n",
       "H2O_cluster_allowed_cores:  16\n",
       "H2O_cluster_status:         locked, healthy\n",
       "H2O_connection_url:         http://localhost:54321\n",
       "H2O_connection_proxy:       {\"http\": null, \"https\": null}\n",
       "H2O_internal_security:      False\n",
       "Python_version:             3.9.7 final\n",
       "--------------------------  -----------------------------"
      ]
     },
     "metadata": {},
     "output_type": "display_data"
    }
   ],
   "source": [
    "h2o.init()"
   ]
  },
  {
   "cell_type": "markdown",
   "metadata": {},
   "source": [
    "## Feature Importance\n",
    "<a id='featimp'></a>"
   ]
  },
  {
   "cell_type": "code",
   "execution_count": 101,
   "metadata": {},
   "outputs": [],
   "source": [
    "df = df_filt.copy()"
   ]
  },
  {
   "cell_type": "code",
   "execution_count": 102,
   "metadata": {},
   "outputs": [],
   "source": [
    "# further outlier treatment\n",
    "\n",
    "for i in ['ClaimAmount5YearTotal', 'PlansCancelledPast5YearCount', 'PlansActivePast1yrCount', 'PlansAcceptedPast5YearCount', 'PlansAcceptedPast1YearCount', 'AppAge', 'PlanLiveCount'\n",
    "]:    \n",
    "    df = df[~df[i].isin(dif.findoutliers(df[i]))]"
   ]
  },
  {
   "cell_type": "code",
   "execution_count": 103,
   "metadata": {},
   "outputs": [
    {
     "name": "stdout",
     "output_type": "stream",
     "text": [
      "Parse progress: |████████████████████████████████████████████████████████████████| (done) 100%\n",
      "Parse progress: |████████████████████████████████████████████████████████████████| (done) 100%\n",
      "gbm Model Build progress: |"
     ]
    },
    {
     "name": "stderr",
     "output_type": "stream",
     "text": [
      "/home/ubuntu/anaconda3/lib/python3.9/site-packages/h2o/estimators/estimator_base.py:208: RuntimeWarning: Dropping bad and constant columns: [ClaimPast3YearCount, ClaimPast5YearCount, ClaimAmount5YearTotal, ClaimAmount1YearTotal, PlansCancelledPast1YearCount, PlansCancelledPast5YearCount, PlansActivePast1yrCount, ClaimAmount3YearTotal, ClaimPast1YearCount, PlansActivePast5yrCount, PlanLiveCount, PlansAcceptedPast1YearCount, PlansAcceptedPast5YearCount]\n",
      "  warnings.warn(mesg[\"message\"], RuntimeWarning)\n"
     ]
    },
    {
     "name": "stdout",
     "output_type": "stream",
     "text": [
      "██████████████████████████████████████████████████████| (done) 100%\n",
      "11.147026300430298\n"
     ]
    }
   ],
   "source": [
    "# convert columns to factors\n",
    "for i in df_filt.columns:\n",
    "    df[i] = df_filt[i].astype('category')\n",
    "    \n",
    "#train test split\n",
    "x_train, x_test, y_train, y_test = train_test_split(df[predictors], df[response], test_size = 0.2, random_state = 1)\n",
    "train = pd.concat([x_train, y_train], axis=1)\n",
    "test = pd.concat([x_test, y_test], axis=1)\n",
    "\n",
    "# preserve training & test data's index to be used as a key to merge prediction probability with main dataset \n",
    "xtrain_index = x_train.index\n",
    "xtest_index = x_test.index\n",
    "\n",
    "# convert to h2o dataframe format\n",
    "hf_train = h2o.H2OFrame(train)\n",
    "hf_test = h2o.H2OFrame(test)\n",
    "\n",
    "# format target to fit the model\n",
    "hf_train['cancelflag']=hf_train['cancelflag'].asfactor()\n",
    "hf_test['cancelflag']=hf_test['cancelflag'].asfactor()\n",
    "\n",
    "# initialise the estimator \n",
    "df_gbm_imp = H2OGradientBoostingEstimator(keep_cross_validation_predictions=True, nfolds = 5, seed = 1)\n",
    "start = time.time()\n",
    "\n",
    "# train the model\n",
    "df_gbm_imp.train(x = predictors, y = response, training_frame = hf_train)\n",
    "end = time.time()\n",
    "print(end - start)"
   ]
  },
  {
   "cell_type": "code",
   "execution_count": 104,
   "metadata": {},
   "outputs": [
    {
     "data": {
      "text/html": [
       "<div>\n",
       "<style scoped>\n",
       "    .dataframe tbody tr th:only-of-type {\n",
       "        vertical-align: middle;\n",
       "    }\n",
       "\n",
       "    .dataframe tbody tr th {\n",
       "        vertical-align: top;\n",
       "    }\n",
       "\n",
       "    .dataframe thead th {\n",
       "        text-align: right;\n",
       "    }\n",
       "</style>\n",
       "<table border=\"1\" class=\"dataframe\">\n",
       "  <thead>\n",
       "    <tr style=\"text-align: right;\">\n",
       "      <th></th>\n",
       "      <th>variable</th>\n",
       "      <th>relative_importance</th>\n",
       "      <th>scaled_importance</th>\n",
       "      <th>percentage</th>\n",
       "    </tr>\n",
       "  </thead>\n",
       "  <tbody>\n",
       "    <tr>\n",
       "      <th>0</th>\n",
       "      <td>AppAge</td>\n",
       "      <td>185.132690</td>\n",
       "      <td>1.000000</td>\n",
       "      <td>0.071094</td>\n",
       "    </tr>\n",
       "    <tr>\n",
       "      <th>1</th>\n",
       "      <td>ClientAccountDesc</td>\n",
       "      <td>167.386032</td>\n",
       "      <td>0.904141</td>\n",
       "      <td>0.064279</td>\n",
       "    </tr>\n",
       "    <tr>\n",
       "      <th>2</th>\n",
       "      <td>HPI_SalesVolume</td>\n",
       "      <td>133.449814</td>\n",
       "      <td>0.720833</td>\n",
       "      <td>0.051247</td>\n",
       "    </tr>\n",
       "    <tr>\n",
       "      <th>3</th>\n",
       "      <td>ONS_avg_dependent_children_per_family</td>\n",
       "      <td>132.034668</td>\n",
       "      <td>0.713189</td>\n",
       "      <td>0.050703</td>\n",
       "    </tr>\n",
       "    <tr>\n",
       "      <th>4</th>\n",
       "      <td>ManufacturerBrandCode</td>\n",
       "      <td>127.962822</td>\n",
       "      <td>0.691195</td>\n",
       "      <td>0.049140</td>\n",
       "    </tr>\n",
       "    <tr>\n",
       "      <th>5</th>\n",
       "      <td>ONS_bedrooms per rooms</td>\n",
       "      <td>111.092468</td>\n",
       "      <td>0.600069</td>\n",
       "      <td>0.042661</td>\n",
       "    </tr>\n",
       "    <tr>\n",
       "      <th>6</th>\n",
       "      <td>HPI_AveragePrice</td>\n",
       "      <td>101.761223</td>\n",
       "      <td>0.549666</td>\n",
       "      <td>0.039078</td>\n",
       "    </tr>\n",
       "    <tr>\n",
       "      <th>7</th>\n",
       "      <td>ApplianceCode</td>\n",
       "      <td>100.180550</td>\n",
       "      <td>0.541128</td>\n",
       "      <td>0.038471</td>\n",
       "    </tr>\n",
       "    <tr>\n",
       "      <th>8</th>\n",
       "      <td>ONS_%people_working_49+</td>\n",
       "      <td>98.140190</td>\n",
       "      <td>0.530107</td>\n",
       "      <td>0.037687</td>\n",
       "    </tr>\n",
       "    <tr>\n",
       "      <th>9</th>\n",
       "      <td>ONS_avg_age</td>\n",
       "      <td>92.101204</td>\n",
       "      <td>0.497488</td>\n",
       "      <td>0.035368</td>\n",
       "    </tr>\n",
       "    <tr>\n",
       "      <th>10</th>\n",
       "      <td>ONS_n_families</td>\n",
       "      <td>88.606903</td>\n",
       "      <td>0.478613</td>\n",
       "      <td>0.034026</td>\n",
       "    </tr>\n",
       "    <tr>\n",
       "      <th>11</th>\n",
       "      <td>ONS_n_families/n_households</td>\n",
       "      <td>88.124367</td>\n",
       "      <td>0.476007</td>\n",
       "      <td>0.033841</td>\n",
       "    </tr>\n",
       "    <tr>\n",
       "      <th>12</th>\n",
       "      <td>ONS_avg_household_size</td>\n",
       "      <td>87.807938</td>\n",
       "      <td>0.474297</td>\n",
       "      <td>0.033720</td>\n",
       "    </tr>\n",
       "    <tr>\n",
       "      <th>13</th>\n",
       "      <td>ClientGroupDesc</td>\n",
       "      <td>86.529091</td>\n",
       "      <td>0.467390</td>\n",
       "      <td>0.033229</td>\n",
       "    </tr>\n",
       "    <tr>\n",
       "      <th>14</th>\n",
       "      <td>ONS_population_density</td>\n",
       "      <td>83.809593</td>\n",
       "      <td>0.452700</td>\n",
       "      <td>0.032184</td>\n",
       "    </tr>\n",
       "    <tr>\n",
       "      <th>15</th>\n",
       "      <td>ONS_n_families_per_population</td>\n",
       "      <td>79.011200</td>\n",
       "      <td>0.426781</td>\n",
       "      <td>0.030342</td>\n",
       "    </tr>\n",
       "    <tr>\n",
       "      <th>16</th>\n",
       "      <td>ONS_%people_working_FT</td>\n",
       "      <td>78.978973</td>\n",
       "      <td>0.426607</td>\n",
       "      <td>0.030329</td>\n",
       "    </tr>\n",
       "    <tr>\n",
       "      <th>17</th>\n",
       "      <td>ONS_avg_bedrooms</td>\n",
       "      <td>74.760475</td>\n",
       "      <td>0.403821</td>\n",
       "      <td>0.028709</td>\n",
       "    </tr>\n",
       "    <tr>\n",
       "      <th>18</th>\n",
       "      <td>ONS_occupation_rate</td>\n",
       "      <td>73.597656</td>\n",
       "      <td>0.397540</td>\n",
       "      <td>0.028263</td>\n",
       "    </tr>\n",
       "    <tr>\n",
       "      <th>19</th>\n",
       "      <td>ONS_avg_distance_travelled_to_work(km)</td>\n",
       "      <td>70.631958</td>\n",
       "      <td>0.381521</td>\n",
       "      <td>0.027124</td>\n",
       "    </tr>\n",
       "  </tbody>\n",
       "</table>\n",
       "</div>"
      ],
      "text/plain": [
       "                                  variable  relative_importance  \\\n",
       "0                                   AppAge           185.132690   \n",
       "1                        ClientAccountDesc           167.386032   \n",
       "2                          HPI_SalesVolume           133.449814   \n",
       "3    ONS_avg_dependent_children_per_family           132.034668   \n",
       "4                    ManufacturerBrandCode           127.962822   \n",
       "5                   ONS_bedrooms per rooms           111.092468   \n",
       "6                         HPI_AveragePrice           101.761223   \n",
       "7                            ApplianceCode           100.180550   \n",
       "8                  ONS_%people_working_49+            98.140190   \n",
       "9                              ONS_avg_age            92.101204   \n",
       "10                          ONS_n_families            88.606903   \n",
       "11             ONS_n_families/n_households            88.124367   \n",
       "12                  ONS_avg_household_size            87.807938   \n",
       "13                         ClientGroupDesc            86.529091   \n",
       "14                  ONS_population_density            83.809593   \n",
       "15           ONS_n_families_per_population            79.011200   \n",
       "16                  ONS_%people_working_FT            78.978973   \n",
       "17                        ONS_avg_bedrooms            74.760475   \n",
       "18                     ONS_occupation_rate            73.597656   \n",
       "19  ONS_avg_distance_travelled_to_work(km)            70.631958   \n",
       "\n",
       "    scaled_importance  percentage  \n",
       "0            1.000000    0.071094  \n",
       "1            0.904141    0.064279  \n",
       "2            0.720833    0.051247  \n",
       "3            0.713189    0.050703  \n",
       "4            0.691195    0.049140  \n",
       "5            0.600069    0.042661  \n",
       "6            0.549666    0.039078  \n",
       "7            0.541128    0.038471  \n",
       "8            0.530107    0.037687  \n",
       "9            0.497488    0.035368  \n",
       "10           0.478613    0.034026  \n",
       "11           0.476007    0.033841  \n",
       "12           0.474297    0.033720  \n",
       "13           0.467390    0.033229  \n",
       "14           0.452700    0.032184  \n",
       "15           0.426781    0.030342  \n",
       "16           0.426607    0.030329  \n",
       "17           0.403821    0.028709  \n",
       "18           0.397540    0.028263  \n",
       "19           0.381521    0.027124  "
      ]
     },
     "execution_count": 104,
     "metadata": {},
     "output_type": "execute_result"
    }
   ],
   "source": [
    "# Retrieve the variable importance\n",
    "varimp = df_gbm_imp.varimp(use_pandas=True).sort_values('scaled_importance', ascending=False)\n",
    "feats_stored_gbm = list(varimp.head(20)['variable'])\n",
    "varimp.head(20)"
   ]
  },
  {
   "cell_type": "code",
   "execution_count": 105,
   "metadata": {},
   "outputs": [],
   "source": [
    "# df_gbm_imp.varimp_plot()"
   ]
  },
  {
   "cell_type": "code",
   "execution_count": 106,
   "metadata": {},
   "outputs": [
    {
     "name": "stdout",
     "output_type": "stream",
     "text": [
      "MCC: 0.37351 / 0.20558\n",
      "F1: 0.52534 / 0.43356\n",
      "AUC: 0.77150 / 0.64301\n",
      "AUC PR: 0.58118 / 0.39100\n",
      "Accuracy: 0.79538 / 0.75934\n",
      "Logloss: 0.50574 / 0.53636\n",
      "KS: 0.37272\n"
     ]
    }
   ],
   "source": [
    "model_perf_stats(df_gbm_imp, hf_train, hf_test)"
   ]
  },
  {
   "cell_type": "code",
   "execution_count": 107,
   "metadata": {},
   "outputs": [
    {
     "name": "stdout",
     "output_type": "stream",
     "text": [
      "gbm prediction progress: |███████████████████████████████████████████████████████| (done) 100%\n",
      "              precision    recall  f1-score   support\n",
      "\n",
      "           0       0.81      0.73      0.77      4457\n",
      "           1       0.37      0.48      0.42      1456\n",
      "\n",
      "    accuracy                           0.67      5913\n",
      "   macro avg       0.59      0.61      0.59      5913\n",
      "weighted avg       0.70      0.67      0.68      5913\n",
      "\n"
     ]
    }
   ],
   "source": [
    "y_true = y_test\n",
    "y_pred = df_gbm_imp.predict(hf_test)\n",
    "y_pred = y_pred.as_data_frame()\n",
    "\n",
    "# classification report\n",
    "print(classification_report(y_true, y_pred['predict'], labels=[0,1]))"
   ]
  },
  {
   "cell_type": "markdown",
   "metadata": {},
   "source": [
    "## Multicollinearity\n",
    "<a id='multicol'></a>"
   ]
  },
  {
   "cell_type": "code",
   "execution_count": 108,
   "metadata": {},
   "outputs": [
    {
     "data": {
      "text/plain": [
       "['ClientAccountDesc',\n",
       " 'ManufacturerBrandCode',\n",
       " 'ApplianceCode',\n",
       " 'ClientGroupDesc']"
      ]
     },
     "execution_count": 108,
     "metadata": {},
     "output_type": "execute_result"
    }
   ],
   "source": [
    "predictors2 =  list(feats_stored_gbm)\n",
    "\n",
    "df_ = df_filt.copy()\n",
    "\n",
    "cat_predictors2 = df_[predictors2].select_dtypes(include=['object']).columns.tolist()\n",
    "cat_predictors2"
   ]
  },
  {
   "cell_type": "code",
   "execution_count": 109,
   "metadata": {},
   "outputs": [],
   "source": [
    "# apply leave one out encoder to non-ordinal feats\n",
    "for feature in ['ApplianceCode','ClientAccountDesc','ManufacturerBrandCode', 'ClientGroupDesc']:\n",
    "    l1o_encoder, df_[feature] = get_leave_one_out(df_[feature], df_['cancelflag'])\n",
    "    \n",
    "# # apply get_ordinal to ordinal feats\n",
    "# for feature in []:\n",
    "#     ord_encoder, df_[feature] = get_ordinal(df_[feature])"
   ]
  },
  {
   "cell_type": "code",
   "execution_count": 110,
   "metadata": {},
   "outputs": [
    {
     "name": "stdout",
     "output_type": "stream",
     "text": [
      "                                   feature          VIF\n",
      "0                                   AppAge     1.321451\n",
      "2                          HPI_SalesVolume     3.266357\n",
      "14                  ONS_population_density     3.608451\n",
      "10                          ONS_n_families    10.187200\n",
      "6                         HPI_AveragePrice    11.063410\n",
      "19  ONS_avg_distance_travelled_to_work(km)    44.038650\n",
      "8                  ONS_%people_working_49+    45.239713\n",
      "3    ONS_avg_dependent_children_per_family    82.161968\n",
      "7                            ApplianceCode   120.347748\n",
      "18                     ONS_occupation_rate   130.283494\n",
      "4                    ManufacturerBrandCode   242.141456\n",
      "15           ONS_n_families_per_population   261.678441\n",
      "17                        ONS_avg_bedrooms   339.638352\n",
      "16                  ONS_%people_working_FT   514.860606\n",
      "13                         ClientGroupDesc   530.364638\n",
      "1                        ClientAccountDesc   596.612830\n",
      "9                              ONS_avg_age   676.037944\n",
      "11             ONS_n_families/n_households   766.836323\n",
      "12                  ONS_avg_household_size  1184.399881\n",
      "5                   ONS_bedrooms per rooms  1421.250380\n"
     ]
    }
   ],
   "source": [
    "# the independent variables set\n",
    "X = df_[predictors2]\n",
    "  \n",
    "# VIF dataframe\n",
    "vif_data = pd.DataFrame()\n",
    "vif_data[\"feature\"] = X.columns\n",
    "  \n",
    "# calculating VIF for each feature\n",
    "vif_data[\"VIF\"] = [variance_inflation_factor(X.values, i)\n",
    "                          for i in range(len(X.columns))]\n",
    "\n",
    "print(vif_data.sort_values(by='VIF'))"
   ]
  },
  {
   "cell_type": "code",
   "execution_count": 112,
   "metadata": {},
   "outputs": [
    {
     "data": {
      "text/plain": [
       "['AppAge',\n",
       " 'HPI_SalesVolume',\n",
       " 'ONS_avg_dependent_children_per_family',\n",
       " 'HPI_AveragePrice',\n",
       " 'ONS_%people_working_49+',\n",
       " 'ONS_n_families',\n",
       " 'ONS_population_density',\n",
       " 'ONS_avg_distance_travelled_to_work(km)']"
      ]
     },
     "execution_count": 112,
     "metadata": {},
     "output_type": "execute_result"
    }
   ],
   "source": [
    "predictors3 = list(vif_data[vif_data['VIF']<100].feature.unique())\n",
    "predictors3"
   ]
  },
  {
   "cell_type": "code",
   "execution_count": 113,
   "metadata": {},
   "outputs": [
    {
     "name": "stdout",
     "output_type": "stream",
     "text": [
      "                                   feature         VIF\n",
      "0                                   AppAge    1.303387\n",
      "1                          HPI_SalesVolume    3.163179\n",
      "2    ONS_avg_dependent_children_per_family   32.057075\n",
      "3                         HPI_AveragePrice   10.030324\n",
      "4                  ONS_%people_working_49+   41.983045\n",
      "5                           ONS_n_families    8.654966\n",
      "6                   ONS_population_density    2.668842\n",
      "7   ONS_avg_distance_travelled_to_work(km)   41.971957\n",
      "8                    ManufacturerBrandCode   89.948048\n",
      "9                         ONS_avg_bedrooms  110.630024\n",
      "10                           ApplianceCode   97.338814\n"
     ]
    }
   ],
   "source": [
    "# add/remove feats\n",
    "predictors3.extend(['ManufacturerBrandCode', 'ONS_avg_bedrooms', 'ApplianceCode'])\n",
    "# predictors3.remove('ONS_avg_household_size')     \n",
    "# predictors3\n",
    "\n",
    "# recalculate vif\n",
    "# the independent variables set\n",
    "X = df_[predictors3]\n",
    "  \n",
    "# VIF dataframe\n",
    "vif_data = pd.DataFrame()\n",
    "vif_data[\"feature\"] = X.columns\n",
    "  \n",
    "# calculating VIF for each feature\n",
    "vif_data[\"VIF\"] = [variance_inflation_factor(X.values, i)\n",
    "                          for i in range(len(X.columns))]\n",
    "\n",
    "print(vif_data)"
   ]
  },
  {
   "cell_type": "markdown",
   "metadata": {},
   "source": [
    "## Model 1 - GBM\n",
    "<a id='gbm'></a>"
   ]
  },
  {
   "cell_type": "code",
   "execution_count": 114,
   "metadata": {},
   "outputs": [
    {
     "name": "stdout",
     "output_type": "stream",
     "text": [
      "Parse progress: |████████████████████████████████████████████████████████████████| (done) 100%\n",
      "Parse progress: |████████████████████████████████████████████████████████████████| (done) 100%\n",
      "gbm Model Build progress: |██████████████████████████████████████████████████████| (done) 100%\n",
      "9.169754028320312\n"
     ]
    }
   ],
   "source": [
    "# predictors3 = list(varimp.head(23)['variable'])\n",
    "\n",
    "# convert columns to factors\n",
    "for i in df_filt.columns[0:]:\n",
    "    df[i] = df_filt[i].astype('category')\n",
    "\n",
    "# re train test split\n",
    "x_train, x_test, y_train, y_test = train_test_split(df[predictors3], df[response], test_size = 0.2, random_state = 1)\n",
    "train = pd.concat([x_train, y_train], axis=1)\n",
    "test = pd.concat([x_test, y_test], axis=1)\n",
    "\n",
    "# preserve training & test data's index to be used as a key to merge prediction probability with main dataset \n",
    "xtrain_index = x_train.index\n",
    "xtest_index = x_test.index\n",
    "\n",
    "# convert to h2o dataframe format\n",
    "hf_train = h2o.H2OFrame(train)\n",
    "hf_test = h2o.H2OFrame(test)\n",
    "\n",
    "# format target to fit the model\n",
    "hf_train['cancelflag']=hf_train['cancelflag'].asfactor()\n",
    "hf_test['cancelflag']=hf_test['cancelflag'].asfactor()\n",
    "\n",
    "df_gbm = H2OGradientBoostingEstimator(keep_cross_validation_predictions=True, nfolds = 5, seed = 1)\n",
    "\n",
    "start = time.time()\n",
    "# train the model\n",
    "df_gbm.train(x = predictors3, y = response, training_frame = hf_train)\n",
    "end = time.time()\n",
    "print(end - start)"
   ]
  },
  {
   "cell_type": "code",
   "execution_count": 115,
   "metadata": {},
   "outputs": [
    {
     "name": "stdout",
     "output_type": "stream",
     "text": [
      "gbm prediction progress: |███████████████████████████████████████████████████████| (done) 100%\n",
      "              precision    recall  f1-score   support\n",
      "\n",
      "           0       0.82      0.63      0.71      4457\n",
      "           1       0.34      0.57      0.42      1456\n",
      "\n",
      "    accuracy                           0.62      5913\n",
      "   macro avg       0.58      0.60      0.57      5913\n",
      "weighted avg       0.70      0.62      0.64      5913\n",
      "\n",
      "MCC: 0.33880 / 0.17488\n",
      "F1: 0.50737 / 0.42962\n",
      "AUC: 0.74631 / 0.63722\n",
      "AUC PR: 0.54910 / 0.38452\n",
      "Accuracy: 0.78972 / 0.76137\n",
      "Logloss: 0.51176 / 0.53624\n",
      "KS: 0.34886\n"
     ]
    },
    {
     "data": {
      "image/png": "[encoded data removed]",
      "text/plain": [
       "<Figure size 1000x500 with 1 Axes>"
      ]
     },
     "metadata": {
      "needs_background": "light"
     },
     "output_type": "display_data"
    },
    {
     "name": "stdout",
     "output_type": "stream",
     "text": [
      "AUC of cross-validated holdout predictions: 0.6321549716683242\n"
     ]
    }
   ],
   "source": [
    "# classification report\n",
    "y_true = y_test\n",
    "y_pred = df_gbm.predict(hf_test)\n",
    "y_pred = y_pred.as_data_frame()\n",
    "\n",
    "print(classification_report(y_true, y_pred['predict'], labels=[0,1]))\n",
    "\n",
    "# performance metrics\n",
    "model_perf_stats(df_gbm, hf_train, hf_test)\n",
    "\n",
    "# training auc plot\n",
    "performance = df_gbm.model_performance(train=True)\n",
    "performance.plot();# cross validation\n",
    "\n",
    "# AUC of cross-validated holdout predictions\n",
    "print(f'AUC of cross-validated holdout predictions: {df_gbm.auc(xval=True)}')"
   ]
  },
  {
   "cell_type": "code",
   "execution_count": 116,
   "metadata": {},
   "outputs": [
    {
     "data": {
      "text/html": [
       "<div>\n",
       "<style scoped>\n",
       "    .dataframe tbody tr th:only-of-type {\n",
       "        vertical-align: middle;\n",
       "    }\n",
       "\n",
       "    .dataframe tbody tr th {\n",
       "        vertical-align: top;\n",
       "    }\n",
       "\n",
       "    .dataframe thead th {\n",
       "        text-align: right;\n",
       "    }\n",
       "</style>\n",
       "<table border=\"1\" class=\"dataframe\">\n",
       "  <thead>\n",
       "    <tr style=\"text-align: right;\">\n",
       "      <th></th>\n",
       "      <th>variable</th>\n",
       "      <th>relative_importance</th>\n",
       "      <th>scaled_importance</th>\n",
       "      <th>percentage</th>\n",
       "    </tr>\n",
       "  </thead>\n",
       "  <tbody>\n",
       "    <tr>\n",
       "      <th>0</th>\n",
       "      <td>ManufacturerBrandCode</td>\n",
       "      <td>360.141083</td>\n",
       "      <td>1.000000</td>\n",
       "      <td>0.153930</td>\n",
       "    </tr>\n",
       "    <tr>\n",
       "      <th>1</th>\n",
       "      <td>AppAge</td>\n",
       "      <td>273.586609</td>\n",
       "      <td>0.759665</td>\n",
       "      <td>0.116935</td>\n",
       "    </tr>\n",
       "    <tr>\n",
       "      <th>2</th>\n",
       "      <td>ONS_%people_working_49+</td>\n",
       "      <td>268.478668</td>\n",
       "      <td>0.745482</td>\n",
       "      <td>0.114752</td>\n",
       "    </tr>\n",
       "    <tr>\n",
       "      <th>3</th>\n",
       "      <td>ONS_n_families</td>\n",
       "      <td>236.187546</td>\n",
       "      <td>0.655820</td>\n",
       "      <td>0.100951</td>\n",
       "    </tr>\n",
       "    <tr>\n",
       "      <th>4</th>\n",
       "      <td>ONS_avg_dependent_children_per_family</td>\n",
       "      <td>235.805557</td>\n",
       "      <td>0.654759</td>\n",
       "      <td>0.100787</td>\n",
       "    </tr>\n",
       "    <tr>\n",
       "      <th>5</th>\n",
       "      <td>HPI_SalesVolume</td>\n",
       "      <td>230.774902</td>\n",
       "      <td>0.640790</td>\n",
       "      <td>0.098637</td>\n",
       "    </tr>\n",
       "    <tr>\n",
       "      <th>6</th>\n",
       "      <td>ONS_avg_distance_travelled_to_work(km)</td>\n",
       "      <td>175.597015</td>\n",
       "      <td>0.487578</td>\n",
       "      <td>0.075053</td>\n",
       "    </tr>\n",
       "    <tr>\n",
       "      <th>7</th>\n",
       "      <td>ONS_avg_bedrooms</td>\n",
       "      <td>161.635773</td>\n",
       "      <td>0.448812</td>\n",
       "      <td>0.069086</td>\n",
       "    </tr>\n",
       "    <tr>\n",
       "      <th>8</th>\n",
       "      <td>HPI_AveragePrice</td>\n",
       "      <td>151.955963</td>\n",
       "      <td>0.421935</td>\n",
       "      <td>0.064949</td>\n",
       "    </tr>\n",
       "    <tr>\n",
       "      <th>9</th>\n",
       "      <td>ApplianceCode</td>\n",
       "      <td>141.303436</td>\n",
       "      <td>0.392356</td>\n",
       "      <td>0.060395</td>\n",
       "    </tr>\n",
       "    <tr>\n",
       "      <th>10</th>\n",
       "      <td>ONS_population_density</td>\n",
       "      <td>104.170547</td>\n",
       "      <td>0.289249</td>\n",
       "      <td>0.044524</td>\n",
       "    </tr>\n",
       "  </tbody>\n",
       "</table>\n",
       "</div>"
      ],
      "text/plain": [
       "                                  variable  relative_importance  \\\n",
       "0                    ManufacturerBrandCode           360.141083   \n",
       "1                                   AppAge           273.586609   \n",
       "2                  ONS_%people_working_49+           268.478668   \n",
       "3                           ONS_n_families           236.187546   \n",
       "4    ONS_avg_dependent_children_per_family           235.805557   \n",
       "5                          HPI_SalesVolume           230.774902   \n",
       "6   ONS_avg_distance_travelled_to_work(km)           175.597015   \n",
       "7                         ONS_avg_bedrooms           161.635773   \n",
       "8                         HPI_AveragePrice           151.955963   \n",
       "9                            ApplianceCode           141.303436   \n",
       "10                  ONS_population_density           104.170547   \n",
       "\n",
       "    scaled_importance  percentage  \n",
       "0            1.000000    0.153930  \n",
       "1            0.759665    0.116935  \n",
       "2            0.745482    0.114752  \n",
       "3            0.655820    0.100951  \n",
       "4            0.654759    0.100787  \n",
       "5            0.640790    0.098637  \n",
       "6            0.487578    0.075053  \n",
       "7            0.448812    0.069086  \n",
       "8            0.421935    0.064949  \n",
       "9            0.392356    0.060395  \n",
       "10           0.289249    0.044524  "
      ]
     },
     "execution_count": 116,
     "metadata": {},
     "output_type": "execute_result"
    }
   ],
   "source": [
    "# Variable Importance\n",
    "\n",
    "df_gbm.varimp(use_pandas=True)"
   ]
  },
  {
   "cell_type": "markdown",
   "metadata": {},
   "source": [
    "## Model 2: GLM\n",
    "<a id='glm'></a>"
   ]
  },
  {
   "cell_type": "code",
   "execution_count": null,
   "metadata": {},
   "outputs": [],
   "source": [
    "#train test split\n",
    "x_train, x_test, y_train, y_test = train_test_split(df[predictors3], df[response], test_size = 0.2, random_state = 1)\n",
    "train = pd.concat([x_train, y_train], axis=1)\n",
    "test = pd.concat([x_test, y_test], axis=1)\n",
    "\n",
    "# preserve training & test data's index to be used as a key to merge prediction probability with main dataset \n",
    "xtrain_index = x_train.index\n",
    "xtest_index = x_test.index\n",
    "\n",
    "# convert to h2o dataframe format\n",
    "hf_train = h2o.H2OFrame(train)\n",
    "hf_test = h2o.H2OFrame(test)\n",
    "# initialise the estimator \n",
    "df_glm = H2OGeneralizedLinearEstimator(family= \"binomial\",\n",
    "                                          lambda_ = 0,\n",
    "                                          compute_p_values = True,\n",
    "                                          remove_collinear_columns = True, \n",
    "                                          keep_cross_validation_predictions=True, \n",
    "                                          nfolds = 5, \n",
    "                                          seed = 1)\n",
    "start = time.time()\n",
    "# train the model\n",
    "df_glm.train(x = predictors3, y = response, training_frame = hf_train)\n",
    "end = time.time()\n",
    "print(end - start)"
   ]
  },
  {
   "cell_type": "code",
   "execution_count": null,
   "metadata": {},
   "outputs": [],
   "source": [
    "# classification report\n",
    "y_true = y_test\n",
    "y_pred = df_glm.predict(hf_test)\n",
    "y_pred = y_pred.as_data_frame()\n",
    "\n",
    "print(classification_report(y_true, y_pred['predict'], labels=[0,1]))\n",
    "\n",
    "# performance metrics\n",
    "model_perf_stats(df_glm, hf_train, hf_test)\n",
    "\n",
    "# training auc plot\n",
    "performance = df_glm.model_performance(train=True)\n",
    "performance.plot();\n",
    "\n",
    "# cross validation\n",
    "\n",
    "# AUC of cross-validated holdout predictions\n",
    "print(f'AUC of cross-validated holdout predictions: {df_glm.auc(xval=True)}')"
   ]
  },
  {
   "cell_type": "code",
   "execution_count": null,
   "metadata": {},
   "outputs": [],
   "source": [
    "# Variable Importance\n",
    "\n",
    "df_glm.varimp(use_pandas=True)"
   ]
  },
  {
   "cell_type": "markdown",
   "metadata": {},
   "source": [
    "## Model 3: Random Forest\n",
    "<a id='rf'></a>"
   ]
  },
  {
   "cell_type": "code",
   "execution_count": null,
   "metadata": {},
   "outputs": [],
   "source": [
    "df_rf = H2ORandomForestEstimator(ntrees=50, max_depth=10, nfolds=5, keep_cross_validation_predictions=True, seed = 1)\n",
    "\n",
    "start = time.time()\n",
    "# train the model\n",
    "df_rf.train(x = predictors3, y = response, training_frame = hf_train)\n",
    "end = time.time()\n",
    "print(end - start)"
   ]
  },
  {
   "cell_type": "code",
   "execution_count": null,
   "metadata": {},
   "outputs": [],
   "source": [
    "# classification report\n",
    "y_true = y_test\n",
    "y_pred = df_rf.predict(hf_test)\n",
    "y_pred = y_pred.as_data_frame()\n",
    "\n",
    "print(classification_report(y_true, y_pred['predict'], labels=[0,1]))\n",
    "\n",
    "# performance metrics\n",
    "model_perf_stats(df_rf, hf_train, hf_test)\n",
    "\n",
    "# training auc plot\n",
    "performance = df_rf.model_performance(train=True)\n",
    "performance.plot();\n",
    "\n",
    "# cross validation\n",
    "\n",
    "# AUC of cross-validated holdout predictions\n",
    "df_rf.auc(xval=True)"
   ]
  },
  {
   "cell_type": "code",
   "execution_count": null,
   "metadata": {},
   "outputs": [],
   "source": [
    "# Variable Importance\n",
    "\n",
    "df_rf.varimp(use_pandas=True)"
   ]
  },
  {
   "cell_type": "code",
   "execution_count": null,
   "metadata": {},
   "outputs": [],
   "source": []
  }
 ],
 "metadata": {
  "kernelspec": {
   "display_name": "Python 3 (ipykernel)",
   "language": "python",
   "name": "python3"
  },
  "language_info": {
   "codemirror_mode": {
    "name": "ipython",
    "version": 3
   },
   "file_extension": ".py",
   "mimetype": "text/x-python",
   "name": "python",
   "nbconvert_exporter": "python",
   "pygments_lexer": "ipython3",
   "version": "3.8.13"
  },
  "vscode": {
   "interpreter": {
    "hash": "dea3ab459e2e6afbb567de6ad1341081dc87ae4d5246c9bb1bfb1600036de124"
   }
  }
 },
 "nbformat": 4,
 "nbformat_minor": 4
}
