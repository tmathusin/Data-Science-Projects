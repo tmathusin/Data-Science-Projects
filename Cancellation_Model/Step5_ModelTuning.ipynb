{
 "cells": [
  {
   "cell_type": "markdown",
   "metadata": {},
   "source": [
    "# Model Tuning\n",
    "Grid Search Hyperparameter Tuning"
   ]
  },
  {
   "cell_type": "code",
   "execution_count": 1,
   "metadata": {},
   "outputs": [
    {
     "name": "stdout",
     "output_type": "stream",
     "text": [
      "pandas version:1.4.1\n",
      "numpy version:1.22.3\n",
      "h2o version:3.30.0.4\n",
      "sklearn version:1.0.2\n"
     ]
    }
   ],
   "source": [
    "\n",
    "# Reloading\n",
    "%reload_ext autoreload\n",
    "%autoreload 2\n",
    "\n",
    "import pandas as pd\n",
    "print('pandas version:{}'.format(pd.__version__))\n",
    "import numpy as np\n",
    "print('numpy version:{}'.format(np.__version__))\n",
    "import math\n",
    "from datetime import datetime\n",
    "from dgpylib import dg_athena\n",
    "from dgpylib import dg_s3\n",
    "import os\n",
    "import re\n",
    "from matplotlib.ticker import MaxNLocator\n",
    "from matplotlib import pyplot as plt\n",
    "import seaborn as sns\n",
    "from datetime import timedelta\n",
    "from dateutil.relativedelta import relativedelta\n",
    "\n",
    "import sys\n",
    "sys.path.insert(0, '../Modelling')\n",
    "import helper_function2 as hf\n",
    "\n",
    "import sys\n",
    "sys.path.insert(0, '../EDA')\n",
    "import data_integrity_fixer as dint\n",
    "import basicstatsandplotter as bsp\n",
    "import data_imputer as di\n",
    "import data_integrity_fixer as dif\n",
    "import parameters\n",
    "\n",
    "##for modelling\n",
    "import h2o\n",
    "print('h2o version:{}'.format(h2o.__version__))\n",
    "from h2o.estimators import H2OXGBoostEstimator\n",
    "from h2o.grid.grid_search import H2OGridSearch\n",
    "from h2o.estimators.glm import H2OGeneralizedLinearEstimator\n",
    "from h2o.estimators import H2OTargetEncoderEstimator\n",
    "from h2o.estimators import H2ORandomForestEstimator\n",
    "from h2o.estimators.gbm import H2OGradientBoostingEstimator\n",
    "from h2o.tree import H2OTree\n",
    "from h2o.tree import H2ONode\n",
    "from h2o.tree import H2OSplitNode\n",
    "from h2o.tree import H2OLeafNode\n",
    "from h2o.estimators.kmeans import H2OKMeansEstimator\n",
    "\n",
    "#import xgboost as xgb\n",
    "import sklearn\n",
    "import category_encoders as ce\n",
    "print('sklearn version:{}'.format(sklearn.__version__))\n",
    "from sklearn import datasets\n",
    "from sklearn.metrics import mean_squared_error\n",
    "from sklearn import preprocessing\n",
    "from sklearn.model_selection import RandomizedSearchCV, GridSearchCV\n",
    "from sklearn.metrics import roc_auc_score\n",
    "from sklearn.model_selection import StratifiedKFold\n",
    "from datetime import datetime\n",
    "from sklearn.model_selection import train_test_split\n",
    "from sklearn.metrics import classification_report\n",
    "from sklearn.metrics import r2_score\n",
    "from sklearn.preprocessing import PowerTransformer\n",
    "import time\n",
    "import parameters\n",
    "from statsmodels.stats.outliers_influence import variance_inflation_factor\n",
    "\n",
    "import math\n",
    "from h2o.grid.grid_search import H2OGridSearch\n",
    "\n",
    "%run 'functions.ipynb'\n",
    "\n",
    "plt.rcParams['figure.figsize'] = [10, 5]\n",
    "plt.rcParams['figure.dpi'] = 100"
   ]
  },
  {
   "cell_type": "code",
   "execution_count": 2,
   "metadata": {},
   "outputs": [],
   "source": [
    "pd.set_option('display.max_columns', None)\n",
    "pd.set_option('display.max_rows', None)"
   ]
  },
  {
   "cell_type": "code",
   "execution_count": 3,
   "metadata": {},
   "outputs": [],
   "source": [
    "conn_s3 = dg_s3.Connect('dgdatadump/DS&CA/Pricing/02 Projects/2022/Tel_Reg_2.0/Cancellation Model')\n",
    "\n",
    "df_raw12 = conn_s3.read('TelReg_Canx_filt_12mo.csv')\n",
    "df_raw9 = conn_s3.read('TelReg_Canx_filt_9mo.csv')\n",
    "df_raw6 = conn_s3.read('TelReg_Canx_filt_6mo.csv')\n",
    "df_raw3 = conn_s3.read('TelReg_Canx_filt_3mo.csv')"
   ]
  },
  {
   "cell_type": "code",
   "execution_count": 51,
   "metadata": {},
   "outputs": [
    {
     "data": {
      "text/plain": [
       "['offertotalprice',\n",
       " 'TotalPrice',\n",
       " 'PricingVersionDescription',\n",
       " 'PurchasePrice',\n",
       " 'Fee',\n",
       " 'PlanLiveCount',\n",
       " 'PlansActivePast1yrCount',\n",
       " 'PlansActivePast5yrCount',\n",
       " 'PlansAcceptedPast1YearCount',\n",
       " 'PlansAcceptedPast5YearCount',\n",
       " 'PlansCancelledPast1YearCount',\n",
       " 'PlansCancelledPast5YearCount',\n",
       " 'ClaimPast1YearCount',\n",
       " 'ClaimPast3YearCount',\n",
       " 'ClaimPast5YearCount',\n",
       " 'ClaimAmount1YearTotal',\n",
       " 'ClaimAmount3YearTotal',\n",
       " 'ClaimAmount5YearTotal',\n",
       " 'GoodsColour',\n",
       " 'ClientGroupDesc',\n",
       " 'ClientAccountDesc',\n",
       " 'RouteToMarketName',\n",
       " 'ManufacturerGuaranteeLabourMonths',\n",
       " 'ManufacturerGuaranteePartsMonths',\n",
       " 'ApplianceCode',\n",
       " 'ClientGroupCode',\n",
       " 'ClientCode',\n",
       " 'ManufacturerBrandCode',\n",
       " 'price_diff',\n",
       " 'price_band',\n",
       " 'HasPrevRTPPrice',\n",
       " 'AppAge',\n",
       " 'relFee',\n",
       " 'relFeeInc',\n",
       " 'cancelflag',\n",
       " 'HPI_AveragePrice',\n",
       " 'HPI_SalesVolume',\n",
       " 'ONS_avg_age',\n",
       " 'ONS_avg_distance_travelled_to_work(km)',\n",
       " 'ONS_%people_working_FT',\n",
       " 'ONS_%people_working_49+',\n",
       " 'ONS_%people_working_sum',\n",
       " 'ONS_avg_household_size',\n",
       " 'ONS_n_households',\n",
       " 'ONS_avg_dependent_children_per_family',\n",
       " 'ONS_n_families',\n",
       " 'ONS_n_families/n_households',\n",
       " 'ONS_avg_bedrooms',\n",
       " 'ONS_avg_rooms',\n",
       " 'ONS_bedrooms per rooms',\n",
       " 'ONS_population',\n",
       " 'ONS_population_density',\n",
       " 'ONS_occupation_rate',\n",
       " 'ONS_n_families_per_population']"
      ]
     },
     "execution_count": 51,
     "metadata": {},
     "output_type": "execute_result"
    }
   ],
   "source": [
    "df_raw9.columns.to_list()"
   ]
  },
  {
   "cell_type": "code",
   "execution_count": 4,
   "metadata": {},
   "outputs": [],
   "source": [
    "data_list = ['df_raw3', 'df_raw6', 'df_raw9', 'df_raw12']\n",
    "data_set = [df_raw3, df_raw6, df_raw9, df_raw12]"
   ]
  },
  {
   "cell_type": "code",
   "execution_count": 5,
   "metadata": {},
   "outputs": [],
   "source": [
    "# read feature importance performance pickle\n",
    "feat_imp_performance_df = pd.read_pickle(\"feat_imp_performance_df.pkl\")\n",
    "# read model performance pickle\n",
    "performance_df = pd.read_pickle(\"performance_df.pkl\")"
   ]
  },
  {
   "cell_type": "code",
   "execution_count": 6,
   "metadata": {},
   "outputs": [],
   "source": [
    "# assign value for each row corresponding to dataset\n",
    "tuned_performance_df = pd.DataFrame(columns =['name', 'varimp', 'feats_stored_gbm', 'perf_metrics','classif_rep', 'xval_auc', 'xval_metrics']\n",
    "                                    )\n",
    "tuned_performance_df['name']=data_list"
   ]
  },
  {
   "cell_type": "code",
   "execution_count": 7,
   "metadata": {},
   "outputs": [
    {
     "name": "stdout",
     "output_type": "stream",
     "text": [
      "df_raw3: 357058\n",
      "df_raw6: 270538\n",
      "df_raw9: 167819\n",
      "df_raw12: 66895\n"
     ]
    }
   ],
   "source": [
    "for i in range(len(data_set)):\n",
    "    print(f'{data_list[i]}: {data_set[i].shape[0]}')"
   ]
  },
  {
   "cell_type": "code",
   "execution_count": 8,
   "metadata": {},
   "outputs": [
    {
     "name": "stdout",
     "output_type": "stream",
     "text": [
      "dataset: df_raw9\n",
      "predictors: ['PlansAcceptedPast1YearCount', 'PlanLiveCount', 'AppAge', 'ONS_%people_working_FT', 'ManufacturerBrandCode', 'ClientAccountDesc', 'ONS_avg_age', 'ApplianceCode', 'PlansAcceptedPast5YearCount', 'PurchasePrice', 'ClientGroupDesc', 'GoodsColour', 'ONS_avg_dependent_children_per_family', 'ONS_n_families_per_population', 'ONS_%people_working_49+', 'ONS_avg_bedrooms', 'ONS_avg_rooms', 'relFee', 'HPI_SalesVolume', 'ONS_occupation_rate']\n",
      "number of predictors: 20\n"
     ]
    }
   ],
   "source": [
    "# for 12/9/6/3-month journey\n",
    "idx = 2\n",
    "predictors = performance_df.loc[idx, 'feats_stored_gbm']\n",
    "response = 'cancelflag'\n",
    "dataset = performance_df.loc[idx, 'name']\n",
    "print(f'dataset: {dataset}')\n",
    "print(f'predictors: {predictors}')\n",
    "print(f'number of predictors: {len(predictors)}')"
   ]
  },
  {
   "cell_type": "code",
   "execution_count": 9,
   "metadata": {},
   "outputs": [],
   "source": [
    "# h2o.shutdown()"
   ]
  },
  {
   "cell_type": "code",
   "execution_count": 10,
   "metadata": {},
   "outputs": [
    {
     "name": "stdout",
     "output_type": "stream",
     "text": [
      "Checking whether there is an H2O instance running at http://localhost:54321 ..... not found.\n",
      "Attempting to start a local H2O server...\n",
      "  Java Version: openjdk version \"11.0.9.1-internal\" 2020-11-04; OpenJDK Runtime Environment (build 11.0.9.1-internal+0-adhoc..src); OpenJDK 64-Bit Server VM (build 11.0.9.1-internal+0-adhoc..src, mixed mode)\n",
      "  Starting server from /home/ubuntu/anaconda3/envs/ahmad_env/lib/python3.8/site-packages/h2o/backend/bin/h2o.jar\n",
      "  Ice root: /tmp/tmpj3_yngzv\n",
      "  JVM stdout: /tmp/tmpj3_yngzv/h2o_ubuntu_started_from_python.out\n",
      "  JVM stderr: /tmp/tmpj3_yngzv/h2o_ubuntu_started_from_python.err\n",
      "  Server is running at http://127.0.0.1:54321\n",
      "Connecting to H2O server at http://127.0.0.1:54321 ... successful.\n",
      "Warning: Your H2O cluster version is too old (2 years, 3 months and 10 days)! Please download and install the latest version from http://h2o.ai/download/\n"
     ]
    },
    {
     "data": {
      "text/html": [
       "<div style=\"overflow:auto\"><table style=\"width:50%\"><tr><td>H2O_cluster_uptime:</td>\n",
       "<td>01 secs</td></tr>\n",
       "<tr><td>H2O_cluster_timezone:</td>\n",
       "<td>Etc/UTC</td></tr>\n",
       "<tr><td>H2O_data_parsing_timezone:</td>\n",
       "<td>UTC</td></tr>\n",
       "<tr><td>H2O_cluster_version:</td>\n",
       "<td>3.30.0.4</td></tr>\n",
       "<tr><td>H2O_cluster_version_age:</td>\n",
       "<td>2 years, 3 months and 10 days !!!</td></tr>\n",
       "<tr><td>H2O_cluster_name:</td>\n",
       "<td>H2O_from_python_ubuntu_scop8r</td></tr>\n",
       "<tr><td>H2O_cluster_total_nodes:</td>\n",
       "<td>1</td></tr>\n",
       "<tr><td>H2O_cluster_free_memory:</td>\n",
       "<td>29.97 Gb</td></tr>\n",
       "<tr><td>H2O_cluster_total_cores:</td>\n",
       "<td>16</td></tr>\n",
       "<tr><td>H2O_cluster_allowed_cores:</td>\n",
       "<td>16</td></tr>\n",
       "<tr><td>H2O_cluster_status:</td>\n",
       "<td>accepting new members, healthy</td></tr>\n",
       "<tr><td>H2O_connection_url:</td>\n",
       "<td>http://127.0.0.1:54321</td></tr>\n",
       "<tr><td>H2O_connection_proxy:</td>\n",
       "<td>{\"http\": null, \"https\": null}</td></tr>\n",
       "<tr><td>H2O_internal_security:</td>\n",
       "<td>False</td></tr>\n",
       "<tr><td>H2O_API_Extensions:</td>\n",
       "<td>Amazon S3, XGBoost, Algos, AutoML, Core V3, TargetEncoder, Core V4</td></tr>\n",
       "<tr><td>Python_version:</td>\n",
       "<td>3.8.13 final</td></tr></table></div>"
      ],
      "text/plain": [
       "--------------------------  ------------------------------------------------------------------\n",
       "H2O_cluster_uptime:         01 secs\n",
       "H2O_cluster_timezone:       Etc/UTC\n",
       "H2O_data_parsing_timezone:  UTC\n",
       "H2O_cluster_version:        3.30.0.4\n",
       "H2O_cluster_version_age:    2 years, 3 months and 10 days !!!\n",
       "H2O_cluster_name:           H2O_from_python_ubuntu_scop8r\n",
       "H2O_cluster_total_nodes:    1\n",
       "H2O_cluster_free_memory:    29.97 Gb\n",
       "H2O_cluster_total_cores:    16\n",
       "H2O_cluster_allowed_cores:  16\n",
       "H2O_cluster_status:         accepting new members, healthy\n",
       "H2O_connection_url:         http://127.0.0.1:54321\n",
       "H2O_connection_proxy:       {\"http\": null, \"https\": null}\n",
       "H2O_internal_security:      False\n",
       "H2O_API_Extensions:         Amazon S3, XGBoost, Algos, AutoML, Core V3, TargetEncoder, Core V4\n",
       "Python_version:             3.8.13 final\n",
       "--------------------------  ------------------------------------------------------------------"
      ]
     },
     "metadata": {},
     "output_type": "display_data"
    }
   ],
   "source": [
    "h2o.init()"
   ]
  },
  {
   "cell_type": "code",
   "execution_count": 11,
   "metadata": {},
   "outputs": [
    {
     "name": "stdout",
     "output_type": "stream",
     "text": [
      "Parse progress: |█████████████████████████████████████████████████████████| 100%\n"
     ]
    }
   ],
   "source": [
    "df = data_set[idx].copy()\n",
    "# for i in df.columns:\n",
    "#     df[i] = df[i].astype('category')\n",
    "    \n",
    "hf_df = h2o.H2OFrame(df)\n",
    "\n",
    "hf_train, hf_valid, hf_test = hf_df.split_frame(\n",
    "    ratios=[0.4,0.3], \n",
    "    seed=1234, \n",
    "    destination_frames=['train.hex','valid.hex','test.hex']\n",
    ")"
   ]
  },
  {
   "cell_type": "code",
   "execution_count": 13,
   "metadata": {},
   "outputs": [
    {
     "data": {
      "text/plain": [
       "((67240, 54), (50342, 54), (50237, 54))"
      ]
     },
     "execution_count": 13,
     "metadata": {},
     "output_type": "execute_result"
    }
   ],
   "source": [
    "hf_train.shape, hf_valid.shape, hf_test.shape"
   ]
  },
  {
   "cell_type": "code",
   "execution_count": 14,
   "metadata": {},
   "outputs": [],
   "source": [
    "## format response into a categorical/factor for binary classification\n",
    "hf_df['cancelflag']=hf_df['cancelflag'].asfactor()\n",
    "\n",
    "hf_train['cancelflag']=hf_train['cancelflag'].asfactor()\n",
    "hf_test['cancelflag']=hf_test['cancelflag'].asfactor()\n",
    "hf_valid['cancelflag']=hf_valid['cancelflag'].asfactor()"
   ]
  },
  {
   "cell_type": "markdown",
   "metadata": {},
   "source": [
    "## Base Model"
   ]
  },
  {
   "cell_type": "code",
   "execution_count": 15,
   "metadata": {},
   "outputs": [
    {
     "name": "stdout",
     "output_type": "stream",
     "text": [
      "gbm Model Build progress: |███████████████████████████████████████████████| 100%\n",
      "gbm prediction progress: |████████████████████████████████████████████████| 100%\n",
      "              precision    recall  f1-score   support\n",
      "\n",
      "           0       0.84      0.58      0.68     40073\n",
      "           1       0.25      0.57      0.35     10164\n",
      "\n",
      "    accuracy                           0.58     50237\n",
      "   macro avg       0.55      0.57      0.52     50237\n",
      "weighted avg       0.72      0.58      0.62     50237\n",
      "\n",
      "MCC: 0.20518 / 0.14160\n",
      "F1: 0.38807 / 0.35752\n",
      "AUC: 0.65745 / 0.61286\n",
      "AUC PR: 0.37735 / 0.30999\n",
      "Accuracy: 0.80579 / 0.80489\n",
      "Logloss: 0.47701 / 0.48240\n"
     ]
    }
   ],
   "source": [
    "#We only provide the required parameters, everything else is default\n",
    "gbm = H2OGradientBoostingEstimator()\n",
    "gbm.train(x=predictors, y=response, training_frame=hf_train)\n",
    "\n",
    "\n",
    "y_test = hf_test.as_data_frame()\n",
    "y_test=y_test['cancelflag']\n",
    "\n",
    "# classification report\n",
    "y_true = y_test\n",
    "y_pred = gbm.predict(hf_test)\n",
    "y_pred = y_pred.as_data_frame()\n",
    "\n",
    "print(classification_report(y_true, y_pred['predict'], labels=[0,1]))\n",
    "print_model_perf_stats(gbm, hf_train, hf_valid)"
   ]
  },
  {
   "cell_type": "code",
   "execution_count": 16,
   "metadata": {},
   "outputs": [
    {
     "name": "stdout",
     "output_type": "stream",
     "text": [
      "0.6128554008204605\n"
     ]
    }
   ],
   "source": [
    "perf_base= gbm.model_performance(hf_valid)\n",
    "print(perf_base.auc())"
   ]
  },
  {
   "cell_type": "code",
   "execution_count": null,
   "metadata": {},
   "outputs": [],
   "source": [
    "# path = 'GBM_cancellation_model_3mo_not_tuned'\n",
    "# gbm.save_mojo(path)"
   ]
  },
  {
   "cell_type": "code",
   "execution_count": 17,
   "metadata": {},
   "outputs": [
    {
     "name": "stdout",
     "output_type": "stream",
     "text": [
      "gbm Model Build progress: |███████████████████████████████████████████████| 100%\n"
     ]
    }
   ],
   "source": [
    "  gbm_lucky = H2OGradientBoostingEstimator(\n",
    "    ## more trees is better if the learning rate is small enough \n",
    "    ## here, use \"more than enough\" trees - we have early stopping\n",
    "    ntrees = 10000,                                                            \n",
    "\n",
    "    ## smaller learning rate is better (this is a good value for most datasets, but see below for annealing)\n",
    "    learn_rate = 0.01,                                                         \n",
    "\n",
    "    ## early stopping once the validation AUC doesn't improve by at least 0.01% for 5 consecutive scoring events\n",
    "    stopping_rounds = 5, stopping_tolerance = 1e-4, stopping_metric = \"AUC\", \n",
    "\n",
    "    ## sample 80% of rows per tree\n",
    "    sample_rate = 0.8,                                                       \n",
    "\n",
    "    ## sample 80% of columns per split\n",
    "    col_sample_rate = 0.8,                                                   \n",
    "\n",
    "    ## fix a random number generator seed for reproducibility\n",
    "    seed = 1234,                                                             \n",
    "\n",
    "    ## score every 10 trees to make early stopping reproducible (it depends on the scoring interval)\n",
    "    score_tree_interval = 10)\n",
    "\n",
    "  gbm_lucky.train(x=predictors, y=response, training_frame=hf_train, validation_frame=hf_valid)"
   ]
  },
  {
   "cell_type": "code",
   "execution_count": 18,
   "metadata": {},
   "outputs": [
    {
     "name": "stdout",
     "output_type": "stream",
     "text": [
      "0.6393392538793843\n"
     ]
    }
   ],
   "source": [
    "perf_lucky = gbm_lucky.model_performance(hf_valid)\n",
    "print(perf_lucky.auc())"
   ]
  },
  {
   "cell_type": "code",
   "execution_count": null,
   "metadata": {},
   "outputs": [],
   "source": []
  },
  {
   "cell_type": "markdown",
   "metadata": {},
   "source": [
    "## Hyper-Parameter Search"
   ]
  },
  {
   "cell_type": "code",
   "execution_count": 19,
   "metadata": {},
   "outputs": [
    {
     "name": "stdout",
     "output_type": "stream",
     "text": [
      "Parse progress: |█████████████████████████████████████████████████████████| 100%\n",
      "Parse progress: |█████████████████████████████████████████████████████████| 100%\n"
     ]
    }
   ],
   "source": [
    "df = data_set[idx].copy()\n",
    "response = 'cancelflag'\n",
    "\n",
    "# convert columns to factors\n",
    "# for i in data_set[idx].columns[0:]:\n",
    "#     df[i] = data_set[idx][i].astype('category')\n",
    "\n",
    "# re train test split\n",
    "x_train, x_test, y_train, y_test = train_test_split(df[predictors], df[response], test_size = 0.5, random_state = 1234)\n",
    "train = pd.concat([x_train, y_train], axis=1)\n",
    "test = pd.concat([x_test, y_test], axis=1)\n",
    "\n",
    "# preserve training & test data's index to be used as a key to merge prediction probability with main dataset \n",
    "xtrain_index = x_train.index\n",
    "xtest_index = x_test.index\n",
    "\n",
    "# convert to h2o dataframe format\n",
    "hf_train = h2o.H2OFrame(train)\n",
    "hf_test = h2o.H2OFrame(test)\n",
    "\n",
    "# format target to fit the model\n",
    "hf_train['cancelflag']=hf_train['cancelflag'].asfactor()\n",
    "hf_test['cancelflag']=hf_test['cancelflag'].asfactor()"
   ]
  },
  {
   "cell_type": "markdown",
   "metadata": {},
   "source": [
    "### Find Max Depth"
   ]
  },
  {
   "cell_type": "code",
   "execution_count": 20,
   "metadata": {},
   "outputs": [
    {
     "name": "stdout",
     "output_type": "stream",
     "text": [
      "gbm Grid Build progress: |████████████████████████████████████████████████| 100%\n"
     ]
    }
   ],
   "source": [
    "## Depth 10 is usually plenty of depth for most datasets, but you never know\n",
    "\n",
    "hyper_params = {'max_depth' : [4,6,8,12,16,20]}\n",
    "#faster for larger datasets\n",
    "# hyper_params = {'max_depth' : list(range(1,10,2))}\n",
    "\n",
    "#Build initial GBM Model\n",
    "gbm_grid = H2OGradientBoostingEstimator(\n",
    "        # keep_cross_validation_predictions=True, \n",
    "        ## more trees is better if the learning rate is small enough \n",
    "        ## here, use \"more than enough\" trees - we have early stopping\n",
    "        ntrees=10000,\n",
    "        ## smaller learning rate is better\n",
    "        ## since we have learning_rate_annealing, we can afford to start with a \n",
    "        #bigger learning rate\n",
    "        learn_rate=0.05,\n",
    "        ## learning rate annealing: learning_rate shrinks by 1% after every tree \n",
    "        ## (use 1.00 to disable, but then lower the learning_rate)\n",
    "        learn_rate_annealing = 0.99,\n",
    "        ## sample 80% of rows per tree\n",
    "        sample_rate = 0.8,\n",
    "        ## sample 80% of columns per split\n",
    "        col_sample_rate = 0.8,\n",
    "        ## fix a random number generator seed for reproducibility\n",
    "        seed = 1234,\n",
    "        ## score every 10 trees to make early stopping reproducible \n",
    "        #(it depends on the scoring interval)\n",
    "        score_tree_interval = 10, \n",
    "        ## early stopping once the validation AUC doesn't improve by at least 0.01% for \n",
    "        #5 consecutive scoring events\n",
    "        stopping_rounds = 5,\n",
    "        stopping_metric = \"AUC\",\n",
    "        stopping_tolerance = 1e-4)\n",
    "\n",
    "#Build grid search with previously made GBM and hyper parameters\n",
    "grid = H2OGridSearch(gbm_grid,hyper_params, grid_id = 'depth_grid', search_criteria = {'strategy': \"Cartesian\"})\n",
    "\n",
    " \n",
    "#Train grid search\n",
    "grid.train(x=predictors, y=response, training_frame = hf_train, validation_frame = hf_test)"
   ]
  },
  {
   "cell_type": "code",
   "execution_count": 21,
   "metadata": {},
   "outputs": [
    {
     "name": "stdout",
     "output_type": "stream",
     "text": [
      "    max_depth           model_ids              logloss\n",
      "0          16  depth_grid_model_5  0.46551045770340443\n",
      "1          20  depth_grid_model_6  0.46904038143734295\n",
      "2          12  depth_grid_model_4   0.4720088722208109\n",
      "3           8  depth_grid_model_3  0.48126246799962696\n",
      "4           6  depth_grid_model_2   0.4844569572760149\n",
      "5           4  depth_grid_model_1  0.48718218911501737\n",
      "\n"
     ]
    }
   ],
   "source": [
    "## display the grid search results sorted by increasing logloss \n",
    "print(grid)"
   ]
  },
  {
   "cell_type": "code",
   "execution_count": 22,
   "metadata": {},
   "outputs": [
    {
     "name": "stdout",
     "output_type": "stream",
     "text": [
      "    max_depth           model_ids                 auc\n",
      "0          20  depth_grid_model_6   0.683160966007034\n",
      "1          16  depth_grid_model_5   0.677637975334741\n",
      "2          12  depth_grid_model_4  0.6597153719144156\n",
      "3           8  depth_grid_model_3  0.6286159929184442\n",
      "4           6  depth_grid_model_2  0.6165481721737709\n",
      "5           4  depth_grid_model_1  0.6074174952535651\n",
      "\n"
     ]
    }
   ],
   "source": [
    "## sort the grid models by decreasing AUC\n",
    "sorted_grid = grid.get_grid(sort_by='auc',decreasing=True)\n",
    "print(sorted_grid)"
   ]
  },
  {
   "cell_type": "markdown",
   "metadata": {},
   "source": [
    "--- BREAK --"
   ]
  },
  {
   "cell_type": "markdown",
   "metadata": {},
   "source": [
    "### Grid Search"
   ]
  },
  {
   "cell_type": "code",
   "execution_count": 23,
   "metadata": {},
   "outputs": [
    {
     "name": "stdout",
     "output_type": "stream",
     "text": [
      "MaxDepth 20\n",
      "MinDepth 12\n"
     ]
    }
   ],
   "source": [
    "max_depths = sorted_grid.sorted_metric_table()['max_depth'][0:3]\n",
    "new_max = int(max(max_depths, key=int))\n",
    "new_min = int(min(max_depths, key=int))\n",
    "\n",
    "print(\"MaxDepth\", new_max)\n",
    "print(\"MinDepth\", new_min)"
   ]
  },
  {
   "cell_type": "code",
   "execution_count": 24,
   "metadata": {},
   "outputs": [],
   "source": [
    "# create hyperameter and search criteria lists (ranges are inclusive..exclusive))\n",
    "hyper_params_tune = {'max_depth' : list(range(new_min,new_max+1,1)),\n",
    "                'sample_rate': [x/100. for x in range(20,101)],\n",
    "                'col_sample_rate' : [x/100. for x in range(20,101)],\n",
    "                'col_sample_rate_per_tree': [x/100. for x in range(20,101)],\n",
    "                'col_sample_rate_change_per_level': [x/100. for x in range(90,111)],\n",
    "                'min_rows': [2**x for x in range(0,int(math.log(hf_train.nrow,2)-1)+1)],\n",
    "                'nbins': [2**x for x in range(4,11)],\n",
    "                'nbins_cats': [2**x for x in range(4,13)],\n",
    "                'min_split_improvement': [0,1e-8,1e-6,1e-4],\n",
    "                'histogram_type': [\"UniformAdaptive\",\"QuantilesGlobal\",\"RoundRobin\"]}\n",
    "search_criteria_tune = {'strategy': \"RandomDiscrete\",\n",
    "                   'max_runtime_secs': 300,  ## limit the runtime to 60 minutes\n",
    "                   'max_models': 100,  ## build no more than 100 models\n",
    "                   'seed' : 1234,\n",
    "                   'stopping_rounds' : 5,\n",
    "                   'stopping_metric' : \"AUC\",\n",
    "                   'stopping_tolerance': 1e-3\n",
    "                   }"
   ]
  },
  {
   "cell_type": "code",
   "execution_count": 38,
   "metadata": {},
   "outputs": [
    {
     "name": "stdout",
     "output_type": "stream",
     "text": [
      "gbm Grid Build progress: |████████████████████████████████████████████████| 100%\n",
      "    col_sample_rate col_sample_rate_change_per_level col_sample_rate_per_tree  \\\n",
      "0               0.5                             1.02                     0.65   \n",
      "1               0.5                             1.02                     0.65   \n",
      "\n",
      "  histogram_type max_depth min_rows min_split_improvement nbins nbins_cats  \\\n",
      "0     RoundRobin        19      8.0                1.0E-8   512        512   \n",
      "1     RoundRobin        19      8.0                1.0E-8   512        512   \n",
      "\n",
      "  sample_rate           model_ids              logloss  \n",
      "0        0.64  final_grid_model_2  0.32393161733312825  \n",
      "1        0.64  final_grid_model_1   0.4550380124243037  \n",
      "\n"
     ]
    }
   ],
   "source": [
    "gbm_final_grid = H2OGradientBoostingEstimator(\n",
    "                    keep_cross_validation_predictions=True, \n",
    "                    distribution='bernoulli',\n",
    "                    ## more trees is better if the learning rate is small enough \n",
    "                    ## here, use \"more than enough\" trees - we have early stopping\n",
    "                    ntrees=10000,\n",
    "                    ## smaller learning rate is better\n",
    "                    ## since we have learning_rate_annealing, we can afford to start with a \n",
    "                    #bigger learning rate\n",
    "                    learn_rate=0.05,\n",
    "                    ## learning rate annealing: learning_rate shrinks by 1% after every tree \n",
    "                    ## (use 1.00 to disable, but then lower the learning_rate)\n",
    "                    learn_rate_annealing = 0.99,\n",
    "                    ## score every 10 trees to make early stopping reproducible \n",
    "                    #(it depends on the scoring interval)\n",
    "                    score_tree_interval = 10,\n",
    "                    ## fix a random number generator seed for reproducibility\n",
    "                    seed = 1234,\n",
    "                    ## early stopping once the validation AUC doesn't improve by at least 0.01% for \n",
    "                    #5 consecutive scoring events\n",
    "                    stopping_rounds = 5,\n",
    "                    stopping_metric = \"AUC\",\n",
    "                    stopping_tolerance = 1e-4)\n",
    "            \n",
    "#Build grid search with previously made GBM and hyper parameters\n",
    "final_grid = H2OGridSearch(gbm_final_grid, hyper_params = hyper_params_tune,\n",
    "                                    grid_id = 'final_grid',\n",
    "                                    search_criteria = search_criteria_tune)\n",
    "#Train grid search\n",
    "final_grid.train(x=predictors, \n",
    "           y=response,\n",
    "           ## early stopping based on timeout (no model should take more than 1 hour - modify as needed)\n",
    "           max_runtime_secs = 360, \n",
    "           training_frame = hf_train,\n",
    "           validation_frame = hf_valid)\n",
    "\n",
    "print(final_grid)"
   ]
  },
  {
   "cell_type": "code",
   "execution_count": 39,
   "metadata": {},
   "outputs": [
    {
     "name": "stdout",
     "output_type": "stream",
     "text": [
      "    col_sample_rate col_sample_rate_change_per_level col_sample_rate_per_tree  \\\n",
      "0               0.5                             1.02                     0.65   \n",
      "1               0.5                             1.02                     0.65   \n",
      "\n",
      "  histogram_type max_depth min_rows min_split_improvement nbins nbins_cats  \\\n",
      "0     RoundRobin        19      8.0                1.0E-8   512        512   \n",
      "1     RoundRobin        19      8.0                1.0E-8   512        512   \n",
      "\n",
      "  sample_rate           model_ids                auc  \n",
      "0        0.64  final_grid_model_2  0.883938701390189  \n",
      "1        0.64  final_grid_model_1  0.703833228011264  \n",
      "\n"
     ]
    }
   ],
   "source": [
    "## Sort the grid models by AUC\n",
    "sorted_final_grid = final_grid.get_grid(sort_by='auc',decreasing=True)\n",
    "\n",
    "print(sorted_final_grid)"
   ]
  },
  {
   "cell_type": "markdown",
   "metadata": {},
   "source": [
    "## Model Inspection and Final Test Set Scoring"
   ]
  },
  {
   "cell_type": "code",
   "execution_count": 40,
   "metadata": {},
   "outputs": [
    {
     "name": "stdout",
     "output_type": "stream",
     "text": [
      "0.7038443139962371\n"
     ]
    }
   ],
   "source": [
    "#Get the best model from the list (the model name listed at the top of the table)\n",
    "best_model = h2o.get_model(sorted_final_grid.sorted_metric_table()['model_ids'][0])\n",
    "performance_best_model = best_model.model_performance(hf_test)\n",
    "print(performance_best_model.auc())"
   ]
  },
  {
   "cell_type": "code",
   "execution_count": 41,
   "metadata": {},
   "outputs": [
    {
     "data": {
      "text/plain": [
       "[\"model_id = {'__meta': {'schema_version': 3, 'schema_name': 'ModelKeyV3', 'schema_type': 'Key<Model>'}, 'name': 'final_grid_model_2', 'type': 'Key<Model>', 'URL': '/3/Models/final_grid_model_2'}\",\n",
       " \"training_frame = {'__meta': {'schema_version': 3, 'schema_name': 'FrameKeyV3', 'schema_type': 'Key<Frame>'}, 'name': 'py_8_sid_9510', 'type': 'Key<Frame>', 'URL': '/3/Frames/py_8_sid_9510'}\",\n",
       " \"validation_frame = {'__meta': {'schema_version': 3, 'schema_name': 'FrameKeyV3', 'schema_type': 'Key<Frame>'}, 'name': 'py_7_sid_9510', 'type': 'Key<Frame>', 'URL': '/3/Frames/py_7_sid_9510'}\",\n",
       " 'nfolds = 0',\n",
       " 'keep_cross_validation_models = True',\n",
       " 'keep_cross_validation_predictions = True',\n",
       " 'keep_cross_validation_fold_assignment = False',\n",
       " 'score_each_iteration = False',\n",
       " 'score_tree_interval = 10',\n",
       " 'fold_assignment = AUTO',\n",
       " 'fold_column = None',\n",
       " \"response_column = {'__meta': {'schema_version': 3, 'schema_name': 'ColSpecifierV3', 'schema_type': 'VecSpecifier'}, 'column_name': 'cancelflag', 'is_member_of_frames': None}\",\n",
       " 'ignored_columns = None',\n",
       " 'ignore_const_cols = True',\n",
       " 'offset_column = None',\n",
       " 'weights_column = None',\n",
       " 'balance_classes = False',\n",
       " 'class_sampling_factors = None',\n",
       " 'max_after_balance_size = 5.0',\n",
       " 'max_confusion_matrix_size = 20',\n",
       " 'max_hit_ratio_k = 0',\n",
       " 'ntrees = 10000',\n",
       " 'max_depth = 19',\n",
       " 'min_rows = 8.0',\n",
       " 'nbins = 512',\n",
       " 'nbins_top_level = 1024',\n",
       " 'nbins_cats = 512',\n",
       " 'r2_stopping = 1.7976931348623157e+308',\n",
       " 'stopping_rounds = 5',\n",
       " 'stopping_metric = AUC',\n",
       " 'stopping_tolerance = 0.0001',\n",
       " 'max_runtime_secs = 300.0',\n",
       " 'seed = 1234',\n",
       " 'build_tree_one_node = False',\n",
       " 'learn_rate = 0.05',\n",
       " 'learn_rate_annealing = 0.99',\n",
       " 'distribution = bernoulli',\n",
       " 'quantile_alpha = 0.5',\n",
       " 'tweedie_power = 1.5',\n",
       " 'huber_alpha = 0.9',\n",
       " 'checkpoint = None',\n",
       " 'sample_rate = 0.64',\n",
       " 'sample_rate_per_class = None',\n",
       " 'col_sample_rate = 0.5',\n",
       " 'col_sample_rate_change_per_level = 1.02',\n",
       " 'col_sample_rate_per_tree = 0.65',\n",
       " 'min_split_improvement = 1e-08',\n",
       " 'histogram_type = RoundRobin',\n",
       " 'max_abs_leafnode_pred = 1.7976931348623157e+308',\n",
       " 'pred_noise_bandwidth = 0.0',\n",
       " 'categorical_encoding = AUTO',\n",
       " 'calibrate_model = False',\n",
       " 'calibration_frame = None',\n",
       " 'custom_metric_func = None',\n",
       " 'custom_distribution_func = None',\n",
       " 'export_checkpoints_dir = None',\n",
       " 'monotone_constraints = None',\n",
       " 'check_constant_response = True']"
      ]
     },
     "execution_count": 41,
     "metadata": {},
     "output_type": "execute_result"
    }
   ],
   "source": [
    "# inspect the winning model's parameters\n",
    "params_list = []\n",
    "for key, value in best_model.params.items():\n",
    "    params_list.append(str(key)+\" = \"+str(value['actual']))\n",
    "params_list"
   ]
  },
  {
   "cell_type": "markdown",
   "metadata": {},
   "source": [
    "### Cross Validation on the whole dataset"
   ]
  },
  {
   "cell_type": "code",
   "execution_count": 42,
   "metadata": {},
   "outputs": [],
   "source": [
    "# Build a GBM model on the whole dataset (instead of the 60%) and using internal 5-fold cross-validation (re-using all other parameters including the seed)\n",
    "gbm = h2o.get_model(sorted_final_grid.sorted_metric_table()['model_ids'][0])\n",
    "\n",
    "#get the parameters from the Random grid search model and modify them slightly\n",
    "params = gbm.params\n",
    "new_params = {\"nfolds\":5, \"model_id\":None, \"training_frame\":None, \"validation_frame\":None, \n",
    "              \"response_column\":None, \"ignored_columns\":None}\n",
    "for key in new_params.keys():\n",
    "    params[key]['actual'] = new_params[key] \n",
    "gbm_best = H2OGradientBoostingEstimator()\n",
    "for key in params.keys():\n",
    "    if key in dir(gbm_best) and getattr(gbm_best,key) != params[key]['actual']:\n",
    "        setattr(gbm_best,key,params[key]['actual'])"
   ]
  },
  {
   "cell_type": "code",
   "execution_count": null,
   "metadata": {},
   "outputs": [],
   "source": [
    "# params['class_sampling_factors']"
   ]
  },
  {
   "cell_type": "code",
   "execution_count": null,
   "metadata": {},
   "outputs": [],
   "source": [
    "# df = data_set[idx].copy()\n",
    "# for i in df.columns:\n",
    "#     df[i] = df[i].astype('category')\n",
    "    \n",
    "# hf_df = h2o.H2OFrame(df)"
   ]
  },
  {
   "cell_type": "code",
   "execution_count": 43,
   "metadata": {},
   "outputs": [
    {
     "name": "stdout",
     "output_type": "stream",
     "text": [
      "gbm Model Build progress: |███████████████████████████████████████████████| 100%\n",
      "296.66517448425293\n"
     ]
    }
   ],
   "source": [
    "# train GBM model on the whole dataset\n",
    "start = time.time()\n",
    "gbm_best.train(x=predictors, y=response, training_frame=hf_df)\n",
    "end = time.time()\n",
    "print(end - start)"
   ]
  },
  {
   "cell_type": "code",
   "execution_count": 44,
   "metadata": {},
   "outputs": [
    {
     "name": "stdout",
     "output_type": "stream",
     "text": [
      "\n",
      "Cross-Validation Metrics Summary: \n"
     ]
    },
    {
     "data": {
      "text/html": [
       "<div>\n",
       "<style scoped>\n",
       "    .dataframe tbody tr th:only-of-type {\n",
       "        vertical-align: middle;\n",
       "    }\n",
       "\n",
       "    .dataframe tbody tr th {\n",
       "        vertical-align: top;\n",
       "    }\n",
       "\n",
       "    .dataframe thead th {\n",
       "        text-align: right;\n",
       "    }\n",
       "</style>\n",
       "<table border=\"1\" class=\"dataframe\">\n",
       "  <thead>\n",
       "    <tr style=\"text-align: right;\">\n",
       "      <th></th>\n",
       "      <th></th>\n",
       "      <th>mean</th>\n",
       "      <th>sd</th>\n",
       "      <th>cv_1_valid</th>\n",
       "      <th>cv_2_valid</th>\n",
       "      <th>cv_3_valid</th>\n",
       "      <th>cv_4_valid</th>\n",
       "      <th>cv_5_valid</th>\n",
       "    </tr>\n",
       "  </thead>\n",
       "  <tbody>\n",
       "    <tr>\n",
       "      <th>0</th>\n",
       "      <td>accuracy</td>\n",
       "      <td>0.74399304</td>\n",
       "      <td>0.012591192</td>\n",
       "      <td>0.72649217</td>\n",
       "      <td>0.7352267</td>\n",
       "      <td>0.753498</td>\n",
       "      <td>0.7491968</td>\n",
       "      <td>0.7555516</td>\n",
       "    </tr>\n",
       "    <tr>\n",
       "      <th>1</th>\n",
       "      <td>auc</td>\n",
       "      <td>0.72044444</td>\n",
       "      <td>0.003791916</td>\n",
       "      <td>0.7212921</td>\n",
       "      <td>0.7137788</td>\n",
       "      <td>0.7224432</td>\n",
       "      <td>0.72162014</td>\n",
       "      <td>0.7230879</td>\n",
       "    </tr>\n",
       "    <tr>\n",
       "      <th>2</th>\n",
       "      <td>aucpr</td>\n",
       "      <td>0.46302915</td>\n",
       "      <td>0.005588553</td>\n",
       "      <td>0.4605558</td>\n",
       "      <td>0.45886308</td>\n",
       "      <td>0.47274774</td>\n",
       "      <td>0.46042606</td>\n",
       "      <td>0.462553</td>\n",
       "    </tr>\n",
       "    <tr>\n",
       "      <th>3</th>\n",
       "      <td>err</td>\n",
       "      <td>0.25600696</td>\n",
       "      <td>0.012591192</td>\n",
       "      <td>0.27350783</td>\n",
       "      <td>0.2647733</td>\n",
       "      <td>0.246502</td>\n",
       "      <td>0.25080317</td>\n",
       "      <td>0.24444842</td>\n",
       "    </tr>\n",
       "    <tr>\n",
       "      <th>4</th>\n",
       "      <td>err_count</td>\n",
       "      <td>8593.0</td>\n",
       "      <td>436.73962</td>\n",
       "      <td>9206.0</td>\n",
       "      <td>8894.0</td>\n",
       "      <td>8333.0</td>\n",
       "      <td>8353.0</td>\n",
       "      <td>8179.0</td>\n",
       "    </tr>\n",
       "    <tr>\n",
       "      <th>5</th>\n",
       "      <td>f0point5</td>\n",
       "      <td>0.41748923</td>\n",
       "      <td>0.012508227</td>\n",
       "      <td>0.40099278</td>\n",
       "      <td>0.4087494</td>\n",
       "      <td>0.43149576</td>\n",
       "      <td>0.42009845</td>\n",
       "      <td>0.42610982</td>\n",
       "    </tr>\n",
       "    <tr>\n",
       "      <th>6</th>\n",
       "      <td>f1</td>\n",
       "      <td>0.449871</td>\n",
       "      <td>0.005154655</td>\n",
       "      <td>0.4466883</td>\n",
       "      <td>0.4444722</td>\n",
       "      <td>0.4576635</td>\n",
       "      <td>0.44853768</td>\n",
       "      <td>0.4519933</td>\n",
       "    </tr>\n",
       "    <tr>\n",
       "      <th>7</th>\n",
       "      <td>f2</td>\n",
       "      <td>0.4881433</td>\n",
       "      <td>0.00942467</td>\n",
       "      <td>0.5041378</td>\n",
       "      <td>0.48703697</td>\n",
       "      <td>0.48721004</td>\n",
       "      <td>0.48110697</td>\n",
       "      <td>0.4812247</td>\n",
       "    </tr>\n",
       "    <tr>\n",
       "      <th>8</th>\n",
       "      <td>lift_top_group</td>\n",
       "      <td>4.4042664</td>\n",
       "      <td>0.055390164</td>\n",
       "      <td>4.416641</td>\n",
       "      <td>4.3123407</td>\n",
       "      <td>4.461831</td>\n",
       "      <td>4.4077277</td>\n",
       "      <td>4.4227896</td>\n",
       "    </tr>\n",
       "    <tr>\n",
       "      <th>9</th>\n",
       "      <td>logloss</td>\n",
       "      <td>0.45030206</td>\n",
       "      <td>0.003078745</td>\n",
       "      <td>0.44849443</td>\n",
       "      <td>0.45440605</td>\n",
       "      <td>0.45224738</td>\n",
       "      <td>0.4497662</td>\n",
       "      <td>0.44659624</td>\n",
       "    </tr>\n",
       "    <tr>\n",
       "      <th>10</th>\n",
       "      <td>max_per_class_error</td>\n",
       "      <td>0.48214406</td>\n",
       "      <td>0.019890279</td>\n",
       "      <td>0.4485829</td>\n",
       "      <td>0.4797485</td>\n",
       "      <td>0.4908775</td>\n",
       "      <td>0.4944188</td>\n",
       "      <td>0.4970926</td>\n",
       "    </tr>\n",
       "    <tr>\n",
       "      <th>11</th>\n",
       "      <td>mcc</td>\n",
       "      <td>0.29145804</td>\n",
       "      <td>0.009859064</td>\n",
       "      <td>0.282564</td>\n",
       "      <td>0.28058505</td>\n",
       "      <td>0.30285352</td>\n",
       "      <td>0.29199824</td>\n",
       "      <td>0.29928935</td>\n",
       "    </tr>\n",
       "    <tr>\n",
       "      <th>12</th>\n",
       "      <td>mean_per_class_accuracy</td>\n",
       "      <td>0.6595679</td>\n",
       "      <td>0.0029164506</td>\n",
       "      <td>0.6608683</td>\n",
       "      <td>0.6552177</td>\n",
       "      <td>0.6626805</td>\n",
       "      <td>0.65817314</td>\n",
       "      <td>0.6608997</td>\n",
       "    </tr>\n",
       "    <tr>\n",
       "      <th>13</th>\n",
       "      <td>mean_per_class_error</td>\n",
       "      <td>0.34043214</td>\n",
       "      <td>0.0029164506</td>\n",
       "      <td>0.3391317</td>\n",
       "      <td>0.3447823</td>\n",
       "      <td>0.3373195</td>\n",
       "      <td>0.3418269</td>\n",
       "      <td>0.33910027</td>\n",
       "    </tr>\n",
       "    <tr>\n",
       "      <th>14</th>\n",
       "      <td>mse</td>\n",
       "      <td>0.14212422</td>\n",
       "      <td>0.0011467612</td>\n",
       "      <td>0.14136264</td>\n",
       "      <td>0.14361855</td>\n",
       "      <td>0.14289616</td>\n",
       "      <td>0.1419716</td>\n",
       "      <td>0.14077218</td>\n",
       "    </tr>\n",
       "    <tr>\n",
       "      <th>15</th>\n",
       "      <td>pr_auc</td>\n",
       "      <td>0.46302915</td>\n",
       "      <td>0.005588553</td>\n",
       "      <td>0.4605558</td>\n",
       "      <td>0.45886308</td>\n",
       "      <td>0.47274774</td>\n",
       "      <td>0.46042606</td>\n",
       "      <td>0.462553</td>\n",
       "    </tr>\n",
       "    <tr>\n",
       "      <th>16</th>\n",
       "      <td>precision</td>\n",
       "      <td>0.39850143</td>\n",
       "      <td>0.016602887</td>\n",
       "      <td>0.37539145</td>\n",
       "      <td>0.38796204</td>\n",
       "      <td>0.41565198</td>\n",
       "      <td>0.4030612</td>\n",
       "      <td>0.4104405</td>\n",
       "    </tr>\n",
       "    <tr>\n",
       "      <th>17</th>\n",
       "      <td>r2</td>\n",
       "      <td>0.11849467</td>\n",
       "      <td>0.002987646</td>\n",
       "      <td>0.1171914</td>\n",
       "      <td>0.11425732</td>\n",
       "      <td>0.120937586</td>\n",
       "      <td>0.118417986</td>\n",
       "      <td>0.12166906</td>\n",
       "    </tr>\n",
       "    <tr>\n",
       "      <th>18</th>\n",
       "      <td>recall</td>\n",
       "      <td>0.51785594</td>\n",
       "      <td>0.019890279</td>\n",
       "      <td>0.5514171</td>\n",
       "      <td>0.5202515</td>\n",
       "      <td>0.5091225</td>\n",
       "      <td>0.5055812</td>\n",
       "      <td>0.5029074</td>\n",
       "    </tr>\n",
       "    <tr>\n",
       "      <th>19</th>\n",
       "      <td>rmse</td>\n",
       "      <td>0.3769912</td>\n",
       "      <td>0.001520499</td>\n",
       "      <td>0.37598222</td>\n",
       "      <td>0.37897038</td>\n",
       "      <td>0.37801608</td>\n",
       "      <td>0.37679118</td>\n",
       "      <td>0.3751962</td>\n",
       "    </tr>\n",
       "  </tbody>\n",
       "</table>\n",
       "</div>"
      ],
      "text/plain": [
       "                                   mean            sd  cv_1_valid  cv_2_valid  \\\n",
       "0                  accuracy  0.74399304   0.012591192  0.72649217   0.7352267   \n",
       "1                       auc  0.72044444   0.003791916   0.7212921   0.7137788   \n",
       "2                     aucpr  0.46302915   0.005588553   0.4605558  0.45886308   \n",
       "3                       err  0.25600696   0.012591192  0.27350783   0.2647733   \n",
       "4                 err_count      8593.0     436.73962      9206.0      8894.0   \n",
       "5                  f0point5  0.41748923   0.012508227  0.40099278   0.4087494   \n",
       "6                        f1    0.449871   0.005154655   0.4466883   0.4444722   \n",
       "7                        f2   0.4881433    0.00942467   0.5041378  0.48703697   \n",
       "8            lift_top_group   4.4042664   0.055390164    4.416641   4.3123407   \n",
       "9                   logloss  0.45030206   0.003078745  0.44849443  0.45440605   \n",
       "10      max_per_class_error  0.48214406   0.019890279   0.4485829   0.4797485   \n",
       "11                      mcc  0.29145804   0.009859064    0.282564  0.28058505   \n",
       "12  mean_per_class_accuracy   0.6595679  0.0029164506   0.6608683   0.6552177   \n",
       "13     mean_per_class_error  0.34043214  0.0029164506   0.3391317   0.3447823   \n",
       "14                      mse  0.14212422  0.0011467612  0.14136264  0.14361855   \n",
       "15                   pr_auc  0.46302915   0.005588553   0.4605558  0.45886308   \n",
       "16                precision  0.39850143   0.016602887  0.37539145  0.38796204   \n",
       "17                       r2  0.11849467   0.002987646   0.1171914  0.11425732   \n",
       "18                   recall  0.51785594   0.019890279   0.5514171   0.5202515   \n",
       "19                     rmse   0.3769912   0.001520499  0.37598222  0.37897038   \n",
       "\n",
       "     cv_3_valid   cv_4_valid  cv_5_valid  \n",
       "0      0.753498    0.7491968   0.7555516  \n",
       "1     0.7224432   0.72162014   0.7230879  \n",
       "2    0.47274774   0.46042606    0.462553  \n",
       "3      0.246502   0.25080317  0.24444842  \n",
       "4        8333.0       8353.0      8179.0  \n",
       "5    0.43149576   0.42009845  0.42610982  \n",
       "6     0.4576635   0.44853768   0.4519933  \n",
       "7    0.48721004   0.48110697   0.4812247  \n",
       "8      4.461831    4.4077277   4.4227896  \n",
       "9    0.45224738    0.4497662  0.44659624  \n",
       "10    0.4908775    0.4944188   0.4970926  \n",
       "11   0.30285352   0.29199824  0.29928935  \n",
       "12    0.6626805   0.65817314   0.6608997  \n",
       "13    0.3373195    0.3418269  0.33910027  \n",
       "14   0.14289616    0.1419716  0.14077218  \n",
       "15   0.47274774   0.46042606    0.462553  \n",
       "16   0.41565198    0.4030612   0.4104405  \n",
       "17  0.120937586  0.118417986  0.12166906  \n",
       "18    0.5091225    0.5055812   0.5029074  \n",
       "19   0.37801608   0.37679118   0.3751962  "
      ]
     },
     "metadata": {},
     "output_type": "display_data"
    },
    {
     "name": "stdout",
     "output_type": "stream",
     "text": [
      "\n",
      "See the whole table with table.as_data_frame()\n",
      "\n"
     ]
    }
   ],
   "source": [
    "# cross validation on the whole dataset\n",
    "print(gbm_best.cross_validation_metrics_summary())"
   ]
  },
  {
   "cell_type": "markdown",
   "metadata": {},
   "source": [
    "### GBM Lucky Performance"
   ]
  },
  {
   "cell_type": "code",
   "execution_count": 49,
   "metadata": {},
   "outputs": [
    {
     "name": "stdout",
     "output_type": "stream",
     "text": [
      "gbm prediction progress: |████████████████████████████████████████████████| 100%\n",
      "              precision    recall  f1-score   support\n",
      "\n",
      "           0       0.87      0.60      0.71     66956\n",
      "           1       0.29      0.65      0.41     16954\n",
      "\n",
      "    accuracy                           0.61     83910\n",
      "   macro avg       0.58      0.63      0.56     83910\n",
      "weighted avg       0.76      0.61      0.65     83910\n",
      "\n",
      "MCC: 0.24563 / 0.23850\n",
      "F1: 0.41446 / 0.40886\n",
      "AUC: 0.69044 / 0.68530\n",
      "AUC PR: 0.40992 / 0.40474\n",
      "Accuracy: 0.80922 / 0.80893\n",
      "Logloss: 0.46406 / 0.46478\n"
     ]
    }
   ],
   "source": [
    "# classification report\n",
    "y_true = y_test\n",
    "y_pred = gbm_lucky.predict(hf_test)\n",
    "y_pred = y_pred.as_data_frame()\n",
    "\n",
    "print(classification_report(y_true, y_pred['predict'], labels=[0,1]))\n",
    "print_model_perf_stats(gbm_lucky, hf_train, hf_test)"
   ]
  },
  {
   "cell_type": "markdown",
   "metadata": {},
   "source": [
    "### Best Model Performance"
   ]
  },
  {
   "cell_type": "code",
   "execution_count": 45,
   "metadata": {},
   "outputs": [
    {
     "name": "stdout",
     "output_type": "stream",
     "text": [
      "gbm prediction progress: |████████████████████████████████████████████████| 100%\n",
      "              precision    recall  f1-score   support\n",
      "\n",
      "           0       0.84      0.93      0.88     66956\n",
      "           1       0.51      0.30      0.38     16954\n",
      "\n",
      "    accuracy                           0.80     83910\n",
      "   macro avg       0.68      0.62      0.63     83910\n",
      "weighted avg       0.77      0.80      0.78     83910\n",
      "\n"
     ]
    }
   ],
   "source": [
    "y_test = hf_test.as_data_frame()\n",
    "y_test=y_test['cancelflag']\n",
    "\n",
    "# classification report\n",
    "y_true = y_test\n",
    "y_pred = best_model.predict(hf_test)\n",
    "y_pred = y_pred.as_data_frame()\n",
    "\n",
    "print(classification_report(y_true, y_pred['predict'], labels=[0,1]))"
   ]
  },
  {
   "cell_type": "code",
   "execution_count": 46,
   "metadata": {},
   "outputs": [
    {
     "name": "stdout",
     "output_type": "stream",
     "text": [
      "\n",
      "ModelMetricsBinomial: gbm\n",
      "** Reported on test data. **\n",
      "\n",
      "MSE: 0.14324707000228637\n",
      "RMSE: 0.3784799466316364\n",
      "LogLoss: 0.455036307115867\n",
      "Mean Per-Class Error: 0.3534341998548054\n",
      "AUC: 0.7038443139962371\n",
      "AUCPR: 0.4387163153467974\n",
      "Gini: 0.4076886279924743\n",
      "\n",
      "Confusion Matrix (Act/Pred) for max f1 @ threshold = 0.1989675573077452: \n"
     ]
    },
    {
     "data": {
      "text/html": [
       "<div>\n",
       "<style scoped>\n",
       "    .dataframe tbody tr th:only-of-type {\n",
       "        vertical-align: middle;\n",
       "    }\n",
       "\n",
       "    .dataframe tbody tr th {\n",
       "        vertical-align: top;\n",
       "    }\n",
       "\n",
       "    .dataframe thead th {\n",
       "        text-align: right;\n",
       "    }\n",
       "</style>\n",
       "<table border=\"1\" class=\"dataframe\">\n",
       "  <thead>\n",
       "    <tr style=\"text-align: right;\">\n",
       "      <th></th>\n",
       "      <th></th>\n",
       "      <th>0</th>\n",
       "      <th>1</th>\n",
       "      <th>Error</th>\n",
       "      <th>Rate</th>\n",
       "    </tr>\n",
       "  </thead>\n",
       "  <tbody>\n",
       "    <tr>\n",
       "      <th>0</th>\n",
       "      <td>0</td>\n",
       "      <td>52747.0</td>\n",
       "      <td>14209.0</td>\n",
       "      <td>0.2122</td>\n",
       "      <td>(14209.0/66956.0)</td>\n",
       "    </tr>\n",
       "    <tr>\n",
       "      <th>1</th>\n",
       "      <td>1</td>\n",
       "      <td>8427.0</td>\n",
       "      <td>8527.0</td>\n",
       "      <td>0.4971</td>\n",
       "      <td>(8427.0/16954.0)</td>\n",
       "    </tr>\n",
       "    <tr>\n",
       "      <th>2</th>\n",
       "      <td>Total</td>\n",
       "      <td>61174.0</td>\n",
       "      <td>22736.0</td>\n",
       "      <td>0.2698</td>\n",
       "      <td>(22636.0/83910.0)</td>\n",
       "    </tr>\n",
       "  </tbody>\n",
       "</table>\n",
       "</div>"
      ],
      "text/plain": [
       "                0        1   Error                Rate\n",
       "0      0  52747.0  14209.0  0.2122   (14209.0/66956.0)\n",
       "1      1   8427.0   8527.0  0.4971    (8427.0/16954.0)\n",
       "2  Total  61174.0  22736.0  0.2698   (22636.0/83910.0)"
      ]
     },
     "metadata": {},
     "output_type": "display_data"
    },
    {
     "name": "stdout",
     "output_type": "stream",
     "text": [
      "\n",
      "Maximum Metrics: Maximum metrics at their respective thresholds\n"
     ]
    },
    {
     "data": {
      "text/html": [
       "<div>\n",
       "<style scoped>\n",
       "    .dataframe tbody tr th:only-of-type {\n",
       "        vertical-align: middle;\n",
       "    }\n",
       "\n",
       "    .dataframe tbody tr th {\n",
       "        vertical-align: top;\n",
       "    }\n",
       "\n",
       "    .dataframe thead th {\n",
       "        text-align: right;\n",
       "    }\n",
       "</style>\n",
       "<table border=\"1\" class=\"dataframe\">\n",
       "  <thead>\n",
       "    <tr style=\"text-align: right;\">\n",
       "      <th></th>\n",
       "      <th>metric</th>\n",
       "      <th>threshold</th>\n",
       "      <th>value</th>\n",
       "      <th>idx</th>\n",
       "    </tr>\n",
       "  </thead>\n",
       "  <tbody>\n",
       "    <tr>\n",
       "      <th>0</th>\n",
       "      <td>max f1</td>\n",
       "      <td>0.198968</td>\n",
       "      <td>0.429680</td>\n",
       "      <td>230.0</td>\n",
       "    </tr>\n",
       "    <tr>\n",
       "      <th>1</th>\n",
       "      <td>max f2</td>\n",
       "      <td>0.094792</td>\n",
       "      <td>0.576171</td>\n",
       "      <td>333.0</td>\n",
       "    </tr>\n",
       "    <tr>\n",
       "      <th>2</th>\n",
       "      <td>max f0point5</td>\n",
       "      <td>0.306563</td>\n",
       "      <td>0.450988</td>\n",
       "      <td>161.0</td>\n",
       "    </tr>\n",
       "    <tr>\n",
       "      <th>3</th>\n",
       "      <td>max accuracy</td>\n",
       "      <td>0.417924</td>\n",
       "      <td>0.813538</td>\n",
       "      <td>115.0</td>\n",
       "    </tr>\n",
       "    <tr>\n",
       "      <th>4</th>\n",
       "      <td>max precision</td>\n",
       "      <td>0.975280</td>\n",
       "      <td>1.000000</td>\n",
       "      <td>0.0</td>\n",
       "    </tr>\n",
       "    <tr>\n",
       "      <th>5</th>\n",
       "      <td>max recall</td>\n",
       "      <td>0.020583</td>\n",
       "      <td>1.000000</td>\n",
       "      <td>398.0</td>\n",
       "    </tr>\n",
       "    <tr>\n",
       "      <th>6</th>\n",
       "      <td>max specificity</td>\n",
       "      <td>0.975280</td>\n",
       "      <td>1.000000</td>\n",
       "      <td>0.0</td>\n",
       "    </tr>\n",
       "    <tr>\n",
       "      <th>7</th>\n",
       "      <td>max absolute_mcc</td>\n",
       "      <td>0.269547</td>\n",
       "      <td>0.287748</td>\n",
       "      <td>181.0</td>\n",
       "    </tr>\n",
       "    <tr>\n",
       "      <th>8</th>\n",
       "      <td>max min_per_class_accuracy</td>\n",
       "      <td>0.157093</td>\n",
       "      <td>0.641265</td>\n",
       "      <td>267.0</td>\n",
       "    </tr>\n",
       "    <tr>\n",
       "      <th>9</th>\n",
       "      <td>max mean_per_class_accuracy</td>\n",
       "      <td>0.181089</td>\n",
       "      <td>0.646566</td>\n",
       "      <td>244.0</td>\n",
       "    </tr>\n",
       "    <tr>\n",
       "      <th>10</th>\n",
       "      <td>max tns</td>\n",
       "      <td>0.975280</td>\n",
       "      <td>66956.000000</td>\n",
       "      <td>0.0</td>\n",
       "    </tr>\n",
       "    <tr>\n",
       "      <th>11</th>\n",
       "      <td>max fns</td>\n",
       "      <td>0.975280</td>\n",
       "      <td>16897.000000</td>\n",
       "      <td>0.0</td>\n",
       "    </tr>\n",
       "    <tr>\n",
       "      <th>12</th>\n",
       "      <td>max fps</td>\n",
       "      <td>0.016857</td>\n",
       "      <td>66956.000000</td>\n",
       "      <td>399.0</td>\n",
       "    </tr>\n",
       "    <tr>\n",
       "      <th>13</th>\n",
       "      <td>max tps</td>\n",
       "      <td>0.020583</td>\n",
       "      <td>16954.000000</td>\n",
       "      <td>398.0</td>\n",
       "    </tr>\n",
       "    <tr>\n",
       "      <th>14</th>\n",
       "      <td>max tnr</td>\n",
       "      <td>0.975280</td>\n",
       "      <td>1.000000</td>\n",
       "      <td>0.0</td>\n",
       "    </tr>\n",
       "    <tr>\n",
       "      <th>15</th>\n",
       "      <td>max fnr</td>\n",
       "      <td>0.975280</td>\n",
       "      <td>0.996638</td>\n",
       "      <td>0.0</td>\n",
       "    </tr>\n",
       "    <tr>\n",
       "      <th>16</th>\n",
       "      <td>max fpr</td>\n",
       "      <td>0.016857</td>\n",
       "      <td>1.000000</td>\n",
       "      <td>399.0</td>\n",
       "    </tr>\n",
       "    <tr>\n",
       "      <th>17</th>\n",
       "      <td>max tpr</td>\n",
       "      <td>0.020583</td>\n",
       "      <td>1.000000</td>\n",
       "      <td>398.0</td>\n",
       "    </tr>\n",
       "  </tbody>\n",
       "</table>\n",
       "</div>"
      ],
      "text/plain": [
       "                         metric  threshold         value    idx\n",
       "0                        max f1   0.198968      0.429680  230.0\n",
       "1                        max f2   0.094792      0.576171  333.0\n",
       "2                  max f0point5   0.306563      0.450988  161.0\n",
       "3                  max accuracy   0.417924      0.813538  115.0\n",
       "4                 max precision   0.975280      1.000000    0.0\n",
       "5                    max recall   0.020583      1.000000  398.0\n",
       "6               max specificity   0.975280      1.000000    0.0\n",
       "7              max absolute_mcc   0.269547      0.287748  181.0\n",
       "8    max min_per_class_accuracy   0.157093      0.641265  267.0\n",
       "9   max mean_per_class_accuracy   0.181089      0.646566  244.0\n",
       "10                      max tns   0.975280  66956.000000    0.0\n",
       "11                      max fns   0.975280  16897.000000    0.0\n",
       "12                      max fps   0.016857  66956.000000  399.0\n",
       "13                      max tps   0.020583  16954.000000  398.0\n",
       "14                      max tnr   0.975280      1.000000    0.0\n",
       "15                      max fnr   0.975280      0.996638    0.0\n",
       "16                      max fpr   0.016857      1.000000  399.0\n",
       "17                      max tpr   0.020583      1.000000  398.0"
      ]
     },
     "metadata": {},
     "output_type": "display_data"
    },
    {
     "name": "stdout",
     "output_type": "stream",
     "text": [
      "\n",
      "Gains/Lift Table: Avg response rate: 20.20 %, avg score: 17.05 %\n"
     ]
    },
    {
     "data": {
      "text/html": [
       "<div>\n",
       "<style scoped>\n",
       "    .dataframe tbody tr th:only-of-type {\n",
       "        vertical-align: middle;\n",
       "    }\n",
       "\n",
       "    .dataframe tbody tr th {\n",
       "        vertical-align: top;\n",
       "    }\n",
       "\n",
       "    .dataframe thead th {\n",
       "        text-align: right;\n",
       "    }\n",
       "</style>\n",
       "<table border=\"1\" class=\"dataframe\">\n",
       "  <thead>\n",
       "    <tr style=\"text-align: right;\">\n",
       "      <th></th>\n",
       "      <th></th>\n",
       "      <th>group</th>\n",
       "      <th>cumulative_data_fraction</th>\n",
       "      <th>lower_threshold</th>\n",
       "      <th>lift</th>\n",
       "      <th>cumulative_lift</th>\n",
       "      <th>response_rate</th>\n",
       "      <th>score</th>\n",
       "      <th>cumulative_response_rate</th>\n",
       "      <th>cumulative_score</th>\n",
       "      <th>capture_rate</th>\n",
       "      <th>cumulative_capture_rate</th>\n",
       "      <th>gain</th>\n",
       "      <th>cumulative_gain</th>\n",
       "    </tr>\n",
       "  </thead>\n",
       "  <tbody>\n",
       "    <tr>\n",
       "      <th>0</th>\n",
       "      <td></td>\n",
       "      <td>1</td>\n",
       "      <td>0.010011</td>\n",
       "      <td>0.685894</td>\n",
       "      <td>4.295263</td>\n",
       "      <td>4.295263</td>\n",
       "      <td>0.867857</td>\n",
       "      <td>0.836121</td>\n",
       "      <td>0.867857</td>\n",
       "      <td>0.836121</td>\n",
       "      <td>0.042999</td>\n",
       "      <td>0.042999</td>\n",
       "      <td>329.526323</td>\n",
       "      <td>329.526323</td>\n",
       "    </tr>\n",
       "    <tr>\n",
       "      <th>1</th>\n",
       "      <td></td>\n",
       "      <td>2</td>\n",
       "      <td>0.020010</td>\n",
       "      <td>0.562920</td>\n",
       "      <td>3.397833</td>\n",
       "      <td>3.846816</td>\n",
       "      <td>0.686532</td>\n",
       "      <td>0.618607</td>\n",
       "      <td>0.777248</td>\n",
       "      <td>0.727429</td>\n",
       "      <td>0.033974</td>\n",
       "      <td>0.076973</td>\n",
       "      <td>239.783327</td>\n",
       "      <td>284.681550</td>\n",
       "    </tr>\n",
       "    <tr>\n",
       "      <th>2</th>\n",
       "      <td></td>\n",
       "      <td>3</td>\n",
       "      <td>0.030008</td>\n",
       "      <td>0.489134</td>\n",
       "      <td>3.096983</td>\n",
       "      <td>3.596971</td>\n",
       "      <td>0.625745</td>\n",
       "      <td>0.523268</td>\n",
       "      <td>0.726767</td>\n",
       "      <td>0.659402</td>\n",
       "      <td>0.030966</td>\n",
       "      <td>0.107939</td>\n",
       "      <td>209.698345</td>\n",
       "      <td>259.697075</td>\n",
       "    </tr>\n",
       "    <tr>\n",
       "      <th>3</th>\n",
       "      <td></td>\n",
       "      <td>4</td>\n",
       "      <td>0.040007</td>\n",
       "      <td>0.439942</td>\n",
       "      <td>2.849225</td>\n",
       "      <td>3.410090</td>\n",
       "      <td>0.575685</td>\n",
       "      <td>0.462731</td>\n",
       "      <td>0.689008</td>\n",
       "      <td>0.610249</td>\n",
       "      <td>0.028489</td>\n",
       "      <td>0.136428</td>\n",
       "      <td>184.922478</td>\n",
       "      <td>241.008994</td>\n",
       "    </tr>\n",
       "    <tr>\n",
       "      <th>4</th>\n",
       "      <td></td>\n",
       "      <td>5</td>\n",
       "      <td>0.050006</td>\n",
       "      <td>0.404527</td>\n",
       "      <td>2.583769</td>\n",
       "      <td>3.244865</td>\n",
       "      <td>0.522050</td>\n",
       "      <td>0.421090</td>\n",
       "      <td>0.655624</td>\n",
       "      <td>0.572426</td>\n",
       "      <td>0.025835</td>\n",
       "      <td>0.162263</td>\n",
       "      <td>158.376905</td>\n",
       "      <td>224.486515</td>\n",
       "    </tr>\n",
       "    <tr>\n",
       "      <th>5</th>\n",
       "      <td></td>\n",
       "      <td>6</td>\n",
       "      <td>0.100000</td>\n",
       "      <td>0.309409</td>\n",
       "      <td>2.117747</td>\n",
       "      <td>2.681373</td>\n",
       "      <td>0.427890</td>\n",
       "      <td>0.350177</td>\n",
       "      <td>0.541771</td>\n",
       "      <td>0.461315</td>\n",
       "      <td>0.105875</td>\n",
       "      <td>0.268137</td>\n",
       "      <td>111.774678</td>\n",
       "      <td>168.137313</td>\n",
       "    </tr>\n",
       "    <tr>\n",
       "      <th>6</th>\n",
       "      <td></td>\n",
       "      <td>7</td>\n",
       "      <td>0.150006</td>\n",
       "      <td>0.260361</td>\n",
       "      <td>1.683178</td>\n",
       "      <td>2.348615</td>\n",
       "      <td>0.340086</td>\n",
       "      <td>0.282840</td>\n",
       "      <td>0.474537</td>\n",
       "      <td>0.401818</td>\n",
       "      <td>0.084169</td>\n",
       "      <td>0.352306</td>\n",
       "      <td>68.317796</td>\n",
       "      <td>134.861497</td>\n",
       "    </tr>\n",
       "    <tr>\n",
       "      <th>7</th>\n",
       "      <td></td>\n",
       "      <td>8</td>\n",
       "      <td>0.200000</td>\n",
       "      <td>0.229407</td>\n",
       "      <td>1.324919</td>\n",
       "      <td>2.092721</td>\n",
       "      <td>0.267700</td>\n",
       "      <td>0.244221</td>\n",
       "      <td>0.422834</td>\n",
       "      <td>0.362424</td>\n",
       "      <td>0.066238</td>\n",
       "      <td>0.418544</td>\n",
       "      <td>32.491902</td>\n",
       "      <td>109.272148</td>\n",
       "    </tr>\n",
       "    <tr>\n",
       "      <th>8</th>\n",
       "      <td></td>\n",
       "      <td>9</td>\n",
       "      <td>0.300000</td>\n",
       "      <td>0.188351</td>\n",
       "      <td>1.147812</td>\n",
       "      <td>1.777752</td>\n",
       "      <td>0.231915</td>\n",
       "      <td>0.207411</td>\n",
       "      <td>0.359194</td>\n",
       "      <td>0.310753</td>\n",
       "      <td>0.114781</td>\n",
       "      <td>0.533325</td>\n",
       "      <td>14.781173</td>\n",
       "      <td>77.775156</td>\n",
       "    </tr>\n",
       "    <tr>\n",
       "      <th>9</th>\n",
       "      <td></td>\n",
       "      <td>10</td>\n",
       "      <td>0.400000</td>\n",
       "      <td>0.160155</td>\n",
       "      <td>0.949039</td>\n",
       "      <td>1.570573</td>\n",
       "      <td>0.191753</td>\n",
       "      <td>0.173583</td>\n",
       "      <td>0.317334</td>\n",
       "      <td>0.276460</td>\n",
       "      <td>0.094904</td>\n",
       "      <td>0.628229</td>\n",
       "      <td>-5.096143</td>\n",
       "      <td>57.057332</td>\n",
       "    </tr>\n",
       "    <tr>\n",
       "      <th>10</th>\n",
       "      <td></td>\n",
       "      <td>11</td>\n",
       "      <td>0.500000</td>\n",
       "      <td>0.138337</td>\n",
       "      <td>0.870591</td>\n",
       "      <td>1.430577</td>\n",
       "      <td>0.175903</td>\n",
       "      <td>0.148907</td>\n",
       "      <td>0.289048</td>\n",
       "      <td>0.250950</td>\n",
       "      <td>0.087059</td>\n",
       "      <td>0.715288</td>\n",
       "      <td>-12.940899</td>\n",
       "      <td>43.057686</td>\n",
       "    </tr>\n",
       "    <tr>\n",
       "      <th>11</th>\n",
       "      <td></td>\n",
       "      <td>12</td>\n",
       "      <td>0.600000</td>\n",
       "      <td>0.119074</td>\n",
       "      <td>0.755574</td>\n",
       "      <td>1.318076</td>\n",
       "      <td>0.152664</td>\n",
       "      <td>0.128511</td>\n",
       "      <td>0.266317</td>\n",
       "      <td>0.230543</td>\n",
       "      <td>0.075557</td>\n",
       "      <td>0.790846</td>\n",
       "      <td>-24.442609</td>\n",
       "      <td>31.807636</td>\n",
       "    </tr>\n",
       "    <tr>\n",
       "      <th>12</th>\n",
       "      <td></td>\n",
       "      <td>13</td>\n",
       "      <td>0.700000</td>\n",
       "      <td>0.100890</td>\n",
       "      <td>0.670048</td>\n",
       "      <td>1.225501</td>\n",
       "      <td>0.135383</td>\n",
       "      <td>0.109912</td>\n",
       "      <td>0.247612</td>\n",
       "      <td>0.213310</td>\n",
       "      <td>0.067005</td>\n",
       "      <td>0.857851</td>\n",
       "      <td>-32.995163</td>\n",
       "      <td>22.550094</td>\n",
       "    </tr>\n",
       "    <tr>\n",
       "      <th>13</th>\n",
       "      <td></td>\n",
       "      <td>14</td>\n",
       "      <td>0.800012</td>\n",
       "      <td>0.082507</td>\n",
       "      <td>0.564401</td>\n",
       "      <td>1.142855</td>\n",
       "      <td>0.114037</td>\n",
       "      <td>0.091799</td>\n",
       "      <td>0.230914</td>\n",
       "      <td>0.198120</td>\n",
       "      <td>0.056447</td>\n",
       "      <td>0.914298</td>\n",
       "      <td>-43.559870</td>\n",
       "      <td>14.285486</td>\n",
       "    </tr>\n",
       "    <tr>\n",
       "      <th>14</th>\n",
       "      <td></td>\n",
       "      <td>15</td>\n",
       "      <td>0.900000</td>\n",
       "      <td>0.062205</td>\n",
       "      <td>0.491978</td>\n",
       "      <td>1.070544</td>\n",
       "      <td>0.099404</td>\n",
       "      <td>0.072615</td>\n",
       "      <td>0.216303</td>\n",
       "      <td>0.184176</td>\n",
       "      <td>0.049192</td>\n",
       "      <td>0.963489</td>\n",
       "      <td>-50.802206</td>\n",
       "      <td>7.054382</td>\n",
       "    </tr>\n",
       "    <tr>\n",
       "      <th>15</th>\n",
       "      <td></td>\n",
       "      <td>16</td>\n",
       "      <td>1.000000</td>\n",
       "      <td>0.012262</td>\n",
       "      <td>0.365106</td>\n",
       "      <td>1.000000</td>\n",
       "      <td>0.073770</td>\n",
       "      <td>0.047526</td>\n",
       "      <td>0.202050</td>\n",
       "      <td>0.170511</td>\n",
       "      <td>0.036511</td>\n",
       "      <td>1.000000</td>\n",
       "      <td>-63.489442</td>\n",
       "      <td>0.000000</td>\n",
       "    </tr>\n",
       "  </tbody>\n",
       "</table>\n",
       "</div>"
      ],
      "text/plain": [
       "      group  cumulative_data_fraction  lower_threshold      lift  \\\n",
       "0         1                  0.010011         0.685894  4.295263   \n",
       "1         2                  0.020010         0.562920  3.397833   \n",
       "2         3                  0.030008         0.489134  3.096983   \n",
       "3         4                  0.040007         0.439942  2.849225   \n",
       "4         5                  0.050006         0.404527  2.583769   \n",
       "5         6                  0.100000         0.309409  2.117747   \n",
       "6         7                  0.150006         0.260361  1.683178   \n",
       "7         8                  0.200000         0.229407  1.324919   \n",
       "8         9                  0.300000         0.188351  1.147812   \n",
       "9        10                  0.400000         0.160155  0.949039   \n",
       "10       11                  0.500000         0.138337  0.870591   \n",
       "11       12                  0.600000         0.119074  0.755574   \n",
       "12       13                  0.700000         0.100890  0.670048   \n",
       "13       14                  0.800012         0.082507  0.564401   \n",
       "14       15                  0.900000         0.062205  0.491978   \n",
       "15       16                  1.000000         0.012262  0.365106   \n",
       "\n",
       "    cumulative_lift  response_rate     score  cumulative_response_rate  \\\n",
       "0          4.295263       0.867857  0.836121                  0.867857   \n",
       "1          3.846816       0.686532  0.618607                  0.777248   \n",
       "2          3.596971       0.625745  0.523268                  0.726767   \n",
       "3          3.410090       0.575685  0.462731                  0.689008   \n",
       "4          3.244865       0.522050  0.421090                  0.655624   \n",
       "5          2.681373       0.427890  0.350177                  0.541771   \n",
       "6          2.348615       0.340086  0.282840                  0.474537   \n",
       "7          2.092721       0.267700  0.244221                  0.422834   \n",
       "8          1.777752       0.231915  0.207411                  0.359194   \n",
       "9          1.570573       0.191753  0.173583                  0.317334   \n",
       "10         1.430577       0.175903  0.148907                  0.289048   \n",
       "11         1.318076       0.152664  0.128511                  0.266317   \n",
       "12         1.225501       0.135383  0.109912                  0.247612   \n",
       "13         1.142855       0.114037  0.091799                  0.230914   \n",
       "14         1.070544       0.099404  0.072615                  0.216303   \n",
       "15         1.000000       0.073770  0.047526                  0.202050   \n",
       "\n",
       "    cumulative_score  capture_rate  cumulative_capture_rate        gain  \\\n",
       "0           0.836121      0.042999                 0.042999  329.526323   \n",
       "1           0.727429      0.033974                 0.076973  239.783327   \n",
       "2           0.659402      0.030966                 0.107939  209.698345   \n",
       "3           0.610249      0.028489                 0.136428  184.922478   \n",
       "4           0.572426      0.025835                 0.162263  158.376905   \n",
       "5           0.461315      0.105875                 0.268137  111.774678   \n",
       "6           0.401818      0.084169                 0.352306   68.317796   \n",
       "7           0.362424      0.066238                 0.418544   32.491902   \n",
       "8           0.310753      0.114781                 0.533325   14.781173   \n",
       "9           0.276460      0.094904                 0.628229   -5.096143   \n",
       "10          0.250950      0.087059                 0.715288  -12.940899   \n",
       "11          0.230543      0.075557                 0.790846  -24.442609   \n",
       "12          0.213310      0.067005                 0.857851  -32.995163   \n",
       "13          0.198120      0.056447                 0.914298  -43.559870   \n",
       "14          0.184176      0.049192                 0.963489  -50.802206   \n",
       "15          0.170511      0.036511                 1.000000  -63.489442   \n",
       "\n",
       "    cumulative_gain  \n",
       "0        329.526323  \n",
       "1        284.681550  \n",
       "2        259.697075  \n",
       "3        241.008994  \n",
       "4        224.486515  \n",
       "5        168.137313  \n",
       "6        134.861497  \n",
       "7        109.272148  \n",
       "8         77.775156  \n",
       "9         57.057332  \n",
       "10        43.057686  \n",
       "11        31.807636  \n",
       "12        22.550094  \n",
       "13        14.285486  \n",
       "14         7.054382  \n",
       "15         0.000000  "
      ]
     },
     "metadata": {},
     "output_type": "display_data"
    },
    {
     "name": "stdout",
     "output_type": "stream",
     "text": [
      "\n"
     ]
    },
    {
     "data": {
      "text/plain": []
     },
     "execution_count": 46,
     "metadata": {},
     "output_type": "execute_result"
    }
   ],
   "source": [
    "best_model.model_performance(hf_test)"
   ]
  },
  {
   "cell_type": "code",
   "execution_count": 47,
   "metadata": {},
   "outputs": [
    {
     "data": {
      "text/plain": [
       "['MCC: 0.96043 / 0.28775',\n",
       " 'F1: 0.96842 / 0.42968',\n",
       " 'AUC: 0.99879 / 0.70384',\n",
       " 'AUC PR: 0.99547 / 0.43872',\n",
       " 'Accuracy: 0.98725 / 0.81354',\n",
       " 'Logloss: 0.19938 / 0.45504']"
      ]
     },
     "execution_count": 47,
     "metadata": {},
     "output_type": "execute_result"
    }
   ],
   "source": [
    "model_perf_stats(best_model, hf_train, hf_test)"
   ]
  },
  {
   "cell_type": "code",
   "execution_count": 48,
   "metadata": {},
   "outputs": [
    {
     "name": "stdout",
     "output_type": "stream",
     "text": [
      "0: 0.29530261677309344\n",
      "gbm prediction progress: |████████████████████████████████████████████████| 100%\n",
      "              precision    recall  f1-score   support\n",
      "\n",
      "           0       0.84      0.93      0.88     66956\n",
      "           1       0.51      0.30      0.38     16954\n",
      "\n",
      "    accuracy                           0.80     83910\n",
      "   macro avg       0.68      0.62      0.63     83910\n",
      "weighted avg       0.77      0.80      0.78     83910\n",
      "\n",
      "1: 0.29531096643744226\n",
      "gbm prediction progress: |████████████████████████████████████████████████| 100%\n",
      "              precision    recall  f1-score   support\n",
      "\n",
      "           0       0.86      0.78      0.82     66956\n",
      "           1       0.37      0.51      0.43     16954\n",
      "\n",
      "    accuracy                           0.73     83910\n",
      "   macro avg       0.62      0.65      0.63     83910\n",
      "weighted avg       0.76      0.73      0.74     83910\n",
      "\n"
     ]
    }
   ],
   "source": [
    "for i in range(len(sorted_final_grid.sorted_metric_table()['model_ids'])):\n",
    "    mod = h2o.get_model(sorted_final_grid.sorted_metric_table()['model_ids'][i])\n",
    "    perf1 = mod.model_performance(hf_train)\n",
    "    perf2 = mod.model_performance(hf_test)\n",
    "\n",
    "    auc_diff = (perf1.auc()-perf2.auc())/perf1.auc()\n",
    "    print(f'{i}: {auc_diff}')\n",
    "    \n",
    "    y_pred = mod.predict(hf_test)\n",
    "    y_pred = y_pred.as_data_frame()\n",
    "\n",
    "    print(classification_report(y_true, y_pred['predict'], labels=[0,1]))"
   ]
  },
  {
   "cell_type": "code",
   "execution_count": null,
   "metadata": {},
   "outputs": [],
   "source": [
    "# best_model = h2o.get_model(sorted_final_grid.sorted_metric_table()['model_ids'][0])\n",
    "# model_perf_stats(best_model, hf_train, hf_test)"
   ]
  },
  {
   "cell_type": "code",
   "execution_count": null,
   "metadata": {},
   "outputs": [],
   "source": [
    "# train GBM model on training dataset\n",
    "start = time.time()\n",
    "gbm_best.train(x=predictors, y=response, training_frame=hf_train)\n",
    "end = time.time()\n",
    "print(end - start)"
   ]
  },
  {
   "cell_type": "code",
   "execution_count": null,
   "metadata": {},
   "outputs": [],
   "source": [
    "# variable importance\n",
    "varimp = gbm_best.varimp(use_pandas=True).sort_values('scaled_importance', ascending=False)\n",
    "feats_stored_gbm = list(varimp['variable'])\n",
    "#perf metrics\n",
    "perf_metrics = model_perf_stats(gbm_best, hf_train, hf_test)\n",
    "\n",
    "# classification report\n",
    "y_pred = gbm_best.predict(hf_test)\n",
    "y_pred = y_pred.as_data_frame()\n",
    "classif_rep = classification_report(y_true, y_pred['predict'], labels=[0,1])\n",
    "\n",
    "# AUC of cross-validated holdout predictions\n",
    "xval_auc =  f'AUC of cross-validated holdout predictions: {gbm_best.auc(xval=True)}'\n",
    "\n",
    "# cross-validation metrics summary\n",
    "xval_metrics = gbm_best.cross_validation_metrics_summary()"
   ]
  },
  {
   "cell_type": "code",
   "execution_count": null,
   "metadata": {},
   "outputs": [],
   "source": [
    "# # variable importance\n",
    "# varimp = best_model.varimp(use_pandas=True).sort_values('scaled_importance', ascending=False)\n",
    "# feats_stored_gbm = list(varimp['variable'])\n",
    "# #perf metrics\n",
    "# perf_metrics = model_perf_stats(best_model, hf_train, hf_test)\n",
    "\n",
    "# # classification report\n",
    "# y_pred = best_model.predict(hf_test)\n",
    "# y_pred = y_pred.as_data_frame()\n",
    "# classif_rep = classification_report(y_true, y_pred['predict'], labels=[0,1])\n",
    "# # AUC of cross-validated holdout predictions\n",
    "# xval_auc =  f'AUC of cross-validated holdout predictions: {best_model.auc(xval=True)}'\n",
    "# # cross-validation metrics summary\n",
    "# xval_metrics = best_model.cross_validation_metrics_summary()"
   ]
  },
  {
   "cell_type": "code",
   "execution_count": null,
   "metadata": {},
   "outputs": [],
   "source": [
    "best_model.auc(xval=True)"
   ]
  },
  {
   "cell_type": "code",
   "execution_count": null,
   "metadata": {},
   "outputs": [],
   "source": [
    "# assign value to row\n",
    "tuned_performance_df.loc[idx,1:] = [varimp, feats_stored_gbm, perf_metrics, classif_rep, xval_auc, xval_metrics]"
   ]
  },
  {
   "cell_type": "code",
   "execution_count": null,
   "metadata": {},
   "outputs": [],
   "source": [
    "# 12 month\n",
    "for j in ['name','feats_stored_gbm','perf_metrics','classif_rep', 'xval_auc']:\n",
    "\n",
    "    print(tuned_performance_df.loc[idx,j])\n",
    "\n",
    "gbm_best12 = gbm_best"
   ]
  },
  {
   "cell_type": "code",
   "execution_count": null,
   "metadata": {},
   "outputs": [],
   "source": [
    "# # 9 month\n",
    "# for j in ['name','feats_stored_gbm','perf_metrics','classif_rep', 'xval_auc']:\n",
    "\n",
    "#     print(tuned_performance_df.loc[idx,j])\n",
    "\n",
    "# gbm_best9 = best_model"
   ]
  },
  {
   "cell_type": "code",
   "execution_count": null,
   "metadata": {},
   "outputs": [],
   "source": [
    "# # 6 month\n",
    "# for j in ['name','feats_stored_gbm','perf_metrics','classif_rep', 'xval_auc']:\n",
    "\n",
    "#     print(tuned_performance_df.loc[idx,j])\n",
    "    \n",
    "# gbm_best6 = best_model"
   ]
  },
  {
   "cell_type": "code",
   "execution_count": null,
   "metadata": {},
   "outputs": [],
   "source": [
    "# # 3 month\n",
    "# for j in ['name','feats_stored_gbm','perf_metrics','classif_rep', 'xval_auc']:\n",
    "\n",
    "#     print(tuned_performance_df.loc[idx,j])\n",
    "\n",
    "# gbm_best3 = best_model"
   ]
  },
  {
   "cell_type": "code",
   "execution_count": null,
   "metadata": {},
   "outputs": [],
   "source": [
    "# print performance metrics for all cancellation cohorts\n",
    "for i in range(len(tuned_performance_df)):\n",
    "    for j in ['name','feats_stored_gbm','perf_metrics','classif_rep', 'xval_auc']:\n",
    "\n",
    "        print(tuned_performance_df.loc[i,j])"
   ]
  },
  {
   "cell_type": "code",
   "execution_count": null,
   "metadata": {},
   "outputs": [],
   "source": [
    "# print cross-validated performance metrics for all cancellation cohorts\n",
    "for i in range(len(tuned_performance_df)):\n",
    "    print(tuned_performance_df.loc[i,'name'])\n",
    "    print(tuned_performance_df.loc[i,'xval_metrics'])"
   ]
  },
  {
   "cell_type": "code",
   "execution_count": null,
   "metadata": {},
   "outputs": [],
   "source": [
    "# # Extract feature interactions:\n",
    "# feature_interactions = gbm_best.feature_interaction()"
   ]
  },
  {
   "cell_type": "markdown",
   "metadata": {},
   "source": [
    "## Save Performance"
   ]
  },
  {
   "cell_type": "code",
   "execution_count": null,
   "metadata": {},
   "outputs": [],
   "source": [
    "# # save performance metric to pickle\n",
    "# pd.to_pickle(tuned_performance_df, \"tuned_performance_df.pkl\")"
   ]
  },
  {
   "cell_type": "markdown",
   "metadata": {},
   "source": [
    "## Save Models"
   ]
  },
  {
   "cell_type": "code",
   "execution_count": 50,
   "metadata": {},
   "outputs": [
    {
     "data": {
      "text/plain": [
       "'/home/ubuntu/Tel_Reg_2.0/Cancellation_Model/GBM_cancellation_model_9mo_lucky/GBM_model_python_1662980792682_56.zip'"
      ]
     },
     "execution_count": 50,
     "metadata": {},
     "output_type": "execute_result"
    }
   ],
   "source": [
    "# # saving down the model\n",
    "# path = 'GBM_cancellation_model_3mo'\n",
    "# gbm_best3.save_mojo(path)\n",
    "\n",
    "# path = 'GBM_cancellation_model_6mo'\n",
    "# gbm_best6.save_mojo(path)\n",
    "\n",
    "# path = 'GBM_cancellation_model_9mo'\n",
    "# gbm_best9.save_mojo(path)\n",
    "\n",
    "# path = 'GBM_cancellation_model_12mo'\n",
    "# gbm_best12.save_mojo(path)\n",
    "path = 'GBM_cancellation_model_9mo_lucky'\n",
    "gbm_lucky.save_mojo(path)"
   ]
  },
  {
   "cell_type": "markdown",
   "metadata": {},
   "source": [
    "## Resampling"
   ]
  },
  {
   "cell_type": "code",
   "execution_count": null,
   "metadata": {},
   "outputs": [],
   "source": [
    "# df = df_raw3\n",
    "# class_counts = df['cancelflag'].value_counts()\n",
    "# class_counts"
   ]
  },
  {
   "cell_type": "code",
   "execution_count": null,
   "metadata": {},
   "outputs": [],
   "source": [
    "# minority_label = 1\n",
    "# majority_label = 0\n",
    "# class_counts[minority_label] # count of minority class \n",
    "# sampled_df = imbalanced_undersample(df, 'cancelflag', minority_label, majority_label)\n",
    "# sampled_df['cancelflag'].value_counts()"
   ]
  }
 ],
 "metadata": {
  "kernelspec": {
   "display_name": "Python 3.8.13 ('ahmad_env')",
   "language": "python",
   "name": "python3"
  },
  "language_info": {
   "codemirror_mode": {
    "name": "ipython",
    "version": 3
   },
   "file_extension": ".py",
   "mimetype": "text/x-python",
   "name": "python",
   "nbconvert_exporter": "python",
   "pygments_lexer": "ipython3",
   "version": "3.8.13"
  },
  "vscode": {
   "interpreter": {
    "hash": "dea3ab459e2e6afbb567de6ad1341081dc87ae4d5246c9bb1bfb1600036de124"
   }
  }
 },
 "nbformat": 4,
 "nbformat_minor": 4
}
